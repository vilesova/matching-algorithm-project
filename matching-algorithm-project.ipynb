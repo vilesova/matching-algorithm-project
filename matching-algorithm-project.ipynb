{
 "cells": [
  {
   "cell_type": "markdown",
   "id": "35bbde70",
   "metadata": {},
   "source": [
    "# Описание проекта\n",
    "Проект направлен на разработку алгоритма для задачи мэтчинга (соответствия) объектов из двух множеств. Основная цель - найти наиболее похожие объекты из одного множества для объектов из другого множества."
   ]
  },
  {
   "cell_type": "markdown",
   "id": "31ea554a",
   "metadata": {},
   "source": [
    "# Цели проекта:\n",
    "- Разработать и реализовать алгоритм мэтчинга для двух множеств объектов.\n",
    "- Оценить эффективность алгоритма с использованием метрики accuracy@5.\n",
    "- Продемонстрировать навыки работы с реальными данными и инструментами машинного обучения."
   ]
  },
  {
   "cell_type": "markdown",
   "id": "c0e4b016",
   "metadata": {},
   "source": [
    "# Исходные данные:\n",
    "- base.csv: Анонимизированный набор товаров. Каждый товар представлен как уникальный id и вектор признаков размерностью 72.\n",
    "- train.csv: Обучающий датасет. Каждая строчка - один товар с уникальным id, вектором признаков и id наиболее похожего товара из base.csv.\n",
    "- validation.csv: Датасет с товарами для поиска наиболее близких товаров из base.csv.\n",
    "- validation_answer.csv: Правильные ответы для validation.csv."
   ]
  },
  {
   "cell_type": "markdown",
   "id": "ce18d4cf",
   "metadata": {},
   "source": [
    "## Подготовка данных"
   ]
  },
  {
   "cell_type": "markdown",
   "id": "08c9a164",
   "metadata": {},
   "source": [
    "### Импорт"
   ]
  },
  {
   "cell_type": "code",
   "execution_count": 1,
   "id": "2e36a186",
   "metadata": {},
   "outputs": [],
   "source": [
    "!pip install faiss-cpu pandas scikit-learn -q"
   ]
  },
  {
   "cell_type": "code",
   "execution_count": 2,
   "id": "0460e6db",
   "metadata": {},
   "outputs": [],
   "source": [
    "import os\n",
    "import pandas as pd\n",
    "import numpy as np\n",
    "import matplotlib.pyplot as plt\n",
    "import seaborn as sns\n",
    "from sklearn.model_selection import train_test_split\n",
    "import faiss\n",
    "from sklearn.metrics import accuracy_score"
   ]
  },
  {
   "cell_type": "markdown",
   "id": "66852d54",
   "metadata": {},
   "source": [
    "### Загрузка данных"
   ]
  },
  {
   "cell_type": "code",
   "execution_count": 3,
   "id": "c9a90992",
   "metadata": {},
   "outputs": [],
   "source": [
    "def load_data(file_path, delimiter=','):\n",
    "    # Проверка существования файла по указанному пути\n",
    "    if os.path.exists(file_path):\n",
    "        # Загрузка данных из файла в датафрейм с использованием указанного разделителя\n",
    "        data = pd.read_csv(file_path, delimiter=delimiter)\n",
    "        print(f\"Данные из файла '{file_path}' успешно загружены.\")\n",
    "        return data\n",
    "    else:\n",
    "        # Вывод сообщения о том, что файл не существует\n",
    "        print(f\"Файл '{file_path}' не существует.\")\n",
    "        return None"
   ]
  },
  {
   "cell_type": "code",
   "execution_count": 4,
   "id": "f3f60b1e",
   "metadata": {},
   "outputs": [
    {
     "name": "stdout",
     "output_type": "stream",
     "text": [
      "Данные из файла 'base.csv' успешно загружены.\n",
      "Данные из файла 'train.csv' успешно загружены.\n",
      "Данные из файла 'validation.csv' успешно загружены.\n",
      "Данные из файла 'validation_answer.csv' успешно загружены.\n"
     ]
    }
   ],
   "source": [
    "base = load_data('base.csv')\n",
    "train = load_data('train.csv')\n",
    "validation = load_data('validation.csv')\n",
    "validation_answer = load_data('validation_answer.csv')"
   ]
  },
  {
   "cell_type": "markdown",
   "id": "54bb8d2d",
   "metadata": {},
   "source": [
    "### Просмотр первых строк данных"
   ]
  },
  {
   "cell_type": "code",
   "execution_count": 5,
   "id": "622372f9",
   "metadata": {},
   "outputs": [
    {
     "data": {
      "text/html": [
       "<div>\n",
       "<style scoped>\n",
       "    .dataframe tbody tr th:only-of-type {\n",
       "        vertical-align: middle;\n",
       "    }\n",
       "\n",
       "    .dataframe tbody tr th {\n",
       "        vertical-align: top;\n",
       "    }\n",
       "\n",
       "    .dataframe thead th {\n",
       "        text-align: right;\n",
       "    }\n",
       "</style>\n",
       "<table border=\"1\" class=\"dataframe\">\n",
       "  <thead>\n",
       "    <tr style=\"text-align: right;\">\n",
       "      <th></th>\n",
       "      <th>Id</th>\n",
       "      <th>0</th>\n",
       "      <th>1</th>\n",
       "      <th>2</th>\n",
       "      <th>3</th>\n",
       "      <th>4</th>\n",
       "      <th>5</th>\n",
       "      <th>6</th>\n",
       "      <th>7</th>\n",
       "      <th>8</th>\n",
       "      <th>...</th>\n",
       "      <th>62</th>\n",
       "      <th>63</th>\n",
       "      <th>64</th>\n",
       "      <th>65</th>\n",
       "      <th>66</th>\n",
       "      <th>67</th>\n",
       "      <th>68</th>\n",
       "      <th>69</th>\n",
       "      <th>70</th>\n",
       "      <th>71</th>\n",
       "    </tr>\n",
       "  </thead>\n",
       "  <tbody>\n",
       "    <tr>\n",
       "      <th>0</th>\n",
       "      <td>4207931-base</td>\n",
       "      <td>-43.946243</td>\n",
       "      <td>15.364378</td>\n",
       "      <td>17.515854</td>\n",
       "      <td>-132.31146</td>\n",
       "      <td>157.064420</td>\n",
       "      <td>-4.069252</td>\n",
       "      <td>-340.630860</td>\n",
       "      <td>-57.550140</td>\n",
       "      <td>128.398220</td>\n",
       "      <td>...</td>\n",
       "      <td>-71.927170</td>\n",
       "      <td>30.711966</td>\n",
       "      <td>-90.190475</td>\n",
       "      <td>-24.931271</td>\n",
       "      <td>66.972534</td>\n",
       "      <td>106.346634</td>\n",
       "      <td>-44.270622</td>\n",
       "      <td>155.98834</td>\n",
       "      <td>-1074.464888</td>\n",
       "      <td>-25.066608</td>\n",
       "    </tr>\n",
       "    <tr>\n",
       "      <th>1</th>\n",
       "      <td>2710972-base</td>\n",
       "      <td>-73.004890</td>\n",
       "      <td>4.923342</td>\n",
       "      <td>-19.750746</td>\n",
       "      <td>-136.52908</td>\n",
       "      <td>99.907170</td>\n",
       "      <td>-70.709110</td>\n",
       "      <td>-567.401996</td>\n",
       "      <td>-128.890150</td>\n",
       "      <td>109.914986</td>\n",
       "      <td>...</td>\n",
       "      <td>-109.044660</td>\n",
       "      <td>20.916021</td>\n",
       "      <td>-171.201390</td>\n",
       "      <td>-110.596844</td>\n",
       "      <td>67.730100</td>\n",
       "      <td>8.909615</td>\n",
       "      <td>-9.470253</td>\n",
       "      <td>133.29536</td>\n",
       "      <td>-545.897014</td>\n",
       "      <td>-72.913230</td>\n",
       "    </tr>\n",
       "    <tr>\n",
       "      <th>2</th>\n",
       "      <td>1371460-base</td>\n",
       "      <td>-85.565570</td>\n",
       "      <td>-0.493598</td>\n",
       "      <td>-48.374817</td>\n",
       "      <td>-157.98502</td>\n",
       "      <td>96.809510</td>\n",
       "      <td>-81.710210</td>\n",
       "      <td>-22.297688</td>\n",
       "      <td>79.768670</td>\n",
       "      <td>124.357086</td>\n",
       "      <td>...</td>\n",
       "      <td>-58.821650</td>\n",
       "      <td>41.369606</td>\n",
       "      <td>-132.934500</td>\n",
       "      <td>-43.016839</td>\n",
       "      <td>67.871925</td>\n",
       "      <td>141.778240</td>\n",
       "      <td>69.048520</td>\n",
       "      <td>111.72038</td>\n",
       "      <td>-1111.038833</td>\n",
       "      <td>-23.087206</td>\n",
       "    </tr>\n",
       "    <tr>\n",
       "      <th>3</th>\n",
       "      <td>3438601-base</td>\n",
       "      <td>-105.564090</td>\n",
       "      <td>15.393871</td>\n",
       "      <td>-46.223934</td>\n",
       "      <td>-158.11488</td>\n",
       "      <td>79.514114</td>\n",
       "      <td>-48.944480</td>\n",
       "      <td>-93.713010</td>\n",
       "      <td>38.581398</td>\n",
       "      <td>123.397960</td>\n",
       "      <td>...</td>\n",
       "      <td>-87.907290</td>\n",
       "      <td>-58.806870</td>\n",
       "      <td>-147.794800</td>\n",
       "      <td>-155.830237</td>\n",
       "      <td>68.974754</td>\n",
       "      <td>21.397510</td>\n",
       "      <td>126.098785</td>\n",
       "      <td>139.73320</td>\n",
       "      <td>-1282.707248</td>\n",
       "      <td>-74.527940</td>\n",
       "    </tr>\n",
       "    <tr>\n",
       "      <th>4</th>\n",
       "      <td>422798-base</td>\n",
       "      <td>-74.638880</td>\n",
       "      <td>11.315012</td>\n",
       "      <td>-40.204174</td>\n",
       "      <td>-161.76430</td>\n",
       "      <td>50.507114</td>\n",
       "      <td>-80.775560</td>\n",
       "      <td>-640.923467</td>\n",
       "      <td>65.225000</td>\n",
       "      <td>122.344940</td>\n",
       "      <td>...</td>\n",
       "      <td>-30.002094</td>\n",
       "      <td>53.642930</td>\n",
       "      <td>-149.823230</td>\n",
       "      <td>176.921371</td>\n",
       "      <td>69.473280</td>\n",
       "      <td>-43.395180</td>\n",
       "      <td>-58.947716</td>\n",
       "      <td>133.84064</td>\n",
       "      <td>-1074.464888</td>\n",
       "      <td>-1.164146</td>\n",
       "    </tr>\n",
       "  </tbody>\n",
       "</table>\n",
       "<p>5 rows × 73 columns</p>\n",
       "</div>"
      ],
      "text/plain": [
       "             Id           0          1          2          3           4  \\\n",
       "0  4207931-base  -43.946243  15.364378  17.515854 -132.31146  157.064420   \n",
       "1  2710972-base  -73.004890   4.923342 -19.750746 -136.52908   99.907170   \n",
       "2  1371460-base  -85.565570  -0.493598 -48.374817 -157.98502   96.809510   \n",
       "3  3438601-base -105.564090  15.393871 -46.223934 -158.11488   79.514114   \n",
       "4   422798-base  -74.638880  11.315012 -40.204174 -161.76430   50.507114   \n",
       "\n",
       "           5           6           7           8  ...          62         63  \\\n",
       "0  -4.069252 -340.630860  -57.550140  128.398220  ...  -71.927170  30.711966   \n",
       "1 -70.709110 -567.401996 -128.890150  109.914986  ... -109.044660  20.916021   \n",
       "2 -81.710210  -22.297688   79.768670  124.357086  ...  -58.821650  41.369606   \n",
       "3 -48.944480  -93.713010   38.581398  123.397960  ...  -87.907290 -58.806870   \n",
       "4 -80.775560 -640.923467   65.225000  122.344940  ...  -30.002094  53.642930   \n",
       "\n",
       "           64          65         66          67          68         69  \\\n",
       "0  -90.190475  -24.931271  66.972534  106.346634  -44.270622  155.98834   \n",
       "1 -171.201390 -110.596844  67.730100    8.909615   -9.470253  133.29536   \n",
       "2 -132.934500  -43.016839  67.871925  141.778240   69.048520  111.72038   \n",
       "3 -147.794800 -155.830237  68.974754   21.397510  126.098785  139.73320   \n",
       "4 -149.823230  176.921371  69.473280  -43.395180  -58.947716  133.84064   \n",
       "\n",
       "            70         71  \n",
       "0 -1074.464888 -25.066608  \n",
       "1  -545.897014 -72.913230  \n",
       "2 -1111.038833 -23.087206  \n",
       "3 -1282.707248 -74.527940  \n",
       "4 -1074.464888  -1.164146  \n",
       "\n",
       "[5 rows x 73 columns]"
      ]
     },
     "metadata": {},
     "output_type": "display_data"
    },
    {
     "data": {
      "text/html": [
       "<div>\n",
       "<style scoped>\n",
       "    .dataframe tbody tr th:only-of-type {\n",
       "        vertical-align: middle;\n",
       "    }\n",
       "\n",
       "    .dataframe tbody tr th {\n",
       "        vertical-align: top;\n",
       "    }\n",
       "\n",
       "    .dataframe thead th {\n",
       "        text-align: right;\n",
       "    }\n",
       "</style>\n",
       "<table border=\"1\" class=\"dataframe\">\n",
       "  <thead>\n",
       "    <tr style=\"text-align: right;\">\n",
       "      <th></th>\n",
       "      <th>Id</th>\n",
       "      <th>0</th>\n",
       "      <th>1</th>\n",
       "      <th>2</th>\n",
       "      <th>3</th>\n",
       "      <th>4</th>\n",
       "      <th>5</th>\n",
       "      <th>6</th>\n",
       "      <th>7</th>\n",
       "      <th>8</th>\n",
       "      <th>...</th>\n",
       "      <th>63</th>\n",
       "      <th>64</th>\n",
       "      <th>65</th>\n",
       "      <th>66</th>\n",
       "      <th>67</th>\n",
       "      <th>68</th>\n",
       "      <th>69</th>\n",
       "      <th>70</th>\n",
       "      <th>71</th>\n",
       "      <th>Target</th>\n",
       "    </tr>\n",
       "  </thead>\n",
       "  <tbody>\n",
       "    <tr>\n",
       "      <th>0</th>\n",
       "      <td>109249-query</td>\n",
       "      <td>-24.021454</td>\n",
       "      <td>3.122524</td>\n",
       "      <td>-80.947525</td>\n",
       "      <td>-112.329994</td>\n",
       "      <td>191.090180</td>\n",
       "      <td>-66.903130</td>\n",
       "      <td>-759.626065</td>\n",
       "      <td>-75.284454</td>\n",
       "      <td>120.55149</td>\n",
       "      <td>...</td>\n",
       "      <td>-24.601670</td>\n",
       "      <td>-167.760770</td>\n",
       "      <td>133.678516</td>\n",
       "      <td>68.184600</td>\n",
       "      <td>26.317545</td>\n",
       "      <td>11.938202</td>\n",
       "      <td>148.549320</td>\n",
       "      <td>-778.563381</td>\n",
       "      <td>-46.877750</td>\n",
       "      <td>66971-base</td>\n",
       "    </tr>\n",
       "    <tr>\n",
       "      <th>1</th>\n",
       "      <td>34137-query</td>\n",
       "      <td>-82.033580</td>\n",
       "      <td>8.115866</td>\n",
       "      <td>-8.793022</td>\n",
       "      <td>-182.972100</td>\n",
       "      <td>56.645336</td>\n",
       "      <td>-52.597610</td>\n",
       "      <td>-55.720337</td>\n",
       "      <td>130.059250</td>\n",
       "      <td>129.38335</td>\n",
       "      <td>...</td>\n",
       "      <td>54.448433</td>\n",
       "      <td>-120.894806</td>\n",
       "      <td>-12.292085</td>\n",
       "      <td>66.608116</td>\n",
       "      <td>-27.997612</td>\n",
       "      <td>10.091335</td>\n",
       "      <td>95.809265</td>\n",
       "      <td>-1022.691531</td>\n",
       "      <td>-88.564705</td>\n",
       "      <td>1433819-base</td>\n",
       "    </tr>\n",
       "    <tr>\n",
       "      <th>2</th>\n",
       "      <td>136121-query</td>\n",
       "      <td>-75.719640</td>\n",
       "      <td>-0.223386</td>\n",
       "      <td>-86.186130</td>\n",
       "      <td>-162.064060</td>\n",
       "      <td>114.320114</td>\n",
       "      <td>-53.394600</td>\n",
       "      <td>-117.261013</td>\n",
       "      <td>-24.857851</td>\n",
       "      <td>124.80780</td>\n",
       "      <td>...</td>\n",
       "      <td>-5.609123</td>\n",
       "      <td>-93.029880</td>\n",
       "      <td>-80.997871</td>\n",
       "      <td>63.733383</td>\n",
       "      <td>11.378683</td>\n",
       "      <td>62.932007</td>\n",
       "      <td>130.975390</td>\n",
       "      <td>-1074.464888</td>\n",
       "      <td>-74.861176</td>\n",
       "      <td>290133-base</td>\n",
       "    </tr>\n",
       "    <tr>\n",
       "      <th>3</th>\n",
       "      <td>105191-query</td>\n",
       "      <td>-56.580620</td>\n",
       "      <td>5.093593</td>\n",
       "      <td>-46.943110</td>\n",
       "      <td>-149.039120</td>\n",
       "      <td>112.436430</td>\n",
       "      <td>-76.820510</td>\n",
       "      <td>-324.995645</td>\n",
       "      <td>-32.833107</td>\n",
       "      <td>119.47865</td>\n",
       "      <td>...</td>\n",
       "      <td>21.624313</td>\n",
       "      <td>-158.880370</td>\n",
       "      <td>179.597294</td>\n",
       "      <td>69.891360</td>\n",
       "      <td>-33.804955</td>\n",
       "      <td>233.914610</td>\n",
       "      <td>122.868546</td>\n",
       "      <td>-1074.464888</td>\n",
       "      <td>-93.775375</td>\n",
       "      <td>1270048-base</td>\n",
       "    </tr>\n",
       "    <tr>\n",
       "      <th>4</th>\n",
       "      <td>63983-query</td>\n",
       "      <td>-52.725650</td>\n",
       "      <td>9.027046</td>\n",
       "      <td>-92.829650</td>\n",
       "      <td>-113.111010</td>\n",
       "      <td>134.124970</td>\n",
       "      <td>-42.423073</td>\n",
       "      <td>-759.626065</td>\n",
       "      <td>8.261169</td>\n",
       "      <td>119.49023</td>\n",
       "      <td>...</td>\n",
       "      <td>13.807772</td>\n",
       "      <td>-208.650040</td>\n",
       "      <td>41.742014</td>\n",
       "      <td>66.522420</td>\n",
       "      <td>41.362930</td>\n",
       "      <td>162.723050</td>\n",
       "      <td>111.261310</td>\n",
       "      <td>-151.162805</td>\n",
       "      <td>-33.831450</td>\n",
       "      <td>168591-base</td>\n",
       "    </tr>\n",
       "  </tbody>\n",
       "</table>\n",
       "<p>5 rows × 74 columns</p>\n",
       "</div>"
      ],
      "text/plain": [
       "             Id          0         1          2           3           4  \\\n",
       "0  109249-query -24.021454  3.122524 -80.947525 -112.329994  191.090180   \n",
       "1   34137-query -82.033580  8.115866  -8.793022 -182.972100   56.645336   \n",
       "2  136121-query -75.719640 -0.223386 -86.186130 -162.064060  114.320114   \n",
       "3  105191-query -56.580620  5.093593 -46.943110 -149.039120  112.436430   \n",
       "4   63983-query -52.725650  9.027046 -92.829650 -113.111010  134.124970   \n",
       "\n",
       "           5           6           7          8  ...         63          64  \\\n",
       "0 -66.903130 -759.626065  -75.284454  120.55149  ... -24.601670 -167.760770   \n",
       "1 -52.597610  -55.720337  130.059250  129.38335  ...  54.448433 -120.894806   \n",
       "2 -53.394600 -117.261013  -24.857851  124.80780  ...  -5.609123  -93.029880   \n",
       "3 -76.820510 -324.995645  -32.833107  119.47865  ...  21.624313 -158.880370   \n",
       "4 -42.423073 -759.626065    8.261169  119.49023  ...  13.807772 -208.650040   \n",
       "\n",
       "           65         66         67          68          69           70  \\\n",
       "0  133.678516  68.184600  26.317545   11.938202  148.549320  -778.563381   \n",
       "1  -12.292085  66.608116 -27.997612   10.091335   95.809265 -1022.691531   \n",
       "2  -80.997871  63.733383  11.378683   62.932007  130.975390 -1074.464888   \n",
       "3  179.597294  69.891360 -33.804955  233.914610  122.868546 -1074.464888   \n",
       "4   41.742014  66.522420  41.362930  162.723050  111.261310  -151.162805   \n",
       "\n",
       "          71        Target  \n",
       "0 -46.877750    66971-base  \n",
       "1 -88.564705  1433819-base  \n",
       "2 -74.861176   290133-base  \n",
       "3 -93.775375  1270048-base  \n",
       "4 -33.831450   168591-base  \n",
       "\n",
       "[5 rows x 74 columns]"
      ]
     },
     "metadata": {},
     "output_type": "display_data"
    },
    {
     "data": {
      "text/html": [
       "<div>\n",
       "<style scoped>\n",
       "    .dataframe tbody tr th:only-of-type {\n",
       "        vertical-align: middle;\n",
       "    }\n",
       "\n",
       "    .dataframe tbody tr th {\n",
       "        vertical-align: top;\n",
       "    }\n",
       "\n",
       "    .dataframe thead th {\n",
       "        text-align: right;\n",
       "    }\n",
       "</style>\n",
       "<table border=\"1\" class=\"dataframe\">\n",
       "  <thead>\n",
       "    <tr style=\"text-align: right;\">\n",
       "      <th></th>\n",
       "      <th>Id</th>\n",
       "      <th>0</th>\n",
       "      <th>1</th>\n",
       "      <th>2</th>\n",
       "      <th>3</th>\n",
       "      <th>4</th>\n",
       "      <th>5</th>\n",
       "      <th>6</th>\n",
       "      <th>7</th>\n",
       "      <th>8</th>\n",
       "      <th>...</th>\n",
       "      <th>62</th>\n",
       "      <th>63</th>\n",
       "      <th>64</th>\n",
       "      <th>65</th>\n",
       "      <th>66</th>\n",
       "      <th>67</th>\n",
       "      <th>68</th>\n",
       "      <th>69</th>\n",
       "      <th>70</th>\n",
       "      <th>71</th>\n",
       "    </tr>\n",
       "  </thead>\n",
       "  <tbody>\n",
       "    <tr>\n",
       "      <th>0</th>\n",
       "      <td>196680-query</td>\n",
       "      <td>-59.383420</td>\n",
       "      <td>8.563436</td>\n",
       "      <td>-28.203072</td>\n",
       "      <td>-134.22534</td>\n",
       "      <td>82.73661</td>\n",
       "      <td>-150.572170</td>\n",
       "      <td>-129.178969</td>\n",
       "      <td>23.670555</td>\n",
       "      <td>125.66636</td>\n",
       "      <td>...</td>\n",
       "      <td>-103.481630</td>\n",
       "      <td>79.564530</td>\n",
       "      <td>-120.31357</td>\n",
       "      <td>54.218155</td>\n",
       "      <td>68.50073</td>\n",
       "      <td>32.681908</td>\n",
       "      <td>84.19686</td>\n",
       "      <td>136.412960</td>\n",
       "      <td>-1074.464888</td>\n",
       "      <td>-21.233612</td>\n",
       "    </tr>\n",
       "    <tr>\n",
       "      <th>1</th>\n",
       "      <td>134615-query</td>\n",
       "      <td>-103.912150</td>\n",
       "      <td>9.742726</td>\n",
       "      <td>-15.209915</td>\n",
       "      <td>-116.37310</td>\n",
       "      <td>137.69880</td>\n",
       "      <td>-85.530075</td>\n",
       "      <td>-776.123158</td>\n",
       "      <td>44.481530</td>\n",
       "      <td>114.67121</td>\n",
       "      <td>...</td>\n",
       "      <td>-51.193770</td>\n",
       "      <td>49.299644</td>\n",
       "      <td>-101.89454</td>\n",
       "      <td>105.560548</td>\n",
       "      <td>67.80104</td>\n",
       "      <td>13.633057</td>\n",
       "      <td>108.05138</td>\n",
       "      <td>111.864456</td>\n",
       "      <td>-841.022331</td>\n",
       "      <td>-76.567980</td>\n",
       "    </tr>\n",
       "    <tr>\n",
       "      <th>2</th>\n",
       "      <td>82675-query</td>\n",
       "      <td>-117.923280</td>\n",
       "      <td>-3.504554</td>\n",
       "      <td>-64.299390</td>\n",
       "      <td>-155.18713</td>\n",
       "      <td>156.82137</td>\n",
       "      <td>-34.082264</td>\n",
       "      <td>-537.423653</td>\n",
       "      <td>54.078613</td>\n",
       "      <td>121.97396</td>\n",
       "      <td>...</td>\n",
       "      <td>-115.176155</td>\n",
       "      <td>48.636130</td>\n",
       "      <td>-132.17967</td>\n",
       "      <td>-0.988696</td>\n",
       "      <td>68.11125</td>\n",
       "      <td>107.065216</td>\n",
       "      <td>134.61765</td>\n",
       "      <td>134.080000</td>\n",
       "      <td>27.773269</td>\n",
       "      <td>-32.401714</td>\n",
       "    </tr>\n",
       "    <tr>\n",
       "      <th>3</th>\n",
       "      <td>162076-query</td>\n",
       "      <td>-90.880554</td>\n",
       "      <td>4.888542</td>\n",
       "      <td>-39.647797</td>\n",
       "      <td>-131.75010</td>\n",
       "      <td>62.36212</td>\n",
       "      <td>-105.593270</td>\n",
       "      <td>-347.132493</td>\n",
       "      <td>-83.351750</td>\n",
       "      <td>133.91331</td>\n",
       "      <td>...</td>\n",
       "      <td>-112.293790</td>\n",
       "      <td>54.884007</td>\n",
       "      <td>-177.56935</td>\n",
       "      <td>-116.374997</td>\n",
       "      <td>67.88766</td>\n",
       "      <td>136.893980</td>\n",
       "      <td>124.89447</td>\n",
       "      <td>117.707750</td>\n",
       "      <td>-566.343980</td>\n",
       "      <td>-90.905556</td>\n",
       "    </tr>\n",
       "    <tr>\n",
       "      <th>4</th>\n",
       "      <td>23069-query</td>\n",
       "      <td>-66.946740</td>\n",
       "      <td>10.562773</td>\n",
       "      <td>-73.781830</td>\n",
       "      <td>-149.39787</td>\n",
       "      <td>2.93866</td>\n",
       "      <td>-51.288853</td>\n",
       "      <td>-587.189361</td>\n",
       "      <td>-2.764402</td>\n",
       "      <td>126.56105</td>\n",
       "      <td>...</td>\n",
       "      <td>-116.440605</td>\n",
       "      <td>47.279976</td>\n",
       "      <td>-162.65400</td>\n",
       "      <td>107.409409</td>\n",
       "      <td>67.78526</td>\n",
       "      <td>-60.976490</td>\n",
       "      <td>142.68571</td>\n",
       "      <td>82.264300</td>\n",
       "      <td>-345.340457</td>\n",
       "      <td>-48.572525</td>\n",
       "    </tr>\n",
       "  </tbody>\n",
       "</table>\n",
       "<p>5 rows × 73 columns</p>\n",
       "</div>"
      ],
      "text/plain": [
       "             Id           0          1          2          3          4  \\\n",
       "0  196680-query  -59.383420   8.563436 -28.203072 -134.22534   82.73661   \n",
       "1  134615-query -103.912150   9.742726 -15.209915 -116.37310  137.69880   \n",
       "2   82675-query -117.923280  -3.504554 -64.299390 -155.18713  156.82137   \n",
       "3  162076-query  -90.880554   4.888542 -39.647797 -131.75010   62.36212   \n",
       "4   23069-query  -66.946740  10.562773 -73.781830 -149.39787    2.93866   \n",
       "\n",
       "            5           6          7          8  ...          62         63  \\\n",
       "0 -150.572170 -129.178969  23.670555  125.66636  ... -103.481630  79.564530   \n",
       "1  -85.530075 -776.123158  44.481530  114.67121  ...  -51.193770  49.299644   \n",
       "2  -34.082264 -537.423653  54.078613  121.97396  ... -115.176155  48.636130   \n",
       "3 -105.593270 -347.132493 -83.351750  133.91331  ... -112.293790  54.884007   \n",
       "4  -51.288853 -587.189361  -2.764402  126.56105  ... -116.440605  47.279976   \n",
       "\n",
       "          64          65        66          67         68          69  \\\n",
       "0 -120.31357   54.218155  68.50073   32.681908   84.19686  136.412960   \n",
       "1 -101.89454  105.560548  67.80104   13.633057  108.05138  111.864456   \n",
       "2 -132.17967   -0.988696  68.11125  107.065216  134.61765  134.080000   \n",
       "3 -177.56935 -116.374997  67.88766  136.893980  124.89447  117.707750   \n",
       "4 -162.65400  107.409409  67.78526  -60.976490  142.68571   82.264300   \n",
       "\n",
       "            70         71  \n",
       "0 -1074.464888 -21.233612  \n",
       "1  -841.022331 -76.567980  \n",
       "2    27.773269 -32.401714  \n",
       "3  -566.343980 -90.905556  \n",
       "4  -345.340457 -48.572525  \n",
       "\n",
       "[5 rows x 73 columns]"
      ]
     },
     "metadata": {},
     "output_type": "display_data"
    },
    {
     "data": {
      "text/html": [
       "<div>\n",
       "<style scoped>\n",
       "    .dataframe tbody tr th:only-of-type {\n",
       "        vertical-align: middle;\n",
       "    }\n",
       "\n",
       "    .dataframe tbody tr th {\n",
       "        vertical-align: top;\n",
       "    }\n",
       "\n",
       "    .dataframe thead th {\n",
       "        text-align: right;\n",
       "    }\n",
       "</style>\n",
       "<table border=\"1\" class=\"dataframe\">\n",
       "  <thead>\n",
       "    <tr style=\"text-align: right;\">\n",
       "      <th></th>\n",
       "      <th>Id</th>\n",
       "      <th>Expected</th>\n",
       "    </tr>\n",
       "  </thead>\n",
       "  <tbody>\n",
       "    <tr>\n",
       "      <th>0</th>\n",
       "      <td>196680-query</td>\n",
       "      <td>1087368-base</td>\n",
       "    </tr>\n",
       "    <tr>\n",
       "      <th>1</th>\n",
       "      <td>134615-query</td>\n",
       "      <td>849674-base</td>\n",
       "    </tr>\n",
       "    <tr>\n",
       "      <th>2</th>\n",
       "      <td>82675-query</td>\n",
       "      <td>4183486-base</td>\n",
       "    </tr>\n",
       "    <tr>\n",
       "      <th>3</th>\n",
       "      <td>162076-query</td>\n",
       "      <td>2879258-base</td>\n",
       "    </tr>\n",
       "    <tr>\n",
       "      <th>4</th>\n",
       "      <td>23069-query</td>\n",
       "      <td>615229-base</td>\n",
       "    </tr>\n",
       "  </tbody>\n",
       "</table>\n",
       "</div>"
      ],
      "text/plain": [
       "             Id      Expected\n",
       "0  196680-query  1087368-base\n",
       "1  134615-query   849674-base\n",
       "2   82675-query  4183486-base\n",
       "3  162076-query  2879258-base\n",
       "4   23069-query   615229-base"
      ]
     },
     "metadata": {},
     "output_type": "display_data"
    }
   ],
   "source": [
    "display(base.head())\n",
    "display(train.head())\n",
    "display(validation.head())\n",
    "display(validation_answer.head())"
   ]
  },
  {
   "cell_type": "markdown",
   "id": "d2a4f8ee",
   "metadata": {},
   "source": [
    "### Общая информации о данных"
   ]
  },
  {
   "cell_type": "code",
   "execution_count": 6,
   "id": "aa78c1ac",
   "metadata": {
    "scrolled": false
   },
   "outputs": [
    {
     "name": "stdout",
     "output_type": "stream",
     "text": [
      "<class 'pandas.core.frame.DataFrame'>\n",
      "RangeIndex: 291813 entries, 0 to 291812\n",
      "Data columns (total 73 columns):\n",
      " #   Column  Non-Null Count   Dtype  \n",
      "---  ------  --------------   -----  \n",
      " 0   Id      291813 non-null  object \n",
      " 1   0       291813 non-null  float64\n",
      " 2   1       291813 non-null  float64\n",
      " 3   2       291813 non-null  float64\n",
      " 4   3       291813 non-null  float64\n",
      " 5   4       291813 non-null  float64\n",
      " 6   5       291813 non-null  float64\n",
      " 7   6       291813 non-null  float64\n",
      " 8   7       291813 non-null  float64\n",
      " 9   8       291813 non-null  float64\n",
      " 10  9       291813 non-null  float64\n",
      " 11  10      291813 non-null  float64\n",
      " 12  11      291813 non-null  float64\n",
      " 13  12      291813 non-null  float64\n",
      " 14  13      291813 non-null  float64\n",
      " 15  14      291813 non-null  float64\n",
      " 16  15      291813 non-null  float64\n",
      " 17  16      291813 non-null  float64\n",
      " 18  17      291813 non-null  float64\n",
      " 19  18      291813 non-null  float64\n",
      " 20  19      291813 non-null  float64\n",
      " 21  20      291813 non-null  float64\n",
      " 22  21      291813 non-null  float64\n",
      " 23  22      291813 non-null  float64\n",
      " 24  23      291813 non-null  float64\n",
      " 25  24      291813 non-null  float64\n",
      " 26  25      291813 non-null  float64\n",
      " 27  26      291813 non-null  float64\n",
      " 28  27      291813 non-null  float64\n",
      " 29  28      291813 non-null  float64\n",
      " 30  29      291813 non-null  float64\n",
      " 31  30      291813 non-null  float64\n",
      " 32  31      291813 non-null  float64\n",
      " 33  32      291813 non-null  float64\n",
      " 34  33      291813 non-null  float64\n",
      " 35  34      291813 non-null  float64\n",
      " 36  35      291813 non-null  float64\n",
      " 37  36      291813 non-null  float64\n",
      " 38  37      291813 non-null  float64\n",
      " 39  38      291813 non-null  float64\n",
      " 40  39      291813 non-null  float64\n",
      " 41  40      291813 non-null  float64\n",
      " 42  41      291813 non-null  float64\n",
      " 43  42      291813 non-null  float64\n",
      " 44  43      291813 non-null  float64\n",
      " 45  44      291813 non-null  float64\n",
      " 46  45      291813 non-null  float64\n",
      " 47  46      291813 non-null  float64\n",
      " 48  47      291813 non-null  float64\n",
      " 49  48      291813 non-null  float64\n",
      " 50  49      291813 non-null  float64\n",
      " 51  50      291813 non-null  float64\n",
      " 52  51      291813 non-null  float64\n",
      " 53  52      291813 non-null  float64\n",
      " 54  53      291813 non-null  float64\n",
      " 55  54      291813 non-null  float64\n",
      " 56  55      291813 non-null  float64\n",
      " 57  56      291813 non-null  float64\n",
      " 58  57      291813 non-null  float64\n",
      " 59  58      291813 non-null  float64\n",
      " 60  59      291813 non-null  float64\n",
      " 61  60      291813 non-null  float64\n",
      " 62  61      291813 non-null  float64\n",
      " 63  62      291813 non-null  float64\n",
      " 64  63      291813 non-null  float64\n",
      " 65  64      291813 non-null  float64\n",
      " 66  65      291813 non-null  float64\n",
      " 67  66      291813 non-null  float64\n",
      " 68  67      291813 non-null  float64\n",
      " 69  68      291813 non-null  float64\n",
      " 70  69      291813 non-null  float64\n",
      " 71  70      291813 non-null  float64\n",
      " 72  71      291813 non-null  float64\n",
      "dtypes: float64(72), object(1)\n",
      "memory usage: 162.5+ MB\n"
     ]
    },
    {
     "data": {
      "text/plain": [
       "None"
      ]
     },
     "metadata": {},
     "output_type": "display_data"
    },
    {
     "name": "stdout",
     "output_type": "stream",
     "text": [
      "<class 'pandas.core.frame.DataFrame'>\n",
      "RangeIndex: 9999 entries, 0 to 9998\n",
      "Data columns (total 74 columns):\n",
      " #   Column  Non-Null Count  Dtype  \n",
      "---  ------  --------------  -----  \n",
      " 0   Id      9999 non-null   object \n",
      " 1   0       9999 non-null   float64\n",
      " 2   1       9999 non-null   float64\n",
      " 3   2       9999 non-null   float64\n",
      " 4   3       9999 non-null   float64\n",
      " 5   4       9999 non-null   float64\n",
      " 6   5       9999 non-null   float64\n",
      " 7   6       9999 non-null   float64\n",
      " 8   7       9999 non-null   float64\n",
      " 9   8       9999 non-null   float64\n",
      " 10  9       9999 non-null   float64\n",
      " 11  10      9999 non-null   float64\n",
      " 12  11      9999 non-null   float64\n",
      " 13  12      9999 non-null   float64\n",
      " 14  13      9999 non-null   float64\n",
      " 15  14      9999 non-null   float64\n",
      " 16  15      9999 non-null   float64\n",
      " 17  16      9999 non-null   float64\n",
      " 18  17      9999 non-null   float64\n",
      " 19  18      9999 non-null   float64\n",
      " 20  19      9999 non-null   float64\n",
      " 21  20      9999 non-null   float64\n",
      " 22  21      9999 non-null   float64\n",
      " 23  22      9999 non-null   float64\n",
      " 24  23      9999 non-null   float64\n",
      " 25  24      9999 non-null   float64\n",
      " 26  25      9999 non-null   float64\n",
      " 27  26      9999 non-null   float64\n",
      " 28  27      9999 non-null   float64\n",
      " 29  28      9999 non-null   float64\n",
      " 30  29      9999 non-null   float64\n",
      " 31  30      9999 non-null   float64\n",
      " 32  31      9999 non-null   float64\n",
      " 33  32      9999 non-null   float64\n",
      " 34  33      9999 non-null   float64\n",
      " 35  34      9999 non-null   float64\n",
      " 36  35      9999 non-null   float64\n",
      " 37  36      9999 non-null   float64\n",
      " 38  37      9999 non-null   float64\n",
      " 39  38      9999 non-null   float64\n",
      " 40  39      9999 non-null   float64\n",
      " 41  40      9999 non-null   float64\n",
      " 42  41      9999 non-null   float64\n",
      " 43  42      9999 non-null   float64\n",
      " 44  43      9999 non-null   float64\n",
      " 45  44      9999 non-null   float64\n",
      " 46  45      9999 non-null   float64\n",
      " 47  46      9999 non-null   float64\n",
      " 48  47      9999 non-null   float64\n",
      " 49  48      9999 non-null   float64\n",
      " 50  49      9999 non-null   float64\n",
      " 51  50      9999 non-null   float64\n",
      " 52  51      9999 non-null   float64\n",
      " 53  52      9999 non-null   float64\n",
      " 54  53      9999 non-null   float64\n",
      " 55  54      9999 non-null   float64\n",
      " 56  55      9999 non-null   float64\n",
      " 57  56      9999 non-null   float64\n",
      " 58  57      9999 non-null   float64\n",
      " 59  58      9999 non-null   float64\n",
      " 60  59      9999 non-null   float64\n",
      " 61  60      9999 non-null   float64\n",
      " 62  61      9999 non-null   float64\n",
      " 63  62      9999 non-null   float64\n",
      " 64  63      9999 non-null   float64\n",
      " 65  64      9999 non-null   float64\n",
      " 66  65      9999 non-null   float64\n",
      " 67  66      9999 non-null   float64\n",
      " 68  67      9999 non-null   float64\n",
      " 69  68      9999 non-null   float64\n",
      " 70  69      9999 non-null   float64\n",
      " 71  70      9999 non-null   float64\n",
      " 72  71      9999 non-null   float64\n",
      " 73  Target  9999 non-null   object \n",
      "dtypes: float64(72), object(2)\n",
      "memory usage: 5.6+ MB\n"
     ]
    },
    {
     "data": {
      "text/plain": [
       "None"
      ]
     },
     "metadata": {},
     "output_type": "display_data"
    },
    {
     "name": "stdout",
     "output_type": "stream",
     "text": [
      "<class 'pandas.core.frame.DataFrame'>\n",
      "RangeIndex: 10000 entries, 0 to 9999\n",
      "Data columns (total 73 columns):\n",
      " #   Column  Non-Null Count  Dtype  \n",
      "---  ------  --------------  -----  \n",
      " 0   Id      10000 non-null  object \n",
      " 1   0       10000 non-null  float64\n",
      " 2   1       10000 non-null  float64\n",
      " 3   2       10000 non-null  float64\n",
      " 4   3       10000 non-null  float64\n",
      " 5   4       10000 non-null  float64\n",
      " 6   5       10000 non-null  float64\n",
      " 7   6       10000 non-null  float64\n",
      " 8   7       10000 non-null  float64\n",
      " 9   8       10000 non-null  float64\n",
      " 10  9       10000 non-null  float64\n",
      " 11  10      10000 non-null  float64\n",
      " 12  11      10000 non-null  float64\n",
      " 13  12      10000 non-null  float64\n",
      " 14  13      10000 non-null  float64\n",
      " 15  14      10000 non-null  float64\n",
      " 16  15      10000 non-null  float64\n",
      " 17  16      10000 non-null  float64\n",
      " 18  17      10000 non-null  float64\n",
      " 19  18      10000 non-null  float64\n",
      " 20  19      10000 non-null  float64\n",
      " 21  20      10000 non-null  float64\n",
      " 22  21      10000 non-null  float64\n",
      " 23  22      10000 non-null  float64\n",
      " 24  23      10000 non-null  float64\n",
      " 25  24      10000 non-null  float64\n",
      " 26  25      10000 non-null  float64\n",
      " 27  26      10000 non-null  float64\n",
      " 28  27      10000 non-null  float64\n",
      " 29  28      10000 non-null  float64\n",
      " 30  29      10000 non-null  float64\n",
      " 31  30      10000 non-null  float64\n",
      " 32  31      10000 non-null  float64\n",
      " 33  32      10000 non-null  float64\n",
      " 34  33      10000 non-null  float64\n",
      " 35  34      10000 non-null  float64\n",
      " 36  35      10000 non-null  float64\n",
      " 37  36      10000 non-null  float64\n",
      " 38  37      10000 non-null  float64\n",
      " 39  38      10000 non-null  float64\n",
      " 40  39      10000 non-null  float64\n",
      " 41  40      10000 non-null  float64\n",
      " 42  41      10000 non-null  float64\n",
      " 43  42      10000 non-null  float64\n",
      " 44  43      10000 non-null  float64\n",
      " 45  44      10000 non-null  float64\n",
      " 46  45      10000 non-null  float64\n",
      " 47  46      10000 non-null  float64\n",
      " 48  47      10000 non-null  float64\n",
      " 49  48      10000 non-null  float64\n",
      " 50  49      10000 non-null  float64\n",
      " 51  50      10000 non-null  float64\n",
      " 52  51      10000 non-null  float64\n",
      " 53  52      10000 non-null  float64\n",
      " 54  53      10000 non-null  float64\n",
      " 55  54      10000 non-null  float64\n",
      " 56  55      10000 non-null  float64\n",
      " 57  56      10000 non-null  float64\n",
      " 58  57      10000 non-null  float64\n",
      " 59  58      10000 non-null  float64\n",
      " 60  59      10000 non-null  float64\n",
      " 61  60      10000 non-null  float64\n",
      " 62  61      10000 non-null  float64\n",
      " 63  62      10000 non-null  float64\n",
      " 64  63      10000 non-null  float64\n",
      " 65  64      10000 non-null  float64\n",
      " 66  65      10000 non-null  float64\n",
      " 67  66      10000 non-null  float64\n",
      " 68  67      10000 non-null  float64\n",
      " 69  68      10000 non-null  float64\n",
      " 70  69      10000 non-null  float64\n",
      " 71  70      10000 non-null  float64\n",
      " 72  71      10000 non-null  float64\n",
      "dtypes: float64(72), object(1)\n",
      "memory usage: 5.6+ MB\n"
     ]
    },
    {
     "data": {
      "text/plain": [
       "None"
      ]
     },
     "metadata": {},
     "output_type": "display_data"
    },
    {
     "name": "stdout",
     "output_type": "stream",
     "text": [
      "<class 'pandas.core.frame.DataFrame'>\n",
      "RangeIndex: 10000 entries, 0 to 9999\n",
      "Data columns (total 2 columns):\n",
      " #   Column    Non-Null Count  Dtype \n",
      "---  ------    --------------  ----- \n",
      " 0   Id        10000 non-null  object\n",
      " 1   Expected  10000 non-null  object\n",
      "dtypes: object(2)\n",
      "memory usage: 156.4+ KB\n"
     ]
    },
    {
     "data": {
      "text/plain": [
       "None"
      ]
     },
     "metadata": {},
     "output_type": "display_data"
    }
   ],
   "source": [
    "display(base.info())\n",
    "display(train.info())\n",
    "display(validation.info())\n",
    "display(validation_answer.info())"
   ]
  },
  {
   "cell_type": "markdown",
   "id": "3bfcba8b",
   "metadata": {},
   "source": [
    "### Описательная статистика"
   ]
  },
  {
   "cell_type": "code",
   "execution_count": 7,
   "id": "867b9d52",
   "metadata": {
    "scrolled": false
   },
   "outputs": [
    {
     "data": {
      "text/html": [
       "<div>\n",
       "<style scoped>\n",
       "    .dataframe tbody tr th:only-of-type {\n",
       "        vertical-align: middle;\n",
       "    }\n",
       "\n",
       "    .dataframe tbody tr th {\n",
       "        vertical-align: top;\n",
       "    }\n",
       "\n",
       "    .dataframe thead th {\n",
       "        text-align: right;\n",
       "    }\n",
       "</style>\n",
       "<table border=\"1\" class=\"dataframe\">\n",
       "  <thead>\n",
       "    <tr style=\"text-align: right;\">\n",
       "      <th></th>\n",
       "      <th>0</th>\n",
       "      <th>1</th>\n",
       "      <th>2</th>\n",
       "      <th>3</th>\n",
       "      <th>4</th>\n",
       "      <th>5</th>\n",
       "      <th>6</th>\n",
       "      <th>7</th>\n",
       "      <th>8</th>\n",
       "      <th>9</th>\n",
       "      <th>...</th>\n",
       "      <th>62</th>\n",
       "      <th>63</th>\n",
       "      <th>64</th>\n",
       "      <th>65</th>\n",
       "      <th>66</th>\n",
       "      <th>67</th>\n",
       "      <th>68</th>\n",
       "      <th>69</th>\n",
       "      <th>70</th>\n",
       "      <th>71</th>\n",
       "    </tr>\n",
       "  </thead>\n",
       "  <tbody>\n",
       "    <tr>\n",
       "      <th>count</th>\n",
       "      <td>291813.000000</td>\n",
       "      <td>291813.000000</td>\n",
       "      <td>291813.000000</td>\n",
       "      <td>291813.000000</td>\n",
       "      <td>291813.000000</td>\n",
       "      <td>291813.000000</td>\n",
       "      <td>291813.000000</td>\n",
       "      <td>291813.000000</td>\n",
       "      <td>291813.000000</td>\n",
       "      <td>291813.000000</td>\n",
       "      <td>...</td>\n",
       "      <td>291813.000000</td>\n",
       "      <td>291813.000000</td>\n",
       "      <td>291813.000000</td>\n",
       "      <td>291813.000000</td>\n",
       "      <td>291813.000000</td>\n",
       "      <td>291813.000000</td>\n",
       "      <td>291813.000000</td>\n",
       "      <td>291813.000000</td>\n",
       "      <td>291813.000000</td>\n",
       "      <td>291813.000000</td>\n",
       "    </tr>\n",
       "    <tr>\n",
       "      <th>mean</th>\n",
       "      <td>-86.274741</td>\n",
       "      <td>8.078087</td>\n",
       "      <td>-44.613480</td>\n",
       "      <td>-146.605552</td>\n",
       "      <td>111.261183</td>\n",
       "      <td>-71.875015</td>\n",
       "      <td>-393.430460</td>\n",
       "      <td>20.391975</td>\n",
       "      <td>123.676692</td>\n",
       "      <td>124.427158</td>\n",
       "      <td>...</td>\n",
       "      <td>-79.075207</td>\n",
       "      <td>33.244836</td>\n",
       "      <td>-154.720293</td>\n",
       "      <td>13.699277</td>\n",
       "      <td>67.792659</td>\n",
       "      <td>23.543147</td>\n",
       "      <td>74.890028</td>\n",
       "      <td>115.611366</td>\n",
       "      <td>-798.355219</td>\n",
       "      <td>-47.701336</td>\n",
       "    </tr>\n",
       "    <tr>\n",
       "      <th>std</th>\n",
       "      <td>24.918947</td>\n",
       "      <td>4.949495</td>\n",
       "      <td>38.545928</td>\n",
       "      <td>19.842726</td>\n",
       "      <td>46.350083</td>\n",
       "      <td>28.189743</td>\n",
       "      <td>272.084921</td>\n",
       "      <td>64.297194</td>\n",
       "      <td>6.352832</td>\n",
       "      <td>64.366631</td>\n",
       "      <td>...</td>\n",
       "      <td>30.485074</td>\n",
       "      <td>28.896144</td>\n",
       "      <td>41.217568</td>\n",
       "      <td>98.996416</td>\n",
       "      <td>1.825081</td>\n",
       "      <td>55.353032</td>\n",
       "      <td>61.320347</td>\n",
       "      <td>21.219222</td>\n",
       "      <td>385.414338</td>\n",
       "      <td>41.731025</td>\n",
       "    </tr>\n",
       "    <tr>\n",
       "      <th>min</th>\n",
       "      <td>-189.356020</td>\n",
       "      <td>-12.594500</td>\n",
       "      <td>-231.785920</td>\n",
       "      <td>-224.880500</td>\n",
       "      <td>-95.240830</td>\n",
       "      <td>-188.473330</td>\n",
       "      <td>-791.468770</td>\n",
       "      <td>-296.171050</td>\n",
       "      <td>93.684616</td>\n",
       "      <td>-143.499600</td>\n",
       "      <td>...</td>\n",
       "      <td>-214.821140</td>\n",
       "      <td>-85.825500</td>\n",
       "      <td>-346.239320</td>\n",
       "      <td>-157.593866</td>\n",
       "      <td>59.835790</td>\n",
       "      <td>-213.492420</td>\n",
       "      <td>-190.483150</td>\n",
       "      <td>18.601448</td>\n",
       "      <td>-1297.924962</td>\n",
       "      <td>-209.935760</td>\n",
       "    </tr>\n",
       "    <tr>\n",
       "      <th>25%</th>\n",
       "      <td>-103.154300</td>\n",
       "      <td>4.709408</td>\n",
       "      <td>-69.535900</td>\n",
       "      <td>-159.882740</td>\n",
       "      <td>80.367640</td>\n",
       "      <td>-91.227936</td>\n",
       "      <td>-631.937855</td>\n",
       "      <td>-22.085905</td>\n",
       "      <td>119.473625</td>\n",
       "      <td>81.685610</td>\n",
       "      <td>...</td>\n",
       "      <td>-98.823830</td>\n",
       "      <td>16.952824</td>\n",
       "      <td>-180.695560</td>\n",
       "      <td>-71.763964</td>\n",
       "      <td>66.582790</td>\n",
       "      <td>-12.501141</td>\n",
       "      <td>33.784820</td>\n",
       "      <td>101.675660</td>\n",
       "      <td>-1074.464888</td>\n",
       "      <td>-75.621110</td>\n",
       "    </tr>\n",
       "    <tr>\n",
       "      <th>50%</th>\n",
       "      <td>-86.308130</td>\n",
       "      <td>8.040010</td>\n",
       "      <td>-43.838493</td>\n",
       "      <td>-146.717360</td>\n",
       "      <td>111.776870</td>\n",
       "      <td>-71.751820</td>\n",
       "      <td>-424.306925</td>\n",
       "      <td>20.850153</td>\n",
       "      <td>123.882500</td>\n",
       "      <td>123.456270</td>\n",
       "      <td>...</td>\n",
       "      <td>-78.538180</td>\n",
       "      <td>34.682540</td>\n",
       "      <td>-153.902830</td>\n",
       "      <td>13.167371</td>\n",
       "      <td>67.815050</td>\n",
       "      <td>23.461630</td>\n",
       "      <td>74.876980</td>\n",
       "      <td>116.049270</td>\n",
       "      <td>-1074.464888</td>\n",
       "      <td>-48.403816</td>\n",
       "    </tr>\n",
       "    <tr>\n",
       "      <th>75%</th>\n",
       "      <td>-69.254616</td>\n",
       "      <td>11.466815</td>\n",
       "      <td>-19.694052</td>\n",
       "      <td>-133.320140</td>\n",
       "      <td>142.364610</td>\n",
       "      <td>-52.310825</td>\n",
       "      <td>-157.342700</td>\n",
       "      <td>63.989326</td>\n",
       "      <td>127.967766</td>\n",
       "      <td>167.014130</td>\n",
       "      <td>...</td>\n",
       "      <td>-58.638412</td>\n",
       "      <td>52.097710</td>\n",
       "      <td>-127.221360</td>\n",
       "      <td>99.362213</td>\n",
       "      <td>69.028800</td>\n",
       "      <td>59.740337</td>\n",
       "      <td>115.896880</td>\n",
       "      <td>129.625950</td>\n",
       "      <td>-504.291183</td>\n",
       "      <td>-19.684170</td>\n",
       "    </tr>\n",
       "    <tr>\n",
       "      <th>max</th>\n",
       "      <td>15.574616</td>\n",
       "      <td>28.751917</td>\n",
       "      <td>151.377080</td>\n",
       "      <td>-55.167892</td>\n",
       "      <td>299.307920</td>\n",
       "      <td>49.880882</td>\n",
       "      <td>109.631986</td>\n",
       "      <td>301.094240</td>\n",
       "      <td>147.870910</td>\n",
       "      <td>402.994600</td>\n",
       "      <td>...</td>\n",
       "      <td>48.822197</td>\n",
       "      <td>141.025270</td>\n",
       "      <td>17.344528</td>\n",
       "      <td>185.096719</td>\n",
       "      <td>75.474625</td>\n",
       "      <td>264.347200</td>\n",
       "      <td>319.601040</td>\n",
       "      <td>213.577260</td>\n",
       "      <td>98.770811</td>\n",
       "      <td>126.973220</td>\n",
       "    </tr>\n",
       "  </tbody>\n",
       "</table>\n",
       "<p>8 rows × 72 columns</p>\n",
       "</div>"
      ],
      "text/plain": [
       "                   0              1              2              3  \\\n",
       "count  291813.000000  291813.000000  291813.000000  291813.000000   \n",
       "mean      -86.274741       8.078087     -44.613480    -146.605552   \n",
       "std        24.918947       4.949495      38.545928      19.842726   \n",
       "min      -189.356020     -12.594500    -231.785920    -224.880500   \n",
       "25%      -103.154300       4.709408     -69.535900    -159.882740   \n",
       "50%       -86.308130       8.040010     -43.838493    -146.717360   \n",
       "75%       -69.254616      11.466815     -19.694052    -133.320140   \n",
       "max        15.574616      28.751917     151.377080     -55.167892   \n",
       "\n",
       "                   4              5              6              7  \\\n",
       "count  291813.000000  291813.000000  291813.000000  291813.000000   \n",
       "mean      111.261183     -71.875015    -393.430460      20.391975   \n",
       "std        46.350083      28.189743     272.084921      64.297194   \n",
       "min       -95.240830    -188.473330    -791.468770    -296.171050   \n",
       "25%        80.367640     -91.227936    -631.937855     -22.085905   \n",
       "50%       111.776870     -71.751820    -424.306925      20.850153   \n",
       "75%       142.364610     -52.310825    -157.342700      63.989326   \n",
       "max       299.307920      49.880882     109.631986     301.094240   \n",
       "\n",
       "                   8              9  ...             62             63  \\\n",
       "count  291813.000000  291813.000000  ...  291813.000000  291813.000000   \n",
       "mean      123.676692     124.427158  ...     -79.075207      33.244836   \n",
       "std         6.352832      64.366631  ...      30.485074      28.896144   \n",
       "min        93.684616    -143.499600  ...    -214.821140     -85.825500   \n",
       "25%       119.473625      81.685610  ...     -98.823830      16.952824   \n",
       "50%       123.882500     123.456270  ...     -78.538180      34.682540   \n",
       "75%       127.967766     167.014130  ...     -58.638412      52.097710   \n",
       "max       147.870910     402.994600  ...      48.822197     141.025270   \n",
       "\n",
       "                  64             65             66             67  \\\n",
       "count  291813.000000  291813.000000  291813.000000  291813.000000   \n",
       "mean     -154.720293      13.699277      67.792659      23.543147   \n",
       "std        41.217568      98.996416       1.825081      55.353032   \n",
       "min      -346.239320    -157.593866      59.835790    -213.492420   \n",
       "25%      -180.695560     -71.763964      66.582790     -12.501141   \n",
       "50%      -153.902830      13.167371      67.815050      23.461630   \n",
       "75%      -127.221360      99.362213      69.028800      59.740337   \n",
       "max        17.344528     185.096719      75.474625     264.347200   \n",
       "\n",
       "                  68             69             70             71  \n",
       "count  291813.000000  291813.000000  291813.000000  291813.000000  \n",
       "mean       74.890028     115.611366    -798.355219     -47.701336  \n",
       "std        61.320347      21.219222     385.414338      41.731025  \n",
       "min      -190.483150      18.601448   -1297.924962    -209.935760  \n",
       "25%        33.784820     101.675660   -1074.464888     -75.621110  \n",
       "50%        74.876980     116.049270   -1074.464888     -48.403816  \n",
       "75%       115.896880     129.625950    -504.291183     -19.684170  \n",
       "max       319.601040     213.577260      98.770811     126.973220  \n",
       "\n",
       "[8 rows x 72 columns]"
      ]
     },
     "metadata": {},
     "output_type": "display_data"
    },
    {
     "data": {
      "text/html": [
       "<div>\n",
       "<style scoped>\n",
       "    .dataframe tbody tr th:only-of-type {\n",
       "        vertical-align: middle;\n",
       "    }\n",
       "\n",
       "    .dataframe tbody tr th {\n",
       "        vertical-align: top;\n",
       "    }\n",
       "\n",
       "    .dataframe thead th {\n",
       "        text-align: right;\n",
       "    }\n",
       "</style>\n",
       "<table border=\"1\" class=\"dataframe\">\n",
       "  <thead>\n",
       "    <tr style=\"text-align: right;\">\n",
       "      <th></th>\n",
       "      <th>0</th>\n",
       "      <th>1</th>\n",
       "      <th>2</th>\n",
       "      <th>3</th>\n",
       "      <th>4</th>\n",
       "      <th>5</th>\n",
       "      <th>6</th>\n",
       "      <th>7</th>\n",
       "      <th>8</th>\n",
       "      <th>9</th>\n",
       "      <th>...</th>\n",
       "      <th>62</th>\n",
       "      <th>63</th>\n",
       "      <th>64</th>\n",
       "      <th>65</th>\n",
       "      <th>66</th>\n",
       "      <th>67</th>\n",
       "      <th>68</th>\n",
       "      <th>69</th>\n",
       "      <th>70</th>\n",
       "      <th>71</th>\n",
       "    </tr>\n",
       "  </thead>\n",
       "  <tbody>\n",
       "    <tr>\n",
       "      <th>count</th>\n",
       "      <td>9999.000000</td>\n",
       "      <td>9999.000000</td>\n",
       "      <td>9999.000000</td>\n",
       "      <td>9999.000000</td>\n",
       "      <td>9999.000000</td>\n",
       "      <td>9999.000000</td>\n",
       "      <td>9999.000000</td>\n",
       "      <td>9999.000000</td>\n",
       "      <td>9999.000000</td>\n",
       "      <td>9999.000000</td>\n",
       "      <td>...</td>\n",
       "      <td>9999.000000</td>\n",
       "      <td>9999.000000</td>\n",
       "      <td>9999.000000</td>\n",
       "      <td>9999.000000</td>\n",
       "      <td>9999.000000</td>\n",
       "      <td>9999.000000</td>\n",
       "      <td>9999.000000</td>\n",
       "      <td>9999.000000</td>\n",
       "      <td>9999.000000</td>\n",
       "      <td>9999.000000</td>\n",
       "    </tr>\n",
       "    <tr>\n",
       "      <th>mean</th>\n",
       "      <td>-85.469569</td>\n",
       "      <td>7.608015</td>\n",
       "      <td>-43.886495</td>\n",
       "      <td>-146.204146</td>\n",
       "      <td>111.979577</td>\n",
       "      <td>-73.679417</td>\n",
       "      <td>-443.890756</td>\n",
       "      <td>21.820551</td>\n",
       "      <td>123.107400</td>\n",
       "      <td>126.418041</td>\n",
       "      <td>...</td>\n",
       "      <td>-81.373935</td>\n",
       "      <td>37.137381</td>\n",
       "      <td>-152.473803</td>\n",
       "      <td>16.533799</td>\n",
       "      <td>67.803505</td>\n",
       "      <td>23.750006</td>\n",
       "      <td>73.254974</td>\n",
       "      <td>115.410518</td>\n",
       "      <td>-708.824875</td>\n",
       "      <td>-48.325315</td>\n",
       "    </tr>\n",
       "    <tr>\n",
       "      <th>std</th>\n",
       "      <td>25.986217</td>\n",
       "      <td>4.985728</td>\n",
       "      <td>39.318615</td>\n",
       "      <td>20.309633</td>\n",
       "      <td>47.599872</td>\n",
       "      <td>28.743810</td>\n",
       "      <td>281.494323</td>\n",
       "      <td>66.450440</td>\n",
       "      <td>6.418815</td>\n",
       "      <td>64.858194</td>\n",
       "      <td>...</td>\n",
       "      <td>30.628554</td>\n",
       "      <td>25.391546</td>\n",
       "      <td>41.109706</td>\n",
       "      <td>98.956198</td>\n",
       "      <td>1.875665</td>\n",
       "      <td>54.838217</td>\n",
       "      <td>61.459193</td>\n",
       "      <td>21.641422</td>\n",
       "      <td>405.686503</td>\n",
       "      <td>40.899658</td>\n",
       "    </tr>\n",
       "    <tr>\n",
       "      <th>min</th>\n",
       "      <td>-173.032560</td>\n",
       "      <td>-11.560507</td>\n",
       "      <td>-187.292630</td>\n",
       "      <td>-219.724800</td>\n",
       "      <td>-71.243350</td>\n",
       "      <td>-184.962450</td>\n",
       "      <td>-791.443909</td>\n",
       "      <td>-250.681340</td>\n",
       "      <td>99.001770</td>\n",
       "      <td>-113.104600</td>\n",
       "      <td>...</td>\n",
       "      <td>-191.308230</td>\n",
       "      <td>-60.515068</td>\n",
       "      <td>-306.837650</td>\n",
       "      <td>-157.579209</td>\n",
       "      <td>61.339855</td>\n",
       "      <td>-165.361250</td>\n",
       "      <td>-127.017555</td>\n",
       "      <td>34.696030</td>\n",
       "      <td>-1297.871984</td>\n",
       "      <td>-208.276810</td>\n",
       "    </tr>\n",
       "    <tr>\n",
       "      <th>25%</th>\n",
       "      <td>-103.445763</td>\n",
       "      <td>4.178606</td>\n",
       "      <td>-69.990780</td>\n",
       "      <td>-160.032880</td>\n",
       "      <td>79.712390</td>\n",
       "      <td>-93.620305</td>\n",
       "      <td>-757.628755</td>\n",
       "      <td>-21.344349</td>\n",
       "      <td>118.787718</td>\n",
       "      <td>81.959692</td>\n",
       "      <td>...</td>\n",
       "      <td>-101.775513</td>\n",
       "      <td>20.369431</td>\n",
       "      <td>-179.337380</td>\n",
       "      <td>-67.498388</td>\n",
       "      <td>66.534668</td>\n",
       "      <td>-12.360923</td>\n",
       "      <td>32.034007</td>\n",
       "      <td>100.510068</td>\n",
       "      <td>-1074.464888</td>\n",
       "      <td>-75.271170</td>\n",
       "    </tr>\n",
       "    <tr>\n",
       "      <th>50%</th>\n",
       "      <td>-85.177100</td>\n",
       "      <td>7.592032</td>\n",
       "      <td>-43.009907</td>\n",
       "      <td>-146.576220</td>\n",
       "      <td>112.233475</td>\n",
       "      <td>-74.031080</td>\n",
       "      <td>-517.673347</td>\n",
       "      <td>22.233670</td>\n",
       "      <td>123.002785</td>\n",
       "      <td>126.280350</td>\n",
       "      <td>...</td>\n",
       "      <td>-81.767230</td>\n",
       "      <td>36.944336</td>\n",
       "      <td>-151.394590</td>\n",
       "      <td>16.007951</td>\n",
       "      <td>67.819710</td>\n",
       "      <td>24.146404</td>\n",
       "      <td>73.178340</td>\n",
       "      <td>115.813060</td>\n",
       "      <td>-800.296677</td>\n",
       "      <td>-49.027412</td>\n",
       "    </tr>\n",
       "    <tr>\n",
       "      <th>75%</th>\n",
       "      <td>-67.437850</td>\n",
       "      <td>10.989736</td>\n",
       "      <td>-17.223701</td>\n",
       "      <td>-132.675850</td>\n",
       "      <td>144.052645</td>\n",
       "      <td>-54.168713</td>\n",
       "      <td>-203.437622</td>\n",
       "      <td>66.437385</td>\n",
       "      <td>127.499309</td>\n",
       "      <td>169.959880</td>\n",
       "      <td>...</td>\n",
       "      <td>-60.619155</td>\n",
       "      <td>53.901959</td>\n",
       "      <td>-124.285235</td>\n",
       "      <td>101.773980</td>\n",
       "      <td>69.086705</td>\n",
       "      <td>59.301756</td>\n",
       "      <td>113.039340</td>\n",
       "      <td>130.225600</td>\n",
       "      <td>-362.486812</td>\n",
       "      <td>-21.845187</td>\n",
       "    </tr>\n",
       "    <tr>\n",
       "      <th>max</th>\n",
       "      <td>5.052292</td>\n",
       "      <td>26.741890</td>\n",
       "      <td>134.859800</td>\n",
       "      <td>-71.194680</td>\n",
       "      <td>297.368620</td>\n",
       "      <td>31.378914</td>\n",
       "      <td>109.632035</td>\n",
       "      <td>261.413420</td>\n",
       "      <td>145.178470</td>\n",
       "      <td>353.214970</td>\n",
       "      <td>...</td>\n",
       "      <td>20.978668</td>\n",
       "      <td>137.559200</td>\n",
       "      <td>-18.955208</td>\n",
       "      <td>185.055845</td>\n",
       "      <td>74.121605</td>\n",
       "      <td>236.385470</td>\n",
       "      <td>304.391780</td>\n",
       "      <td>187.621400</td>\n",
       "      <td>97.787799</td>\n",
       "      <td>111.831955</td>\n",
       "    </tr>\n",
       "  </tbody>\n",
       "</table>\n",
       "<p>8 rows × 72 columns</p>\n",
       "</div>"
      ],
      "text/plain": [
       "                 0            1            2            3            4  \\\n",
       "count  9999.000000  9999.000000  9999.000000  9999.000000  9999.000000   \n",
       "mean    -85.469569     7.608015   -43.886495  -146.204146   111.979577   \n",
       "std      25.986217     4.985728    39.318615    20.309633    47.599872   \n",
       "min    -173.032560   -11.560507  -187.292630  -219.724800   -71.243350   \n",
       "25%    -103.445763     4.178606   -69.990780  -160.032880    79.712390   \n",
       "50%     -85.177100     7.592032   -43.009907  -146.576220   112.233475   \n",
       "75%     -67.437850    10.989736   -17.223701  -132.675850   144.052645   \n",
       "max       5.052292    26.741890   134.859800   -71.194680   297.368620   \n",
       "\n",
       "                 5            6            7            8            9  ...  \\\n",
       "count  9999.000000  9999.000000  9999.000000  9999.000000  9999.000000  ...   \n",
       "mean    -73.679417  -443.890756    21.820551   123.107400   126.418041  ...   \n",
       "std      28.743810   281.494323    66.450440     6.418815    64.858194  ...   \n",
       "min    -184.962450  -791.443909  -250.681340    99.001770  -113.104600  ...   \n",
       "25%     -93.620305  -757.628755   -21.344349   118.787718    81.959692  ...   \n",
       "50%     -74.031080  -517.673347    22.233670   123.002785   126.280350  ...   \n",
       "75%     -54.168713  -203.437622    66.437385   127.499309   169.959880  ...   \n",
       "max      31.378914   109.632035   261.413420   145.178470   353.214970  ...   \n",
       "\n",
       "                62           63           64           65           66  \\\n",
       "count  9999.000000  9999.000000  9999.000000  9999.000000  9999.000000   \n",
       "mean    -81.373935    37.137381  -152.473803    16.533799    67.803505   \n",
       "std      30.628554    25.391546    41.109706    98.956198     1.875665   \n",
       "min    -191.308230   -60.515068  -306.837650  -157.579209    61.339855   \n",
       "25%    -101.775513    20.369431  -179.337380   -67.498388    66.534668   \n",
       "50%     -81.767230    36.944336  -151.394590    16.007951    67.819710   \n",
       "75%     -60.619155    53.901959  -124.285235   101.773980    69.086705   \n",
       "max      20.978668   137.559200   -18.955208   185.055845    74.121605   \n",
       "\n",
       "                67           68           69           70           71  \n",
       "count  9999.000000  9999.000000  9999.000000  9999.000000  9999.000000  \n",
       "mean     23.750006    73.254974   115.410518  -708.824875   -48.325315  \n",
       "std      54.838217    61.459193    21.641422   405.686503    40.899658  \n",
       "min    -165.361250  -127.017555    34.696030 -1297.871984  -208.276810  \n",
       "25%     -12.360923    32.034007   100.510068 -1074.464888   -75.271170  \n",
       "50%      24.146404    73.178340   115.813060  -800.296677   -49.027412  \n",
       "75%      59.301756   113.039340   130.225600  -362.486812   -21.845187  \n",
       "max     236.385470   304.391780   187.621400    97.787799   111.831955  \n",
       "\n",
       "[8 rows x 72 columns]"
      ]
     },
     "metadata": {},
     "output_type": "display_data"
    },
    {
     "data": {
      "text/html": [
       "<div>\n",
       "<style scoped>\n",
       "    .dataframe tbody tr th:only-of-type {\n",
       "        vertical-align: middle;\n",
       "    }\n",
       "\n",
       "    .dataframe tbody tr th {\n",
       "        vertical-align: top;\n",
       "    }\n",
       "\n",
       "    .dataframe thead th {\n",
       "        text-align: right;\n",
       "    }\n",
       "</style>\n",
       "<table border=\"1\" class=\"dataframe\">\n",
       "  <thead>\n",
       "    <tr style=\"text-align: right;\">\n",
       "      <th></th>\n",
       "      <th>0</th>\n",
       "      <th>1</th>\n",
       "      <th>2</th>\n",
       "      <th>3</th>\n",
       "      <th>4</th>\n",
       "      <th>5</th>\n",
       "      <th>6</th>\n",
       "      <th>7</th>\n",
       "      <th>8</th>\n",
       "      <th>9</th>\n",
       "      <th>...</th>\n",
       "      <th>62</th>\n",
       "      <th>63</th>\n",
       "      <th>64</th>\n",
       "      <th>65</th>\n",
       "      <th>66</th>\n",
       "      <th>67</th>\n",
       "      <th>68</th>\n",
       "      <th>69</th>\n",
       "      <th>70</th>\n",
       "      <th>71</th>\n",
       "    </tr>\n",
       "  </thead>\n",
       "  <tbody>\n",
       "    <tr>\n",
       "      <th>count</th>\n",
       "      <td>10000.000000</td>\n",
       "      <td>10000.000000</td>\n",
       "      <td>10000.000000</td>\n",
       "      <td>10000.000000</td>\n",
       "      <td>10000.000000</td>\n",
       "      <td>10000.000000</td>\n",
       "      <td>10000.000000</td>\n",
       "      <td>10000.000000</td>\n",
       "      <td>10000.000000</td>\n",
       "      <td>10000.000000</td>\n",
       "      <td>...</td>\n",
       "      <td>10000.000000</td>\n",
       "      <td>10000.000000</td>\n",
       "      <td>10000.000000</td>\n",
       "      <td>10000.000000</td>\n",
       "      <td>10000.000000</td>\n",
       "      <td>10000.000000</td>\n",
       "      <td>10000.000000</td>\n",
       "      <td>10000.000000</td>\n",
       "      <td>10000.000000</td>\n",
       "      <td>10000.000000</td>\n",
       "    </tr>\n",
       "    <tr>\n",
       "      <th>mean</th>\n",
       "      <td>-85.307362</td>\n",
       "      <td>7.633750</td>\n",
       "      <td>-43.686537</td>\n",
       "      <td>-146.038791</td>\n",
       "      <td>111.209942</td>\n",
       "      <td>-72.767940</td>\n",
       "      <td>-440.587163</td>\n",
       "      <td>21.834861</td>\n",
       "      <td>123.051767</td>\n",
       "      <td>124.662559</td>\n",
       "      <td>...</td>\n",
       "      <td>-81.250167</td>\n",
       "      <td>36.956902</td>\n",
       "      <td>-152.122730</td>\n",
       "      <td>14.886141</td>\n",
       "      <td>67.791824</td>\n",
       "      <td>22.857614</td>\n",
       "      <td>72.524486</td>\n",
       "      <td>115.420796</td>\n",
       "      <td>-709.333484</td>\n",
       "      <td>-49.022258</td>\n",
       "    </tr>\n",
       "    <tr>\n",
       "      <th>std</th>\n",
       "      <td>25.911681</td>\n",
       "      <td>4.950078</td>\n",
       "      <td>38.805284</td>\n",
       "      <td>20.543489</td>\n",
       "      <td>47.779448</td>\n",
       "      <td>28.617899</td>\n",
       "      <td>278.953671</td>\n",
       "      <td>66.326518</td>\n",
       "      <td>6.522882</td>\n",
       "      <td>65.458934</td>\n",
       "      <td>...</td>\n",
       "      <td>30.617505</td>\n",
       "      <td>25.251097</td>\n",
       "      <td>40.945219</td>\n",
       "      <td>99.384247</td>\n",
       "      <td>1.851120</td>\n",
       "      <td>55.658492</td>\n",
       "      <td>62.595136</td>\n",
       "      <td>21.490729</td>\n",
       "      <td>405.917480</td>\n",
       "      <td>41.159872</td>\n",
       "    </tr>\n",
       "    <tr>\n",
       "      <th>min</th>\n",
       "      <td>-167.550670</td>\n",
       "      <td>-10.583933</td>\n",
       "      <td>-205.797360</td>\n",
       "      <td>-219.720890</td>\n",
       "      <td>-76.422760</td>\n",
       "      <td>-170.868380</td>\n",
       "      <td>-791.443909</td>\n",
       "      <td>-277.983950</td>\n",
       "      <td>97.360535</td>\n",
       "      <td>-118.700714</td>\n",
       "      <td>...</td>\n",
       "      <td>-189.231300</td>\n",
       "      <td>-47.206474</td>\n",
       "      <td>-308.200380</td>\n",
       "      <td>-157.580677</td>\n",
       "      <td>61.086390</td>\n",
       "      <td>-174.799100</td>\n",
       "      <td>-159.840730</td>\n",
       "      <td>27.746750</td>\n",
       "      <td>-1297.689518</td>\n",
       "      <td>-209.935760</td>\n",
       "    </tr>\n",
       "    <tr>\n",
       "      <th>25%</th>\n",
       "      <td>-103.253996</td>\n",
       "      <td>4.245802</td>\n",
       "      <td>-69.606605</td>\n",
       "      <td>-159.972975</td>\n",
       "      <td>78.592808</td>\n",
       "      <td>-92.371089</td>\n",
       "      <td>-739.549115</td>\n",
       "      <td>-22.112910</td>\n",
       "      <td>118.623887</td>\n",
       "      <td>81.167942</td>\n",
       "      <td>...</td>\n",
       "      <td>-101.935440</td>\n",
       "      <td>19.950575</td>\n",
       "      <td>-178.986322</td>\n",
       "      <td>-71.481630</td>\n",
       "      <td>66.545755</td>\n",
       "      <td>-14.034864</td>\n",
       "      <td>31.120448</td>\n",
       "      <td>100.431221</td>\n",
       "      <td>-1074.464888</td>\n",
       "      <td>-76.834515</td>\n",
       "    </tr>\n",
       "    <tr>\n",
       "      <th>50%</th>\n",
       "      <td>-85.495230</td>\n",
       "      <td>7.604729</td>\n",
       "      <td>-43.152172</td>\n",
       "      <td>-146.100195</td>\n",
       "      <td>111.398595</td>\n",
       "      <td>-72.734217</td>\n",
       "      <td>-512.600719</td>\n",
       "      <td>22.596903</td>\n",
       "      <td>123.105532</td>\n",
       "      <td>124.588370</td>\n",
       "      <td>...</td>\n",
       "      <td>-80.640330</td>\n",
       "      <td>36.343388</td>\n",
       "      <td>-151.159155</td>\n",
       "      <td>16.498258</td>\n",
       "      <td>67.809390</td>\n",
       "      <td>22.756214</td>\n",
       "      <td>71.640040</td>\n",
       "      <td>115.465535</td>\n",
       "      <td>-809.193143</td>\n",
       "      <td>-49.420510</td>\n",
       "    </tr>\n",
       "    <tr>\n",
       "      <th>75%</th>\n",
       "      <td>-67.228041</td>\n",
       "      <td>10.950509</td>\n",
       "      <td>-17.883776</td>\n",
       "      <td>-131.973093</td>\n",
       "      <td>143.645965</td>\n",
       "      <td>-53.415469</td>\n",
       "      <td>-204.531443</td>\n",
       "      <td>67.179237</td>\n",
       "      <td>127.583330</td>\n",
       "      <td>168.550240</td>\n",
       "      <td>...</td>\n",
       "      <td>-60.179952</td>\n",
       "      <td>53.856120</td>\n",
       "      <td>-124.446027</td>\n",
       "      <td>100.077341</td>\n",
       "      <td>69.043971</td>\n",
       "      <td>60.188393</td>\n",
       "      <td>114.197410</td>\n",
       "      <td>129.996610</td>\n",
       "      <td>-358.197327</td>\n",
       "      <td>-20.995152</td>\n",
       "    </tr>\n",
       "    <tr>\n",
       "      <th>max</th>\n",
       "      <td>10.861183</td>\n",
       "      <td>27.944784</td>\n",
       "      <td>107.040690</td>\n",
       "      <td>-73.909584</td>\n",
       "      <td>287.397200</td>\n",
       "      <td>47.001106</td>\n",
       "      <td>109.404851</td>\n",
       "      <td>251.090180</td>\n",
       "      <td>146.034410</td>\n",
       "      <td>350.088320</td>\n",
       "      <td>...</td>\n",
       "      <td>31.880241</td>\n",
       "      <td>141.025270</td>\n",
       "      <td>-17.406784</td>\n",
       "      <td>184.987267</td>\n",
       "      <td>73.886790</td>\n",
       "      <td>241.695620</td>\n",
       "      <td>289.583160</td>\n",
       "      <td>190.171420</td>\n",
       "      <td>98.747128</td>\n",
       "      <td>102.473755</td>\n",
       "    </tr>\n",
       "  </tbody>\n",
       "</table>\n",
       "<p>8 rows × 72 columns</p>\n",
       "</div>"
      ],
      "text/plain": [
       "                  0             1             2             3             4  \\\n",
       "count  10000.000000  10000.000000  10000.000000  10000.000000  10000.000000   \n",
       "mean     -85.307362      7.633750    -43.686537   -146.038791    111.209942   \n",
       "std       25.911681      4.950078     38.805284     20.543489     47.779448   \n",
       "min     -167.550670    -10.583933   -205.797360   -219.720890    -76.422760   \n",
       "25%     -103.253996      4.245802    -69.606605   -159.972975     78.592808   \n",
       "50%      -85.495230      7.604729    -43.152172   -146.100195    111.398595   \n",
       "75%      -67.228041     10.950509    -17.883776   -131.973093    143.645965   \n",
       "max       10.861183     27.944784    107.040690    -73.909584    287.397200   \n",
       "\n",
       "                  5             6             7             8             9  \\\n",
       "count  10000.000000  10000.000000  10000.000000  10000.000000  10000.000000   \n",
       "mean     -72.767940   -440.587163     21.834861    123.051767    124.662559   \n",
       "std       28.617899    278.953671     66.326518      6.522882     65.458934   \n",
       "min     -170.868380   -791.443909   -277.983950     97.360535   -118.700714   \n",
       "25%      -92.371089   -739.549115    -22.112910    118.623887     81.167942   \n",
       "50%      -72.734217   -512.600719     22.596903    123.105532    124.588370   \n",
       "75%      -53.415469   -204.531443     67.179237    127.583330    168.550240   \n",
       "max       47.001106    109.404851    251.090180    146.034410    350.088320   \n",
       "\n",
       "       ...            62            63            64            65  \\\n",
       "count  ...  10000.000000  10000.000000  10000.000000  10000.000000   \n",
       "mean   ...    -81.250167     36.956902   -152.122730     14.886141   \n",
       "std    ...     30.617505     25.251097     40.945219     99.384247   \n",
       "min    ...   -189.231300    -47.206474   -308.200380   -157.580677   \n",
       "25%    ...   -101.935440     19.950575   -178.986322    -71.481630   \n",
       "50%    ...    -80.640330     36.343388   -151.159155     16.498258   \n",
       "75%    ...    -60.179952     53.856120   -124.446027    100.077341   \n",
       "max    ...     31.880241    141.025270    -17.406784    184.987267   \n",
       "\n",
       "                 66            67            68            69            70  \\\n",
       "count  10000.000000  10000.000000  10000.000000  10000.000000  10000.000000   \n",
       "mean      67.791824     22.857614     72.524486    115.420796   -709.333484   \n",
       "std        1.851120     55.658492     62.595136     21.490729    405.917480   \n",
       "min       61.086390   -174.799100   -159.840730     27.746750  -1297.689518   \n",
       "25%       66.545755    -14.034864     31.120448    100.431221  -1074.464888   \n",
       "50%       67.809390     22.756214     71.640040    115.465535   -809.193143   \n",
       "75%       69.043971     60.188393    114.197410    129.996610   -358.197327   \n",
       "max       73.886790    241.695620    289.583160    190.171420     98.747128   \n",
       "\n",
       "                 71  \n",
       "count  10000.000000  \n",
       "mean     -49.022258  \n",
       "std       41.159872  \n",
       "min     -209.935760  \n",
       "25%      -76.834515  \n",
       "50%      -49.420510  \n",
       "75%      -20.995152  \n",
       "max      102.473755  \n",
       "\n",
       "[8 rows x 72 columns]"
      ]
     },
     "metadata": {},
     "output_type": "display_data"
    },
    {
     "data": {
      "text/html": [
       "<div>\n",
       "<style scoped>\n",
       "    .dataframe tbody tr th:only-of-type {\n",
       "        vertical-align: middle;\n",
       "    }\n",
       "\n",
       "    .dataframe tbody tr th {\n",
       "        vertical-align: top;\n",
       "    }\n",
       "\n",
       "    .dataframe thead th {\n",
       "        text-align: right;\n",
       "    }\n",
       "</style>\n",
       "<table border=\"1\" class=\"dataframe\">\n",
       "  <thead>\n",
       "    <tr style=\"text-align: right;\">\n",
       "      <th></th>\n",
       "      <th>Id</th>\n",
       "      <th>Expected</th>\n",
       "    </tr>\n",
       "  </thead>\n",
       "  <tbody>\n",
       "    <tr>\n",
       "      <th>count</th>\n",
       "      <td>10000</td>\n",
       "      <td>10000</td>\n",
       "    </tr>\n",
       "    <tr>\n",
       "      <th>unique</th>\n",
       "      <td>9735</td>\n",
       "      <td>9640</td>\n",
       "    </tr>\n",
       "    <tr>\n",
       "      <th>top</th>\n",
       "      <td>182758-query</td>\n",
       "      <td>5785-base</td>\n",
       "    </tr>\n",
       "    <tr>\n",
       "      <th>freq</th>\n",
       "      <td>3</td>\n",
       "      <td>3</td>\n",
       "    </tr>\n",
       "  </tbody>\n",
       "</table>\n",
       "</div>"
      ],
      "text/plain": [
       "                  Id   Expected\n",
       "count          10000      10000\n",
       "unique          9735       9640\n",
       "top     182758-query  5785-base\n",
       "freq               3          3"
      ]
     },
     "metadata": {},
     "output_type": "display_data"
    }
   ],
   "source": [
    "display(base.describe())\n",
    "display(train.describe())\n",
    "display(validation.describe())\n",
    "display(validation_answer.describe())"
   ]
  },
  {
   "cell_type": "markdown",
   "id": "bdd30ee9",
   "metadata": {},
   "source": [
    "## Подготовка данных для обучения"
   ]
  },
  {
   "cell_type": "code",
   "execution_count": 8,
   "id": "37bdf6ad",
   "metadata": {},
   "outputs": [],
   "source": [
    "dataframes = {\n",
    "    'base': base,\n",
    "    'train': train,\n",
    "    'validation': validation,\n",
    "    'validation_answer': validation_answer\n",
    "}"
   ]
  },
  {
   "cell_type": "code",
   "execution_count": 9,
   "id": "2d600203",
   "metadata": {},
   "outputs": [],
   "source": [
    "X = train.drop(columns=['Id', 'Target'])\n",
    "y = train['Target']"
   ]
  },
  {
   "cell_type": "markdown",
   "id": "80631188",
   "metadata": {},
   "source": [
    "### Разделение данных на обучающую и тестовую выборки"
   ]
  },
  {
   "cell_type": "code",
   "execution_count": 10,
   "id": "d02c6ebe",
   "metadata": {},
   "outputs": [
    {
     "name": "stdout",
     "output_type": "stream",
     "text": [
      "Данные разделены на обучающую и тестовую выборки.\n"
     ]
    }
   ],
   "source": [
    "X_train, X_test, y_train, y_test = train_test_split(X, y, test_size=0.2, random_state=42)\n",
    "print('Данные разделены на обучающую и тестовую выборки.')"
   ]
  },
  {
   "cell_type": "markdown",
   "id": "bfe1037f",
   "metadata": {},
   "source": [
    "### Создание индекса FAISS"
   ]
  },
  {
   "cell_type": "code",
   "execution_count": 11,
   "id": "f9fce95b",
   "metadata": {},
   "outputs": [],
   "source": [
    "dimension = X_train.shape[1]\n",
    "nlist = 2048  # Параметр для количества кластеров в IVF\n",
    "\n",
    "index = faiss.IndexFlatL2(dimension)\n",
    "quantizer = faiss.IndexFlatL2(dimension)  # Используется для кластеризации\n",
    "index = faiss.IndexIVFFlat(quantizer, dimension, nlist, faiss.METRIC_L2)"
   ]
  },
  {
   "cell_type": "markdown",
   "id": "dab85a88",
   "metadata": {},
   "source": [
    "### Добавление векторов признаков из base.csv в индекс"
   ]
  },
  {
   "cell_type": "code",
   "execution_count": 12,
   "id": "cbeb4109",
   "metadata": {},
   "outputs": [
    {
     "name": "stdout",
     "output_type": "stream",
     "text": [
      "Векторы признаков добавлены в индекс.\n"
     ]
    }
   ],
   "source": [
    "# Обучение индекса\n",
    "base_vectors = base.iloc[:, 1:].values\n",
    "base_vectors = np.ascontiguousarray(base_vectors, dtype=np.float32)  # Преобразование в C-contiguous массив и в float32\n",
    "faiss.normalize_L2(base_vectors)\n",
    "\n",
    "index.train(base_vectors)\n",
    "index.add(base_vectors)\n",
    "\n",
    "print('Векторы признаков добавлены в индекс.')"
   ]
  },
  {
   "cell_type": "markdown",
   "id": "db4c053c",
   "metadata": {},
   "source": [
    "### Поиск ближайших соседей для валидационного набора"
   ]
  },
  {
   "cell_type": "code",
   "execution_count": 13,
   "id": "724fafdc",
   "metadata": {},
   "outputs": [
    {
     "name": "stdout",
     "output_type": "stream",
     "text": [
      "Векторы валидационного набора нормализованы.\n"
     ]
    }
   ],
   "source": [
    "validation_vectors = validation.iloc[:, 1:].values\n",
    "validation_vectors = np.ascontiguousarray(validation_vectors, dtype=np.float32)\n",
    "faiss.normalize_L2(validation_vectors)\n",
    "\n",
    "print('Векторы валидационного набора нормализованы.')"
   ]
  },
  {
   "cell_type": "code",
   "execution_count": 14,
   "id": "ca02f47b",
   "metadata": {},
   "outputs": [],
   "source": [
    "k = 15000  # количество ближайших соседей\n",
    "index.nprobe = 1024  # Параметр для количества кластеров, которые будут проверены\n",
    "distances, indices = index.search(validation_vectors, k)"
   ]
  },
  {
   "cell_type": "markdown",
   "id": "abe31619",
   "metadata": {},
   "source": [
    "## Формирование результата и оценка качества алгоритма"
   ]
  },
  {
   "cell_type": "code",
   "execution_count": 15,
   "id": "29f4bed4",
   "metadata": {},
   "outputs": [],
   "source": [
    "predictions = []\n",
    "for i in range(len(validation)):\n",
    "    pred_ids = base.iloc[indices[i]].Id.values\n",
    "    predictions.append(pred_ids)"
   ]
  },
  {
   "cell_type": "markdown",
   "id": "b54ce8f5",
   "metadata": {},
   "source": [
    "### Оценка качества алгоритма по метрике accuracy@5"
   ]
  },
  {
   "cell_type": "code",
   "execution_count": 16,
   "id": "84f61874",
   "metadata": {},
   "outputs": [
    {
     "name": "stdout",
     "output_type": "stream",
     "text": [
      "Accuracy@5: 0.4693\n"
     ]
    }
   ],
   "source": [
    "correct = 0\n",
    "for i, pred in enumerate(predictions):\n",
    "    if validation_answer.iloc[i]['Expected'] in pred:\n",
    "        correct += 1\n",
    "\n",
    "accuracy_at_5 = correct / len(validation)\n",
    "print(f'Accuracy@5: {accuracy_at_5:.4f}')"
   ]
  },
  {
   "cell_type": "markdown",
   "id": "6019d948",
   "metadata": {},
   "source": [
    "# Заключение\n",
    "Проект предоставил уникальную возможность применить теоретические знания на практике, работая с реальными данными и задачами. Выполнение данного проекта позволило улучшить навыки работы с алгоритмами мэтчинга и инструментами машинного обучения."
   ]
  }
 ],
 "metadata": {
  "ExecuteTimeLog": [
   {
    "duration": 2,
    "start_time": "2024-06-13T09:18:51.822Z"
   },
   {
    "duration": 1030,
    "start_time": "2024-06-13T09:22:39.923Z"
   },
   {
    "duration": 93,
    "start_time": "2024-06-13T09:22:40.955Z"
   },
   {
    "duration": 3,
    "start_time": "2024-06-13T09:22:50.389Z"
   },
   {
    "duration": 256,
    "start_time": "2024-06-13T09:23:54.042Z"
   },
   {
    "duration": 323,
    "start_time": "2024-06-13T09:24:18.625Z"
   },
   {
    "duration": 40,
    "start_time": "2024-06-13T09:24:20.023Z"
   },
   {
    "duration": 341,
    "start_time": "2024-06-13T09:24:49.948Z"
   },
   {
    "duration": 378,
    "start_time": "2024-06-13T09:24:50.291Z"
   },
   {
    "duration": 59,
    "start_time": "2024-06-13T09:24:50.671Z"
   },
   {
    "duration": 391,
    "start_time": "2024-06-13T09:29:01.772Z"
   },
   {
    "duration": 413,
    "start_time": "2024-06-13T09:29:02.164Z"
   },
   {
    "duration": 40,
    "start_time": "2024-06-13T09:29:02.578Z"
   },
   {
    "duration": 8,
    "start_time": "2024-06-13T09:29:02.619Z"
   },
   {
    "duration": 3,
    "start_time": "2024-06-13T09:34:20.655Z"
   },
   {
    "duration": 4,
    "start_time": "2024-06-13T09:34:21.285Z"
   },
   {
    "duration": 65,
    "start_time": "2024-06-13T09:34:21.621Z"
   },
   {
    "duration": 2,
    "start_time": "2024-06-13T09:34:47.358Z"
   },
   {
    "duration": 4,
    "start_time": "2024-06-13T09:34:47.669Z"
   },
   {
    "duration": 53,
    "start_time": "2024-06-13T09:34:48.242Z"
   },
   {
    "duration": 320,
    "start_time": "2024-06-13T09:36:27.347Z"
   },
   {
    "duration": 451,
    "start_time": "2024-06-13T09:36:27.669Z"
   },
   {
    "duration": 38,
    "start_time": "2024-06-13T09:36:28.122Z"
   },
   {
    "duration": 43,
    "start_time": "2024-06-13T09:36:28.162Z"
   },
   {
    "duration": 75,
    "start_time": "2024-06-13T09:36:28.206Z"
   },
   {
    "duration": 15,
    "start_time": "2024-06-13T09:36:28.282Z"
   },
   {
    "duration": 25,
    "start_time": "2024-06-13T09:36:28.299Z"
   },
   {
    "duration": 83,
    "start_time": "2024-06-13T09:36:28.325Z"
   },
   {
    "duration": 1062,
    "start_time": "2024-06-13T09:40:03.036Z"
   },
   {
    "duration": 90,
    "start_time": "2024-06-13T09:40:43.220Z"
   },
   {
    "duration": 390,
    "start_time": "2024-06-13T09:40:50.848Z"
   },
   {
    "duration": 341,
    "start_time": "2024-06-13T09:40:51.240Z"
   },
   {
    "duration": 38,
    "start_time": "2024-06-13T09:40:51.582Z"
   },
   {
    "duration": 7,
    "start_time": "2024-06-13T09:40:51.622Z"
   },
   {
    "duration": 5,
    "start_time": "2024-06-13T09:40:51.630Z"
   },
   {
    "duration": 3,
    "start_time": "2024-06-13T09:40:51.637Z"
   },
   {
    "duration": 11,
    "start_time": "2024-06-13T09:40:51.641Z"
   },
   {
    "duration": 83,
    "start_time": "2024-06-13T09:40:51.654Z"
   },
   {
    "duration": 22,
    "start_time": "2024-06-13T09:40:51.738Z"
   },
   {
    "duration": 337,
    "start_time": "2024-06-13T09:41:01.338Z"
   },
   {
    "duration": 373,
    "start_time": "2024-06-13T09:41:01.677Z"
   },
   {
    "duration": 38,
    "start_time": "2024-06-13T09:41:02.051Z"
   },
   {
    "duration": 8,
    "start_time": "2024-06-13T09:41:02.090Z"
   },
   {
    "duration": 16,
    "start_time": "2024-06-13T09:41:02.100Z"
   },
   {
    "duration": 23,
    "start_time": "2024-06-13T09:41:02.117Z"
   },
   {
    "duration": 18,
    "start_time": "2024-06-13T09:41:02.141Z"
   },
   {
    "duration": 46,
    "start_time": "2024-06-13T09:41:02.160Z"
   },
   {
    "duration": 95,
    "start_time": "2024-06-13T09:41:02.208Z"
   },
   {
    "duration": 369,
    "start_time": "2024-06-13T09:41:47.712Z"
   },
   {
    "duration": 363,
    "start_time": "2024-06-13T09:41:48.083Z"
   },
   {
    "duration": 40,
    "start_time": "2024-06-13T09:41:48.447Z"
   },
   {
    "duration": 8,
    "start_time": "2024-06-13T09:41:48.488Z"
   },
   {
    "duration": 25,
    "start_time": "2024-06-13T09:41:48.498Z"
   },
   {
    "duration": 2,
    "start_time": "2024-06-13T09:41:48.525Z"
   },
   {
    "duration": 10,
    "start_time": "2024-06-13T09:41:48.529Z"
   },
   {
    "duration": 22,
    "start_time": "2024-06-13T09:41:48.541Z"
   },
   {
    "duration": 74,
    "start_time": "2024-06-13T09:41:48.564Z"
   },
   {
    "duration": 36,
    "start_time": "2024-06-13T09:42:21.532Z"
   },
   {
    "duration": 395,
    "start_time": "2024-06-13T09:45:26.515Z"
   },
   {
    "duration": 387,
    "start_time": "2024-06-13T09:45:26.911Z"
   },
   {
    "duration": 38,
    "start_time": "2024-06-13T09:45:27.299Z"
   },
   {
    "duration": 8,
    "start_time": "2024-06-13T09:45:27.339Z"
   },
   {
    "duration": 571,
    "start_time": "2024-06-13T09:45:27.348Z"
   },
   {
    "duration": 0,
    "start_time": "2024-06-13T09:45:27.921Z"
   },
   {
    "duration": 0,
    "start_time": "2024-06-13T09:45:27.922Z"
   },
   {
    "duration": 0,
    "start_time": "2024-06-13T09:45:27.923Z"
   },
   {
    "duration": 0,
    "start_time": "2024-06-13T09:45:27.925Z"
   },
   {
    "duration": 25,
    "start_time": "2024-06-13T09:46:38.331Z"
   },
   {
    "duration": 372,
    "start_time": "2024-06-13T09:46:43.105Z"
   },
   {
    "duration": 312,
    "start_time": "2024-06-13T09:46:43.478Z"
   },
   {
    "duration": 37,
    "start_time": "2024-06-13T09:46:43.791Z"
   },
   {
    "duration": 8,
    "start_time": "2024-06-13T09:46:43.830Z"
   },
   {
    "duration": 28,
    "start_time": "2024-06-13T09:46:43.839Z"
   },
   {
    "duration": 3,
    "start_time": "2024-06-13T09:46:43.868Z"
   },
   {
    "duration": 32,
    "start_time": "2024-06-13T09:46:43.872Z"
   },
   {
    "duration": 20,
    "start_time": "2024-06-13T09:46:43.905Z"
   },
   {
    "duration": 67,
    "start_time": "2024-06-13T09:46:43.926Z"
   },
   {
    "duration": 36,
    "start_time": "2024-06-13T09:46:54.344Z"
   },
   {
    "duration": 4,
    "start_time": "2024-06-13T09:49:52.463Z"
   },
   {
    "duration": 54,
    "start_time": "2024-06-13T09:49:52.754Z"
   },
   {
    "duration": 341,
    "start_time": "2024-06-13T09:50:03.439Z"
   },
   {
    "duration": 366,
    "start_time": "2024-06-13T09:50:03.782Z"
   },
   {
    "duration": 40,
    "start_time": "2024-06-13T09:50:04.149Z"
   },
   {
    "duration": 8,
    "start_time": "2024-06-13T09:50:04.191Z"
   },
   {
    "duration": 32,
    "start_time": "2024-06-13T09:50:04.200Z"
   },
   {
    "duration": 2,
    "start_time": "2024-06-13T09:50:04.234Z"
   },
   {
    "duration": 64,
    "start_time": "2024-06-13T09:50:04.237Z"
   },
   {
    "duration": 7,
    "start_time": "2024-06-13T09:50:04.302Z"
   },
   {
    "duration": 80,
    "start_time": "2024-06-13T09:50:04.310Z"
   },
   {
    "duration": 4,
    "start_time": "2024-06-13T09:50:27.025Z"
   },
   {
    "duration": 48,
    "start_time": "2024-06-13T09:50:27.339Z"
   },
   {
    "duration": 386,
    "start_time": "2024-06-13T09:50:35.684Z"
   },
   {
    "duration": 308,
    "start_time": "2024-06-13T09:50:36.072Z"
   },
   {
    "duration": 42,
    "start_time": "2024-06-13T09:50:36.381Z"
   },
   {
    "duration": 8,
    "start_time": "2024-06-13T09:50:36.425Z"
   },
   {
    "duration": 30,
    "start_time": "2024-06-13T09:50:36.435Z"
   },
   {
    "duration": 3,
    "start_time": "2024-06-13T09:50:36.466Z"
   },
   {
    "duration": 20,
    "start_time": "2024-06-13T09:50:36.470Z"
   },
   {
    "duration": 7,
    "start_time": "2024-06-13T09:50:36.491Z"
   },
   {
    "duration": 62,
    "start_time": "2024-06-13T09:50:36.499Z"
   },
   {
    "duration": 3,
    "start_time": "2024-06-13T09:51:37.185Z"
   },
   {
    "duration": 46,
    "start_time": "2024-06-13T09:51:37.449Z"
   },
   {
    "duration": 386,
    "start_time": "2024-06-13T09:52:21.187Z"
   },
   {
    "duration": 344,
    "start_time": "2024-06-13T09:52:21.575Z"
   },
   {
    "duration": 40,
    "start_time": "2024-06-13T09:52:21.920Z"
   },
   {
    "duration": 96,
    "start_time": "2024-06-13T09:52:21.961Z"
   },
   {
    "duration": 127,
    "start_time": "2024-06-13T09:52:22.058Z"
   },
   {
    "duration": 128,
    "start_time": "2024-06-13T09:52:22.186Z"
   },
   {
    "duration": 65,
    "start_time": "2024-06-13T09:52:22.315Z"
   },
   {
    "duration": 33,
    "start_time": "2024-06-13T09:52:22.381Z"
   },
   {
    "duration": 146,
    "start_time": "2024-06-13T09:52:22.416Z"
   },
   {
    "duration": 4,
    "start_time": "2024-06-13T09:52:29.853Z"
   },
   {
    "duration": 70,
    "start_time": "2024-06-13T09:52:30.125Z"
   },
   {
    "duration": 385,
    "start_time": "2024-06-13T09:52:35.773Z"
   },
   {
    "duration": 365,
    "start_time": "2024-06-13T09:52:36.159Z"
   },
   {
    "duration": 38,
    "start_time": "2024-06-13T09:52:36.526Z"
   },
   {
    "duration": 73,
    "start_time": "2024-06-13T09:52:36.566Z"
   },
   {
    "duration": 27,
    "start_time": "2024-06-13T09:52:36.642Z"
   },
   {
    "duration": 3,
    "start_time": "2024-06-13T09:52:36.670Z"
   },
   {
    "duration": 11,
    "start_time": "2024-06-13T09:52:36.673Z"
   },
   {
    "duration": 9,
    "start_time": "2024-06-13T09:52:36.685Z"
   },
   {
    "duration": 89,
    "start_time": "2024-06-13T09:52:36.695Z"
   },
   {
    "duration": 723,
    "start_time": "2024-06-13T10:21:50.191Z"
   },
   {
    "duration": 7347,
    "start_time": "2024-06-13T10:22:28.322Z"
   },
   {
    "duration": 396,
    "start_time": "2024-06-13T10:22:35.670Z"
   },
   {
    "duration": 457,
    "start_time": "2024-06-13T10:22:36.067Z"
   },
   {
    "duration": 37,
    "start_time": "2024-06-13T10:22:36.526Z"
   },
   {
    "duration": 8,
    "start_time": "2024-06-13T10:22:36.564Z"
   },
   {
    "duration": 25,
    "start_time": "2024-06-13T10:22:36.573Z"
   },
   {
    "duration": 3,
    "start_time": "2024-06-13T10:22:36.599Z"
   },
   {
    "duration": 5,
    "start_time": "2024-06-13T10:22:36.603Z"
   },
   {
    "duration": 5,
    "start_time": "2024-06-13T10:22:36.608Z"
   },
   {
    "duration": 74,
    "start_time": "2024-06-13T10:22:36.614Z"
   },
   {
    "duration": 1247,
    "start_time": "2024-06-13T10:22:36.689Z"
   },
   {
    "duration": 5,
    "start_time": "2024-06-13T10:23:36.730Z"
   },
   {
    "duration": 546,
    "start_time": "2024-06-13T10:23:37.037Z"
   },
   {
    "duration": 2584,
    "start_time": "2024-06-13T10:24:19.391Z"
   },
   {
    "duration": 388,
    "start_time": "2024-06-13T10:24:21.977Z"
   },
   {
    "duration": 310,
    "start_time": "2024-06-13T10:24:22.367Z"
   },
   {
    "duration": 37,
    "start_time": "2024-06-13T10:24:22.679Z"
   },
   {
    "duration": 7,
    "start_time": "2024-06-13T10:24:22.718Z"
   },
   {
    "duration": 29,
    "start_time": "2024-06-13T10:24:22.727Z"
   },
   {
    "duration": 2,
    "start_time": "2024-06-13T10:24:22.757Z"
   },
   {
    "duration": 11,
    "start_time": "2024-06-13T10:24:22.761Z"
   },
   {
    "duration": 8,
    "start_time": "2024-06-13T10:24:22.773Z"
   },
   {
    "duration": 77,
    "start_time": "2024-06-13T10:24:22.783Z"
   },
   {
    "duration": 3,
    "start_time": "2024-06-13T10:24:22.862Z"
   },
   {
    "duration": 11654,
    "start_time": "2024-06-13T10:24:22.866Z"
   },
   {
    "duration": 2403,
    "start_time": "2024-06-13T10:33:01.147Z"
   },
   {
    "duration": 311,
    "start_time": "2024-06-13T10:33:03.553Z"
   },
   {
    "duration": 338,
    "start_time": "2024-06-13T10:33:03.865Z"
   },
   {
    "duration": 38,
    "start_time": "2024-06-13T10:33:04.205Z"
   },
   {
    "duration": 8,
    "start_time": "2024-06-13T10:33:04.245Z"
   },
   {
    "duration": 32,
    "start_time": "2024-06-13T10:33:04.254Z"
   },
   {
    "duration": 2,
    "start_time": "2024-06-13T10:33:04.288Z"
   },
   {
    "duration": 2,
    "start_time": "2024-06-13T10:33:04.301Z"
   },
   {
    "duration": 5,
    "start_time": "2024-06-13T10:33:04.304Z"
   },
   {
    "duration": 69,
    "start_time": "2024-06-13T10:33:04.310Z"
   },
   {
    "duration": 2,
    "start_time": "2024-06-13T10:33:04.380Z"
   },
   {
    "duration": 5,
    "start_time": "2024-06-13T10:33:04.383Z"
   },
   {
    "duration": 70,
    "start_time": "2024-06-13T10:33:04.402Z"
   },
   {
    "duration": 0,
    "start_time": "2024-06-13T10:33:04.473Z"
   },
   {
    "duration": 0,
    "start_time": "2024-06-13T10:33:04.474Z"
   },
   {
    "duration": 0,
    "start_time": "2024-06-13T10:33:04.475Z"
   },
   {
    "duration": 0,
    "start_time": "2024-06-13T10:33:04.476Z"
   },
   {
    "duration": 0,
    "start_time": "2024-06-13T10:33:04.477Z"
   },
   {
    "duration": 0,
    "start_time": "2024-06-13T10:33:04.478Z"
   },
   {
    "duration": 2432,
    "start_time": "2024-06-13T10:33:52.523Z"
   },
   {
    "duration": 840,
    "start_time": "2024-06-13T10:33:54.957Z"
   },
   {
    "duration": 341,
    "start_time": "2024-06-13T10:33:55.799Z"
   },
   {
    "duration": 39,
    "start_time": "2024-06-13T10:33:56.141Z"
   },
   {
    "duration": 8,
    "start_time": "2024-06-13T10:33:56.182Z"
   },
   {
    "duration": 34,
    "start_time": "2024-06-13T10:33:56.191Z"
   },
   {
    "duration": 3,
    "start_time": "2024-06-13T10:33:56.226Z"
   },
   {
    "duration": 10,
    "start_time": "2024-06-13T10:33:56.230Z"
   },
   {
    "duration": 6,
    "start_time": "2024-06-13T10:33:56.241Z"
   },
   {
    "duration": 69,
    "start_time": "2024-06-13T10:33:56.248Z"
   },
   {
    "duration": 2,
    "start_time": "2024-06-13T10:33:56.318Z"
   },
   {
    "duration": 10,
    "start_time": "2024-06-13T10:33:56.321Z"
   },
   {
    "duration": 87,
    "start_time": "2024-06-13T10:33:56.332Z"
   },
   {
    "duration": 0,
    "start_time": "2024-06-13T10:33:56.421Z"
   },
   {
    "duration": 0,
    "start_time": "2024-06-13T10:33:56.422Z"
   },
   {
    "duration": 0,
    "start_time": "2024-06-13T10:33:56.422Z"
   },
   {
    "duration": 0,
    "start_time": "2024-06-13T10:33:56.423Z"
   },
   {
    "duration": 0,
    "start_time": "2024-06-13T10:33:56.424Z"
   },
   {
    "duration": 0,
    "start_time": "2024-06-13T10:33:56.425Z"
   },
   {
    "duration": 2459,
    "start_time": "2024-06-13T10:34:26.659Z"
   },
   {
    "duration": 945,
    "start_time": "2024-06-13T10:34:29.121Z"
   },
   {
    "duration": 477,
    "start_time": "2024-06-13T10:34:30.068Z"
   },
   {
    "duration": 41,
    "start_time": "2024-06-13T10:34:30.547Z"
   },
   {
    "duration": 40,
    "start_time": "2024-06-13T10:34:30.590Z"
   },
   {
    "duration": 68,
    "start_time": "2024-06-13T10:34:30.631Z"
   },
   {
    "duration": 17,
    "start_time": "2024-06-13T10:34:30.701Z"
   },
   {
    "duration": 45,
    "start_time": "2024-06-13T10:34:30.719Z"
   },
   {
    "duration": 36,
    "start_time": "2024-06-13T10:34:30.765Z"
   },
   {
    "duration": 131,
    "start_time": "2024-06-13T10:34:30.803Z"
   },
   {
    "duration": 2,
    "start_time": "2024-06-13T10:34:30.936Z"
   },
   {
    "duration": 49,
    "start_time": "2024-06-13T10:34:30.939Z"
   },
   {
    "duration": 129,
    "start_time": "2024-06-13T10:34:30.989Z"
   },
   {
    "duration": 0,
    "start_time": "2024-06-13T10:34:31.119Z"
   },
   {
    "duration": 0,
    "start_time": "2024-06-13T10:34:31.120Z"
   },
   {
    "duration": 0,
    "start_time": "2024-06-13T10:34:31.121Z"
   },
   {
    "duration": 0,
    "start_time": "2024-06-13T10:34:31.122Z"
   },
   {
    "duration": 0,
    "start_time": "2024-06-13T10:34:31.123Z"
   },
   {
    "duration": 0,
    "start_time": "2024-06-13T10:34:31.124Z"
   },
   {
    "duration": 2448,
    "start_time": "2024-06-13T10:35:04.752Z"
   },
   {
    "duration": 972,
    "start_time": "2024-06-13T10:35:07.202Z"
   },
   {
    "duration": 408,
    "start_time": "2024-06-13T10:35:08.176Z"
   },
   {
    "duration": 40,
    "start_time": "2024-06-13T10:35:08.586Z"
   },
   {
    "duration": 8,
    "start_time": "2024-06-13T10:35:08.627Z"
   },
   {
    "duration": 30,
    "start_time": "2024-06-13T10:35:08.636Z"
   },
   {
    "duration": 11,
    "start_time": "2024-06-13T10:35:08.667Z"
   },
   {
    "duration": 13,
    "start_time": "2024-06-13T10:35:08.679Z"
   },
   {
    "duration": 13,
    "start_time": "2024-06-13T10:35:08.693Z"
   },
   {
    "duration": 64,
    "start_time": "2024-06-13T10:35:08.708Z"
   },
   {
    "duration": 2,
    "start_time": "2024-06-13T10:35:08.773Z"
   },
   {
    "duration": 19,
    "start_time": "2024-06-13T10:35:08.776Z"
   },
   {
    "duration": 8,
    "start_time": "2024-06-13T10:35:08.796Z"
   },
   {
    "duration": 97,
    "start_time": "2024-06-13T10:35:08.805Z"
   },
   {
    "duration": 0,
    "start_time": "2024-06-13T10:35:08.903Z"
   },
   {
    "duration": 0,
    "start_time": "2024-06-13T10:35:08.904Z"
   },
   {
    "duration": 1,
    "start_time": "2024-06-13T10:35:08.904Z"
   },
   {
    "duration": 0,
    "start_time": "2024-06-13T10:35:08.905Z"
   },
   {
    "duration": 0,
    "start_time": "2024-06-13T10:35:08.906Z"
   },
   {
    "duration": 2453,
    "start_time": "2024-06-13T10:35:48.536Z"
   },
   {
    "duration": 960,
    "start_time": "2024-06-13T10:35:50.991Z"
   },
   {
    "duration": 390,
    "start_time": "2024-06-13T10:35:51.953Z"
   },
   {
    "duration": 41,
    "start_time": "2024-06-13T10:35:52.345Z"
   },
   {
    "duration": 7,
    "start_time": "2024-06-13T10:35:52.388Z"
   },
   {
    "duration": 74,
    "start_time": "2024-06-13T10:35:52.396Z"
   },
   {
    "duration": 3,
    "start_time": "2024-06-13T10:35:52.471Z"
   },
   {
    "duration": 15,
    "start_time": "2024-06-13T10:35:52.476Z"
   },
   {
    "duration": 14,
    "start_time": "2024-06-13T10:35:52.493Z"
   },
   {
    "duration": 75,
    "start_time": "2024-06-13T10:35:52.509Z"
   },
   {
    "duration": 3,
    "start_time": "2024-06-13T10:35:52.585Z"
   },
   {
    "duration": 24,
    "start_time": "2024-06-13T10:35:52.589Z"
   },
   {
    "duration": 28,
    "start_time": "2024-06-13T10:35:52.615Z"
   },
   {
    "duration": 4,
    "start_time": "2024-06-13T10:35:52.644Z"
   },
   {
    "duration": 92,
    "start_time": "2024-06-13T10:35:52.650Z"
   },
   {
    "duration": 0,
    "start_time": "2024-06-13T10:35:52.743Z"
   },
   {
    "duration": 0,
    "start_time": "2024-06-13T10:35:52.744Z"
   },
   {
    "duration": 0,
    "start_time": "2024-06-13T10:35:52.746Z"
   },
   {
    "duration": 0,
    "start_time": "2024-06-13T10:35:52.747Z"
   },
   {
    "duration": 2430,
    "start_time": "2024-06-13T10:36:39.364Z"
   },
   {
    "duration": 960,
    "start_time": "2024-06-13T10:36:41.796Z"
   },
   {
    "duration": 346,
    "start_time": "2024-06-13T10:36:42.757Z"
   },
   {
    "duration": 40,
    "start_time": "2024-06-13T10:36:43.105Z"
   },
   {
    "duration": 8,
    "start_time": "2024-06-13T10:36:43.146Z"
   },
   {
    "duration": 40,
    "start_time": "2024-06-13T10:36:43.156Z"
   },
   {
    "duration": 5,
    "start_time": "2024-06-13T10:36:43.197Z"
   },
   {
    "duration": 22,
    "start_time": "2024-06-13T10:36:43.203Z"
   },
   {
    "duration": 16,
    "start_time": "2024-06-13T10:36:43.226Z"
   },
   {
    "duration": 94,
    "start_time": "2024-06-13T10:36:43.244Z"
   },
   {
    "duration": 2,
    "start_time": "2024-06-13T10:36:43.340Z"
   },
   {
    "duration": 13,
    "start_time": "2024-06-13T10:36:43.343Z"
   },
   {
    "duration": 16,
    "start_time": "2024-06-13T10:36:43.357Z"
   },
   {
    "duration": 8,
    "start_time": "2024-06-13T10:36:43.374Z"
   },
   {
    "duration": 13,
    "start_time": "2024-06-13T10:36:43.383Z"
   },
   {
    "duration": 6,
    "start_time": "2024-06-13T10:36:43.397Z"
   },
   {
    "duration": 13,
    "start_time": "2024-06-13T10:36:43.404Z"
   },
   {
    "duration": 17,
    "start_time": "2024-06-13T10:36:43.418Z"
   },
   {
    "duration": 2140,
    "start_time": "2024-06-13T10:36:43.436Z"
   },
   {
    "duration": 6,
    "start_time": "2024-06-13T10:37:27.415Z"
   },
   {
    "duration": 2413,
    "start_time": "2024-06-13T10:37:36.896Z"
   },
   {
    "duration": 950,
    "start_time": "2024-06-13T10:37:39.311Z"
   },
   {
    "duration": 393,
    "start_time": "2024-06-13T10:37:40.262Z"
   },
   {
    "duration": 41,
    "start_time": "2024-06-13T10:37:40.656Z"
   },
   {
    "duration": 8,
    "start_time": "2024-06-13T10:37:40.698Z"
   },
   {
    "duration": 26,
    "start_time": "2024-06-13T10:37:40.708Z"
   },
   {
    "duration": 2,
    "start_time": "2024-06-13T10:37:40.735Z"
   },
   {
    "duration": 4,
    "start_time": "2024-06-13T10:37:40.738Z"
   },
   {
    "duration": 4,
    "start_time": "2024-06-13T10:37:40.743Z"
   },
   {
    "duration": 74,
    "start_time": "2024-06-13T10:37:40.749Z"
   },
   {
    "duration": 2,
    "start_time": "2024-06-13T10:37:40.824Z"
   },
   {
    "duration": 4,
    "start_time": "2024-06-13T10:37:40.828Z"
   },
   {
    "duration": 12,
    "start_time": "2024-06-13T10:37:40.834Z"
   },
   {
    "duration": 5,
    "start_time": "2024-06-13T10:37:40.847Z"
   },
   {
    "duration": 8,
    "start_time": "2024-06-13T10:37:40.853Z"
   },
   {
    "duration": 8,
    "start_time": "2024-06-13T10:37:40.862Z"
   },
   {
    "duration": 11,
    "start_time": "2024-06-13T10:37:40.871Z"
   },
   {
    "duration": 8,
    "start_time": "2024-06-13T10:37:40.883Z"
   },
   {
    "duration": 92,
    "start_time": "2024-06-13T10:37:40.892Z"
   },
   {
    "duration": 0,
    "start_time": "2024-06-13T10:37:40.986Z"
   },
   {
    "duration": 2449,
    "start_time": "2024-06-13T10:39:08.439Z"
   },
   {
    "duration": 986,
    "start_time": "2024-06-13T10:39:10.890Z"
   },
   {
    "duration": 343,
    "start_time": "2024-06-13T10:39:11.878Z"
   },
   {
    "duration": 39,
    "start_time": "2024-06-13T10:39:12.223Z"
   },
   {
    "duration": 26,
    "start_time": "2024-06-13T10:39:12.263Z"
   },
   {
    "duration": 2,
    "start_time": "2024-06-13T10:39:12.291Z"
   },
   {
    "duration": 10,
    "start_time": "2024-06-13T10:39:12.301Z"
   },
   {
    "duration": 14,
    "start_time": "2024-06-13T10:39:12.312Z"
   },
   {
    "duration": 76,
    "start_time": "2024-06-13T10:39:12.327Z"
   },
   {
    "duration": 112,
    "start_time": "2024-06-13T10:39:12.405Z"
   },
   {
    "duration": 0,
    "start_time": "2024-06-13T10:39:12.518Z"
   },
   {
    "duration": 0,
    "start_time": "2024-06-13T10:39:12.519Z"
   },
   {
    "duration": 0,
    "start_time": "2024-06-13T10:39:12.520Z"
   },
   {
    "duration": 0,
    "start_time": "2024-06-13T10:39:12.522Z"
   },
   {
    "duration": 0,
    "start_time": "2024-06-13T10:39:12.523Z"
   },
   {
    "duration": 0,
    "start_time": "2024-06-13T10:39:12.524Z"
   },
   {
    "duration": 0,
    "start_time": "2024-06-13T10:39:12.525Z"
   },
   {
    "duration": 0,
    "start_time": "2024-06-13T10:39:12.526Z"
   },
   {
    "duration": 0,
    "start_time": "2024-06-13T10:39:12.528Z"
   },
   {
    "duration": 0,
    "start_time": "2024-06-13T10:39:12.529Z"
   },
   {
    "duration": 2390,
    "start_time": "2024-06-13T10:42:26.930Z"
   },
   {
    "duration": 934,
    "start_time": "2024-06-13T10:42:29.321Z"
   },
   {
    "duration": 397,
    "start_time": "2024-06-13T10:42:30.257Z"
   },
   {
    "duration": 46,
    "start_time": "2024-06-13T10:42:30.655Z"
   },
   {
    "duration": 51,
    "start_time": "2024-06-13T10:42:30.703Z"
   },
   {
    "duration": 36,
    "start_time": "2024-06-13T10:42:30.756Z"
   },
   {
    "duration": 38,
    "start_time": "2024-06-13T10:42:30.793Z"
   },
   {
    "duration": 44,
    "start_time": "2024-06-13T10:42:30.833Z"
   },
   {
    "duration": 197,
    "start_time": "2024-06-13T10:42:30.879Z"
   },
   {
    "duration": 5,
    "start_time": "2024-06-13T10:42:31.079Z"
   },
   {
    "duration": 83,
    "start_time": "2024-06-13T10:42:31.085Z"
   },
   {
    "duration": 58,
    "start_time": "2024-06-13T10:42:31.170Z"
   },
   {
    "duration": 54,
    "start_time": "2024-06-13T10:42:31.229Z"
   },
   {
    "duration": 44,
    "start_time": "2024-06-13T10:42:31.284Z"
   },
   {
    "duration": 144,
    "start_time": "2024-06-13T10:42:31.329Z"
   },
   {
    "duration": 77,
    "start_time": "2024-06-13T10:42:31.474Z"
   },
   {
    "duration": 22,
    "start_time": "2024-06-13T10:42:31.552Z"
   },
   {
    "duration": 219,
    "start_time": "2024-06-13T10:42:31.575Z"
   },
   {
    "duration": 74,
    "start_time": "2024-06-13T10:42:31.795Z"
   },
   {
    "duration": 2225,
    "start_time": "2024-06-13T10:42:31.870Z"
   },
   {
    "duration": 226,
    "start_time": "2024-06-13T10:45:38.653Z"
   },
   {
    "duration": 2103,
    "start_time": "2024-06-13T10:45:39.598Z"
   },
   {
    "duration": 2420,
    "start_time": "2024-06-13T10:46:32.598Z"
   },
   {
    "duration": 944,
    "start_time": "2024-06-13T10:46:35.020Z"
   },
   {
    "duration": 359,
    "start_time": "2024-06-13T10:46:35.965Z"
   },
   {
    "duration": 42,
    "start_time": "2024-06-13T10:46:36.325Z"
   },
   {
    "duration": 31,
    "start_time": "2024-06-13T10:46:36.370Z"
   },
   {
    "duration": 3,
    "start_time": "2024-06-13T10:46:36.404Z"
   },
   {
    "duration": 10,
    "start_time": "2024-06-13T10:46:36.408Z"
   },
   {
    "duration": 81,
    "start_time": "2024-06-13T10:46:36.420Z"
   },
   {
    "duration": 84,
    "start_time": "2024-06-13T10:46:36.502Z"
   },
   {
    "duration": 6,
    "start_time": "2024-06-13T10:46:36.587Z"
   },
   {
    "duration": 4,
    "start_time": "2024-06-13T10:46:36.594Z"
   },
   {
    "duration": 2,
    "start_time": "2024-06-13T10:46:36.602Z"
   },
   {
    "duration": 15,
    "start_time": "2024-06-13T10:46:36.605Z"
   },
   {
    "duration": 27,
    "start_time": "2024-06-13T10:46:36.622Z"
   },
   {
    "duration": 9,
    "start_time": "2024-06-13T10:46:36.650Z"
   },
   {
    "duration": 11,
    "start_time": "2024-06-13T10:46:36.660Z"
   },
   {
    "duration": 5,
    "start_time": "2024-06-13T10:46:36.673Z"
   },
   {
    "duration": 12,
    "start_time": "2024-06-13T10:46:36.680Z"
   },
   {
    "duration": 9,
    "start_time": "2024-06-13T10:46:36.693Z"
   },
   {
    "duration": 338,
    "start_time": "2024-06-13T10:46:36.704Z"
   },
   {
    "duration": 0,
    "start_time": "2024-06-13T10:46:37.043Z"
   },
   {
    "duration": 2460,
    "start_time": "2024-06-13T10:46:52.018Z"
   },
   {
    "duration": 941,
    "start_time": "2024-06-13T10:46:54.480Z"
   },
   {
    "duration": 321,
    "start_time": "2024-06-13T10:46:55.423Z"
   },
   {
    "duration": 54,
    "start_time": "2024-06-13T10:46:55.745Z"
   },
   {
    "duration": 25,
    "start_time": "2024-06-13T10:46:55.801Z"
   },
   {
    "duration": 2,
    "start_time": "2024-06-13T10:46:55.828Z"
   },
   {
    "duration": 3,
    "start_time": "2024-06-13T10:46:55.832Z"
   },
   {
    "duration": 15,
    "start_time": "2024-06-13T10:46:55.836Z"
   },
   {
    "duration": 92,
    "start_time": "2024-06-13T10:46:55.852Z"
   },
   {
    "duration": 6,
    "start_time": "2024-06-13T10:46:55.946Z"
   },
   {
    "duration": 7,
    "start_time": "2024-06-13T10:46:55.953Z"
   },
   {
    "duration": 27,
    "start_time": "2024-06-13T10:46:55.961Z"
   },
   {
    "duration": 14,
    "start_time": "2024-06-13T10:46:55.989Z"
   },
   {
    "duration": 9,
    "start_time": "2024-06-13T10:46:56.006Z"
   },
   {
    "duration": 7,
    "start_time": "2024-06-13T10:46:56.016Z"
   },
   {
    "duration": 5,
    "start_time": "2024-06-13T10:46:56.024Z"
   },
   {
    "duration": 6,
    "start_time": "2024-06-13T10:46:56.030Z"
   },
   {
    "duration": 22,
    "start_time": "2024-06-13T10:46:56.037Z"
   },
   {
    "duration": 10,
    "start_time": "2024-06-13T10:46:56.060Z"
   },
   {
    "duration": 246,
    "start_time": "2024-06-13T10:46:56.071Z"
   },
   {
    "duration": 637,
    "start_time": "2024-06-13T10:46:56.319Z"
   },
   {
    "duration": 7,
    "start_time": "2024-06-13T10:52:01.493Z"
   },
   {
    "duration": 618,
    "start_time": "2024-06-13T10:52:02.042Z"
   },
   {
    "duration": 8,
    "start_time": "2024-06-13T10:54:51.209Z"
   },
   {
    "duration": 2428,
    "start_time": "2024-06-13T10:54:55.945Z"
   },
   {
    "duration": 904,
    "start_time": "2024-06-13T10:54:58.375Z"
   },
   {
    "duration": 389,
    "start_time": "2024-06-13T10:54:59.281Z"
   },
   {
    "duration": 41,
    "start_time": "2024-06-13T10:54:59.672Z"
   },
   {
    "duration": 26,
    "start_time": "2024-06-13T10:54:59.715Z"
   },
   {
    "duration": 4,
    "start_time": "2024-06-13T10:54:59.743Z"
   },
   {
    "duration": 12,
    "start_time": "2024-06-13T10:54:59.749Z"
   },
   {
    "duration": 5,
    "start_time": "2024-06-13T10:54:59.762Z"
   },
   {
    "duration": 76,
    "start_time": "2024-06-13T10:54:59.768Z"
   },
   {
    "duration": 7,
    "start_time": "2024-06-13T10:54:59.846Z"
   },
   {
    "duration": 4,
    "start_time": "2024-06-13T10:54:59.854Z"
   },
   {
    "duration": 3,
    "start_time": "2024-06-13T10:54:59.859Z"
   },
   {
    "duration": 8,
    "start_time": "2024-06-13T10:54:59.863Z"
   },
   {
    "duration": 9,
    "start_time": "2024-06-13T10:54:59.872Z"
   },
   {
    "duration": 7,
    "start_time": "2024-06-13T10:54:59.882Z"
   },
   {
    "duration": 6,
    "start_time": "2024-06-13T10:54:59.890Z"
   },
   {
    "duration": 4,
    "start_time": "2024-06-13T10:54:59.901Z"
   },
   {
    "duration": 38,
    "start_time": "2024-06-13T10:54:59.906Z"
   },
   {
    "duration": 22,
    "start_time": "2024-06-13T10:54:59.946Z"
   },
   {
    "duration": 2229,
    "start_time": "2024-06-13T10:54:59.970Z"
   },
   {
    "duration": 2539,
    "start_time": "2024-06-13T10:58:18.322Z"
   },
   {
    "duration": 900,
    "start_time": "2024-06-13T10:58:20.863Z"
   },
   {
    "duration": 431,
    "start_time": "2024-06-13T10:58:21.765Z"
   },
   {
    "duration": 41,
    "start_time": "2024-06-13T10:58:22.199Z"
   },
   {
    "duration": 103,
    "start_time": "2024-06-13T10:58:22.241Z"
   },
   {
    "duration": 3,
    "start_time": "2024-06-13T10:58:22.345Z"
   },
   {
    "duration": 9,
    "start_time": "2024-06-13T10:58:22.349Z"
   },
   {
    "duration": 7,
    "start_time": "2024-06-13T10:58:22.359Z"
   },
   {
    "duration": 106,
    "start_time": "2024-06-13T10:58:22.367Z"
   },
   {
    "duration": 7,
    "start_time": "2024-06-13T10:58:22.475Z"
   },
   {
    "duration": 69,
    "start_time": "2024-06-13T10:58:22.483Z"
   },
   {
    "duration": 63,
    "start_time": "2024-06-13T10:58:22.554Z"
   },
   {
    "duration": 10,
    "start_time": "2024-06-13T10:58:22.618Z"
   },
   {
    "duration": 111,
    "start_time": "2024-06-13T10:58:22.629Z"
   },
   {
    "duration": 0,
    "start_time": "2024-06-13T10:58:22.742Z"
   },
   {
    "duration": 0,
    "start_time": "2024-06-13T10:58:22.743Z"
   },
   {
    "duration": 0,
    "start_time": "2024-06-13T10:58:22.744Z"
   },
   {
    "duration": 0,
    "start_time": "2024-06-13T10:58:22.746Z"
   },
   {
    "duration": 0,
    "start_time": "2024-06-13T10:58:22.747Z"
   },
   {
    "duration": 0,
    "start_time": "2024-06-13T10:58:22.748Z"
   },
   {
    "duration": 2467,
    "start_time": "2024-06-13T10:59:04.286Z"
   },
   {
    "duration": 904,
    "start_time": "2024-06-13T10:59:06.755Z"
   },
   {
    "duration": 346,
    "start_time": "2024-06-13T10:59:07.660Z"
   },
   {
    "duration": 42,
    "start_time": "2024-06-13T10:59:08.008Z"
   },
   {
    "duration": 28,
    "start_time": "2024-06-13T10:59:08.052Z"
   },
   {
    "duration": 3,
    "start_time": "2024-06-13T10:59:08.081Z"
   },
   {
    "duration": 20,
    "start_time": "2024-06-13T10:59:08.085Z"
   },
   {
    "duration": 34,
    "start_time": "2024-06-13T10:59:08.106Z"
   },
   {
    "duration": 135,
    "start_time": "2024-06-13T10:59:08.142Z"
   },
   {
    "duration": 8,
    "start_time": "2024-06-13T10:59:08.280Z"
   },
   {
    "duration": 19,
    "start_time": "2024-06-13T10:59:08.289Z"
   },
   {
    "duration": 17,
    "start_time": "2024-06-13T10:59:08.310Z"
   },
   {
    "duration": 8,
    "start_time": "2024-06-13T10:59:08.329Z"
   },
   {
    "duration": 57,
    "start_time": "2024-06-13T10:59:08.338Z"
   },
   {
    "duration": 3,
    "start_time": "2024-06-13T10:59:08.396Z"
   },
   {
    "duration": 14,
    "start_time": "2024-06-13T10:59:08.400Z"
   },
   {
    "duration": 21,
    "start_time": "2024-06-13T10:59:08.415Z"
   },
   {
    "duration": 6,
    "start_time": "2024-06-13T10:59:08.437Z"
   },
   {
    "duration": 9,
    "start_time": "2024-06-13T10:59:08.444Z"
   },
   {
    "duration": 4582,
    "start_time": "2024-06-13T10:59:08.454Z"
   },
   {
    "duration": 2470,
    "start_time": "2024-06-13T11:00:41.259Z"
   },
   {
    "duration": 961,
    "start_time": "2024-06-13T11:00:43.730Z"
   },
   {
    "duration": 414,
    "start_time": "2024-06-13T11:00:44.693Z"
   },
   {
    "duration": 63,
    "start_time": "2024-06-13T11:00:45.110Z"
   },
   {
    "duration": 74,
    "start_time": "2024-06-13T11:00:45.175Z"
   },
   {
    "duration": 16,
    "start_time": "2024-06-13T11:00:45.250Z"
   },
   {
    "duration": 35,
    "start_time": "2024-06-13T11:00:45.268Z"
   },
   {
    "duration": 25,
    "start_time": "2024-06-13T11:00:45.305Z"
   },
   {
    "duration": 75,
    "start_time": "2024-06-13T11:00:45.331Z"
   },
   {
    "duration": 10,
    "start_time": "2024-06-13T11:00:45.409Z"
   },
   {
    "duration": 23,
    "start_time": "2024-06-13T11:00:45.420Z"
   },
   {
    "duration": 4,
    "start_time": "2024-06-13T11:00:45.444Z"
   },
   {
    "duration": 8,
    "start_time": "2024-06-13T11:00:45.450Z"
   },
   {
    "duration": 44,
    "start_time": "2024-06-13T11:00:45.459Z"
   },
   {
    "duration": 4,
    "start_time": "2024-06-13T11:00:45.505Z"
   },
   {
    "duration": 12,
    "start_time": "2024-06-13T11:00:45.510Z"
   },
   {
    "duration": 23,
    "start_time": "2024-06-13T11:00:45.524Z"
   },
   {
    "duration": 24,
    "start_time": "2024-06-13T11:00:45.548Z"
   },
   {
    "duration": 11,
    "start_time": "2024-06-13T11:00:45.573Z"
   },
   {
    "duration": 2162,
    "start_time": "2024-06-13T11:00:45.586Z"
   },
   {
    "duration": 24,
    "start_time": "2024-06-13T11:02:20.732Z"
   },
   {
    "duration": 3,
    "start_time": "2024-06-13T11:02:21.003Z"
   },
   {
    "duration": 3,
    "start_time": "2024-06-13T11:02:21.269Z"
   },
   {
    "duration": 4,
    "start_time": "2024-06-13T11:02:21.533Z"
   },
   {
    "duration": 3,
    "start_time": "2024-06-13T11:02:21.797Z"
   },
   {
    "duration": 4,
    "start_time": "2024-06-13T11:02:22.075Z"
   },
   {
    "duration": 2068,
    "start_time": "2024-06-13T11:02:22.381Z"
   },
   {
    "duration": 2523,
    "start_time": "2024-06-13T11:02:27.326Z"
   },
   {
    "duration": 944,
    "start_time": "2024-06-13T11:02:29.851Z"
   },
   {
    "duration": 405,
    "start_time": "2024-06-13T11:02:30.797Z"
   },
   {
    "duration": 55,
    "start_time": "2024-06-13T11:02:31.204Z"
   },
   {
    "duration": 95,
    "start_time": "2024-06-13T11:02:31.260Z"
   },
   {
    "duration": 64,
    "start_time": "2024-06-13T11:02:31.357Z"
   },
   {
    "duration": 46,
    "start_time": "2024-06-13T11:02:31.422Z"
   },
   {
    "duration": 47,
    "start_time": "2024-06-13T11:02:31.469Z"
   },
   {
    "duration": 116,
    "start_time": "2024-06-13T11:02:31.517Z"
   },
   {
    "duration": 7,
    "start_time": "2024-06-13T11:02:31.636Z"
   },
   {
    "duration": 35,
    "start_time": "2024-06-13T11:02:31.644Z"
   },
   {
    "duration": 32,
    "start_time": "2024-06-13T11:02:31.680Z"
   },
   {
    "duration": 22,
    "start_time": "2024-06-13T11:02:31.714Z"
   },
   {
    "duration": 68,
    "start_time": "2024-06-13T11:02:31.738Z"
   },
   {
    "duration": 31,
    "start_time": "2024-06-13T11:02:31.807Z"
   },
   {
    "duration": 37,
    "start_time": "2024-06-13T11:02:31.839Z"
   },
   {
    "duration": 36,
    "start_time": "2024-06-13T11:02:31.877Z"
   },
   {
    "duration": 30,
    "start_time": "2024-06-13T11:02:31.914Z"
   },
   {
    "duration": 28,
    "start_time": "2024-06-13T11:02:31.946Z"
   },
   {
    "duration": 2474,
    "start_time": "2024-06-13T11:02:31.976Z"
   },
   {
    "duration": 2501,
    "start_time": "2024-06-13T11:03:30.036Z"
   },
   {
    "duration": 931,
    "start_time": "2024-06-13T11:03:32.539Z"
   },
   {
    "duration": 317,
    "start_time": "2024-06-13T11:03:33.472Z"
   },
   {
    "duration": 40,
    "start_time": "2024-06-13T11:03:33.791Z"
   },
   {
    "duration": 28,
    "start_time": "2024-06-13T11:03:33.832Z"
   },
   {
    "duration": 2,
    "start_time": "2024-06-13T11:03:33.862Z"
   },
   {
    "duration": 11,
    "start_time": "2024-06-13T11:03:33.865Z"
   },
   {
    "duration": 5,
    "start_time": "2024-06-13T11:03:33.877Z"
   },
   {
    "duration": 75,
    "start_time": "2024-06-13T11:03:33.883Z"
   },
   {
    "duration": 7,
    "start_time": "2024-06-13T11:03:33.960Z"
   },
   {
    "duration": 9,
    "start_time": "2024-06-13T11:03:33.968Z"
   },
   {
    "duration": 14,
    "start_time": "2024-06-13T11:03:33.978Z"
   },
   {
    "duration": 23,
    "start_time": "2024-06-13T11:03:33.993Z"
   },
   {
    "duration": 24,
    "start_time": "2024-06-13T11:03:34.017Z"
   },
   {
    "duration": 94,
    "start_time": "2024-06-13T11:03:34.043Z"
   },
   {
    "duration": 0,
    "start_time": "2024-06-13T11:03:34.138Z"
   },
   {
    "duration": 0,
    "start_time": "2024-06-13T11:03:34.139Z"
   },
   {
    "duration": 0,
    "start_time": "2024-06-13T11:03:34.140Z"
   },
   {
    "duration": 0,
    "start_time": "2024-06-13T11:03:34.141Z"
   },
   {
    "duration": 0,
    "start_time": "2024-06-13T11:03:34.143Z"
   },
   {
    "duration": 2553,
    "start_time": "2024-06-13T11:04:03.280Z"
   },
   {
    "duration": 947,
    "start_time": "2024-06-13T11:04:05.836Z"
   },
   {
    "duration": 321,
    "start_time": "2024-06-13T11:04:06.785Z"
   },
   {
    "duration": 40,
    "start_time": "2024-06-13T11:04:07.108Z"
   },
   {
    "duration": 29,
    "start_time": "2024-06-13T11:04:07.149Z"
   },
   {
    "duration": 3,
    "start_time": "2024-06-13T11:04:07.179Z"
   },
   {
    "duration": 19,
    "start_time": "2024-06-13T11:04:07.183Z"
   },
   {
    "duration": 62,
    "start_time": "2024-06-13T11:04:07.204Z"
   },
   {
    "duration": 86,
    "start_time": "2024-06-13T11:04:07.267Z"
   },
   {
    "duration": 8,
    "start_time": "2024-06-13T11:04:07.355Z"
   },
   {
    "duration": 11,
    "start_time": "2024-06-13T11:04:07.364Z"
   },
   {
    "duration": 7,
    "start_time": "2024-06-13T11:04:07.377Z"
   },
   {
    "duration": 16,
    "start_time": "2024-06-13T11:04:07.385Z"
   },
   {
    "duration": 35,
    "start_time": "2024-06-13T11:04:07.403Z"
   },
   {
    "duration": 3,
    "start_time": "2024-06-13T11:04:07.440Z"
   },
   {
    "duration": 7,
    "start_time": "2024-06-13T11:04:07.445Z"
   },
   {
    "duration": 10,
    "start_time": "2024-06-13T11:04:07.453Z"
   },
   {
    "duration": 8,
    "start_time": "2024-06-13T11:04:07.464Z"
   },
   {
    "duration": 19,
    "start_time": "2024-06-13T11:04:07.473Z"
   },
   {
    "duration": 2306,
    "start_time": "2024-06-13T11:04:07.493Z"
   },
   {
    "duration": 2493,
    "start_time": "2024-06-13T11:05:45.619Z"
   },
   {
    "duration": 942,
    "start_time": "2024-06-13T11:05:48.115Z"
   },
   {
    "duration": 391,
    "start_time": "2024-06-13T11:05:49.059Z"
   },
   {
    "duration": 40,
    "start_time": "2024-06-13T11:05:49.451Z"
   },
   {
    "duration": 27,
    "start_time": "2024-06-13T11:05:49.493Z"
   },
   {
    "duration": 3,
    "start_time": "2024-06-13T11:05:49.521Z"
   },
   {
    "duration": 4,
    "start_time": "2024-06-13T11:05:49.525Z"
   },
   {
    "duration": 6,
    "start_time": "2024-06-13T11:05:49.531Z"
   },
   {
    "duration": 78,
    "start_time": "2024-06-13T11:05:49.538Z"
   },
   {
    "duration": 7,
    "start_time": "2024-06-13T11:05:49.617Z"
   },
   {
    "duration": 36,
    "start_time": "2024-06-13T11:05:49.626Z"
   },
   {
    "duration": 3,
    "start_time": "2024-06-13T11:05:49.663Z"
   },
   {
    "duration": 9,
    "start_time": "2024-06-13T11:05:49.667Z"
   },
   {
    "duration": 7,
    "start_time": "2024-06-13T11:05:49.678Z"
   },
   {
    "duration": 41,
    "start_time": "2024-06-13T11:05:49.686Z"
   },
   {
    "duration": 27,
    "start_time": "2024-06-13T11:05:49.728Z"
   },
   {
    "duration": 11,
    "start_time": "2024-06-13T11:05:49.756Z"
   },
   {
    "duration": 13,
    "start_time": "2024-06-13T11:05:49.768Z"
   },
   {
    "duration": 25,
    "start_time": "2024-06-13T11:05:49.782Z"
   },
   {
    "duration": 40,
    "start_time": "2024-06-13T11:05:49.808Z"
   },
   {
    "duration": 2115,
    "start_time": "2024-06-13T11:05:49.850Z"
   },
   {
    "duration": 2496,
    "start_time": "2024-06-13T11:06:47.506Z"
   },
   {
    "duration": 959,
    "start_time": "2024-06-13T11:06:50.004Z"
   },
   {
    "duration": 344,
    "start_time": "2024-06-13T11:06:50.965Z"
   },
   {
    "duration": 39,
    "start_time": "2024-06-13T11:06:51.311Z"
   },
   {
    "duration": 26,
    "start_time": "2024-06-13T11:06:51.352Z"
   },
   {
    "duration": 3,
    "start_time": "2024-06-13T11:06:51.379Z"
   },
   {
    "duration": 53,
    "start_time": "2024-06-13T11:06:51.383Z"
   },
   {
    "duration": 15,
    "start_time": "2024-06-13T11:06:51.438Z"
   },
   {
    "duration": 71,
    "start_time": "2024-06-13T11:06:51.454Z"
   },
   {
    "duration": 7,
    "start_time": "2024-06-13T11:06:51.527Z"
   },
   {
    "duration": 67,
    "start_time": "2024-06-13T11:06:51.535Z"
   },
   {
    "duration": 21,
    "start_time": "2024-06-13T11:06:51.604Z"
   },
   {
    "duration": 26,
    "start_time": "2024-06-13T11:06:51.627Z"
   },
   {
    "duration": 60,
    "start_time": "2024-06-13T11:06:51.655Z"
   },
   {
    "duration": 25,
    "start_time": "2024-06-13T11:06:51.717Z"
   },
   {
    "duration": 42,
    "start_time": "2024-06-13T11:06:51.743Z"
   },
   {
    "duration": 19,
    "start_time": "2024-06-13T11:06:51.786Z"
   },
   {
    "duration": 31,
    "start_time": "2024-06-13T11:06:51.807Z"
   },
   {
    "duration": 18,
    "start_time": "2024-06-13T11:06:51.839Z"
   },
   {
    "duration": 54,
    "start_time": "2024-06-13T11:06:51.858Z"
   },
   {
    "duration": 8432,
    "start_time": "2024-06-13T11:06:51.914Z"
   },
   {
    "duration": 2502,
    "start_time": "2024-06-13T11:08:56.512Z"
   },
   {
    "duration": 944,
    "start_time": "2024-06-13T11:08:59.016Z"
   },
   {
    "duration": 356,
    "start_time": "2024-06-13T11:08:59.962Z"
   },
   {
    "duration": 68,
    "start_time": "2024-06-13T11:09:00.319Z"
   },
   {
    "duration": 38,
    "start_time": "2024-06-13T11:09:00.388Z"
   },
   {
    "duration": 34,
    "start_time": "2024-06-13T11:09:00.428Z"
   },
   {
    "duration": 62,
    "start_time": "2024-06-13T11:09:00.463Z"
   },
   {
    "duration": 79,
    "start_time": "2024-06-13T11:09:00.526Z"
   },
   {
    "duration": 110,
    "start_time": "2024-06-13T11:09:00.607Z"
   },
   {
    "duration": 8,
    "start_time": "2024-06-13T11:09:00.718Z"
   },
   {
    "duration": 78,
    "start_time": "2024-06-13T11:09:00.727Z"
   },
   {
    "duration": 45,
    "start_time": "2024-06-13T11:09:00.806Z"
   },
   {
    "duration": 43,
    "start_time": "2024-06-13T11:09:00.852Z"
   },
   {
    "duration": 72,
    "start_time": "2024-06-13T11:09:00.896Z"
   },
   {
    "duration": 48,
    "start_time": "2024-06-13T11:09:00.970Z"
   },
   {
    "duration": 71,
    "start_time": "2024-06-13T11:09:01.019Z"
   },
   {
    "duration": 50,
    "start_time": "2024-06-13T11:09:01.092Z"
   },
   {
    "duration": 59,
    "start_time": "2024-06-13T11:09:01.144Z"
   },
   {
    "duration": 124,
    "start_time": "2024-06-13T11:09:01.205Z"
   },
   {
    "duration": 66,
    "start_time": "2024-06-13T11:09:01.331Z"
   },
   {
    "duration": 8212,
    "start_time": "2024-06-13T11:09:01.399Z"
   },
   {
    "duration": 5,
    "start_time": "2024-06-13T11:10:05.735Z"
   },
   {
    "duration": 2504,
    "start_time": "2024-06-13T11:11:27.185Z"
   },
   {
    "duration": 1019,
    "start_time": "2024-06-13T11:11:29.691Z"
   },
   {
    "duration": 416,
    "start_time": "2024-06-13T11:11:30.712Z"
   },
   {
    "duration": 42,
    "start_time": "2024-06-13T11:11:31.130Z"
   },
   {
    "duration": 249,
    "start_time": "2024-06-13T11:11:31.174Z"
   },
   {
    "duration": 42,
    "start_time": "2024-06-13T11:11:31.425Z"
   },
   {
    "duration": 46,
    "start_time": "2024-06-13T11:11:31.468Z"
   },
   {
    "duration": 54,
    "start_time": "2024-06-13T11:11:31.516Z"
   },
   {
    "duration": 165,
    "start_time": "2024-06-13T11:11:31.572Z"
   },
   {
    "duration": 8,
    "start_time": "2024-06-13T11:11:31.739Z"
   },
   {
    "duration": 53,
    "start_time": "2024-06-13T11:11:31.748Z"
   },
   {
    "duration": 18,
    "start_time": "2024-06-13T11:11:31.803Z"
   },
   {
    "duration": 9,
    "start_time": "2024-06-13T11:11:31.823Z"
   },
   {
    "duration": 9,
    "start_time": "2024-06-13T11:11:31.833Z"
   },
   {
    "duration": 59,
    "start_time": "2024-06-13T11:11:31.843Z"
   },
   {
    "duration": 16,
    "start_time": "2024-06-13T11:11:31.904Z"
   },
   {
    "duration": 13,
    "start_time": "2024-06-13T11:11:31.922Z"
   },
   {
    "duration": 17,
    "start_time": "2024-06-13T11:11:31.937Z"
   },
   {
    "duration": 13,
    "start_time": "2024-06-13T11:11:31.955Z"
   },
   {
    "duration": 13,
    "start_time": "2024-06-13T11:11:31.969Z"
   },
   {
    "duration": 8506,
    "start_time": "2024-06-13T11:11:31.983Z"
   },
   {
    "duration": 0,
    "start_time": "2024-06-13T11:11:40.491Z"
   },
   {
    "duration": 4,
    "start_time": "2024-06-13T11:11:53.472Z"
   },
   {
    "duration": 2473,
    "start_time": "2024-06-13T11:16:18.418Z"
   },
   {
    "duration": 972,
    "start_time": "2024-06-13T11:16:20.893Z"
   },
   {
    "duration": 331,
    "start_time": "2024-06-13T11:16:21.867Z"
   },
   {
    "duration": 40,
    "start_time": "2024-06-13T11:16:22.200Z"
   },
   {
    "duration": 32,
    "start_time": "2024-06-13T11:16:22.242Z"
   },
   {
    "duration": 2,
    "start_time": "2024-06-13T11:16:22.275Z"
   },
   {
    "duration": 23,
    "start_time": "2024-06-13T11:16:22.278Z"
   },
   {
    "duration": 15,
    "start_time": "2024-06-13T11:16:22.303Z"
   },
   {
    "duration": 78,
    "start_time": "2024-06-13T11:16:22.319Z"
   },
   {
    "duration": 9,
    "start_time": "2024-06-13T11:16:22.402Z"
   },
   {
    "duration": 41,
    "start_time": "2024-06-13T11:16:22.412Z"
   },
   {
    "duration": 2,
    "start_time": "2024-06-13T11:16:22.455Z"
   },
   {
    "duration": 29,
    "start_time": "2024-06-13T11:16:22.459Z"
   },
   {
    "duration": 66,
    "start_time": "2024-06-13T11:16:22.490Z"
   },
   {
    "duration": 43,
    "start_time": "2024-06-13T11:16:22.557Z"
   },
   {
    "duration": 124,
    "start_time": "2024-06-13T11:16:22.602Z"
   },
   {
    "duration": 1,
    "start_time": "2024-06-13T11:16:22.727Z"
   },
   {
    "duration": 0,
    "start_time": "2024-06-13T11:16:22.729Z"
   },
   {
    "duration": 0,
    "start_time": "2024-06-13T11:16:22.730Z"
   },
   {
    "duration": 0,
    "start_time": "2024-06-13T11:16:22.731Z"
   },
   {
    "duration": 0,
    "start_time": "2024-06-13T11:16:22.731Z"
   },
   {
    "duration": 0,
    "start_time": "2024-06-13T11:16:22.732Z"
   },
   {
    "duration": 2426,
    "start_time": "2024-06-13T11:16:51.595Z"
   },
   {
    "duration": 921,
    "start_time": "2024-06-13T11:16:54.023Z"
   },
   {
    "duration": 357,
    "start_time": "2024-06-13T11:16:54.945Z"
   },
   {
    "duration": 39,
    "start_time": "2024-06-13T11:16:55.304Z"
   },
   {
    "duration": 50,
    "start_time": "2024-06-13T11:16:55.345Z"
   },
   {
    "duration": 2,
    "start_time": "2024-06-13T11:16:55.397Z"
   },
   {
    "duration": 24,
    "start_time": "2024-06-13T11:16:55.400Z"
   },
   {
    "duration": 33,
    "start_time": "2024-06-13T11:16:55.425Z"
   },
   {
    "duration": 80,
    "start_time": "2024-06-13T11:16:55.459Z"
   },
   {
    "duration": 7,
    "start_time": "2024-06-13T11:16:55.541Z"
   },
   {
    "duration": 33,
    "start_time": "2024-06-13T11:16:55.549Z"
   },
   {
    "duration": 2,
    "start_time": "2024-06-13T11:16:55.601Z"
   },
   {
    "duration": 16,
    "start_time": "2024-06-13T11:16:55.605Z"
   },
   {
    "duration": 15,
    "start_time": "2024-06-13T11:16:55.623Z"
   },
   {
    "duration": 10,
    "start_time": "2024-06-13T11:16:55.639Z"
   },
   {
    "duration": 111,
    "start_time": "2024-06-13T11:16:55.650Z"
   },
   {
    "duration": 0,
    "start_time": "2024-06-13T11:16:55.763Z"
   },
   {
    "duration": 0,
    "start_time": "2024-06-13T11:16:55.764Z"
   },
   {
    "duration": 0,
    "start_time": "2024-06-13T11:16:55.765Z"
   },
   {
    "duration": 0,
    "start_time": "2024-06-13T11:16:55.766Z"
   },
   {
    "duration": 0,
    "start_time": "2024-06-13T11:16:55.767Z"
   },
   {
    "duration": 0,
    "start_time": "2024-06-13T11:16:55.768Z"
   },
   {
    "duration": 2429,
    "start_time": "2024-06-13T11:17:59.222Z"
   },
   {
    "duration": 892,
    "start_time": "2024-06-13T11:18:01.653Z"
   },
   {
    "duration": 333,
    "start_time": "2024-06-13T11:18:02.547Z"
   },
   {
    "duration": 40,
    "start_time": "2024-06-13T11:18:02.881Z"
   },
   {
    "duration": 38,
    "start_time": "2024-06-13T11:18:02.922Z"
   },
   {
    "duration": 11,
    "start_time": "2024-06-13T11:18:02.961Z"
   },
   {
    "duration": 4,
    "start_time": "2024-06-13T11:18:02.973Z"
   },
   {
    "duration": 5,
    "start_time": "2024-06-13T11:18:02.979Z"
   },
   {
    "duration": 100,
    "start_time": "2024-06-13T11:18:02.985Z"
   },
   {
    "duration": 3,
    "start_time": "2024-06-13T11:18:03.088Z"
   },
   {
    "duration": 28,
    "start_time": "2024-06-13T11:18:03.101Z"
   },
   {
    "duration": 73,
    "start_time": "2024-06-13T11:18:03.130Z"
   },
   {
    "duration": 19,
    "start_time": "2024-06-13T11:18:03.204Z"
   },
   {
    "duration": 9,
    "start_time": "2024-06-13T11:18:03.224Z"
   },
   {
    "duration": 8,
    "start_time": "2024-06-13T11:18:03.234Z"
   },
   {
    "duration": 19,
    "start_time": "2024-06-13T11:18:03.244Z"
   },
   {
    "duration": 99,
    "start_time": "2024-06-13T11:18:03.265Z"
   },
   {
    "duration": 5,
    "start_time": "2024-06-13T11:18:03.366Z"
   },
   {
    "duration": 4,
    "start_time": "2024-06-13T11:18:03.372Z"
   },
   {
    "duration": 12,
    "start_time": "2024-06-13T11:18:03.377Z"
   },
   {
    "duration": 8,
    "start_time": "2024-06-13T11:18:03.390Z"
   },
   {
    "duration": 8138,
    "start_time": "2024-06-13T11:18:03.400Z"
   },
   {
    "duration": 0,
    "start_time": "2024-06-13T11:18:11.540Z"
   },
   {
    "duration": 2423,
    "start_time": "2024-06-13T11:19:10.081Z"
   },
   {
    "duration": 906,
    "start_time": "2024-06-13T11:19:12.506Z"
   },
   {
    "duration": 327,
    "start_time": "2024-06-13T11:19:13.413Z"
   },
   {
    "duration": 44,
    "start_time": "2024-06-13T11:19:13.742Z"
   },
   {
    "duration": 3,
    "start_time": "2024-06-13T11:19:13.787Z"
   },
   {
    "duration": 25,
    "start_time": "2024-06-13T11:19:13.791Z"
   },
   {
    "duration": 19,
    "start_time": "2024-06-13T11:19:13.817Z"
   },
   {
    "duration": 91,
    "start_time": "2024-06-13T11:19:13.838Z"
   },
   {
    "duration": 8,
    "start_time": "2024-06-13T11:19:13.930Z"
   },
   {
    "duration": 71,
    "start_time": "2024-06-13T11:19:13.940Z"
   },
   {
    "duration": 25,
    "start_time": "2024-06-13T11:19:14.012Z"
   },
   {
    "duration": 65,
    "start_time": "2024-06-13T11:19:14.038Z"
   },
   {
    "duration": 29,
    "start_time": "2024-06-13T11:19:14.105Z"
   },
   {
    "duration": 16,
    "start_time": "2024-06-13T11:19:14.135Z"
   },
   {
    "duration": 4,
    "start_time": "2024-06-13T11:19:14.152Z"
   },
   {
    "duration": 36,
    "start_time": "2024-06-13T11:19:14.157Z"
   },
   {
    "duration": 85,
    "start_time": "2024-06-13T11:19:14.194Z"
   },
   {
    "duration": 33,
    "start_time": "2024-06-13T11:19:14.281Z"
   },
   {
    "duration": 23,
    "start_time": "2024-06-13T11:19:14.315Z"
   },
   {
    "duration": 21,
    "start_time": "2024-06-13T11:19:14.339Z"
   },
   {
    "duration": 7954,
    "start_time": "2024-06-13T11:19:14.361Z"
   },
   {
    "duration": 0,
    "start_time": "2024-06-13T11:19:22.317Z"
   },
   {
    "duration": 2416,
    "start_time": "2024-06-13T11:21:14.840Z"
   },
   {
    "duration": 898,
    "start_time": "2024-06-13T11:21:17.258Z"
   },
   {
    "duration": 312,
    "start_time": "2024-06-13T11:21:18.158Z"
   },
   {
    "duration": 39,
    "start_time": "2024-06-13T11:21:18.472Z"
   },
   {
    "duration": 32,
    "start_time": "2024-06-13T11:21:18.512Z"
   },
   {
    "duration": 69,
    "start_time": "2024-06-13T11:21:18.545Z"
   },
   {
    "duration": 15,
    "start_time": "2024-06-13T11:21:18.615Z"
   },
   {
    "duration": 18,
    "start_time": "2024-06-13T11:21:18.632Z"
   },
   {
    "duration": 81,
    "start_time": "2024-06-13T11:21:18.651Z"
   },
   {
    "duration": 8,
    "start_time": "2024-06-13T11:21:18.734Z"
   },
   {
    "duration": 60,
    "start_time": "2024-06-13T11:21:18.744Z"
   },
   {
    "duration": 2,
    "start_time": "2024-06-13T11:21:18.806Z"
   },
   {
    "duration": 40,
    "start_time": "2024-06-13T11:21:18.809Z"
   },
   {
    "duration": 11,
    "start_time": "2024-06-13T11:21:18.850Z"
   },
   {
    "duration": 9,
    "start_time": "2024-06-13T11:21:18.863Z"
   },
   {
    "duration": 7,
    "start_time": "2024-06-13T11:21:18.873Z"
   },
   {
    "duration": 6,
    "start_time": "2024-06-13T11:21:18.881Z"
   },
   {
    "duration": 8,
    "start_time": "2024-06-13T11:21:18.888Z"
   },
   {
    "duration": 11,
    "start_time": "2024-06-13T11:21:18.897Z"
   },
   {
    "duration": 13,
    "start_time": "2024-06-13T11:21:18.909Z"
   },
   {
    "duration": 13,
    "start_time": "2024-06-13T11:21:18.923Z"
   },
   {
    "duration": 8091,
    "start_time": "2024-06-13T11:21:18.938Z"
   },
   {
    "duration": 0,
    "start_time": "2024-06-13T11:21:27.031Z"
   },
   {
    "duration": 2477,
    "start_time": "2024-06-13T11:22:29.728Z"
   },
   {
    "duration": 940,
    "start_time": "2024-06-13T11:22:32.207Z"
   },
   {
    "duration": 329,
    "start_time": "2024-06-13T11:22:33.148Z"
   },
   {
    "duration": 41,
    "start_time": "2024-06-13T11:22:33.479Z"
   },
   {
    "duration": 5,
    "start_time": "2024-06-13T11:22:33.522Z"
   },
   {
    "duration": 17,
    "start_time": "2024-06-13T11:22:33.528Z"
   },
   {
    "duration": 13,
    "start_time": "2024-06-13T11:22:33.546Z"
   },
   {
    "duration": 93,
    "start_time": "2024-06-13T11:22:33.560Z"
   },
   {
    "duration": 8,
    "start_time": "2024-06-13T11:22:33.654Z"
   },
   {
    "duration": 44,
    "start_time": "2024-06-13T11:22:33.664Z"
   },
   {
    "duration": 2,
    "start_time": "2024-06-13T11:22:33.709Z"
   },
   {
    "duration": 32,
    "start_time": "2024-06-13T11:22:33.712Z"
   },
   {
    "duration": 27,
    "start_time": "2024-06-13T11:22:33.745Z"
   },
   {
    "duration": 6,
    "start_time": "2024-06-13T11:22:33.773Z"
   },
   {
    "duration": 18,
    "start_time": "2024-06-13T11:22:33.780Z"
   },
   {
    "duration": 106,
    "start_time": "2024-06-13T11:22:33.800Z"
   },
   {
    "duration": 0,
    "start_time": "2024-06-13T11:22:33.907Z"
   },
   {
    "duration": 0,
    "start_time": "2024-06-13T11:22:33.908Z"
   },
   {
    "duration": 0,
    "start_time": "2024-06-13T11:22:33.909Z"
   },
   {
    "duration": 0,
    "start_time": "2024-06-13T11:22:33.910Z"
   },
   {
    "duration": 0,
    "start_time": "2024-06-13T11:22:33.911Z"
   },
   {
    "duration": 0,
    "start_time": "2024-06-13T11:22:33.911Z"
   },
   {
    "duration": 2453,
    "start_time": "2024-06-13T11:23:07.302Z"
   },
   {
    "duration": 915,
    "start_time": "2024-06-13T11:23:09.757Z"
   },
   {
    "duration": 306,
    "start_time": "2024-06-13T11:23:10.674Z"
   },
   {
    "duration": 38,
    "start_time": "2024-06-13T11:23:10.983Z"
   },
   {
    "duration": 3,
    "start_time": "2024-06-13T11:23:11.023Z"
   },
   {
    "duration": 15,
    "start_time": "2024-06-13T11:23:11.027Z"
   },
   {
    "duration": 27,
    "start_time": "2024-06-13T11:23:11.044Z"
   },
   {
    "duration": 80,
    "start_time": "2024-06-13T11:23:11.073Z"
   },
   {
    "duration": 8,
    "start_time": "2024-06-13T11:23:11.154Z"
   },
   {
    "duration": 44,
    "start_time": "2024-06-13T11:23:11.164Z"
   },
   {
    "duration": 2,
    "start_time": "2024-06-13T11:23:11.210Z"
   },
   {
    "duration": 15,
    "start_time": "2024-06-13T11:23:11.214Z"
   },
   {
    "duration": 21,
    "start_time": "2024-06-13T11:23:11.230Z"
   },
   {
    "duration": 15,
    "start_time": "2024-06-13T11:23:11.253Z"
   },
   {
    "duration": 14,
    "start_time": "2024-06-13T11:23:11.270Z"
   },
   {
    "duration": 4,
    "start_time": "2024-06-13T11:23:11.285Z"
   },
   {
    "duration": 12,
    "start_time": "2024-06-13T11:23:11.291Z"
   },
   {
    "duration": 5,
    "start_time": "2024-06-13T11:23:11.304Z"
   },
   {
    "duration": 10,
    "start_time": "2024-06-13T11:23:11.310Z"
   },
   {
    "duration": 16,
    "start_time": "2024-06-13T11:23:11.321Z"
   },
   {
    "duration": 8145,
    "start_time": "2024-06-13T11:23:11.339Z"
   },
   {
    "duration": 0,
    "start_time": "2024-06-13T11:23:19.485Z"
   },
   {
    "duration": 2461,
    "start_time": "2024-06-13T11:24:57.650Z"
   },
   {
    "duration": 980,
    "start_time": "2024-06-13T11:25:00.113Z"
   },
   {
    "duration": 449,
    "start_time": "2024-06-13T11:25:01.094Z"
   },
   {
    "duration": 39,
    "start_time": "2024-06-13T11:25:01.545Z"
   },
   {
    "duration": 22,
    "start_time": "2024-06-13T11:25:01.585Z"
   },
   {
    "duration": 45,
    "start_time": "2024-06-13T11:25:01.608Z"
   },
   {
    "duration": 100,
    "start_time": "2024-06-13T11:25:01.654Z"
   },
   {
    "duration": 104,
    "start_time": "2024-06-13T11:25:01.755Z"
   },
   {
    "duration": 25,
    "start_time": "2024-06-13T11:25:01.860Z"
   },
   {
    "duration": 96,
    "start_time": "2024-06-13T11:25:01.887Z"
   },
   {
    "duration": 49,
    "start_time": "2024-06-13T11:25:01.984Z"
   },
   {
    "duration": 53,
    "start_time": "2024-06-13T11:25:02.035Z"
   },
   {
    "duration": 86,
    "start_time": "2024-06-13T11:25:02.089Z"
   },
   {
    "duration": 369,
    "start_time": "2024-06-13T11:25:02.177Z"
   },
   {
    "duration": 0,
    "start_time": "2024-06-13T11:25:02.547Z"
   },
   {
    "duration": 0,
    "start_time": "2024-06-13T11:25:02.548Z"
   },
   {
    "duration": 0,
    "start_time": "2024-06-13T11:25:02.549Z"
   },
   {
    "duration": 0,
    "start_time": "2024-06-13T11:25:02.550Z"
   },
   {
    "duration": 0,
    "start_time": "2024-06-13T11:25:02.550Z"
   },
   {
    "duration": 0,
    "start_time": "2024-06-13T11:25:02.551Z"
   },
   {
    "duration": 0,
    "start_time": "2024-06-13T11:25:02.552Z"
   },
   {
    "duration": 2,
    "start_time": "2024-06-13T11:25:40.101Z"
   },
   {
    "duration": 4,
    "start_time": "2024-06-13T11:25:40.374Z"
   },
   {
    "duration": 2,
    "start_time": "2024-06-13T11:25:40.632Z"
   },
   {
    "duration": 2,
    "start_time": "2024-06-13T11:25:40.934Z"
   },
   {
    "duration": 4,
    "start_time": "2024-06-13T11:25:41.170Z"
   },
   {
    "duration": 2,
    "start_time": "2024-06-13T11:25:41.382Z"
   },
   {
    "duration": 7,
    "start_time": "2024-06-13T11:25:41.602Z"
   },
   {
    "duration": 1767,
    "start_time": "2024-06-13T11:25:41.832Z"
   },
   {
    "duration": 0,
    "start_time": "2024-06-13T11:25:43.601Z"
   },
   {
    "duration": 2444,
    "start_time": "2024-06-13T11:26:44.282Z"
   },
   {
    "duration": 911,
    "start_time": "2024-06-13T11:26:46.727Z"
   },
   {
    "duration": 350,
    "start_time": "2024-06-13T11:26:47.640Z"
   },
   {
    "duration": 52,
    "start_time": "2024-06-13T11:26:47.992Z"
   },
   {
    "duration": 7,
    "start_time": "2024-06-13T11:26:48.045Z"
   },
   {
    "duration": 6,
    "start_time": "2024-06-13T11:26:48.053Z"
   },
   {
    "duration": 13,
    "start_time": "2024-06-13T11:26:48.060Z"
   },
   {
    "duration": 79,
    "start_time": "2024-06-13T11:26:48.075Z"
   },
   {
    "duration": 9,
    "start_time": "2024-06-13T11:26:48.156Z"
   },
   {
    "duration": 43,
    "start_time": "2024-06-13T11:26:48.167Z"
   },
   {
    "duration": 2,
    "start_time": "2024-06-13T11:26:48.212Z"
   },
   {
    "duration": 21,
    "start_time": "2024-06-13T11:26:48.216Z"
   },
   {
    "duration": 20,
    "start_time": "2024-06-13T11:26:48.238Z"
   },
   {
    "duration": 18,
    "start_time": "2024-06-13T11:26:48.260Z"
   },
   {
    "duration": 14,
    "start_time": "2024-06-13T11:26:48.279Z"
   },
   {
    "duration": 27,
    "start_time": "2024-06-13T11:26:48.295Z"
   },
   {
    "duration": 26,
    "start_time": "2024-06-13T11:26:48.323Z"
   },
   {
    "duration": 82,
    "start_time": "2024-06-13T11:26:48.351Z"
   },
   {
    "duration": 18,
    "start_time": "2024-06-13T11:26:48.434Z"
   },
   {
    "duration": 16,
    "start_time": "2024-06-13T11:26:48.453Z"
   },
   {
    "duration": 2520,
    "start_time": "2024-06-13T11:32:58.533Z"
   },
   {
    "duration": 926,
    "start_time": "2024-06-13T11:33:01.055Z"
   },
   {
    "duration": 361,
    "start_time": "2024-06-13T11:33:01.983Z"
   },
   {
    "duration": 41,
    "start_time": "2024-06-13T11:33:02.345Z"
   },
   {
    "duration": 6,
    "start_time": "2024-06-13T11:33:02.387Z"
   },
   {
    "duration": 6,
    "start_time": "2024-06-13T11:33:02.394Z"
   },
   {
    "duration": 19,
    "start_time": "2024-06-13T11:33:02.401Z"
   },
   {
    "duration": 70,
    "start_time": "2024-06-13T11:33:02.421Z"
   },
   {
    "duration": 9,
    "start_time": "2024-06-13T11:33:02.492Z"
   },
   {
    "duration": 35,
    "start_time": "2024-06-13T11:33:02.503Z"
   },
   {
    "duration": 3,
    "start_time": "2024-06-13T11:33:02.539Z"
   },
   {
    "duration": 4,
    "start_time": "2024-06-13T11:33:02.543Z"
   },
   {
    "duration": 82,
    "start_time": "2024-06-13T11:33:02.549Z"
   },
   {
    "duration": 35,
    "start_time": "2024-06-13T11:33:02.633Z"
   },
   {
    "duration": 4,
    "start_time": "2024-06-13T11:33:02.670Z"
   },
   {
    "duration": 32,
    "start_time": "2024-06-13T11:33:02.675Z"
   },
   {
    "duration": 4,
    "start_time": "2024-06-13T11:33:02.709Z"
   },
   {
    "duration": 4,
    "start_time": "2024-06-13T11:33:02.714Z"
   },
   {
    "duration": 14,
    "start_time": "2024-06-13T11:33:02.720Z"
   },
   {
    "duration": 26,
    "start_time": "2024-06-13T11:33:02.735Z"
   },
   {
    "duration": 707231,
    "start_time": "2024-06-13T11:33:02.762Z"
   },
   {
    "duration": 0,
    "start_time": "2024-06-13T11:44:49.994Z"
   },
   {
    "duration": 3,
    "start_time": "2024-06-13T11:45:42.119Z"
   },
   {
    "duration": 2428,
    "start_time": "2024-06-13T11:46:58.453Z"
   },
   {
    "duration": 986,
    "start_time": "2024-06-13T11:47:00.883Z"
   },
   {
    "duration": 449,
    "start_time": "2024-06-13T11:47:01.871Z"
   },
   {
    "duration": 42,
    "start_time": "2024-06-13T11:47:02.321Z"
   },
   {
    "duration": 3,
    "start_time": "2024-06-13T11:47:02.364Z"
   },
   {
    "duration": 26,
    "start_time": "2024-06-13T11:47:02.368Z"
   },
   {
    "duration": 9,
    "start_time": "2024-06-13T11:47:02.395Z"
   },
   {
    "duration": 68,
    "start_time": "2024-06-13T11:47:02.406Z"
   },
   {
    "duration": 9,
    "start_time": "2024-06-13T11:47:02.475Z"
   },
   {
    "duration": 59,
    "start_time": "2024-06-13T11:47:02.486Z"
   },
   {
    "duration": 2,
    "start_time": "2024-06-13T11:47:02.546Z"
   },
   {
    "duration": 43,
    "start_time": "2024-06-13T11:47:02.549Z"
   },
   {
    "duration": 86,
    "start_time": "2024-06-13T11:47:02.594Z"
   },
   {
    "duration": 14,
    "start_time": "2024-06-13T11:47:02.682Z"
   },
   {
    "duration": 17,
    "start_time": "2024-06-13T11:47:02.698Z"
   },
   {
    "duration": 17,
    "start_time": "2024-06-13T11:47:02.717Z"
   },
   {
    "duration": 14,
    "start_time": "2024-06-13T11:47:02.735Z"
   },
   {
    "duration": 20,
    "start_time": "2024-06-13T11:47:02.751Z"
   },
   {
    "duration": 15,
    "start_time": "2024-06-13T11:47:02.772Z"
   },
   {
    "duration": 35,
    "start_time": "2024-06-13T11:47:02.788Z"
   },
   {
    "duration": 7380,
    "start_time": "2024-06-13T11:47:02.824Z"
   },
   {
    "duration": 0,
    "start_time": "2024-06-13T11:47:10.206Z"
   },
   {
    "duration": 2398,
    "start_time": "2024-06-13T11:48:45.626Z"
   },
   {
    "duration": 918,
    "start_time": "2024-06-13T11:48:48.033Z"
   },
   {
    "duration": 338,
    "start_time": "2024-06-13T11:48:48.953Z"
   },
   {
    "duration": 40,
    "start_time": "2024-06-13T11:48:49.293Z"
   },
   {
    "duration": 2,
    "start_time": "2024-06-13T11:48:49.334Z"
   },
   {
    "duration": 14,
    "start_time": "2024-06-13T11:48:49.337Z"
   },
   {
    "duration": 33,
    "start_time": "2024-06-13T11:48:49.352Z"
   },
   {
    "duration": 125,
    "start_time": "2024-06-13T11:48:49.386Z"
   },
   {
    "duration": 8,
    "start_time": "2024-06-13T11:48:49.513Z"
   },
   {
    "duration": 59,
    "start_time": "2024-06-13T11:48:49.524Z"
   },
   {
    "duration": 2,
    "start_time": "2024-06-13T11:48:49.584Z"
   },
   {
    "duration": 13,
    "start_time": "2024-06-13T11:48:49.587Z"
   },
   {
    "duration": 17,
    "start_time": "2024-06-13T11:48:49.602Z"
   },
   {
    "duration": 5,
    "start_time": "2024-06-13T11:48:49.620Z"
   },
   {
    "duration": 11,
    "start_time": "2024-06-13T11:48:49.627Z"
   },
   {
    "duration": 12,
    "start_time": "2024-06-13T11:48:49.639Z"
   },
   {
    "duration": 12,
    "start_time": "2024-06-13T11:48:49.652Z"
   },
   {
    "duration": 4,
    "start_time": "2024-06-13T11:48:49.666Z"
   },
   {
    "duration": 4,
    "start_time": "2024-06-13T11:48:49.671Z"
   },
   {
    "duration": 9,
    "start_time": "2024-06-13T11:48:49.676Z"
   },
   {
    "duration": 7201,
    "start_time": "2024-06-13T11:48:49.686Z"
   },
   {
    "duration": 0,
    "start_time": "2024-06-13T11:48:56.889Z"
   },
   {
    "duration": 0,
    "start_time": "2024-06-13T11:48:56.890Z"
   },
   {
    "duration": 2488,
    "start_time": "2024-06-13T11:50:43.401Z"
   },
   {
    "duration": 980,
    "start_time": "2024-06-13T11:50:45.891Z"
   },
   {
    "duration": 321,
    "start_time": "2024-06-13T11:50:46.873Z"
   },
   {
    "duration": 39,
    "start_time": "2024-06-13T11:50:47.196Z"
   },
   {
    "duration": 96,
    "start_time": "2024-06-13T11:50:47.236Z"
   },
   {
    "duration": 3,
    "start_time": "2024-06-13T11:50:47.333Z"
   },
   {
    "duration": 11,
    "start_time": "2024-06-13T11:50:47.337Z"
   },
   {
    "duration": 4,
    "start_time": "2024-06-13T11:50:47.349Z"
   },
   {
    "duration": 78,
    "start_time": "2024-06-13T11:50:47.354Z"
   },
   {
    "duration": 7,
    "start_time": "2024-06-13T11:50:47.434Z"
   },
   {
    "duration": 33,
    "start_time": "2024-06-13T11:50:47.442Z"
   },
   {
    "duration": 2,
    "start_time": "2024-06-13T11:50:47.476Z"
   },
   {
    "duration": 21,
    "start_time": "2024-06-13T11:50:47.480Z"
   },
   {
    "duration": 3,
    "start_time": "2024-06-13T11:50:47.503Z"
   },
   {
    "duration": 28,
    "start_time": "2024-06-13T11:50:47.508Z"
   },
   {
    "duration": 35,
    "start_time": "2024-06-13T11:50:47.538Z"
   },
   {
    "duration": 60,
    "start_time": "2024-06-13T11:50:47.574Z"
   },
   {
    "duration": 22,
    "start_time": "2024-06-13T11:50:47.636Z"
   },
   {
    "duration": 14,
    "start_time": "2024-06-13T11:50:47.659Z"
   },
   {
    "duration": 6,
    "start_time": "2024-06-13T11:50:47.674Z"
   },
   {
    "duration": 27,
    "start_time": "2024-06-13T11:50:47.682Z"
   },
   {
    "duration": 7443,
    "start_time": "2024-06-13T11:50:47.710Z"
   },
   {
    "duration": 0,
    "start_time": "2024-06-13T11:50:55.154Z"
   },
   {
    "duration": 0,
    "start_time": "2024-06-13T11:50:55.155Z"
   },
   {
    "duration": 2483,
    "start_time": "2024-06-13T11:51:59.552Z"
   },
   {
    "duration": 912,
    "start_time": "2024-06-13T11:52:02.037Z"
   },
   {
    "duration": 326,
    "start_time": "2024-06-13T11:52:02.951Z"
   },
   {
    "duration": 39,
    "start_time": "2024-06-13T11:52:03.279Z"
   },
   {
    "duration": 90,
    "start_time": "2024-06-13T11:52:03.320Z"
   },
   {
    "duration": 2,
    "start_time": "2024-06-13T11:52:03.412Z"
   },
   {
    "duration": 12,
    "start_time": "2024-06-13T11:52:03.416Z"
   },
   {
    "duration": 6,
    "start_time": "2024-06-13T11:52:03.430Z"
   },
   {
    "duration": 97,
    "start_time": "2024-06-13T11:52:03.437Z"
   },
   {
    "duration": 8,
    "start_time": "2024-06-13T11:52:03.536Z"
   },
   {
    "duration": 41,
    "start_time": "2024-06-13T11:52:03.545Z"
   },
   {
    "duration": 2,
    "start_time": "2024-06-13T11:52:03.588Z"
   },
   {
    "duration": 11,
    "start_time": "2024-06-13T11:52:03.591Z"
   },
   {
    "duration": 6,
    "start_time": "2024-06-13T11:52:03.603Z"
   },
   {
    "duration": 6,
    "start_time": "2024-06-13T11:52:03.610Z"
   },
   {
    "duration": 11,
    "start_time": "2024-06-13T11:52:03.617Z"
   },
   {
    "duration": 9,
    "start_time": "2024-06-13T11:52:03.629Z"
   },
   {
    "duration": 4,
    "start_time": "2024-06-13T11:52:03.639Z"
   },
   {
    "duration": 5,
    "start_time": "2024-06-13T11:52:03.644Z"
   },
   {
    "duration": 7,
    "start_time": "2024-06-13T11:52:03.650Z"
   },
   {
    "duration": 22,
    "start_time": "2024-06-13T11:52:03.658Z"
   },
   {
    "duration": 7204,
    "start_time": "2024-06-13T11:52:03.681Z"
   },
   {
    "duration": 0,
    "start_time": "2024-06-13T11:52:10.886Z"
   },
   {
    "duration": 0,
    "start_time": "2024-06-13T11:52:10.887Z"
   },
   {
    "duration": 2496,
    "start_time": "2024-06-13T11:53:58.072Z"
   },
   {
    "duration": 973,
    "start_time": "2024-06-13T11:54:00.571Z"
   },
   {
    "duration": 396,
    "start_time": "2024-06-13T11:54:01.545Z"
   },
   {
    "duration": 54,
    "start_time": "2024-06-13T11:54:01.943Z"
   },
   {
    "duration": 94,
    "start_time": "2024-06-13T11:54:01.998Z"
   },
   {
    "duration": 3,
    "start_time": "2024-06-13T11:54:02.093Z"
   },
   {
    "duration": 90,
    "start_time": "2024-06-13T11:54:02.102Z"
   },
   {
    "duration": 34,
    "start_time": "2024-06-13T11:54:02.194Z"
   },
   {
    "duration": 99,
    "start_time": "2024-06-13T11:54:02.229Z"
   },
   {
    "duration": 7,
    "start_time": "2024-06-13T11:54:02.330Z"
   },
   {
    "duration": 62,
    "start_time": "2024-06-13T11:54:02.339Z"
   },
   {
    "duration": 43,
    "start_time": "2024-06-13T11:54:02.403Z"
   },
   {
    "duration": 10,
    "start_time": "2024-06-13T11:54:02.447Z"
   },
   {
    "duration": 33,
    "start_time": "2024-06-13T11:54:02.459Z"
   },
   {
    "duration": 24,
    "start_time": "2024-06-13T11:54:02.494Z"
   },
   {
    "duration": 4,
    "start_time": "2024-06-13T11:54:02.519Z"
   },
   {
    "duration": 21,
    "start_time": "2024-06-13T11:54:02.524Z"
   },
   {
    "duration": 10,
    "start_time": "2024-06-13T11:54:02.546Z"
   },
   {
    "duration": 20,
    "start_time": "2024-06-13T11:54:02.558Z"
   },
   {
    "duration": 44,
    "start_time": "2024-06-13T11:54:02.579Z"
   },
   {
    "duration": 89,
    "start_time": "2024-06-13T11:54:02.624Z"
   },
   {
    "duration": 7358,
    "start_time": "2024-06-13T11:54:02.714Z"
   },
   {
    "duration": 0,
    "start_time": "2024-06-13T11:54:10.074Z"
   },
   {
    "duration": 0,
    "start_time": "2024-06-13T11:54:10.075Z"
   },
   {
    "duration": 2503,
    "start_time": "2024-06-13T11:55:53.038Z"
   },
   {
    "duration": 914,
    "start_time": "2024-06-13T11:55:55.543Z"
   },
   {
    "duration": 354,
    "start_time": "2024-06-13T11:55:56.458Z"
   },
   {
    "duration": 40,
    "start_time": "2024-06-13T11:55:56.813Z"
   },
   {
    "duration": 2,
    "start_time": "2024-06-13T11:55:56.854Z"
   },
   {
    "duration": 6,
    "start_time": "2024-06-13T11:55:56.858Z"
   },
   {
    "duration": 9,
    "start_time": "2024-06-13T11:55:56.865Z"
   },
   {
    "duration": 76,
    "start_time": "2024-06-13T11:55:56.875Z"
   },
   {
    "duration": 97,
    "start_time": "2024-06-13T11:55:56.953Z"
   },
   {
    "duration": 8,
    "start_time": "2024-06-13T11:55:57.053Z"
   },
   {
    "duration": 41,
    "start_time": "2024-06-13T11:55:57.063Z"
   },
   {
    "duration": 16,
    "start_time": "2024-06-13T11:55:57.105Z"
   },
   {
    "duration": 23,
    "start_time": "2024-06-13T11:55:57.122Z"
   },
   {
    "duration": 10,
    "start_time": "2024-06-13T11:55:57.146Z"
   },
   {
    "duration": 15,
    "start_time": "2024-06-13T11:55:57.158Z"
   },
   {
    "duration": 20,
    "start_time": "2024-06-13T11:55:57.174Z"
   },
   {
    "duration": 17,
    "start_time": "2024-06-13T11:55:57.195Z"
   },
   {
    "duration": 14,
    "start_time": "2024-06-13T11:55:57.214Z"
   },
   {
    "duration": 14,
    "start_time": "2024-06-13T11:55:57.229Z"
   },
   {
    "duration": 11,
    "start_time": "2024-06-13T11:55:57.244Z"
   },
   {
    "duration": 15,
    "start_time": "2024-06-13T11:55:57.256Z"
   },
   {
    "duration": 7535,
    "start_time": "2024-06-13T11:55:57.272Z"
   },
   {
    "duration": 0,
    "start_time": "2024-06-13T11:56:04.809Z"
   },
   {
    "duration": 0,
    "start_time": "2024-06-13T11:56:04.810Z"
   },
   {
    "duration": 2507,
    "start_time": "2024-06-13T11:57:24.042Z"
   },
   {
    "duration": 911,
    "start_time": "2024-06-13T11:57:26.551Z"
   },
   {
    "duration": 298,
    "start_time": "2024-06-13T11:57:27.463Z"
   },
   {
    "duration": 39,
    "start_time": "2024-06-13T11:57:27.763Z"
   },
   {
    "duration": 2,
    "start_time": "2024-06-13T11:57:27.803Z"
   },
   {
    "duration": 7,
    "start_time": "2024-06-13T11:57:27.806Z"
   },
   {
    "duration": 8,
    "start_time": "2024-06-13T11:57:27.814Z"
   },
   {
    "duration": 112,
    "start_time": "2024-06-13T11:57:27.823Z"
   },
   {
    "duration": 98,
    "start_time": "2024-06-13T11:57:27.936Z"
   },
   {
    "duration": 8,
    "start_time": "2024-06-13T11:57:28.036Z"
   },
   {
    "duration": 38,
    "start_time": "2024-06-13T11:57:28.046Z"
   },
   {
    "duration": 6,
    "start_time": "2024-06-13T11:57:28.086Z"
   },
   {
    "duration": 55,
    "start_time": "2024-06-13T11:57:28.093Z"
   },
   {
    "duration": 23,
    "start_time": "2024-06-13T11:57:28.149Z"
   },
   {
    "duration": 8,
    "start_time": "2024-06-13T11:57:28.173Z"
   },
   {
    "duration": 7,
    "start_time": "2024-06-13T11:57:28.183Z"
   },
   {
    "duration": 8,
    "start_time": "2024-06-13T11:57:28.191Z"
   },
   {
    "duration": 9,
    "start_time": "2024-06-13T11:57:28.201Z"
   },
   {
    "duration": 16,
    "start_time": "2024-06-13T11:57:28.211Z"
   },
   {
    "duration": 8,
    "start_time": "2024-06-13T11:57:28.229Z"
   },
   {
    "duration": 16,
    "start_time": "2024-06-13T11:57:28.238Z"
   },
   {
    "duration": 7579,
    "start_time": "2024-06-13T11:57:28.256Z"
   },
   {
    "duration": 0,
    "start_time": "2024-06-13T11:57:35.837Z"
   },
   {
    "duration": 0,
    "start_time": "2024-06-13T11:57:35.838Z"
   },
   {
    "duration": 2472,
    "start_time": "2024-06-13T11:59:08.697Z"
   },
   {
    "duration": 959,
    "start_time": "2024-06-13T11:59:11.171Z"
   },
   {
    "duration": 327,
    "start_time": "2024-06-13T11:59:12.132Z"
   },
   {
    "duration": 38,
    "start_time": "2024-06-13T11:59:12.461Z"
   },
   {
    "duration": 2,
    "start_time": "2024-06-13T11:59:12.500Z"
   },
   {
    "duration": 28,
    "start_time": "2024-06-13T11:59:12.503Z"
   },
   {
    "duration": 20,
    "start_time": "2024-06-13T11:59:12.532Z"
   },
   {
    "duration": 81,
    "start_time": "2024-06-13T11:59:12.553Z"
   },
   {
    "duration": 89,
    "start_time": "2024-06-13T11:59:12.636Z"
   },
   {
    "duration": 8,
    "start_time": "2024-06-13T11:59:12.727Z"
   },
   {
    "duration": 43,
    "start_time": "2024-06-13T11:59:12.736Z"
   },
   {
    "duration": 2,
    "start_time": "2024-06-13T11:59:12.780Z"
   },
   {
    "duration": 21,
    "start_time": "2024-06-13T11:59:12.783Z"
   },
   {
    "duration": 16,
    "start_time": "2024-06-13T11:59:12.805Z"
   },
   {
    "duration": 11,
    "start_time": "2024-06-13T11:59:12.822Z"
   },
   {
    "duration": 14,
    "start_time": "2024-06-13T11:59:12.834Z"
   },
   {
    "duration": 16,
    "start_time": "2024-06-13T11:59:12.849Z"
   },
   {
    "duration": 12,
    "start_time": "2024-06-13T11:59:12.866Z"
   },
   {
    "duration": 7,
    "start_time": "2024-06-13T11:59:12.880Z"
   },
   {
    "duration": 23,
    "start_time": "2024-06-13T11:59:12.888Z"
   },
   {
    "duration": 9,
    "start_time": "2024-06-13T11:59:12.912Z"
   },
   {
    "duration": 20,
    "start_time": "2024-06-13T11:59:12.922Z"
   },
   {
    "duration": 7449,
    "start_time": "2024-06-13T11:59:12.944Z"
   },
   {
    "duration": 0,
    "start_time": "2024-06-13T11:59:20.395Z"
   },
   {
    "duration": 0,
    "start_time": "2024-06-13T11:59:20.401Z"
   },
   {
    "duration": 2420,
    "start_time": "2024-06-13T11:59:47.224Z"
   },
   {
    "duration": 937,
    "start_time": "2024-06-13T11:59:49.646Z"
   },
   {
    "duration": 312,
    "start_time": "2024-06-13T11:59:50.585Z"
   },
   {
    "duration": 50,
    "start_time": "2024-06-13T11:59:50.899Z"
   },
   {
    "duration": 12,
    "start_time": "2024-06-13T11:59:50.950Z"
   },
   {
    "duration": 14,
    "start_time": "2024-06-13T11:59:50.963Z"
   },
   {
    "duration": 14,
    "start_time": "2024-06-13T11:59:50.978Z"
   },
   {
    "duration": 120,
    "start_time": "2024-06-13T11:59:50.993Z"
   },
   {
    "duration": 93,
    "start_time": "2024-06-13T11:59:51.114Z"
   },
   {
    "duration": 9,
    "start_time": "2024-06-13T11:59:51.210Z"
   },
   {
    "duration": 50,
    "start_time": "2024-06-13T11:59:51.220Z"
   },
   {
    "duration": 3,
    "start_time": "2024-06-13T11:59:51.271Z"
   },
   {
    "duration": 49,
    "start_time": "2024-06-13T11:59:51.275Z"
   },
   {
    "duration": 16,
    "start_time": "2024-06-13T11:59:51.325Z"
   },
   {
    "duration": 9,
    "start_time": "2024-06-13T11:59:51.342Z"
   },
   {
    "duration": 10,
    "start_time": "2024-06-13T11:59:51.352Z"
   },
   {
    "duration": 120,
    "start_time": "2024-06-13T11:59:51.363Z"
   },
   {
    "duration": 0,
    "start_time": "2024-06-13T11:59:51.485Z"
   },
   {
    "duration": 0,
    "start_time": "2024-06-13T11:59:51.486Z"
   },
   {
    "duration": 0,
    "start_time": "2024-06-13T11:59:51.487Z"
   },
   {
    "duration": 0,
    "start_time": "2024-06-13T11:59:51.487Z"
   },
   {
    "duration": 0,
    "start_time": "2024-06-13T11:59:51.488Z"
   },
   {
    "duration": 0,
    "start_time": "2024-06-13T11:59:51.489Z"
   },
   {
    "duration": 0,
    "start_time": "2024-06-13T11:59:51.490Z"
   },
   {
    "duration": 2566,
    "start_time": "2024-06-13T12:01:37.268Z"
   },
   {
    "duration": 944,
    "start_time": "2024-06-13T12:01:39.837Z"
   },
   {
    "duration": 419,
    "start_time": "2024-06-13T12:01:40.783Z"
   },
   {
    "duration": 67,
    "start_time": "2024-06-13T12:01:41.204Z"
   },
   {
    "duration": 2,
    "start_time": "2024-06-13T12:01:41.274Z"
   },
   {
    "duration": 6,
    "start_time": "2024-06-13T12:01:41.278Z"
   },
   {
    "duration": 19,
    "start_time": "2024-06-13T12:01:41.286Z"
   },
   {
    "duration": 81,
    "start_time": "2024-06-13T12:01:41.306Z"
   },
   {
    "duration": 90,
    "start_time": "2024-06-13T12:01:41.389Z"
   },
   {
    "duration": 8,
    "start_time": "2024-06-13T12:01:41.481Z"
   },
   {
    "duration": 35,
    "start_time": "2024-06-13T12:01:41.501Z"
   },
   {
    "duration": 2,
    "start_time": "2024-06-13T12:01:41.538Z"
   },
   {
    "duration": 12,
    "start_time": "2024-06-13T12:01:41.541Z"
   },
   {
    "duration": 9,
    "start_time": "2024-06-13T12:01:41.556Z"
   },
   {
    "duration": 4,
    "start_time": "2024-06-13T12:01:41.566Z"
   },
   {
    "duration": 12,
    "start_time": "2024-06-13T12:01:41.571Z"
   },
   {
    "duration": 110,
    "start_time": "2024-06-13T12:01:41.584Z"
   },
   {
    "duration": 0,
    "start_time": "2024-06-13T12:01:41.696Z"
   },
   {
    "duration": 0,
    "start_time": "2024-06-13T12:01:41.696Z"
   },
   {
    "duration": 0,
    "start_time": "2024-06-13T12:01:41.697Z"
   },
   {
    "duration": 0,
    "start_time": "2024-06-13T12:01:41.698Z"
   },
   {
    "duration": 0,
    "start_time": "2024-06-13T12:01:41.702Z"
   },
   {
    "duration": 0,
    "start_time": "2024-06-13T12:01:41.702Z"
   },
   {
    "duration": 0,
    "start_time": "2024-06-13T12:01:41.703Z"
   },
   {
    "duration": 2492,
    "start_time": "2024-06-13T12:02:00.452Z"
   },
   {
    "duration": 917,
    "start_time": "2024-06-13T12:02:02.946Z"
   },
   {
    "duration": 322,
    "start_time": "2024-06-13T12:02:03.865Z"
   },
   {
    "duration": 40,
    "start_time": "2024-06-13T12:02:04.188Z"
   },
   {
    "duration": 2,
    "start_time": "2024-06-13T12:02:04.231Z"
   },
   {
    "duration": 21,
    "start_time": "2024-06-13T12:02:04.235Z"
   },
   {
    "duration": 18,
    "start_time": "2024-06-13T12:02:04.257Z"
   },
   {
    "duration": 79,
    "start_time": "2024-06-13T12:02:04.276Z"
   },
   {
    "duration": 112,
    "start_time": "2024-06-13T12:02:04.356Z"
   },
   {
    "duration": 10,
    "start_time": "2024-06-13T12:02:04.470Z"
   },
   {
    "duration": 69,
    "start_time": "2024-06-13T12:02:04.483Z"
   },
   {
    "duration": 2,
    "start_time": "2024-06-13T12:02:04.554Z"
   },
   {
    "duration": 7,
    "start_time": "2024-06-13T12:02:04.557Z"
   },
   {
    "duration": 6,
    "start_time": "2024-06-13T12:02:04.567Z"
   },
   {
    "duration": 13,
    "start_time": "2024-06-13T12:02:04.575Z"
   },
   {
    "duration": 8,
    "start_time": "2024-06-13T12:02:04.590Z"
   },
   {
    "duration": 6,
    "start_time": "2024-06-13T12:02:04.601Z"
   },
   {
    "duration": 3,
    "start_time": "2024-06-13T12:02:04.609Z"
   },
   {
    "duration": 8,
    "start_time": "2024-06-13T12:02:04.614Z"
   },
   {
    "duration": 14,
    "start_time": "2024-06-13T12:02:04.623Z"
   },
   {
    "duration": 13,
    "start_time": "2024-06-13T12:02:04.638Z"
   },
   {
    "duration": 261,
    "start_time": "2024-06-13T12:02:04.653Z"
   },
   {
    "duration": 0,
    "start_time": "2024-06-13T12:02:04.916Z"
   },
   {
    "duration": 0,
    "start_time": "2024-06-13T12:02:04.917Z"
   },
   {
    "duration": 4,
    "start_time": "2024-06-13T12:04:57.335Z"
   },
   {
    "duration": 4,
    "start_time": "2024-06-13T12:13:11.520Z"
   },
   {
    "duration": 11,
    "start_time": "2024-06-13T12:13:11.721Z"
   },
   {
    "duration": 388,
    "start_time": "2024-06-13T12:13:45.180Z"
   },
   {
    "duration": 6,
    "start_time": "2024-06-13T12:13:48.892Z"
   },
   {
    "duration": 140,
    "start_time": "2024-06-13T12:13:49.117Z"
   },
   {
    "duration": 2464,
    "start_time": "2024-06-13T12:18:00.205Z"
   },
   {
    "duration": 1159,
    "start_time": "2024-06-13T12:18:02.671Z"
   },
   {
    "duration": 417,
    "start_time": "2024-06-13T12:18:03.832Z"
   },
   {
    "duration": 43,
    "start_time": "2024-06-13T12:18:04.251Z"
   },
   {
    "duration": 3,
    "start_time": "2024-06-13T12:18:04.296Z"
   },
   {
    "duration": 12,
    "start_time": "2024-06-13T12:18:04.302Z"
   },
   {
    "duration": 17,
    "start_time": "2024-06-13T12:18:04.315Z"
   },
   {
    "duration": 101,
    "start_time": "2024-06-13T12:18:04.333Z"
   },
   {
    "duration": 9,
    "start_time": "2024-06-13T12:18:04.436Z"
   },
   {
    "duration": 47,
    "start_time": "2024-06-13T12:18:04.447Z"
   },
   {
    "duration": 2,
    "start_time": "2024-06-13T12:18:04.495Z"
   },
   {
    "duration": 19,
    "start_time": "2024-06-13T12:18:04.498Z"
   },
   {
    "duration": 7,
    "start_time": "2024-06-13T12:18:04.518Z"
   },
   {
    "duration": 13,
    "start_time": "2024-06-13T12:18:04.526Z"
   },
   {
    "duration": 8,
    "start_time": "2024-06-13T12:18:04.541Z"
   },
   {
    "duration": 8,
    "start_time": "2024-06-13T12:18:04.550Z"
   },
   {
    "duration": 5,
    "start_time": "2024-06-13T12:18:04.559Z"
   },
   {
    "duration": 7,
    "start_time": "2024-06-13T12:18:04.566Z"
   },
   {
    "duration": 12,
    "start_time": "2024-06-13T12:18:04.575Z"
   },
   {
    "duration": 9,
    "start_time": "2024-06-13T12:18:04.588Z"
   },
   {
    "duration": 7,
    "start_time": "2024-06-13T12:18:04.598Z"
   },
   {
    "duration": 104,
    "start_time": "2024-06-13T12:18:04.606Z"
   },
   {
    "duration": 3,
    "start_time": "2024-06-13T12:20:07.452Z"
   },
   {
    "duration": 13,
    "start_time": "2024-06-13T12:20:23.646Z"
   },
   {
    "duration": 11,
    "start_time": "2024-06-13T12:23:56.057Z"
   },
   {
    "duration": 11,
    "start_time": "2024-06-13T12:24:43.873Z"
   },
   {
    "duration": 10,
    "start_time": "2024-06-13T12:25:02.779Z"
   },
   {
    "duration": 6,
    "start_time": "2024-06-13T12:25:13.828Z"
   },
   {
    "duration": 73,
    "start_time": "2024-06-13T12:28:37.790Z"
   },
   {
    "duration": 78,
    "start_time": "2024-06-13T12:29:44.939Z"
   },
   {
    "duration": 2406,
    "start_time": "2024-06-13T12:30:32.727Z"
   },
   {
    "duration": 1171,
    "start_time": "2024-06-13T12:30:35.135Z"
   },
   {
    "duration": 412,
    "start_time": "2024-06-13T12:30:36.307Z"
   },
   {
    "duration": 39,
    "start_time": "2024-06-13T12:30:36.721Z"
   },
   {
    "duration": 14,
    "start_time": "2024-06-13T12:30:36.762Z"
   },
   {
    "duration": 57,
    "start_time": "2024-06-13T12:30:36.777Z"
   },
   {
    "duration": 6,
    "start_time": "2024-06-13T12:30:36.835Z"
   },
   {
    "duration": 21,
    "start_time": "2024-06-13T12:30:36.842Z"
   },
   {
    "duration": 47,
    "start_time": "2024-06-13T12:30:36.865Z"
   },
   {
    "duration": 3,
    "start_time": "2024-06-13T12:30:36.914Z"
   },
   {
    "duration": 10,
    "start_time": "2024-06-13T12:30:36.918Z"
   },
   {
    "duration": 7,
    "start_time": "2024-06-13T12:30:36.929Z"
   },
   {
    "duration": 13,
    "start_time": "2024-06-13T12:30:36.937Z"
   },
   {
    "duration": 20,
    "start_time": "2024-06-13T12:30:36.951Z"
   },
   {
    "duration": 8,
    "start_time": "2024-06-13T12:30:36.972Z"
   },
   {
    "duration": 7,
    "start_time": "2024-06-13T12:30:36.981Z"
   },
   {
    "duration": 11,
    "start_time": "2024-06-13T12:30:36.989Z"
   },
   {
    "duration": 8,
    "start_time": "2024-06-13T12:30:37.001Z"
   },
   {
    "duration": 18,
    "start_time": "2024-06-13T12:30:37.010Z"
   },
   {
    "duration": 97,
    "start_time": "2024-06-13T12:30:37.029Z"
   },
   {
    "duration": 15171,
    "start_time": "2024-06-13T12:31:26.327Z"
   },
   {
    "duration": 2398,
    "start_time": "2024-06-13T12:33:01.928Z"
   },
   {
    "duration": 1169,
    "start_time": "2024-06-13T12:33:04.328Z"
   },
   {
    "duration": 409,
    "start_time": "2024-06-13T12:33:05.499Z"
   },
   {
    "duration": 40,
    "start_time": "2024-06-13T12:33:05.910Z"
   },
   {
    "duration": 16,
    "start_time": "2024-06-13T12:33:05.951Z"
   },
   {
    "duration": 20,
    "start_time": "2024-06-13T12:33:05.968Z"
   },
   {
    "duration": 43,
    "start_time": "2024-06-13T12:33:05.989Z"
   },
   {
    "duration": 33,
    "start_time": "2024-06-13T12:33:06.034Z"
   },
   {
    "duration": 66,
    "start_time": "2024-06-13T12:33:06.069Z"
   },
   {
    "duration": 3,
    "start_time": "2024-06-13T12:33:06.137Z"
   },
   {
    "duration": 20,
    "start_time": "2024-06-13T12:33:06.141Z"
   },
   {
    "duration": 5,
    "start_time": "2024-06-13T12:33:06.163Z"
   },
   {
    "duration": 13,
    "start_time": "2024-06-13T12:33:06.169Z"
   },
   {
    "duration": 20,
    "start_time": "2024-06-13T12:33:06.183Z"
   },
   {
    "duration": 5,
    "start_time": "2024-06-13T12:33:06.204Z"
   },
   {
    "duration": 12,
    "start_time": "2024-06-13T12:33:06.210Z"
   },
   {
    "duration": 29,
    "start_time": "2024-06-13T12:33:06.223Z"
   },
   {
    "duration": 55,
    "start_time": "2024-06-13T12:33:06.253Z"
   },
   {
    "duration": 6358,
    "start_time": "2024-06-13T12:33:06.309Z"
   },
   {
    "duration": 0,
    "start_time": "2024-06-13T12:33:12.669Z"
   },
   {
    "duration": 0,
    "start_time": "2024-06-13T12:33:12.670Z"
   },
   {
    "duration": 3,
    "start_time": "2024-06-13T12:33:37.818Z"
   },
   {
    "duration": 3,
    "start_time": "2024-06-13T12:33:38.077Z"
   },
   {
    "duration": 6030,
    "start_time": "2024-06-13T12:33:38.334Z"
   },
   {
    "duration": 20,
    "start_time": "2024-06-13T12:34:52.615Z"
   },
   {
    "duration": 8,
    "start_time": "2024-06-13T12:34:52.867Z"
   },
   {
    "duration": 31,
    "start_time": "2024-06-13T12:34:53.102Z"
   },
   {
    "duration": 3,
    "start_time": "2024-06-13T12:34:53.312Z"
   },
   {
    "duration": 3,
    "start_time": "2024-06-13T12:34:53.543Z"
   },
   {
    "duration": 2,
    "start_time": "2024-06-13T12:34:53.820Z"
   },
   {
    "duration": 2,
    "start_time": "2024-06-13T12:34:54.034Z"
   },
   {
    "duration": 3,
    "start_time": "2024-06-13T12:34:54.261Z"
   },
   {
    "duration": 3,
    "start_time": "2024-06-13T12:34:54.500Z"
   },
   {
    "duration": 3,
    "start_time": "2024-06-13T12:34:54.721Z"
   },
   {
    "duration": 2,
    "start_time": "2024-06-13T12:34:54.962Z"
   },
   {
    "duration": 3,
    "start_time": "2024-06-13T12:34:55.246Z"
   },
   {
    "duration": 6538,
    "start_time": "2024-06-13T12:34:55.500Z"
   },
   {
    "duration": 1,
    "start_time": "2024-06-13T12:35:02.039Z"
   },
   {
    "duration": 2432,
    "start_time": "2024-06-13T12:35:56.414Z"
   },
   {
    "duration": 1130,
    "start_time": "2024-06-13T12:35:58.848Z"
   },
   {
    "duration": 477,
    "start_time": "2024-06-13T12:35:59.979Z"
   },
   {
    "duration": 38,
    "start_time": "2024-06-13T12:36:00.458Z"
   },
   {
    "duration": 47,
    "start_time": "2024-06-13T12:36:00.498Z"
   },
   {
    "duration": 37,
    "start_time": "2024-06-13T12:36:00.546Z"
   },
   {
    "duration": 51,
    "start_time": "2024-06-13T12:36:00.585Z"
   },
   {
    "duration": 68,
    "start_time": "2024-06-13T12:36:00.638Z"
   },
   {
    "duration": 56,
    "start_time": "2024-06-13T12:36:00.707Z"
   },
   {
    "duration": 161,
    "start_time": "2024-06-13T12:36:00.765Z"
   },
   {
    "duration": 17,
    "start_time": "2024-06-13T12:36:00.927Z"
   },
   {
    "duration": 53,
    "start_time": "2024-06-13T12:36:00.945Z"
   },
   {
    "duration": 46,
    "start_time": "2024-06-13T12:36:00.999Z"
   },
   {
    "duration": 54,
    "start_time": "2024-06-13T12:36:01.048Z"
   },
   {
    "duration": 43,
    "start_time": "2024-06-13T12:36:01.103Z"
   },
   {
    "duration": 66,
    "start_time": "2024-06-13T12:36:01.147Z"
   },
   {
    "duration": 105,
    "start_time": "2024-06-13T12:36:01.215Z"
   },
   {
    "duration": 64,
    "start_time": "2024-06-13T12:36:01.321Z"
   },
   {
    "duration": 42,
    "start_time": "2024-06-13T12:36:01.386Z"
   },
   {
    "duration": 16243,
    "start_time": "2024-06-13T12:36:01.429Z"
   },
   {
    "duration": 0,
    "start_time": "2024-06-13T12:36:17.673Z"
   },
   {
    "duration": 0,
    "start_time": "2024-06-13T12:36:17.674Z"
   },
   {
    "duration": 22,
    "start_time": "2024-06-13T12:38:23.195Z"
   },
   {
    "duration": 9,
    "start_time": "2024-06-13T12:39:53.490Z"
   },
   {
    "duration": 7,
    "start_time": "2024-06-13T12:40:04.104Z"
   },
   {
    "duration": 21,
    "start_time": "2024-06-13T12:40:05.104Z"
   },
   {
    "duration": 32,
    "start_time": "2024-06-13T12:40:05.384Z"
   },
   {
    "duration": 2,
    "start_time": "2024-06-13T12:40:05.624Z"
   },
   {
    "duration": 2,
    "start_time": "2024-06-13T12:40:05.828Z"
   },
   {
    "duration": 3,
    "start_time": "2024-06-13T12:40:06.042Z"
   },
   {
    "duration": 2,
    "start_time": "2024-06-13T12:40:06.242Z"
   },
   {
    "duration": 3,
    "start_time": "2024-06-13T12:40:06.452Z"
   },
   {
    "duration": 3,
    "start_time": "2024-06-13T12:40:06.668Z"
   },
   {
    "duration": 4,
    "start_time": "2024-06-13T12:40:06.877Z"
   },
   {
    "duration": 2,
    "start_time": "2024-06-13T12:40:07.081Z"
   },
   {
    "duration": 3,
    "start_time": "2024-06-13T12:40:07.277Z"
   },
   {
    "duration": 2459,
    "start_time": "2024-06-13T12:40:12.382Z"
   },
   {
    "duration": 1185,
    "start_time": "2024-06-13T12:40:14.843Z"
   },
   {
    "duration": 349,
    "start_time": "2024-06-13T12:40:16.029Z"
   },
   {
    "duration": 43,
    "start_time": "2024-06-13T12:40:16.379Z"
   },
   {
    "duration": 15,
    "start_time": "2024-06-13T12:40:16.423Z"
   },
   {
    "duration": 9,
    "start_time": "2024-06-13T12:40:16.439Z"
   },
   {
    "duration": 7,
    "start_time": "2024-06-13T12:40:16.449Z"
   },
   {
    "duration": 28,
    "start_time": "2024-06-13T12:40:16.457Z"
   },
   {
    "duration": 23,
    "start_time": "2024-06-13T12:40:16.486Z"
   },
   {
    "duration": 32,
    "start_time": "2024-06-13T12:40:16.511Z"
   },
   {
    "duration": 2,
    "start_time": "2024-06-13T12:40:16.544Z"
   },
   {
    "duration": 17,
    "start_time": "2024-06-13T12:40:16.547Z"
   },
   {
    "duration": 9,
    "start_time": "2024-06-13T12:40:16.565Z"
   },
   {
    "duration": 19,
    "start_time": "2024-06-13T12:40:16.576Z"
   },
   {
    "duration": 14,
    "start_time": "2024-06-13T12:40:16.596Z"
   },
   {
    "duration": 4,
    "start_time": "2024-06-13T12:40:16.611Z"
   },
   {
    "duration": 11,
    "start_time": "2024-06-13T12:40:16.616Z"
   },
   {
    "duration": 6,
    "start_time": "2024-06-13T12:40:16.628Z"
   },
   {
    "duration": 13,
    "start_time": "2024-06-13T12:40:16.635Z"
   },
   {
    "duration": 16534,
    "start_time": "2024-06-13T12:40:16.650Z"
   },
   {
    "duration": 0,
    "start_time": "2024-06-13T12:40:33.186Z"
   },
   {
    "duration": 0,
    "start_time": "2024-06-13T12:40:33.187Z"
   },
   {
    "duration": 2431,
    "start_time": "2024-06-13T12:40:55.867Z"
   },
   {
    "duration": 1193,
    "start_time": "2024-06-13T12:40:58.300Z"
   },
   {
    "duration": 346,
    "start_time": "2024-06-13T12:40:59.494Z"
   },
   {
    "duration": 38,
    "start_time": "2024-06-13T12:40:59.842Z"
   },
   {
    "duration": 13,
    "start_time": "2024-06-13T12:40:59.881Z"
   },
   {
    "duration": 35,
    "start_time": "2024-06-13T12:40:59.895Z"
   },
   {
    "duration": 29,
    "start_time": "2024-06-13T12:40:59.931Z"
   },
   {
    "duration": 19,
    "start_time": "2024-06-13T12:40:59.962Z"
   },
   {
    "duration": 27,
    "start_time": "2024-06-13T12:40:59.982Z"
   },
   {
    "duration": 73,
    "start_time": "2024-06-13T12:41:00.012Z"
   },
   {
    "duration": 24,
    "start_time": "2024-06-13T12:41:00.087Z"
   },
   {
    "duration": 45,
    "start_time": "2024-06-13T12:41:00.113Z"
   },
   {
    "duration": 35,
    "start_time": "2024-06-13T12:41:00.159Z"
   },
   {
    "duration": 52,
    "start_time": "2024-06-13T12:41:00.196Z"
   },
   {
    "duration": 42,
    "start_time": "2024-06-13T12:41:00.250Z"
   },
   {
    "duration": 71,
    "start_time": "2024-06-13T12:41:00.294Z"
   },
   {
    "duration": 63,
    "start_time": "2024-06-13T12:41:00.366Z"
   },
   {
    "duration": 36,
    "start_time": "2024-06-13T12:41:00.431Z"
   },
   {
    "duration": 86,
    "start_time": "2024-06-13T12:41:00.469Z"
   },
   {
    "duration": 25386,
    "start_time": "2024-06-13T12:41:00.556Z"
   },
   {
    "duration": 0,
    "start_time": "2024-06-13T12:41:25.944Z"
   },
   {
    "duration": 0,
    "start_time": "2024-06-13T12:41:25.946Z"
   },
   {
    "duration": 2442,
    "start_time": "2024-06-13T12:43:17.089Z"
   },
   {
    "duration": 1165,
    "start_time": "2024-06-13T12:43:19.533Z"
   },
   {
    "duration": 339,
    "start_time": "2024-06-13T12:43:20.699Z"
   },
   {
    "duration": 40,
    "start_time": "2024-06-13T12:43:21.040Z"
   },
   {
    "duration": 14,
    "start_time": "2024-06-13T12:43:21.081Z"
   },
   {
    "duration": 10,
    "start_time": "2024-06-13T12:43:21.097Z"
   },
   {
    "duration": 37,
    "start_time": "2024-06-13T12:43:21.108Z"
   },
   {
    "duration": 15,
    "start_time": "2024-06-13T12:43:21.147Z"
   },
   {
    "duration": 10,
    "start_time": "2024-06-13T12:43:21.164Z"
   },
   {
    "duration": 1041,
    "start_time": "2024-06-13T12:43:21.176Z"
   },
   {
    "duration": 0,
    "start_time": "2024-06-13T12:43:22.219Z"
   },
   {
    "duration": 0,
    "start_time": "2024-06-13T12:43:22.220Z"
   },
   {
    "duration": 0,
    "start_time": "2024-06-13T12:43:22.221Z"
   },
   {
    "duration": 0,
    "start_time": "2024-06-13T12:43:22.222Z"
   },
   {
    "duration": 0,
    "start_time": "2024-06-13T12:43:22.223Z"
   },
   {
    "duration": 0,
    "start_time": "2024-06-13T12:43:22.224Z"
   },
   {
    "duration": 0,
    "start_time": "2024-06-13T12:43:22.225Z"
   },
   {
    "duration": 0,
    "start_time": "2024-06-13T12:43:22.226Z"
   },
   {
    "duration": 0,
    "start_time": "2024-06-13T12:43:22.227Z"
   },
   {
    "duration": 0,
    "start_time": "2024-06-13T12:43:22.228Z"
   },
   {
    "duration": 0,
    "start_time": "2024-06-13T12:43:22.229Z"
   },
   {
    "duration": 0,
    "start_time": "2024-06-13T12:43:22.230Z"
   },
   {
    "duration": 0,
    "start_time": "2024-06-13T12:43:22.231Z"
   },
   {
    "duration": 2408,
    "start_time": "2024-06-13T12:43:57.011Z"
   },
   {
    "duration": 1237,
    "start_time": "2024-06-13T12:43:59.421Z"
   },
   {
    "duration": 469,
    "start_time": "2024-06-13T12:44:00.659Z"
   },
   {
    "duration": 38,
    "start_time": "2024-06-13T12:44:01.130Z"
   },
   {
    "duration": 38,
    "start_time": "2024-06-13T12:44:01.170Z"
   },
   {
    "duration": 123,
    "start_time": "2024-06-13T12:44:01.209Z"
   },
   {
    "duration": 84,
    "start_time": "2024-06-13T12:44:01.333Z"
   },
   {
    "duration": 118,
    "start_time": "2024-06-13T12:44:01.419Z"
   },
   {
    "duration": 146,
    "start_time": "2024-06-13T12:44:01.539Z"
   },
   {
    "duration": 71,
    "start_time": "2024-06-13T12:44:01.686Z"
   },
   {
    "duration": 59,
    "start_time": "2024-06-13T12:44:01.759Z"
   },
   {
    "duration": 33,
    "start_time": "2024-06-13T12:44:01.819Z"
   },
   {
    "duration": 33,
    "start_time": "2024-06-13T12:44:01.853Z"
   },
   {
    "duration": 43,
    "start_time": "2024-06-13T12:44:01.888Z"
   },
   {
    "duration": 36,
    "start_time": "2024-06-13T12:44:01.932Z"
   },
   {
    "duration": 34,
    "start_time": "2024-06-13T12:44:01.970Z"
   },
   {
    "duration": 20,
    "start_time": "2024-06-13T12:44:02.005Z"
   },
   {
    "duration": 17,
    "start_time": "2024-06-13T12:44:02.027Z"
   },
   {
    "duration": 26,
    "start_time": "2024-06-13T12:44:02.045Z"
   },
   {
    "duration": 37,
    "start_time": "2024-06-13T12:44:02.072Z"
   },
   {
    "duration": 6154,
    "start_time": "2024-06-13T12:44:02.110Z"
   },
   {
    "duration": 0,
    "start_time": "2024-06-13T12:44:08.265Z"
   },
   {
    "duration": 0,
    "start_time": "2024-06-13T12:44:08.266Z"
   },
   {
    "duration": 2411,
    "start_time": "2024-06-13T12:45:23.910Z"
   },
   {
    "duration": 1168,
    "start_time": "2024-06-13T12:45:26.323Z"
   },
   {
    "duration": 366,
    "start_time": "2024-06-13T12:45:27.495Z"
   },
   {
    "duration": 38,
    "start_time": "2024-06-13T12:45:27.862Z"
   },
   {
    "duration": 14,
    "start_time": "2024-06-13T12:45:27.901Z"
   },
   {
    "duration": 21,
    "start_time": "2024-06-13T12:45:27.916Z"
   },
   {
    "duration": 15,
    "start_time": "2024-06-13T12:45:27.938Z"
   },
   {
    "duration": 31,
    "start_time": "2024-06-13T12:45:27.955Z"
   },
   {
    "duration": 23,
    "start_time": "2024-06-13T12:45:27.988Z"
   },
   {
    "duration": 10,
    "start_time": "2024-06-13T12:45:28.012Z"
   },
   {
    "duration": 8,
    "start_time": "2024-06-13T12:45:28.023Z"
   },
   {
    "duration": 7,
    "start_time": "2024-06-13T12:45:28.032Z"
   },
   {
    "duration": 10,
    "start_time": "2024-06-13T12:45:28.040Z"
   },
   {
    "duration": 15,
    "start_time": "2024-06-13T12:45:28.052Z"
   },
   {
    "duration": 19,
    "start_time": "2024-06-13T12:45:28.069Z"
   },
   {
    "duration": 5,
    "start_time": "2024-06-13T12:45:28.090Z"
   },
   {
    "duration": 10,
    "start_time": "2024-06-13T12:45:28.096Z"
   },
   {
    "duration": 6,
    "start_time": "2024-06-13T12:45:28.107Z"
   },
   {
    "duration": 6,
    "start_time": "2024-06-13T12:45:28.114Z"
   },
   {
    "duration": 6539,
    "start_time": "2024-06-13T12:45:28.121Z"
   },
   {
    "duration": 0,
    "start_time": "2024-06-13T12:45:34.661Z"
   },
   {
    "duration": 0,
    "start_time": "2024-06-13T12:45:34.662Z"
   },
   {
    "duration": 2456,
    "start_time": "2024-06-13T12:46:22.623Z"
   },
   {
    "duration": 1197,
    "start_time": "2024-06-13T12:46:25.081Z"
   },
   {
    "duration": 294,
    "start_time": "2024-06-13T12:46:26.279Z"
   },
   {
    "duration": 38,
    "start_time": "2024-06-13T12:46:26.575Z"
   },
   {
    "duration": 14,
    "start_time": "2024-06-13T12:46:26.615Z"
   },
   {
    "duration": 10,
    "start_time": "2024-06-13T12:46:26.630Z"
   },
   {
    "duration": 7,
    "start_time": "2024-06-13T12:46:26.642Z"
   },
   {
    "duration": 11,
    "start_time": "2024-06-13T12:46:26.650Z"
   },
   {
    "duration": 42,
    "start_time": "2024-06-13T12:46:26.663Z"
   },
   {
    "duration": 9,
    "start_time": "2024-06-13T12:46:26.707Z"
   },
   {
    "duration": 10,
    "start_time": "2024-06-13T12:46:26.717Z"
   },
   {
    "duration": 6,
    "start_time": "2024-06-13T12:46:26.728Z"
   },
   {
    "duration": 9,
    "start_time": "2024-06-13T12:46:26.735Z"
   },
   {
    "duration": 8,
    "start_time": "2024-06-13T12:46:26.745Z"
   },
   {
    "duration": 6,
    "start_time": "2024-06-13T12:46:26.755Z"
   },
   {
    "duration": 5,
    "start_time": "2024-06-13T12:46:26.763Z"
   },
   {
    "duration": 6,
    "start_time": "2024-06-13T12:46:26.769Z"
   },
   {
    "duration": 6,
    "start_time": "2024-06-13T12:46:26.776Z"
   },
   {
    "duration": 6,
    "start_time": "2024-06-13T12:46:26.783Z"
   },
   {
    "duration": 15612,
    "start_time": "2024-06-13T12:46:26.790Z"
   },
   {
    "duration": 0,
    "start_time": "2024-06-13T12:46:42.404Z"
   },
   {
    "duration": 0,
    "start_time": "2024-06-13T12:46:42.405Z"
   },
   {
    "duration": 2404,
    "start_time": "2024-06-13T12:48:33.768Z"
   },
   {
    "duration": 1177,
    "start_time": "2024-06-13T12:48:36.174Z"
   },
   {
    "duration": 309,
    "start_time": "2024-06-13T12:48:37.352Z"
   },
   {
    "duration": 39,
    "start_time": "2024-06-13T12:48:37.662Z"
   },
   {
    "duration": 14,
    "start_time": "2024-06-13T12:48:37.704Z"
   },
   {
    "duration": 11,
    "start_time": "2024-06-13T12:48:37.720Z"
   },
   {
    "duration": 17,
    "start_time": "2024-06-13T12:48:37.732Z"
   },
   {
    "duration": 14,
    "start_time": "2024-06-13T12:48:37.750Z"
   },
   {
    "duration": 21,
    "start_time": "2024-06-13T12:48:37.765Z"
   },
   {
    "duration": 23,
    "start_time": "2024-06-13T12:48:37.787Z"
   },
   {
    "duration": 2,
    "start_time": "2024-06-13T12:48:37.811Z"
   },
   {
    "duration": 5,
    "start_time": "2024-06-13T12:48:37.814Z"
   },
   {
    "duration": 3,
    "start_time": "2024-06-13T12:48:37.821Z"
   },
   {
    "duration": 4,
    "start_time": "2024-06-13T12:48:37.826Z"
   },
   {
    "duration": 22,
    "start_time": "2024-06-13T12:48:37.831Z"
   },
   {
    "duration": 16,
    "start_time": "2024-06-13T12:48:37.855Z"
   },
   {
    "duration": 9,
    "start_time": "2024-06-13T12:48:37.872Z"
   },
   {
    "duration": 7,
    "start_time": "2024-06-13T12:48:37.882Z"
   },
   {
    "duration": 23,
    "start_time": "2024-06-13T12:48:37.890Z"
   },
   {
    "duration": 15452,
    "start_time": "2024-06-13T12:48:37.914Z"
   },
   {
    "duration": 0,
    "start_time": "2024-06-13T12:48:53.368Z"
   },
   {
    "duration": 0,
    "start_time": "2024-06-13T12:48:53.368Z"
   },
   {
    "duration": 2480,
    "start_time": "2024-06-13T12:50:35.445Z"
   },
   {
    "duration": 1150,
    "start_time": "2024-06-13T12:50:37.927Z"
   },
   {
    "duration": 332,
    "start_time": "2024-06-13T12:50:39.079Z"
   },
   {
    "duration": 39,
    "start_time": "2024-06-13T12:50:39.413Z"
   },
   {
    "duration": 13,
    "start_time": "2024-06-13T12:50:39.453Z"
   },
   {
    "duration": 13,
    "start_time": "2024-06-13T12:50:39.468Z"
   },
   {
    "duration": 22,
    "start_time": "2024-06-13T12:50:39.482Z"
   },
   {
    "duration": 18,
    "start_time": "2024-06-13T12:50:39.506Z"
   },
   {
    "duration": 21,
    "start_time": "2024-06-13T12:50:39.526Z"
   },
   {
    "duration": 14,
    "start_time": "2024-06-13T12:50:39.550Z"
   },
   {
    "duration": 5,
    "start_time": "2024-06-13T12:50:39.565Z"
   },
   {
    "duration": 75,
    "start_time": "2024-06-13T12:50:39.571Z"
   },
   {
    "duration": 38,
    "start_time": "2024-06-13T12:50:39.647Z"
   },
   {
    "duration": 37,
    "start_time": "2024-06-13T12:50:39.687Z"
   },
   {
    "duration": 4,
    "start_time": "2024-06-13T12:50:39.726Z"
   },
   {
    "duration": 5,
    "start_time": "2024-06-13T12:50:39.731Z"
   },
   {
    "duration": 5,
    "start_time": "2024-06-13T12:50:39.737Z"
   },
   {
    "duration": 7,
    "start_time": "2024-06-13T12:50:39.743Z"
   },
   {
    "duration": 8,
    "start_time": "2024-06-13T12:50:39.751Z"
   },
   {
    "duration": 8101,
    "start_time": "2024-06-13T12:50:39.760Z"
   },
   {
    "duration": 0,
    "start_time": "2024-06-13T12:50:47.862Z"
   },
   {
    "duration": 0,
    "start_time": "2024-06-13T12:50:47.863Z"
   },
   {
    "duration": 2492,
    "start_time": "2024-06-13T12:54:12.400Z"
   },
   {
    "duration": 1219,
    "start_time": "2024-06-13T12:54:14.894Z"
   },
   {
    "duration": 278,
    "start_time": "2024-06-13T12:54:16.115Z"
   },
   {
    "duration": 41,
    "start_time": "2024-06-13T12:54:16.394Z"
   },
   {
    "duration": 13,
    "start_time": "2024-06-13T12:54:16.436Z"
   },
   {
    "duration": 9,
    "start_time": "2024-06-13T12:54:16.450Z"
   },
   {
    "duration": 9,
    "start_time": "2024-06-13T12:54:16.460Z"
   },
   {
    "duration": 12,
    "start_time": "2024-06-13T12:54:16.470Z"
   },
   {
    "duration": 34,
    "start_time": "2024-06-13T12:54:16.483Z"
   },
   {
    "duration": 10,
    "start_time": "2024-06-13T12:54:16.519Z"
   },
   {
    "duration": 6,
    "start_time": "2024-06-13T12:54:16.530Z"
   },
   {
    "duration": 5,
    "start_time": "2024-06-13T12:54:16.537Z"
   },
   {
    "duration": 5,
    "start_time": "2024-06-13T12:54:16.543Z"
   },
   {
    "duration": 10,
    "start_time": "2024-06-13T12:54:16.549Z"
   },
   {
    "duration": 5,
    "start_time": "2024-06-13T12:54:16.560Z"
   },
   {
    "duration": 4,
    "start_time": "2024-06-13T12:54:16.567Z"
   },
   {
    "duration": 5,
    "start_time": "2024-06-13T12:54:16.572Z"
   },
   {
    "duration": 8,
    "start_time": "2024-06-13T12:54:16.578Z"
   },
   {
    "duration": 15,
    "start_time": "2024-06-13T12:54:16.587Z"
   },
   {
    "duration": 15600,
    "start_time": "2024-06-13T12:54:16.603Z"
   },
   {
    "duration": 0,
    "start_time": "2024-06-13T12:54:32.205Z"
   },
   {
    "duration": 0,
    "start_time": "2024-06-13T12:54:32.206Z"
   },
   {
    "duration": 2417,
    "start_time": "2024-06-13T12:57:10.596Z"
   },
   {
    "duration": 1194,
    "start_time": "2024-06-13T12:57:13.015Z"
   },
   {
    "duration": 358,
    "start_time": "2024-06-13T12:57:14.211Z"
   },
   {
    "duration": 40,
    "start_time": "2024-06-13T12:57:14.570Z"
   },
   {
    "duration": 14,
    "start_time": "2024-06-13T12:57:14.611Z"
   },
   {
    "duration": 10,
    "start_time": "2024-06-13T12:57:14.626Z"
   },
   {
    "duration": 11,
    "start_time": "2024-06-13T12:57:14.637Z"
   },
   {
    "duration": 13,
    "start_time": "2024-06-13T12:57:14.649Z"
   },
   {
    "duration": 28,
    "start_time": "2024-06-13T12:57:14.663Z"
   },
   {
    "duration": 9,
    "start_time": "2024-06-13T12:57:14.701Z"
   },
   {
    "duration": 2,
    "start_time": "2024-06-13T12:57:14.711Z"
   },
   {
    "duration": 12,
    "start_time": "2024-06-13T12:57:14.715Z"
   },
   {
    "duration": 18,
    "start_time": "2024-06-13T12:57:14.729Z"
   },
   {
    "duration": 23,
    "start_time": "2024-06-13T12:57:14.749Z"
   },
   {
    "duration": 28,
    "start_time": "2024-06-13T12:57:14.774Z"
   },
   {
    "duration": 4,
    "start_time": "2024-06-13T12:57:14.804Z"
   },
   {
    "duration": 5,
    "start_time": "2024-06-13T12:57:14.810Z"
   },
   {
    "duration": 46,
    "start_time": "2024-06-13T12:57:14.816Z"
   },
   {
    "duration": 44,
    "start_time": "2024-06-13T12:57:14.863Z"
   },
   {
    "duration": 6235,
    "start_time": "2024-06-13T12:57:14.908Z"
   },
   {
    "duration": 0,
    "start_time": "2024-06-13T12:57:21.145Z"
   },
   {
    "duration": 0,
    "start_time": "2024-06-13T12:57:21.146Z"
   },
   {
    "duration": 2435,
    "start_time": "2024-06-13T12:57:51.876Z"
   },
   {
    "duration": 1176,
    "start_time": "2024-06-13T12:57:54.313Z"
   },
   {
    "duration": 315,
    "start_time": "2024-06-13T12:57:55.490Z"
   },
   {
    "duration": 41,
    "start_time": "2024-06-13T12:57:55.806Z"
   },
   {
    "duration": 13,
    "start_time": "2024-06-13T12:57:55.848Z"
   },
   {
    "duration": 11,
    "start_time": "2024-06-13T12:57:55.862Z"
   },
   {
    "duration": 28,
    "start_time": "2024-06-13T12:57:55.874Z"
   },
   {
    "duration": 9,
    "start_time": "2024-06-13T12:57:55.904Z"
   },
   {
    "duration": 27,
    "start_time": "2024-06-13T12:57:55.914Z"
   },
   {
    "duration": 10,
    "start_time": "2024-06-13T12:57:55.942Z"
   },
   {
    "duration": 3,
    "start_time": "2024-06-13T12:57:55.953Z"
   },
   {
    "duration": 1150,
    "start_time": "2024-06-13T12:57:55.957Z"
   },
   {
    "duration": 0,
    "start_time": "2024-06-13T12:57:57.108Z"
   },
   {
    "duration": 0,
    "start_time": "2024-06-13T12:57:57.109Z"
   },
   {
    "duration": 0,
    "start_time": "2024-06-13T12:57:57.110Z"
   },
   {
    "duration": 0,
    "start_time": "2024-06-13T12:57:57.111Z"
   },
   {
    "duration": 0,
    "start_time": "2024-06-13T12:57:57.112Z"
   },
   {
    "duration": 0,
    "start_time": "2024-06-13T12:57:57.113Z"
   },
   {
    "duration": 0,
    "start_time": "2024-06-13T12:57:57.114Z"
   },
   {
    "duration": 0,
    "start_time": "2024-06-13T12:57:57.115Z"
   },
   {
    "duration": 0,
    "start_time": "2024-06-13T12:57:57.117Z"
   },
   {
    "duration": 0,
    "start_time": "2024-06-13T12:57:57.118Z"
   },
   {
    "duration": 2469,
    "start_time": "2024-06-13T12:58:28.703Z"
   },
   {
    "duration": 1199,
    "start_time": "2024-06-13T12:58:31.175Z"
   },
   {
    "duration": 292,
    "start_time": "2024-06-13T12:58:32.376Z"
   },
   {
    "duration": 39,
    "start_time": "2024-06-13T12:58:32.670Z"
   },
   {
    "duration": 14,
    "start_time": "2024-06-13T12:58:32.710Z"
   },
   {
    "duration": 10,
    "start_time": "2024-06-13T12:58:32.725Z"
   },
   {
    "duration": 9,
    "start_time": "2024-06-13T12:58:32.736Z"
   },
   {
    "duration": 12,
    "start_time": "2024-06-13T12:58:32.747Z"
   },
   {
    "duration": 51,
    "start_time": "2024-06-13T12:58:32.761Z"
   },
   {
    "duration": 11,
    "start_time": "2024-06-13T12:58:32.815Z"
   },
   {
    "duration": 2,
    "start_time": "2024-06-13T12:58:32.827Z"
   },
   {
    "duration": 49,
    "start_time": "2024-06-13T12:58:32.831Z"
   },
   {
    "duration": 10,
    "start_time": "2024-06-13T12:58:32.881Z"
   },
   {
    "duration": 20,
    "start_time": "2024-06-13T12:58:32.892Z"
   },
   {
    "duration": 22,
    "start_time": "2024-06-13T12:58:32.913Z"
   },
   {
    "duration": 5,
    "start_time": "2024-06-13T12:58:32.936Z"
   },
   {
    "duration": 10,
    "start_time": "2024-06-13T12:58:32.942Z"
   },
   {
    "duration": 7,
    "start_time": "2024-06-13T12:58:32.953Z"
   },
   {
    "duration": 5,
    "start_time": "2024-06-13T12:58:32.961Z"
   },
   {
    "duration": 18190,
    "start_time": "2024-06-13T12:58:32.967Z"
   },
   {
    "duration": 0,
    "start_time": "2024-06-13T12:58:51.160Z"
   },
   {
    "duration": 0,
    "start_time": "2024-06-13T12:58:51.161Z"
   },
   {
    "duration": 2480,
    "start_time": "2024-06-13T13:01:41.872Z"
   },
   {
    "duration": 1241,
    "start_time": "2024-06-13T13:01:44.354Z"
   },
   {
    "duration": 422,
    "start_time": "2024-06-13T13:01:45.596Z"
   },
   {
    "duration": 68,
    "start_time": "2024-06-13T13:01:46.021Z"
   },
   {
    "duration": 17,
    "start_time": "2024-06-13T13:01:46.091Z"
   },
   {
    "duration": 11,
    "start_time": "2024-06-13T13:01:46.110Z"
   },
   {
    "duration": 9,
    "start_time": "2024-06-13T13:01:46.123Z"
   },
   {
    "duration": 42,
    "start_time": "2024-06-13T13:01:46.134Z"
   },
   {
    "duration": 74,
    "start_time": "2024-06-13T13:01:46.178Z"
   },
   {
    "duration": 42,
    "start_time": "2024-06-13T13:01:46.254Z"
   },
   {
    "duration": 24,
    "start_time": "2024-06-13T13:01:46.298Z"
   },
   {
    "duration": 32,
    "start_time": "2024-06-13T13:01:46.324Z"
   },
   {
    "duration": 32,
    "start_time": "2024-06-13T13:01:46.358Z"
   },
   {
    "duration": 30,
    "start_time": "2024-06-13T13:01:46.391Z"
   },
   {
    "duration": 19,
    "start_time": "2024-06-13T13:01:46.422Z"
   },
   {
    "duration": 11,
    "start_time": "2024-06-13T13:01:46.442Z"
   },
   {
    "duration": 17,
    "start_time": "2024-06-13T13:01:46.454Z"
   },
   {
    "duration": 28,
    "start_time": "2024-06-13T13:01:46.472Z"
   },
   {
    "duration": 10,
    "start_time": "2024-06-13T13:01:46.502Z"
   },
   {
    "duration": 18363,
    "start_time": "2024-06-13T13:01:46.514Z"
   },
   {
    "duration": 0,
    "start_time": "2024-06-13T13:02:04.879Z"
   },
   {
    "duration": 0,
    "start_time": "2024-06-13T13:02:04.880Z"
   },
   {
    "duration": 2455,
    "start_time": "2024-06-13T13:05:12.663Z"
   },
   {
    "duration": 1168,
    "start_time": "2024-06-13T13:05:15.120Z"
   },
   {
    "duration": 436,
    "start_time": "2024-06-13T13:05:16.289Z"
   },
   {
    "duration": 39,
    "start_time": "2024-06-13T13:05:16.727Z"
   },
   {
    "duration": 15,
    "start_time": "2024-06-13T13:05:16.767Z"
   },
   {
    "duration": 15,
    "start_time": "2024-06-13T13:05:16.784Z"
   },
   {
    "duration": 10,
    "start_time": "2024-06-13T13:05:16.801Z"
   },
   {
    "duration": 14,
    "start_time": "2024-06-13T13:05:16.812Z"
   },
   {
    "duration": 22,
    "start_time": "2024-06-13T13:05:16.828Z"
   },
   {
    "duration": 10,
    "start_time": "2024-06-13T13:05:16.852Z"
   },
   {
    "duration": 2,
    "start_time": "2024-06-13T13:05:16.863Z"
   },
   {
    "duration": 134,
    "start_time": "2024-06-13T13:05:16.866Z"
   },
   {
    "duration": 3,
    "start_time": "2024-06-13T13:05:17.001Z"
   },
   {
    "duration": 8,
    "start_time": "2024-06-13T13:05:17.005Z"
   },
   {
    "duration": 19,
    "start_time": "2024-06-13T13:05:17.014Z"
   },
   {
    "duration": 38,
    "start_time": "2024-06-13T13:05:17.034Z"
   },
   {
    "duration": 12,
    "start_time": "2024-06-13T13:05:17.073Z"
   },
   {
    "duration": 5,
    "start_time": "2024-06-13T13:05:17.087Z"
   },
   {
    "duration": 13,
    "start_time": "2024-06-13T13:05:17.093Z"
   },
   {
    "duration": 23608,
    "start_time": "2024-06-13T13:05:17.107Z"
   },
   {
    "duration": 4,
    "start_time": "2024-06-13T13:05:40.716Z"
   },
   {
    "duration": 24,
    "start_time": "2024-06-13T13:05:40.721Z"
   },
   {
    "duration": 2414,
    "start_time": "2024-06-13T13:22:40.918Z"
   },
   {
    "duration": 1195,
    "start_time": "2024-06-13T13:22:43.334Z"
   },
   {
    "duration": 475,
    "start_time": "2024-06-13T13:22:44.530Z"
   },
   {
    "duration": 40,
    "start_time": "2024-06-13T13:22:45.007Z"
   },
   {
    "duration": 50,
    "start_time": "2024-06-13T13:22:45.049Z"
   },
   {
    "duration": 28,
    "start_time": "2024-06-13T13:22:45.100Z"
   },
   {
    "duration": 34,
    "start_time": "2024-06-13T13:22:45.130Z"
   },
   {
    "duration": 17,
    "start_time": "2024-06-13T13:22:45.165Z"
   },
   {
    "duration": 34,
    "start_time": "2024-06-13T13:22:45.183Z"
   },
   {
    "duration": 16,
    "start_time": "2024-06-13T13:22:45.219Z"
   },
   {
    "duration": 8,
    "start_time": "2024-06-13T13:22:45.236Z"
   },
   {
    "duration": 68,
    "start_time": "2024-06-13T13:22:45.245Z"
   },
   {
    "duration": 4,
    "start_time": "2024-06-13T13:22:45.314Z"
   },
   {
    "duration": 14,
    "start_time": "2024-06-13T13:22:45.319Z"
   },
   {
    "duration": 6,
    "start_time": "2024-06-13T13:22:45.335Z"
   },
   {
    "duration": 7,
    "start_time": "2024-06-13T13:22:45.342Z"
   },
   {
    "duration": 9,
    "start_time": "2024-06-13T13:22:45.350Z"
   },
   {
    "duration": 37,
    "start_time": "2024-06-13T13:22:45.360Z"
   },
   {
    "duration": 9,
    "start_time": "2024-06-13T13:22:45.399Z"
   },
   {
    "duration": 19386,
    "start_time": "2024-06-13T13:22:45.409Z"
   },
   {
    "duration": 0,
    "start_time": "2024-06-13T13:23:04.796Z"
   },
   {
    "duration": 7730,
    "start_time": "2024-06-14T09:41:26.461Z"
   },
   {
    "duration": 1416,
    "start_time": "2024-06-14T09:41:34.194Z"
   },
   {
    "duration": 500,
    "start_time": "2024-06-14T09:41:35.611Z"
   },
   {
    "duration": 43,
    "start_time": "2024-06-14T09:41:36.113Z"
   },
   {
    "duration": 14,
    "start_time": "2024-06-14T09:41:36.158Z"
   },
   {
    "duration": 30,
    "start_time": "2024-06-14T09:41:36.173Z"
   },
   {
    "duration": 9,
    "start_time": "2024-06-14T09:41:36.204Z"
   },
   {
    "duration": 15,
    "start_time": "2024-06-14T09:41:36.214Z"
   },
   {
    "duration": 25,
    "start_time": "2024-06-14T09:41:36.231Z"
   },
   {
    "duration": 10,
    "start_time": "2024-06-14T09:41:36.258Z"
   },
   {
    "duration": 2,
    "start_time": "2024-06-14T09:41:36.269Z"
   },
   {
    "duration": 68,
    "start_time": "2024-06-14T09:41:36.272Z"
   },
   {
    "duration": 3,
    "start_time": "2024-06-14T09:41:36.341Z"
   },
   {
    "duration": 18,
    "start_time": "2024-06-14T09:41:36.345Z"
   },
   {
    "duration": 4,
    "start_time": "2024-06-14T09:41:36.365Z"
   },
   {
    "duration": 5,
    "start_time": "2024-06-14T09:41:36.370Z"
   },
   {
    "duration": 6,
    "start_time": "2024-06-14T09:41:36.377Z"
   },
   {
    "duration": 18,
    "start_time": "2024-06-14T09:41:36.384Z"
   },
   {
    "duration": 4,
    "start_time": "2024-06-14T09:41:36.403Z"
   },
   {
    "duration": 26128,
    "start_time": "2024-06-14T09:41:36.409Z"
   },
   {
    "duration": 3,
    "start_time": "2024-06-14T09:42:02.538Z"
   },
   {
    "duration": 4,
    "start_time": "2024-06-14T09:46:08.293Z"
   },
   {
    "duration": 3,
    "start_time": "2024-06-14T09:46:08.543Z"
   },
   {
    "duration": 21060,
    "start_time": "2024-06-14T09:46:09.187Z"
   },
   {
    "duration": 2663,
    "start_time": "2024-06-14T09:46:42.398Z"
   },
   {
    "duration": 1185,
    "start_time": "2024-06-14T09:46:45.063Z"
   },
   {
    "duration": 356,
    "start_time": "2024-06-14T09:46:46.250Z"
   },
   {
    "duration": 43,
    "start_time": "2024-06-14T09:46:46.607Z"
   },
   {
    "duration": 15,
    "start_time": "2024-06-14T09:46:46.651Z"
   },
   {
    "duration": 11,
    "start_time": "2024-06-14T09:46:46.668Z"
   },
   {
    "duration": 12,
    "start_time": "2024-06-14T09:46:46.680Z"
   },
   {
    "duration": 23,
    "start_time": "2024-06-14T09:46:46.693Z"
   },
   {
    "duration": 27,
    "start_time": "2024-06-14T09:46:46.718Z"
   },
   {
    "duration": 9,
    "start_time": "2024-06-14T09:46:46.748Z"
   },
   {
    "duration": 2,
    "start_time": "2024-06-14T09:46:46.758Z"
   },
   {
    "duration": 66,
    "start_time": "2024-06-14T09:46:46.762Z"
   },
   {
    "duration": 2,
    "start_time": "2024-06-14T09:46:46.830Z"
   },
   {
    "duration": 17,
    "start_time": "2024-06-14T09:46:46.833Z"
   },
   {
    "duration": 21,
    "start_time": "2024-06-14T09:46:46.851Z"
   },
   {
    "duration": 5,
    "start_time": "2024-06-14T09:46:46.873Z"
   },
   {
    "duration": 4,
    "start_time": "2024-06-14T09:46:46.879Z"
   },
   {
    "duration": 4,
    "start_time": "2024-06-14T09:46:46.884Z"
   },
   {
    "duration": 6,
    "start_time": "2024-06-14T09:46:46.889Z"
   },
   {
    "duration": 21473,
    "start_time": "2024-06-14T09:46:46.896Z"
   },
   {
    "duration": 0,
    "start_time": "2024-06-14T09:47:08.371Z"
   },
   {
    "duration": 2673,
    "start_time": "2024-06-14T09:50:04.531Z"
   },
   {
    "duration": 1221,
    "start_time": "2024-06-14T09:50:07.207Z"
   },
   {
    "duration": 341,
    "start_time": "2024-06-14T09:50:08.430Z"
   },
   {
    "duration": 41,
    "start_time": "2024-06-14T09:50:08.772Z"
   },
   {
    "duration": 16,
    "start_time": "2024-06-14T09:50:08.815Z"
   },
   {
    "duration": 10,
    "start_time": "2024-06-14T09:50:08.833Z"
   },
   {
    "duration": 29,
    "start_time": "2024-06-14T09:50:08.844Z"
   },
   {
    "duration": 10,
    "start_time": "2024-06-14T09:50:08.875Z"
   },
   {
    "duration": 30,
    "start_time": "2024-06-14T09:50:08.886Z"
   },
   {
    "duration": 17,
    "start_time": "2024-06-14T09:50:08.917Z"
   },
   {
    "duration": 2,
    "start_time": "2024-06-14T09:50:08.935Z"
   },
   {
    "duration": 58,
    "start_time": "2024-06-14T09:50:08.938Z"
   },
   {
    "duration": 11,
    "start_time": "2024-06-14T09:50:08.998Z"
   },
   {
    "duration": 9,
    "start_time": "2024-06-14T09:50:09.011Z"
   },
   {
    "duration": 9,
    "start_time": "2024-06-14T09:50:09.021Z"
   },
   {
    "duration": 4,
    "start_time": "2024-06-14T09:50:09.031Z"
   },
   {
    "duration": 24,
    "start_time": "2024-06-14T09:50:09.036Z"
   },
   {
    "duration": 110,
    "start_time": "2024-06-14T09:50:09.062Z"
   },
   {
    "duration": 0,
    "start_time": "2024-06-14T09:50:09.174Z"
   },
   {
    "duration": 0,
    "start_time": "2024-06-14T09:50:09.175Z"
   },
   {
    "duration": 0,
    "start_time": "2024-06-14T09:50:09.176Z"
   },
   {
    "duration": 2666,
    "start_time": "2024-06-14T09:51:04.029Z"
   },
   {
    "duration": 1220,
    "start_time": "2024-06-14T09:51:06.697Z"
   },
   {
    "duration": 384,
    "start_time": "2024-06-14T09:51:07.919Z"
   },
   {
    "duration": 41,
    "start_time": "2024-06-14T09:51:08.305Z"
   },
   {
    "duration": 14,
    "start_time": "2024-06-14T09:51:08.348Z"
   },
   {
    "duration": 10,
    "start_time": "2024-06-14T09:51:08.364Z"
   },
   {
    "duration": 26,
    "start_time": "2024-06-14T09:51:08.376Z"
   },
   {
    "duration": 25,
    "start_time": "2024-06-14T09:51:08.404Z"
   },
   {
    "duration": 24,
    "start_time": "2024-06-14T09:51:08.430Z"
   },
   {
    "duration": 26,
    "start_time": "2024-06-14T09:51:08.457Z"
   },
   {
    "duration": 23,
    "start_time": "2024-06-14T09:51:08.484Z"
   },
   {
    "duration": 69,
    "start_time": "2024-06-14T09:51:08.509Z"
   },
   {
    "duration": 3,
    "start_time": "2024-06-14T09:51:08.579Z"
   },
   {
    "duration": 4,
    "start_time": "2024-06-14T09:51:08.584Z"
   },
   {
    "duration": 5,
    "start_time": "2024-06-14T09:51:08.589Z"
   },
   {
    "duration": 15,
    "start_time": "2024-06-14T09:51:08.595Z"
   },
   {
    "duration": 6,
    "start_time": "2024-06-14T09:51:08.611Z"
   },
   {
    "duration": 5,
    "start_time": "2024-06-14T09:51:08.618Z"
   },
   {
    "duration": 6,
    "start_time": "2024-06-14T09:51:08.624Z"
   },
   {
    "duration": 28246,
    "start_time": "2024-06-14T09:51:08.632Z"
   },
   {
    "duration": 3,
    "start_time": "2024-06-14T09:51:36.880Z"
   },
   {
    "duration": 32,
    "start_time": "2024-06-14T09:56:30.714Z"
   },
   {
    "duration": 2613,
    "start_time": "2024-06-14T09:56:56.403Z"
   },
   {
    "duration": 1251,
    "start_time": "2024-06-14T09:56:59.018Z"
   },
   {
    "duration": 610,
    "start_time": "2024-06-14T09:57:00.271Z"
   },
   {
    "duration": 41,
    "start_time": "2024-06-14T09:57:00.883Z"
   },
   {
    "duration": 23,
    "start_time": "2024-06-14T09:57:00.925Z"
   },
   {
    "duration": 42,
    "start_time": "2024-06-14T09:57:00.949Z"
   },
   {
    "duration": 59,
    "start_time": "2024-06-14T09:57:00.993Z"
   },
   {
    "duration": 65,
    "start_time": "2024-06-14T09:57:01.054Z"
   },
   {
    "duration": 95,
    "start_time": "2024-06-14T09:57:01.121Z"
   },
   {
    "duration": 71,
    "start_time": "2024-06-14T09:57:01.218Z"
   },
   {
    "duration": 31,
    "start_time": "2024-06-14T09:57:01.291Z"
   },
   {
    "duration": 91,
    "start_time": "2024-06-14T09:57:01.323Z"
   },
   {
    "duration": 43,
    "start_time": "2024-06-14T09:57:01.416Z"
   },
   {
    "duration": 58,
    "start_time": "2024-06-14T09:57:01.460Z"
   },
   {
    "duration": 199,
    "start_time": "2024-06-14T09:57:01.520Z"
   },
   {
    "duration": 432,
    "start_time": "2024-06-14T09:57:01.720Z"
   },
   {
    "duration": 74,
    "start_time": "2024-06-14T09:57:02.154Z"
   },
   {
    "duration": 57,
    "start_time": "2024-06-14T09:57:02.230Z"
   },
   {
    "duration": 36,
    "start_time": "2024-06-14T09:57:02.289Z"
   },
   {
    "duration": 27568,
    "start_time": "2024-06-14T09:57:02.327Z"
   },
   {
    "duration": 3,
    "start_time": "2024-06-14T09:57:29.896Z"
   },
   {
    "duration": 2624,
    "start_time": "2024-06-14T09:58:05.586Z"
   },
   {
    "duration": 1194,
    "start_time": "2024-06-14T09:58:08.211Z"
   },
   {
    "duration": 334,
    "start_time": "2024-06-14T09:58:09.407Z"
   },
   {
    "duration": 42,
    "start_time": "2024-06-14T09:58:09.743Z"
   },
   {
    "duration": 14,
    "start_time": "2024-06-14T09:58:09.787Z"
   },
   {
    "duration": 10,
    "start_time": "2024-06-14T09:58:09.803Z"
   },
   {
    "duration": 6,
    "start_time": "2024-06-14T09:58:09.814Z"
   },
   {
    "duration": 14,
    "start_time": "2024-06-14T09:58:09.822Z"
   },
   {
    "duration": 31,
    "start_time": "2024-06-14T09:58:09.837Z"
   },
   {
    "duration": 12,
    "start_time": "2024-06-14T09:58:09.870Z"
   },
   {
    "duration": 6,
    "start_time": "2024-06-14T09:58:09.883Z"
   },
   {
    "duration": 59,
    "start_time": "2024-06-14T09:58:09.891Z"
   },
   {
    "duration": 230,
    "start_time": "2024-06-14T09:58:09.951Z"
   },
   {
    "duration": 0,
    "start_time": "2024-06-14T09:58:10.182Z"
   },
   {
    "duration": 0,
    "start_time": "2024-06-14T09:58:10.183Z"
   },
   {
    "duration": 0,
    "start_time": "2024-06-14T09:58:10.184Z"
   },
   {
    "duration": 0,
    "start_time": "2024-06-14T09:58:10.185Z"
   },
   {
    "duration": 0,
    "start_time": "2024-06-14T09:58:10.186Z"
   },
   {
    "duration": 0,
    "start_time": "2024-06-14T09:58:10.186Z"
   },
   {
    "duration": 0,
    "start_time": "2024-06-14T09:58:10.187Z"
   },
   {
    "duration": 0,
    "start_time": "2024-06-14T09:58:10.188Z"
   },
   {
    "duration": 0,
    "start_time": "2024-06-14T09:58:10.189Z"
   },
   {
    "duration": 2631,
    "start_time": "2024-06-14T09:59:23.809Z"
   },
   {
    "duration": 1171,
    "start_time": "2024-06-14T09:59:26.442Z"
   },
   {
    "duration": 294,
    "start_time": "2024-06-14T09:59:27.614Z"
   },
   {
    "duration": 43,
    "start_time": "2024-06-14T09:59:27.910Z"
   },
   {
    "duration": 15,
    "start_time": "2024-06-14T09:59:27.955Z"
   },
   {
    "duration": 15,
    "start_time": "2024-06-14T09:59:27.972Z"
   },
   {
    "duration": 25,
    "start_time": "2024-06-14T09:59:27.988Z"
   },
   {
    "duration": 12,
    "start_time": "2024-06-14T09:59:28.014Z"
   },
   {
    "duration": 25,
    "start_time": "2024-06-14T09:59:28.028Z"
   },
   {
    "duration": 17,
    "start_time": "2024-06-14T09:59:28.054Z"
   },
   {
    "duration": 13,
    "start_time": "2024-06-14T09:59:28.073Z"
   },
   {
    "duration": 68,
    "start_time": "2024-06-14T09:59:28.087Z"
   },
   {
    "duration": 235,
    "start_time": "2024-06-14T09:59:28.157Z"
   },
   {
    "duration": 0,
    "start_time": "2024-06-14T09:59:28.394Z"
   },
   {
    "duration": 0,
    "start_time": "2024-06-14T09:59:28.395Z"
   },
   {
    "duration": 0,
    "start_time": "2024-06-14T09:59:28.396Z"
   },
   {
    "duration": 0,
    "start_time": "2024-06-14T09:59:28.396Z"
   },
   {
    "duration": 0,
    "start_time": "2024-06-14T09:59:28.397Z"
   },
   {
    "duration": 0,
    "start_time": "2024-06-14T09:59:28.409Z"
   },
   {
    "duration": 0,
    "start_time": "2024-06-14T09:59:28.410Z"
   },
   {
    "duration": 0,
    "start_time": "2024-06-14T09:59:28.410Z"
   },
   {
    "duration": 0,
    "start_time": "2024-06-14T09:59:28.412Z"
   },
   {
    "duration": 2629,
    "start_time": "2024-06-14T10:00:11.969Z"
   },
   {
    "duration": 1251,
    "start_time": "2024-06-14T10:00:14.601Z"
   },
   {
    "duration": 326,
    "start_time": "2024-06-14T10:00:15.854Z"
   },
   {
    "duration": 43,
    "start_time": "2024-06-14T10:00:16.182Z"
   },
   {
    "duration": 16,
    "start_time": "2024-06-14T10:00:16.227Z"
   },
   {
    "duration": 11,
    "start_time": "2024-06-14T10:00:16.244Z"
   },
   {
    "duration": 40,
    "start_time": "2024-06-14T10:00:16.256Z"
   },
   {
    "duration": 20,
    "start_time": "2024-06-14T10:00:16.298Z"
   },
   {
    "duration": 35,
    "start_time": "2024-06-14T10:00:16.320Z"
   },
   {
    "duration": 10,
    "start_time": "2024-06-14T10:00:16.358Z"
   },
   {
    "duration": 20,
    "start_time": "2024-06-14T10:00:16.370Z"
   },
   {
    "duration": 59,
    "start_time": "2024-06-14T10:00:16.391Z"
   },
   {
    "duration": 122,
    "start_time": "2024-06-14T10:00:16.452Z"
   },
   {
    "duration": 4,
    "start_time": "2024-06-14T10:00:16.575Z"
   },
   {
    "duration": 22,
    "start_time": "2024-06-14T10:00:16.580Z"
   },
   {
    "duration": 5,
    "start_time": "2024-06-14T10:00:16.603Z"
   },
   {
    "duration": 3,
    "start_time": "2024-06-14T10:00:16.610Z"
   },
   {
    "duration": 20,
    "start_time": "2024-06-14T10:00:16.614Z"
   },
   {
    "duration": 24,
    "start_time": "2024-06-14T10:00:16.636Z"
   },
   {
    "duration": 56,
    "start_time": "2024-06-14T10:00:16.662Z"
   },
   {
    "duration": 83290,
    "start_time": "2024-06-14T10:00:16.719Z"
   },
   {
    "duration": 3,
    "start_time": "2024-06-14T10:01:40.011Z"
   },
   {
    "duration": 2634,
    "start_time": "2024-06-14T10:03:09.748Z"
   },
   {
    "duration": 1253,
    "start_time": "2024-06-14T10:03:12.383Z"
   },
   {
    "duration": 329,
    "start_time": "2024-06-14T10:03:13.638Z"
   },
   {
    "duration": 74,
    "start_time": "2024-06-14T10:03:13.969Z"
   },
   {
    "duration": 22,
    "start_time": "2024-06-14T10:03:14.045Z"
   },
   {
    "duration": 60,
    "start_time": "2024-06-14T10:03:14.069Z"
   },
   {
    "duration": 17,
    "start_time": "2024-06-14T10:03:14.131Z"
   },
   {
    "duration": 19,
    "start_time": "2024-06-14T10:03:14.150Z"
   },
   {
    "duration": 80,
    "start_time": "2024-06-14T10:03:14.170Z"
   },
   {
    "duration": 17,
    "start_time": "2024-06-14T10:03:14.253Z"
   },
   {
    "duration": 3,
    "start_time": "2024-06-14T10:03:14.272Z"
   },
   {
    "duration": 107,
    "start_time": "2024-06-14T10:03:14.277Z"
   },
   {
    "duration": 170,
    "start_time": "2024-06-14T10:03:14.386Z"
   },
   {
    "duration": 3,
    "start_time": "2024-06-14T10:03:14.558Z"
   },
   {
    "duration": 25,
    "start_time": "2024-06-14T10:03:14.563Z"
   },
   {
    "duration": 6,
    "start_time": "2024-06-14T10:03:14.590Z"
   },
   {
    "duration": 17,
    "start_time": "2024-06-14T10:03:14.598Z"
   },
   {
    "duration": 10,
    "start_time": "2024-06-14T10:03:14.616Z"
   },
   {
    "duration": 26,
    "start_time": "2024-06-14T10:03:14.627Z"
   },
   {
    "duration": 10,
    "start_time": "2024-06-14T10:03:14.654Z"
   },
   {
    "duration": 83282,
    "start_time": "2024-06-14T10:03:14.665Z"
   },
   {
    "duration": 3,
    "start_time": "2024-06-14T10:04:37.949Z"
   },
   {
    "duration": 2724,
    "start_time": "2024-06-14T10:05:39.347Z"
   },
   {
    "duration": 1155,
    "start_time": "2024-06-14T10:05:42.073Z"
   },
   {
    "duration": 314,
    "start_time": "2024-06-14T10:05:43.230Z"
   },
   {
    "duration": 43,
    "start_time": "2024-06-14T10:05:43.546Z"
   },
   {
    "duration": 14,
    "start_time": "2024-06-14T10:05:43.590Z"
   },
   {
    "duration": 14,
    "start_time": "2024-06-14T10:05:43.606Z"
   },
   {
    "duration": 22,
    "start_time": "2024-06-14T10:05:43.621Z"
   },
   {
    "duration": 14,
    "start_time": "2024-06-14T10:05:43.645Z"
   },
   {
    "duration": 28,
    "start_time": "2024-06-14T10:05:43.661Z"
   },
   {
    "duration": 16,
    "start_time": "2024-06-14T10:05:43.691Z"
   },
   {
    "duration": 7,
    "start_time": "2024-06-14T10:05:43.708Z"
   },
   {
    "duration": 54,
    "start_time": "2024-06-14T10:05:43.717Z"
   },
   {
    "duration": 147,
    "start_time": "2024-06-14T10:05:43.772Z"
   },
   {
    "duration": 3,
    "start_time": "2024-06-14T10:05:43.920Z"
   },
   {
    "duration": 20,
    "start_time": "2024-06-14T10:05:43.924Z"
   },
   {
    "duration": 8,
    "start_time": "2024-06-14T10:05:43.946Z"
   },
   {
    "duration": 21,
    "start_time": "2024-06-14T10:05:43.955Z"
   },
   {
    "duration": 19,
    "start_time": "2024-06-14T10:05:43.978Z"
   },
   {
    "duration": 29,
    "start_time": "2024-06-14T10:05:43.999Z"
   },
   {
    "duration": 11,
    "start_time": "2024-06-14T10:05:44.029Z"
   },
   {
    "duration": 2683,
    "start_time": "2024-06-14T10:06:30.664Z"
   },
   {
    "duration": 1193,
    "start_time": "2024-06-14T10:06:33.349Z"
   },
   {
    "duration": 329,
    "start_time": "2024-06-14T10:06:34.544Z"
   },
   {
    "duration": 44,
    "start_time": "2024-06-14T10:06:34.875Z"
   },
   {
    "duration": 21,
    "start_time": "2024-06-14T10:06:34.921Z"
   },
   {
    "duration": 33,
    "start_time": "2024-06-14T10:06:34.944Z"
   },
   {
    "duration": 7,
    "start_time": "2024-06-14T10:06:34.979Z"
   },
   {
    "duration": 16,
    "start_time": "2024-06-14T10:06:34.987Z"
   },
   {
    "duration": 39,
    "start_time": "2024-06-14T10:06:35.005Z"
   },
   {
    "duration": 45,
    "start_time": "2024-06-14T10:06:35.046Z"
   },
   {
    "duration": 49,
    "start_time": "2024-06-14T10:06:35.092Z"
   },
   {
    "duration": 83,
    "start_time": "2024-06-14T10:06:35.142Z"
   },
   {
    "duration": 2,
    "start_time": "2024-06-14T10:06:35.227Z"
   },
   {
    "duration": 29,
    "start_time": "2024-06-14T10:06:35.231Z"
   },
   {
    "duration": 29,
    "start_time": "2024-06-14T10:06:35.261Z"
   },
   {
    "duration": 24,
    "start_time": "2024-06-14T10:06:35.291Z"
   },
   {
    "duration": 24,
    "start_time": "2024-06-14T10:06:35.316Z"
   },
   {
    "duration": 22,
    "start_time": "2024-06-14T10:06:35.342Z"
   },
   {
    "duration": 45,
    "start_time": "2024-06-14T10:06:35.366Z"
   },
   {
    "duration": 27909,
    "start_time": "2024-06-14T10:06:35.412Z"
   },
   {
    "duration": 3,
    "start_time": "2024-06-14T10:07:03.322Z"
   },
   {
    "duration": 2659,
    "start_time": "2024-06-14T10:07:55.904Z"
   },
   {
    "duration": 1165,
    "start_time": "2024-06-14T10:07:58.565Z"
   },
   {
    "duration": 322,
    "start_time": "2024-06-14T10:07:59.732Z"
   },
   {
    "duration": 54,
    "start_time": "2024-06-14T10:08:00.056Z"
   },
   {
    "duration": 51,
    "start_time": "2024-06-14T10:08:00.112Z"
   },
   {
    "duration": 29,
    "start_time": "2024-06-14T10:08:00.164Z"
   },
   {
    "duration": 28,
    "start_time": "2024-06-14T10:08:00.195Z"
   },
   {
    "duration": 55,
    "start_time": "2024-06-14T10:08:00.225Z"
   },
   {
    "duration": 42,
    "start_time": "2024-06-14T10:08:00.281Z"
   },
   {
    "duration": 116,
    "start_time": "2024-06-14T10:08:00.326Z"
   },
   {
    "duration": 68,
    "start_time": "2024-06-14T10:08:00.444Z"
   },
   {
    "duration": 40,
    "start_time": "2024-06-14T10:08:00.514Z"
   },
   {
    "duration": 81,
    "start_time": "2024-06-14T10:08:00.556Z"
   },
   {
    "duration": 2,
    "start_time": "2024-06-14T10:08:00.639Z"
   },
   {
    "duration": 19,
    "start_time": "2024-06-14T10:08:00.643Z"
   },
   {
    "duration": 17,
    "start_time": "2024-06-14T10:08:00.663Z"
   },
   {
    "duration": 27,
    "start_time": "2024-06-14T10:08:00.682Z"
   },
   {
    "duration": 30,
    "start_time": "2024-06-14T10:08:00.710Z"
   },
   {
    "duration": 24,
    "start_time": "2024-06-14T10:08:00.741Z"
   },
   {
    "duration": 58,
    "start_time": "2024-06-14T10:08:00.767Z"
   },
   {
    "duration": 2658,
    "start_time": "2024-06-14T10:08:57.813Z"
   },
   {
    "duration": 1148,
    "start_time": "2024-06-14T10:09:00.473Z"
   },
   {
    "duration": 366,
    "start_time": "2024-06-14T10:09:01.623Z"
   },
   {
    "duration": 42,
    "start_time": "2024-06-14T10:09:01.991Z"
   },
   {
    "duration": 278,
    "start_time": "2024-06-14T10:09:02.035Z"
   },
   {
    "duration": 0,
    "start_time": "2024-06-14T10:09:02.315Z"
   },
   {
    "duration": 1,
    "start_time": "2024-06-14T10:09:02.315Z"
   },
   {
    "duration": 0,
    "start_time": "2024-06-14T10:09:02.317Z"
   },
   {
    "duration": 0,
    "start_time": "2024-06-14T10:09:02.317Z"
   },
   {
    "duration": 0,
    "start_time": "2024-06-14T10:09:02.318Z"
   },
   {
    "duration": 0,
    "start_time": "2024-06-14T10:09:02.319Z"
   },
   {
    "duration": 0,
    "start_time": "2024-06-14T10:09:02.320Z"
   },
   {
    "duration": 0,
    "start_time": "2024-06-14T10:09:02.321Z"
   },
   {
    "duration": 0,
    "start_time": "2024-06-14T10:09:02.322Z"
   },
   {
    "duration": 0,
    "start_time": "2024-06-14T10:09:02.323Z"
   },
   {
    "duration": 0,
    "start_time": "2024-06-14T10:09:02.323Z"
   },
   {
    "duration": 0,
    "start_time": "2024-06-14T10:09:02.324Z"
   },
   {
    "duration": 0,
    "start_time": "2024-06-14T10:09:02.325Z"
   },
   {
    "duration": 0,
    "start_time": "2024-06-14T10:09:02.326Z"
   },
   {
    "duration": 0,
    "start_time": "2024-06-14T10:09:02.327Z"
   },
   {
    "duration": 0,
    "start_time": "2024-06-14T10:09:02.328Z"
   },
   {
    "duration": 0,
    "start_time": "2024-06-14T10:09:02.328Z"
   },
   {
    "duration": 2627,
    "start_time": "2024-06-14T10:10:18.338Z"
   },
   {
    "duration": 1174,
    "start_time": "2024-06-14T10:10:20.967Z"
   },
   {
    "duration": 295,
    "start_time": "2024-06-14T10:10:22.143Z"
   },
   {
    "duration": 42,
    "start_time": "2024-06-14T10:10:22.440Z"
   },
   {
    "duration": 152,
    "start_time": "2024-06-14T10:10:22.483Z"
   },
   {
    "duration": 14,
    "start_time": "2024-06-14T10:10:22.637Z"
   },
   {
    "duration": 32,
    "start_time": "2024-06-14T10:10:22.652Z"
   },
   {
    "duration": 25,
    "start_time": "2024-06-14T10:10:22.685Z"
   },
   {
    "duration": 22,
    "start_time": "2024-06-14T10:10:22.711Z"
   },
   {
    "duration": 42,
    "start_time": "2024-06-14T10:10:22.735Z"
   },
   {
    "duration": 11,
    "start_time": "2024-06-14T10:10:22.779Z"
   },
   {
    "duration": 26,
    "start_time": "2024-06-14T10:10:22.791Z"
   },
   {
    "duration": 59,
    "start_time": "2024-06-14T10:10:22.818Z"
   },
   {
    "duration": 3,
    "start_time": "2024-06-14T10:10:22.878Z"
   },
   {
    "duration": 22,
    "start_time": "2024-06-14T10:10:22.882Z"
   },
   {
    "duration": 30,
    "start_time": "2024-06-14T10:10:22.906Z"
   },
   {
    "duration": 27,
    "start_time": "2024-06-14T10:10:22.938Z"
   },
   {
    "duration": 29,
    "start_time": "2024-06-14T10:10:22.967Z"
   },
   {
    "duration": 54,
    "start_time": "2024-06-14T10:10:22.997Z"
   },
   {
    "duration": 41,
    "start_time": "2024-06-14T10:10:23.052Z"
   },
   {
    "duration": 80351,
    "start_time": "2024-06-14T10:10:23.095Z"
   },
   {
    "duration": 3,
    "start_time": "2024-06-14T10:11:43.447Z"
   },
   {
    "duration": 2663,
    "start_time": "2024-06-14T10:11:45.306Z"
   },
   {
    "duration": 1154,
    "start_time": "2024-06-14T10:11:47.971Z"
   },
   {
    "duration": 303,
    "start_time": "2024-06-14T10:11:49.127Z"
   },
   {
    "duration": 44,
    "start_time": "2024-06-14T10:11:49.432Z"
   },
   {
    "duration": 169,
    "start_time": "2024-06-14T10:11:49.478Z"
   },
   {
    "duration": 17,
    "start_time": "2024-06-14T10:11:49.649Z"
   },
   {
    "duration": 17,
    "start_time": "2024-06-14T10:11:49.668Z"
   },
   {
    "duration": 36,
    "start_time": "2024-06-14T10:11:49.687Z"
   },
   {
    "duration": 17,
    "start_time": "2024-06-14T10:11:49.725Z"
   },
   {
    "duration": 22,
    "start_time": "2024-06-14T10:11:49.744Z"
   },
   {
    "duration": 10,
    "start_time": "2024-06-14T10:11:49.768Z"
   },
   {
    "duration": 5,
    "start_time": "2024-06-14T10:11:49.779Z"
   },
   {
    "duration": 55,
    "start_time": "2024-06-14T10:11:49.786Z"
   },
   {
    "duration": 2,
    "start_time": "2024-06-14T10:11:49.843Z"
   },
   {
    "duration": 72,
    "start_time": "2024-06-14T10:11:49.846Z"
   },
   {
    "duration": 5,
    "start_time": "2024-06-14T10:11:49.920Z"
   },
   {
    "duration": 5,
    "start_time": "2024-06-14T10:11:49.926Z"
   },
   {
    "duration": 103,
    "start_time": "2024-06-14T10:11:49.932Z"
   },
   {
    "duration": 0,
    "start_time": "2024-06-14T10:11:50.036Z"
   },
   {
    "duration": 0,
    "start_time": "2024-06-14T10:11:50.037Z"
   },
   {
    "duration": 0,
    "start_time": "2024-06-14T10:11:50.038Z"
   },
   {
    "duration": 0,
    "start_time": "2024-06-14T10:11:50.039Z"
   },
   {
    "duration": 50,
    "start_time": "2024-06-14T10:13:31.841Z"
   },
   {
    "duration": 9,
    "start_time": "2024-06-14T10:13:32.204Z"
   },
   {
    "duration": 8,
    "start_time": "2024-06-14T10:13:32.632Z"
   },
   {
    "duration": 2626,
    "start_time": "2024-06-14T10:13:38.945Z"
   },
   {
    "duration": 1142,
    "start_time": "2024-06-14T10:13:41.573Z"
   },
   {
    "duration": 368,
    "start_time": "2024-06-14T10:13:42.719Z"
   },
   {
    "duration": 51,
    "start_time": "2024-06-14T10:13:43.089Z"
   },
   {
    "duration": 159,
    "start_time": "2024-06-14T10:13:43.142Z"
   },
   {
    "duration": 20,
    "start_time": "2024-06-14T10:13:43.302Z"
   },
   {
    "duration": 11,
    "start_time": "2024-06-14T10:13:43.323Z"
   },
   {
    "duration": 7,
    "start_time": "2024-06-14T10:13:43.335Z"
   },
   {
    "duration": 10,
    "start_time": "2024-06-14T10:13:43.344Z"
   },
   {
    "duration": 22,
    "start_time": "2024-06-14T10:13:43.355Z"
   },
   {
    "duration": 33,
    "start_time": "2024-06-14T10:13:43.379Z"
   },
   {
    "duration": 3,
    "start_time": "2024-06-14T10:13:43.413Z"
   },
   {
    "duration": 69,
    "start_time": "2024-06-14T10:13:43.417Z"
   },
   {
    "duration": 3,
    "start_time": "2024-06-14T10:13:43.487Z"
   },
   {
    "duration": 26,
    "start_time": "2024-06-14T10:13:43.491Z"
   },
   {
    "duration": 10,
    "start_time": "2024-06-14T10:13:43.518Z"
   },
   {
    "duration": 18,
    "start_time": "2024-06-14T10:13:43.529Z"
   },
   {
    "duration": 51,
    "start_time": "2024-06-14T10:13:43.548Z"
   },
   {
    "duration": 0,
    "start_time": "2024-06-14T10:13:43.600Z"
   },
   {
    "duration": 0,
    "start_time": "2024-06-14T10:13:43.601Z"
   },
   {
    "duration": 0,
    "start_time": "2024-06-14T10:13:43.602Z"
   },
   {
    "duration": 0,
    "start_time": "2024-06-14T10:13:43.603Z"
   },
   {
    "duration": 0,
    "start_time": "2024-06-14T10:13:43.604Z"
   },
   {
    "duration": 102,
    "start_time": "2024-06-14T10:14:01.180Z"
   },
   {
    "duration": 28,
    "start_time": "2024-06-14T10:14:51.533Z"
   },
   {
    "duration": 4,
    "start_time": "2024-06-14T10:14:53.270Z"
   },
   {
    "duration": 3,
    "start_time": "2024-06-14T10:14:53.771Z"
   },
   {
    "duration": 3,
    "start_time": "2024-06-14T10:14:54.096Z"
   },
   {
    "duration": 62889,
    "start_time": "2024-06-14T10:14:54.356Z"
   },
   {
    "duration": 0,
    "start_time": "2024-06-14T10:15:57.246Z"
   },
   {
    "duration": 0,
    "start_time": "2024-06-14T10:15:57.247Z"
   },
   {
    "duration": 16,
    "start_time": "2024-06-14T10:15:58.878Z"
   },
   {
    "duration": 7,
    "start_time": "2024-06-14T10:16:06.011Z"
   },
   {
    "duration": 15,
    "start_time": "2024-06-14T10:16:15.824Z"
   },
   {
    "duration": 7,
    "start_time": "2024-06-14T10:16:21.987Z"
   },
   {
    "duration": 2634,
    "start_time": "2024-06-14T10:20:23.778Z"
   },
   {
    "duration": 1218,
    "start_time": "2024-06-14T10:20:26.414Z"
   },
   {
    "duration": 365,
    "start_time": "2024-06-14T10:20:27.633Z"
   },
   {
    "duration": 43,
    "start_time": "2024-06-14T10:20:28.000Z"
   },
   {
    "duration": 180,
    "start_time": "2024-06-14T10:20:28.044Z"
   },
   {
    "duration": 16,
    "start_time": "2024-06-14T10:20:28.225Z"
   },
   {
    "duration": 24,
    "start_time": "2024-06-14T10:20:28.242Z"
   },
   {
    "duration": 8,
    "start_time": "2024-06-14T10:20:28.267Z"
   },
   {
    "duration": 10,
    "start_time": "2024-06-14T10:20:28.276Z"
   },
   {
    "duration": 38,
    "start_time": "2024-06-14T10:20:28.289Z"
   },
   {
    "duration": 11,
    "start_time": "2024-06-14T10:20:28.329Z"
   },
   {
    "duration": 7,
    "start_time": "2024-06-14T10:20:28.342Z"
   },
   {
    "duration": 59,
    "start_time": "2024-06-14T10:20:28.351Z"
   },
   {
    "duration": 3,
    "start_time": "2024-06-14T10:20:28.411Z"
   },
   {
    "duration": 5,
    "start_time": "2024-06-14T10:20:28.415Z"
   },
   {
    "duration": 3,
    "start_time": "2024-06-14T10:20:28.421Z"
   },
   {
    "duration": 4,
    "start_time": "2024-06-14T10:20:28.425Z"
   },
   {
    "duration": 19,
    "start_time": "2024-06-14T10:20:28.430Z"
   },
   {
    "duration": 4,
    "start_time": "2024-06-14T10:20:28.450Z"
   },
   {
    "duration": 4,
    "start_time": "2024-06-14T10:20:28.456Z"
   },
   {
    "duration": 9,
    "start_time": "2024-06-14T10:20:28.461Z"
   },
   {
    "duration": 26718,
    "start_time": "2024-06-14T10:20:28.471Z"
   },
   {
    "duration": 0,
    "start_time": "2024-06-14T10:20:55.190Z"
   },
   {
    "duration": 2641,
    "start_time": "2024-06-14T10:21:41.199Z"
   },
   {
    "duration": 1164,
    "start_time": "2024-06-14T10:21:43.842Z"
   },
   {
    "duration": 351,
    "start_time": "2024-06-14T10:21:45.007Z"
   },
   {
    "duration": 44,
    "start_time": "2024-06-14T10:21:45.359Z"
   },
   {
    "duration": 268,
    "start_time": "2024-06-14T10:21:45.405Z"
   },
   {
    "duration": 16,
    "start_time": "2024-06-14T10:21:45.674Z"
   },
   {
    "duration": 22,
    "start_time": "2024-06-14T10:21:45.692Z"
   },
   {
    "duration": 12,
    "start_time": "2024-06-14T10:21:45.715Z"
   },
   {
    "duration": 175,
    "start_time": "2024-06-14T10:21:45.728Z"
   },
   {
    "duration": 0,
    "start_time": "2024-06-14T10:21:45.905Z"
   },
   {
    "duration": 0,
    "start_time": "2024-06-14T10:21:45.909Z"
   },
   {
    "duration": 0,
    "start_time": "2024-06-14T10:21:45.911Z"
   },
   {
    "duration": 0,
    "start_time": "2024-06-14T10:21:45.912Z"
   },
   {
    "duration": 0,
    "start_time": "2024-06-14T10:21:45.913Z"
   },
   {
    "duration": 0,
    "start_time": "2024-06-14T10:21:45.914Z"
   },
   {
    "duration": 0,
    "start_time": "2024-06-14T10:21:45.915Z"
   },
   {
    "duration": 0,
    "start_time": "2024-06-14T10:21:45.917Z"
   },
   {
    "duration": 0,
    "start_time": "2024-06-14T10:21:45.918Z"
   },
   {
    "duration": 0,
    "start_time": "2024-06-14T10:21:45.919Z"
   },
   {
    "duration": 0,
    "start_time": "2024-06-14T10:21:45.920Z"
   },
   {
    "duration": 0,
    "start_time": "2024-06-14T10:21:45.924Z"
   },
   {
    "duration": 0,
    "start_time": "2024-06-14T10:21:45.926Z"
   },
   {
    "duration": 0,
    "start_time": "2024-06-14T10:21:45.927Z"
   },
   {
    "duration": 19,
    "start_time": "2024-06-14T10:22:29.428Z"
   },
   {
    "duration": 18,
    "start_time": "2024-06-14T10:23:30.296Z"
   },
   {
    "duration": 2687,
    "start_time": "2024-06-14T10:23:35.708Z"
   },
   {
    "duration": 1226,
    "start_time": "2024-06-14T10:23:38.397Z"
   },
   {
    "duration": 323,
    "start_time": "2024-06-14T10:23:39.625Z"
   },
   {
    "duration": 51,
    "start_time": "2024-06-14T10:23:39.950Z"
   },
   {
    "duration": 165,
    "start_time": "2024-06-14T10:23:40.003Z"
   },
   {
    "duration": 16,
    "start_time": "2024-06-14T10:23:40.169Z"
   },
   {
    "duration": 25,
    "start_time": "2024-06-14T10:23:40.186Z"
   },
   {
    "duration": 9,
    "start_time": "2024-06-14T10:23:40.213Z"
   },
   {
    "duration": 22,
    "start_time": "2024-06-14T10:23:40.224Z"
   },
   {
    "duration": 24,
    "start_time": "2024-06-14T10:23:40.249Z"
   },
   {
    "duration": 37,
    "start_time": "2024-06-14T10:23:40.275Z"
   },
   {
    "duration": 5,
    "start_time": "2024-06-14T10:23:40.314Z"
   },
   {
    "duration": 55,
    "start_time": "2024-06-14T10:23:40.320Z"
   },
   {
    "duration": 2,
    "start_time": "2024-06-14T10:23:40.377Z"
   },
   {
    "duration": 21,
    "start_time": "2024-06-14T10:23:40.381Z"
   },
   {
    "duration": 4,
    "start_time": "2024-06-14T10:23:40.403Z"
   },
   {
    "duration": 8,
    "start_time": "2024-06-14T10:23:40.409Z"
   },
   {
    "duration": 19,
    "start_time": "2024-06-14T10:23:40.418Z"
   },
   {
    "duration": 5,
    "start_time": "2024-06-14T10:23:40.438Z"
   },
   {
    "duration": 4,
    "start_time": "2024-06-14T10:23:40.444Z"
   },
   {
    "duration": 6,
    "start_time": "2024-06-14T10:23:40.449Z"
   },
   {
    "duration": 2636,
    "start_time": "2024-06-14T10:24:26.875Z"
   },
   {
    "duration": 1311,
    "start_time": "2024-06-14T10:24:29.514Z"
   },
   {
    "duration": 347,
    "start_time": "2024-06-14T10:24:30.827Z"
   },
   {
    "duration": 48,
    "start_time": "2024-06-14T10:24:31.176Z"
   },
   {
    "duration": 241,
    "start_time": "2024-06-14T10:24:31.226Z"
   },
   {
    "duration": 15,
    "start_time": "2024-06-14T10:24:31.468Z"
   },
   {
    "duration": 30,
    "start_time": "2024-06-14T10:24:31.484Z"
   },
   {
    "duration": 28,
    "start_time": "2024-06-14T10:24:31.516Z"
   },
   {
    "duration": 227,
    "start_time": "2024-06-14T10:24:31.545Z"
   },
   {
    "duration": 0,
    "start_time": "2024-06-14T10:24:31.809Z"
   },
   {
    "duration": 0,
    "start_time": "2024-06-14T10:24:31.810Z"
   },
   {
    "duration": 0,
    "start_time": "2024-06-14T10:24:31.811Z"
   },
   {
    "duration": 0,
    "start_time": "2024-06-14T10:24:31.812Z"
   },
   {
    "duration": 0,
    "start_time": "2024-06-14T10:24:31.813Z"
   },
   {
    "duration": 0,
    "start_time": "2024-06-14T10:24:31.814Z"
   },
   {
    "duration": 0,
    "start_time": "2024-06-14T10:24:31.814Z"
   },
   {
    "duration": 0,
    "start_time": "2024-06-14T10:24:31.815Z"
   },
   {
    "duration": 0,
    "start_time": "2024-06-14T10:24:31.816Z"
   },
   {
    "duration": 0,
    "start_time": "2024-06-14T10:24:31.817Z"
   },
   {
    "duration": 0,
    "start_time": "2024-06-14T10:24:31.817Z"
   },
   {
    "duration": 0,
    "start_time": "2024-06-14T10:24:31.818Z"
   },
   {
    "duration": 0,
    "start_time": "2024-06-14T10:24:31.819Z"
   },
   {
    "duration": 0,
    "start_time": "2024-06-14T10:24:31.820Z"
   },
   {
    "duration": 16,
    "start_time": "2024-06-14T10:24:58.871Z"
   },
   {
    "duration": 2654,
    "start_time": "2024-06-14T10:25:04.376Z"
   },
   {
    "duration": 1190,
    "start_time": "2024-06-14T10:25:07.032Z"
   },
   {
    "duration": 388,
    "start_time": "2024-06-14T10:25:08.224Z"
   },
   {
    "duration": 41,
    "start_time": "2024-06-14T10:25:08.614Z"
   },
   {
    "duration": 164,
    "start_time": "2024-06-14T10:25:08.656Z"
   },
   {
    "duration": 14,
    "start_time": "2024-06-14T10:25:08.822Z"
   },
   {
    "duration": 11,
    "start_time": "2024-06-14T10:25:08.837Z"
   },
   {
    "duration": 21,
    "start_time": "2024-06-14T10:25:08.849Z"
   },
   {
    "duration": 26,
    "start_time": "2024-06-14T10:25:08.871Z"
   },
   {
    "duration": 28,
    "start_time": "2024-06-14T10:25:08.899Z"
   },
   {
    "duration": 8,
    "start_time": "2024-06-14T10:25:08.928Z"
   },
   {
    "duration": 5,
    "start_time": "2024-06-14T10:25:08.937Z"
   },
   {
    "duration": 69,
    "start_time": "2024-06-14T10:25:08.944Z"
   },
   {
    "duration": 3,
    "start_time": "2024-06-14T10:25:09.014Z"
   },
   {
    "duration": 9,
    "start_time": "2024-06-14T10:25:09.018Z"
   },
   {
    "duration": 3,
    "start_time": "2024-06-14T10:25:09.029Z"
   },
   {
    "duration": 7,
    "start_time": "2024-06-14T10:25:09.034Z"
   },
   {
    "duration": 19,
    "start_time": "2024-06-14T10:25:09.042Z"
   },
   {
    "duration": 4,
    "start_time": "2024-06-14T10:25:09.062Z"
   },
   {
    "duration": 14,
    "start_time": "2024-06-14T10:25:09.067Z"
   },
   {
    "duration": 12,
    "start_time": "2024-06-14T10:25:09.082Z"
   },
   {
    "duration": 35567,
    "start_time": "2024-06-14T10:25:09.095Z"
   },
   {
    "duration": 0,
    "start_time": "2024-06-14T10:25:44.664Z"
   },
   {
    "duration": 2692,
    "start_time": "2024-06-14T10:25:52.230Z"
   },
   {
    "duration": 1268,
    "start_time": "2024-06-14T10:25:54.925Z"
   },
   {
    "duration": 349,
    "start_time": "2024-06-14T10:25:56.194Z"
   },
   {
    "duration": 43,
    "start_time": "2024-06-14T10:25:56.544Z"
   },
   {
    "duration": 155,
    "start_time": "2024-06-14T10:25:56.588Z"
   },
   {
    "duration": 15,
    "start_time": "2024-06-14T10:25:56.744Z"
   },
   {
    "duration": 30,
    "start_time": "2024-06-14T10:25:56.761Z"
   },
   {
    "duration": 7,
    "start_time": "2024-06-14T10:25:56.792Z"
   },
   {
    "duration": 22,
    "start_time": "2024-06-14T10:25:56.800Z"
   },
   {
    "duration": 22,
    "start_time": "2024-06-14T10:25:56.825Z"
   },
   {
    "duration": 8,
    "start_time": "2024-06-14T10:25:56.849Z"
   },
   {
    "duration": 13,
    "start_time": "2024-06-14T10:25:56.859Z"
   },
   {
    "duration": 56,
    "start_time": "2024-06-14T10:25:56.874Z"
   },
   {
    "duration": 3,
    "start_time": "2024-06-14T10:25:56.931Z"
   },
   {
    "duration": 9,
    "start_time": "2024-06-14T10:25:56.935Z"
   },
   {
    "duration": 24,
    "start_time": "2024-06-14T10:25:56.946Z"
   },
   {
    "duration": 59,
    "start_time": "2024-06-14T10:25:56.971Z"
   },
   {
    "duration": 35,
    "start_time": "2024-06-14T10:25:57.032Z"
   },
   {
    "duration": 6,
    "start_time": "2024-06-14T10:25:57.069Z"
   },
   {
    "duration": 3,
    "start_time": "2024-06-14T10:25:57.077Z"
   },
   {
    "duration": 14,
    "start_time": "2024-06-14T10:25:57.082Z"
   },
   {
    "duration": 114172,
    "start_time": "2024-06-14T10:25:57.098Z"
   },
   {
    "duration": 3,
    "start_time": "2024-06-14T10:27:51.272Z"
   },
   {
    "duration": 2622,
    "start_time": "2024-06-14T10:29:20.185Z"
   },
   {
    "duration": 1213,
    "start_time": "2024-06-14T10:29:22.809Z"
   },
   {
    "duration": 299,
    "start_time": "2024-06-14T10:29:24.024Z"
   },
   {
    "duration": 42,
    "start_time": "2024-06-14T10:29:24.324Z"
   },
   {
    "duration": 162,
    "start_time": "2024-06-14T10:29:24.367Z"
   },
   {
    "duration": 15,
    "start_time": "2024-06-14T10:29:24.531Z"
   },
   {
    "duration": 28,
    "start_time": "2024-06-14T10:29:24.547Z"
   },
   {
    "duration": 28,
    "start_time": "2024-06-14T10:29:24.577Z"
   },
   {
    "duration": 24,
    "start_time": "2024-06-14T10:29:24.606Z"
   },
   {
    "duration": 20,
    "start_time": "2024-06-14T10:29:24.633Z"
   },
   {
    "duration": 9,
    "start_time": "2024-06-14T10:29:24.655Z"
   },
   {
    "duration": 17,
    "start_time": "2024-06-14T10:29:24.666Z"
   },
   {
    "duration": 64,
    "start_time": "2024-06-14T10:29:24.684Z"
   },
   {
    "duration": 3,
    "start_time": "2024-06-14T10:29:24.750Z"
   },
   {
    "duration": 5,
    "start_time": "2024-06-14T10:29:24.754Z"
   },
   {
    "duration": 7,
    "start_time": "2024-06-14T10:29:24.760Z"
   },
   {
    "duration": 14,
    "start_time": "2024-06-14T10:29:24.769Z"
   },
   {
    "duration": 22,
    "start_time": "2024-06-14T10:29:24.784Z"
   },
   {
    "duration": 5,
    "start_time": "2024-06-14T10:29:24.807Z"
   },
   {
    "duration": 7,
    "start_time": "2024-06-14T10:29:24.813Z"
   },
   {
    "duration": 9,
    "start_time": "2024-06-14T10:29:24.822Z"
   },
   {
    "duration": 137255,
    "start_time": "2024-06-14T10:29:24.833Z"
   },
   {
    "duration": 2,
    "start_time": "2024-06-14T10:31:42.090Z"
   },
   {
    "duration": 2693,
    "start_time": "2024-06-14T10:32:36.402Z"
   },
   {
    "duration": 1252,
    "start_time": "2024-06-14T10:32:39.098Z"
   },
   {
    "duration": 328,
    "start_time": "2024-06-14T10:32:40.352Z"
   },
   {
    "duration": 45,
    "start_time": "2024-06-14T10:32:40.682Z"
   },
   {
    "duration": 166,
    "start_time": "2024-06-14T10:32:40.729Z"
   },
   {
    "duration": 15,
    "start_time": "2024-06-14T10:32:40.897Z"
   },
   {
    "duration": 17,
    "start_time": "2024-06-14T10:32:40.913Z"
   },
   {
    "duration": 8,
    "start_time": "2024-06-14T10:32:40.931Z"
   },
   {
    "duration": 21,
    "start_time": "2024-06-14T10:32:40.941Z"
   },
   {
    "duration": 48,
    "start_time": "2024-06-14T10:32:40.965Z"
   },
   {
    "duration": 9,
    "start_time": "2024-06-14T10:32:41.014Z"
   },
   {
    "duration": 12,
    "start_time": "2024-06-14T10:32:41.024Z"
   },
   {
    "duration": 57,
    "start_time": "2024-06-14T10:32:41.038Z"
   },
   {
    "duration": 2,
    "start_time": "2024-06-14T10:32:41.097Z"
   },
   {
    "duration": 6,
    "start_time": "2024-06-14T10:32:41.109Z"
   },
   {
    "duration": 4,
    "start_time": "2024-06-14T10:32:41.117Z"
   },
   {
    "duration": 14,
    "start_time": "2024-06-14T10:32:41.122Z"
   },
   {
    "duration": 21,
    "start_time": "2024-06-14T10:32:41.138Z"
   },
   {
    "duration": 5,
    "start_time": "2024-06-14T10:32:41.161Z"
   },
   {
    "duration": 7,
    "start_time": "2024-06-14T10:32:41.167Z"
   },
   {
    "duration": 8,
    "start_time": "2024-06-14T10:32:41.175Z"
   },
   {
    "duration": 139748,
    "start_time": "2024-06-14T10:32:41.184Z"
   },
   {
    "duration": 4,
    "start_time": "2024-06-14T10:35:00.933Z"
   },
   {
    "duration": 138,
    "start_time": "2024-06-14T10:35:59.482Z"
   },
   {
    "duration": 8,
    "start_time": "2024-06-14T10:36:24.574Z"
   },
   {
    "duration": 7,
    "start_time": "2024-06-14T10:36:34.947Z"
   },
   {
    "duration": 13,
    "start_time": "2024-06-14T10:36:50.660Z"
   },
   {
    "duration": 2703,
    "start_time": "2024-06-14T10:40:05.394Z"
   },
   {
    "duration": 1214,
    "start_time": "2024-06-14T10:40:08.100Z"
   },
   {
    "duration": 334,
    "start_time": "2024-06-14T10:40:09.316Z"
   },
   {
    "duration": 59,
    "start_time": "2024-06-14T10:40:09.652Z"
   },
   {
    "duration": 162,
    "start_time": "2024-06-14T10:40:09.712Z"
   },
   {
    "duration": 16,
    "start_time": "2024-06-14T10:40:09.876Z"
   },
   {
    "duration": 23,
    "start_time": "2024-06-14T10:40:09.893Z"
   },
   {
    "duration": 10,
    "start_time": "2024-06-14T10:40:09.918Z"
   },
   {
    "duration": 18,
    "start_time": "2024-06-14T10:40:09.929Z"
   },
   {
    "duration": 22,
    "start_time": "2024-06-14T10:40:09.949Z"
   },
   {
    "duration": 9,
    "start_time": "2024-06-14T10:40:09.972Z"
   },
   {
    "duration": 60,
    "start_time": "2024-06-14T10:40:09.982Z"
   },
   {
    "duration": 78,
    "start_time": "2024-06-14T10:40:10.043Z"
   },
   {
    "duration": 3,
    "start_time": "2024-06-14T10:40:10.122Z"
   },
   {
    "duration": 4,
    "start_time": "2024-06-14T10:40:10.126Z"
   },
   {
    "duration": 7,
    "start_time": "2024-06-14T10:40:10.131Z"
   },
   {
    "duration": 6,
    "start_time": "2024-06-14T10:40:10.140Z"
   },
   {
    "duration": 9,
    "start_time": "2024-06-14T10:40:10.147Z"
   },
   {
    "duration": 19,
    "start_time": "2024-06-14T10:40:10.157Z"
   },
   {
    "duration": 4,
    "start_time": "2024-06-14T10:40:10.178Z"
   },
   {
    "duration": 7,
    "start_time": "2024-06-14T10:40:10.183Z"
   },
   {
    "duration": 24,
    "start_time": "2024-06-14T10:40:10.191Z"
   },
   {
    "duration": 17236,
    "start_time": "2024-06-14T10:40:10.216Z"
   },
   {
    "duration": 0,
    "start_time": "2024-06-14T10:40:27.454Z"
   },
   {
    "duration": 0,
    "start_time": "2024-06-14T10:40:27.455Z"
   },
   {
    "duration": 2744,
    "start_time": "2024-06-14T10:45:24.783Z"
   },
   {
    "duration": 1220,
    "start_time": "2024-06-14T10:45:27.529Z"
   },
   {
    "duration": 358,
    "start_time": "2024-06-14T10:45:28.751Z"
   },
   {
    "duration": 45,
    "start_time": "2024-06-14T10:45:29.111Z"
   },
   {
    "duration": 168,
    "start_time": "2024-06-14T10:45:29.157Z"
   },
   {
    "duration": 15,
    "start_time": "2024-06-14T10:45:29.327Z"
   },
   {
    "duration": 11,
    "start_time": "2024-06-14T10:45:29.343Z"
   },
   {
    "duration": 12,
    "start_time": "2024-06-14T10:45:29.355Z"
   },
   {
    "duration": 35,
    "start_time": "2024-06-14T10:45:29.369Z"
   },
   {
    "duration": 22,
    "start_time": "2024-06-14T10:45:29.410Z"
   },
   {
    "duration": 10,
    "start_time": "2024-06-14T10:45:29.434Z"
   },
   {
    "duration": 5,
    "start_time": "2024-06-14T10:45:29.446Z"
   },
   {
    "duration": 82,
    "start_time": "2024-06-14T10:45:29.453Z"
   },
   {
    "duration": 5,
    "start_time": "2024-06-14T10:45:29.537Z"
   },
   {
    "duration": 3,
    "start_time": "2024-06-14T10:45:29.543Z"
   },
   {
    "duration": 5,
    "start_time": "2024-06-14T10:45:29.550Z"
   },
   {
    "duration": 21,
    "start_time": "2024-06-14T10:45:29.556Z"
   },
   {
    "duration": 38,
    "start_time": "2024-06-14T10:45:29.579Z"
   },
   {
    "duration": 53,
    "start_time": "2024-06-14T10:45:29.619Z"
   },
   {
    "duration": 12,
    "start_time": "2024-06-14T10:45:29.674Z"
   },
   {
    "duration": 9,
    "start_time": "2024-06-14T10:45:29.687Z"
   },
   {
    "duration": 17515,
    "start_time": "2024-06-14T10:45:29.698Z"
   },
   {
    "duration": 0,
    "start_time": "2024-06-14T10:45:47.214Z"
   },
   {
    "duration": 0,
    "start_time": "2024-06-14T10:45:47.216Z"
   },
   {
    "duration": 53,
    "start_time": "2024-06-14T10:46:57.322Z"
   },
   {
    "duration": 2604,
    "start_time": "2024-06-14T10:47:18.619Z"
   },
   {
    "duration": 1193,
    "start_time": "2024-06-14T10:47:21.226Z"
   },
   {
    "duration": 323,
    "start_time": "2024-06-14T10:47:22.421Z"
   },
   {
    "duration": 42,
    "start_time": "2024-06-14T10:47:22.747Z"
   },
   {
    "duration": 167,
    "start_time": "2024-06-14T10:47:22.791Z"
   },
   {
    "duration": 21,
    "start_time": "2024-06-14T10:47:22.959Z"
   },
   {
    "duration": 16,
    "start_time": "2024-06-14T10:47:22.983Z"
   },
   {
    "duration": 8,
    "start_time": "2024-06-14T10:47:23.009Z"
   },
   {
    "duration": 53,
    "start_time": "2024-06-14T10:47:23.018Z"
   },
   {
    "duration": 23,
    "start_time": "2024-06-14T10:47:23.073Z"
   },
   {
    "duration": 9,
    "start_time": "2024-06-14T10:47:23.097Z"
   },
   {
    "duration": 8,
    "start_time": "2024-06-14T10:47:23.107Z"
   },
   {
    "duration": 50,
    "start_time": "2024-06-14T10:47:23.116Z"
   },
   {
    "duration": 2,
    "start_time": "2024-06-14T10:47:23.168Z"
   },
   {
    "duration": 7,
    "start_time": "2024-06-14T10:47:23.172Z"
   },
   {
    "duration": 4,
    "start_time": "2024-06-14T10:47:23.180Z"
   },
   {
    "duration": 16,
    "start_time": "2024-06-14T10:47:23.185Z"
   },
   {
    "duration": 24,
    "start_time": "2024-06-14T10:47:23.202Z"
   },
   {
    "duration": 4,
    "start_time": "2024-06-14T10:47:23.227Z"
   },
   {
    "duration": 21,
    "start_time": "2024-06-14T10:47:23.232Z"
   },
   {
    "duration": 5,
    "start_time": "2024-06-14T10:47:23.255Z"
   },
   {
    "duration": 146960,
    "start_time": "2024-06-14T10:47:23.262Z"
   },
   {
    "duration": 3,
    "start_time": "2024-06-14T10:49:50.223Z"
   },
   {
    "duration": 411,
    "start_time": "2024-06-14T10:49:50.227Z"
   },
   {
    "duration": 342,
    "start_time": "2024-06-14T10:51:41.705Z"
   },
   {
    "duration": 2629,
    "start_time": "2024-06-14T10:52:25.639Z"
   },
   {
    "duration": 1154,
    "start_time": "2024-06-14T10:52:28.270Z"
   },
   {
    "duration": 385,
    "start_time": "2024-06-14T10:52:29.426Z"
   },
   {
    "duration": 43,
    "start_time": "2024-06-14T10:52:29.812Z"
   },
   {
    "duration": 172,
    "start_time": "2024-06-14T10:52:29.856Z"
   },
   {
    "duration": 15,
    "start_time": "2024-06-14T10:52:30.029Z"
   },
   {
    "duration": 45,
    "start_time": "2024-06-14T10:52:30.046Z"
   },
   {
    "duration": 43,
    "start_time": "2024-06-14T10:52:30.092Z"
   },
   {
    "duration": 50,
    "start_time": "2024-06-14T10:52:30.137Z"
   },
   {
    "duration": 54,
    "start_time": "2024-06-14T10:52:30.189Z"
   },
   {
    "duration": 20,
    "start_time": "2024-06-14T10:52:30.244Z"
   },
   {
    "duration": 104,
    "start_time": "2024-06-14T10:52:30.266Z"
   },
   {
    "duration": 60,
    "start_time": "2024-06-14T10:52:30.371Z"
   },
   {
    "duration": 3,
    "start_time": "2024-06-14T10:52:30.432Z"
   },
   {
    "duration": 47,
    "start_time": "2024-06-14T10:52:30.436Z"
   },
   {
    "duration": 20,
    "start_time": "2024-06-14T10:52:30.484Z"
   },
   {
    "duration": 79,
    "start_time": "2024-06-14T10:52:30.505Z"
   },
   {
    "duration": 47,
    "start_time": "2024-06-14T10:52:30.585Z"
   },
   {
    "duration": 30,
    "start_time": "2024-06-14T10:52:30.633Z"
   },
   {
    "duration": 25,
    "start_time": "2024-06-14T10:52:30.665Z"
   },
   {
    "duration": 146728,
    "start_time": "2024-06-14T10:52:30.691Z"
   },
   {
    "duration": 3,
    "start_time": "2024-06-14T10:54:57.420Z"
   },
   {
    "duration": 385,
    "start_time": "2024-06-14T10:54:57.425Z"
   },
   {
    "duration": 352,
    "start_time": "2024-06-14T10:54:57.811Z"
   },
   {
    "duration": 2614,
    "start_time": "2024-06-14T11:01:33.990Z"
   },
   {
    "duration": 1237,
    "start_time": "2024-06-14T11:01:36.606Z"
   },
   {
    "duration": 421,
    "start_time": "2024-06-14T11:01:37.844Z"
   },
   {
    "duration": 43,
    "start_time": "2024-06-14T11:01:38.267Z"
   },
   {
    "duration": 176,
    "start_time": "2024-06-14T11:01:38.311Z"
   },
   {
    "duration": 23,
    "start_time": "2024-06-14T11:01:38.488Z"
   },
   {
    "duration": 11,
    "start_time": "2024-06-14T11:01:38.512Z"
   },
   {
    "duration": 41,
    "start_time": "2024-06-14T11:01:38.524Z"
   },
   {
    "duration": 29,
    "start_time": "2024-06-14T11:01:38.566Z"
   },
   {
    "duration": 22,
    "start_time": "2024-06-14T11:01:38.597Z"
   },
   {
    "duration": 8,
    "start_time": "2024-06-14T11:01:38.620Z"
   },
   {
    "duration": 5,
    "start_time": "2024-06-14T11:01:38.629Z"
   },
   {
    "duration": 48,
    "start_time": "2024-06-14T11:01:38.636Z"
   },
   {
    "duration": 2,
    "start_time": "2024-06-14T11:01:38.686Z"
   },
   {
    "duration": 3,
    "start_time": "2024-06-14T11:01:38.708Z"
   },
   {
    "duration": 4,
    "start_time": "2024-06-14T11:01:38.713Z"
   },
   {
    "duration": 7,
    "start_time": "2024-06-14T11:01:38.719Z"
   },
   {
    "duration": 4,
    "start_time": "2024-06-14T11:01:38.728Z"
   },
   {
    "duration": 10,
    "start_time": "2024-06-14T11:01:38.733Z"
   },
   {
    "duration": 23,
    "start_time": "2024-06-14T11:01:38.745Z"
   },
   {
    "duration": 148305,
    "start_time": "2024-06-14T11:01:38.769Z"
   },
   {
    "duration": 3,
    "start_time": "2024-06-14T11:04:07.075Z"
   },
   {
    "duration": 357,
    "start_time": "2024-06-14T11:04:07.079Z"
   },
   {
    "duration": 108,
    "start_time": "2024-06-14T11:04:07.438Z"
   },
   {
    "duration": 105,
    "start_time": "2024-06-14T11:05:09.969Z"
   },
   {
    "duration": 122,
    "start_time": "2024-06-14T11:05:44.481Z"
   },
   {
    "duration": 141,
    "start_time": "2024-06-14T11:06:52.154Z"
   },
   {
    "duration": 2693,
    "start_time": "2024-06-14T11:07:33.409Z"
   },
   {
    "duration": 1260,
    "start_time": "2024-06-14T11:07:36.105Z"
   },
   {
    "duration": 388,
    "start_time": "2024-06-14T11:07:37.368Z"
   },
   {
    "duration": 44,
    "start_time": "2024-06-14T11:07:37.757Z"
   },
   {
    "duration": 151,
    "start_time": "2024-06-14T11:07:37.803Z"
   },
   {
    "duration": 14,
    "start_time": "2024-06-14T11:07:37.956Z"
   },
   {
    "duration": 11,
    "start_time": "2024-06-14T11:07:37.971Z"
   },
   {
    "duration": 7,
    "start_time": "2024-06-14T11:07:37.984Z"
   },
   {
    "duration": 21,
    "start_time": "2024-06-14T11:07:38.010Z"
   },
   {
    "duration": 22,
    "start_time": "2024-06-14T11:07:38.033Z"
   },
   {
    "duration": 8,
    "start_time": "2024-06-14T11:07:38.056Z"
   },
   {
    "duration": 13,
    "start_time": "2024-06-14T11:07:38.066Z"
   },
   {
    "duration": 58,
    "start_time": "2024-06-14T11:07:38.080Z"
   },
   {
    "duration": 3,
    "start_time": "2024-06-14T11:07:38.141Z"
   },
   {
    "duration": 11,
    "start_time": "2024-06-14T11:07:38.145Z"
   },
   {
    "duration": 5,
    "start_time": "2024-06-14T11:07:38.157Z"
   },
   {
    "duration": 11,
    "start_time": "2024-06-14T11:07:38.164Z"
   },
   {
    "duration": 5,
    "start_time": "2024-06-14T11:07:38.177Z"
   },
   {
    "duration": 6,
    "start_time": "2024-06-14T11:07:38.183Z"
   },
   {
    "duration": 6,
    "start_time": "2024-06-14T11:07:38.191Z"
   },
   {
    "duration": 143736,
    "start_time": "2024-06-14T11:07:38.198Z"
   },
   {
    "duration": 3,
    "start_time": "2024-06-14T11:10:01.936Z"
   },
   {
    "duration": 601,
    "start_time": "2024-06-14T11:10:01.941Z"
   },
   {
    "duration": 173,
    "start_time": "2024-06-14T11:10:02.543Z"
   },
   {
    "duration": 2688,
    "start_time": "2024-06-14T11:13:28.283Z"
   },
   {
    "duration": 1230,
    "start_time": "2024-06-14T11:13:30.974Z"
   },
   {
    "duration": 621,
    "start_time": "2024-06-14T11:13:32.206Z"
   },
   {
    "duration": 48,
    "start_time": "2024-06-14T11:13:32.829Z"
   },
   {
    "duration": 390,
    "start_time": "2024-06-14T11:13:32.879Z"
   },
   {
    "duration": 18,
    "start_time": "2024-06-14T11:13:33.271Z"
   },
   {
    "duration": 26,
    "start_time": "2024-06-14T11:13:33.291Z"
   },
   {
    "duration": 15,
    "start_time": "2024-06-14T11:13:33.319Z"
   },
   {
    "duration": 46,
    "start_time": "2024-06-14T11:13:33.336Z"
   },
   {
    "duration": 25,
    "start_time": "2024-06-14T11:13:33.386Z"
   },
   {
    "duration": 10,
    "start_time": "2024-06-14T11:13:33.412Z"
   },
   {
    "duration": 20,
    "start_time": "2024-06-14T11:13:33.424Z"
   },
   {
    "duration": 78,
    "start_time": "2024-06-14T11:13:33.446Z"
   },
   {
    "duration": 4,
    "start_time": "2024-06-14T11:13:33.526Z"
   },
   {
    "duration": 14,
    "start_time": "2024-06-14T11:13:33.532Z"
   },
   {
    "duration": 18,
    "start_time": "2024-06-14T11:13:33.548Z"
   },
   {
    "duration": 13,
    "start_time": "2024-06-14T11:13:33.568Z"
   },
   {
    "duration": 17,
    "start_time": "2024-06-14T11:13:33.583Z"
   },
   {
    "duration": 12,
    "start_time": "2024-06-14T11:13:33.602Z"
   },
   {
    "duration": 29,
    "start_time": "2024-06-14T11:13:33.616Z"
   },
   {
    "duration": 154335,
    "start_time": "2024-06-14T11:13:33.647Z"
   },
   {
    "duration": 3,
    "start_time": "2024-06-14T11:16:07.983Z"
   },
   {
    "duration": 362,
    "start_time": "2024-06-14T11:16:07.988Z"
   },
   {
    "duration": 102,
    "start_time": "2024-06-14T11:16:08.352Z"
   },
   {
    "duration": 337,
    "start_time": "2024-06-14T11:17:08.736Z"
   },
   {
    "duration": 112,
    "start_time": "2024-06-14T11:17:10.118Z"
   },
   {
    "duration": 339,
    "start_time": "2024-06-14T11:17:32.023Z"
   },
   {
    "duration": 98,
    "start_time": "2024-06-14T11:17:33.228Z"
   },
   {
    "duration": 2626,
    "start_time": "2024-06-14T11:18:21.491Z"
   },
   {
    "duration": 1233,
    "start_time": "2024-06-14T11:18:24.119Z"
   },
   {
    "duration": 351,
    "start_time": "2024-06-14T11:18:25.354Z"
   },
   {
    "duration": 43,
    "start_time": "2024-06-14T11:18:25.706Z"
   },
   {
    "duration": 164,
    "start_time": "2024-06-14T11:18:25.751Z"
   },
   {
    "duration": 15,
    "start_time": "2024-06-14T11:18:25.917Z"
   },
   {
    "duration": 11,
    "start_time": "2024-06-14T11:18:25.933Z"
   },
   {
    "duration": 11,
    "start_time": "2024-06-14T11:18:25.946Z"
   },
   {
    "duration": 1003,
    "start_time": "2024-06-14T11:18:25.958Z"
   },
   {
    "duration": 0,
    "start_time": "2024-06-14T11:18:26.962Z"
   },
   {
    "duration": 0,
    "start_time": "2024-06-14T11:18:26.964Z"
   },
   {
    "duration": 0,
    "start_time": "2024-06-14T11:18:26.964Z"
   },
   {
    "duration": 0,
    "start_time": "2024-06-14T11:18:26.966Z"
   },
   {
    "duration": 0,
    "start_time": "2024-06-14T11:18:26.967Z"
   },
   {
    "duration": 0,
    "start_time": "2024-06-14T11:18:26.968Z"
   },
   {
    "duration": 0,
    "start_time": "2024-06-14T11:18:26.969Z"
   },
   {
    "duration": 0,
    "start_time": "2024-06-14T11:18:26.970Z"
   },
   {
    "duration": 0,
    "start_time": "2024-06-14T11:18:26.971Z"
   },
   {
    "duration": 0,
    "start_time": "2024-06-14T11:18:26.972Z"
   },
   {
    "duration": 0,
    "start_time": "2024-06-14T11:18:26.973Z"
   },
   {
    "duration": 0,
    "start_time": "2024-06-14T11:18:26.974Z"
   },
   {
    "duration": 1,
    "start_time": "2024-06-14T11:18:26.974Z"
   },
   {
    "duration": 0,
    "start_time": "2024-06-14T11:18:26.975Z"
   },
   {
    "duration": 0,
    "start_time": "2024-06-14T11:18:26.976Z"
   },
   {
    "duration": 2635,
    "start_time": "2024-06-14T11:18:48.510Z"
   },
   {
    "duration": 1190,
    "start_time": "2024-06-14T11:18:51.147Z"
   },
   {
    "duration": 324,
    "start_time": "2024-06-14T11:18:52.339Z"
   },
   {
    "duration": 43,
    "start_time": "2024-06-14T11:18:52.665Z"
   },
   {
    "duration": 160,
    "start_time": "2024-06-14T11:18:52.709Z"
   },
   {
    "duration": 15,
    "start_time": "2024-06-14T11:18:52.870Z"
   },
   {
    "duration": 12,
    "start_time": "2024-06-14T11:18:52.886Z"
   },
   {
    "duration": 15,
    "start_time": "2024-06-14T11:18:52.909Z"
   },
   {
    "duration": 41,
    "start_time": "2024-06-14T11:18:52.925Z"
   },
   {
    "duration": 29,
    "start_time": "2024-06-14T11:18:52.968Z"
   },
   {
    "duration": 10,
    "start_time": "2024-06-14T11:18:52.998Z"
   },
   {
    "duration": 23,
    "start_time": "2024-06-14T11:18:53.009Z"
   },
   {
    "duration": 68,
    "start_time": "2024-06-14T11:18:53.034Z"
   },
   {
    "duration": 3,
    "start_time": "2024-06-14T11:18:53.103Z"
   },
   {
    "duration": 20,
    "start_time": "2024-06-14T11:18:53.107Z"
   },
   {
    "duration": 21,
    "start_time": "2024-06-14T11:18:53.128Z"
   },
   {
    "duration": 12,
    "start_time": "2024-06-14T11:18:53.150Z"
   },
   {
    "duration": 9,
    "start_time": "2024-06-14T11:18:53.163Z"
   },
   {
    "duration": 3,
    "start_time": "2024-06-14T11:18:53.173Z"
   },
   {
    "duration": 10,
    "start_time": "2024-06-14T11:18:53.178Z"
   },
   {
    "duration": 147365,
    "start_time": "2024-06-14T11:18:53.189Z"
   },
   {
    "duration": 3,
    "start_time": "2024-06-14T11:21:20.558Z"
   },
   {
    "duration": 348,
    "start_time": "2024-06-14T11:21:20.562Z"
   },
   {
    "duration": 129,
    "start_time": "2024-06-14T11:21:20.912Z"
   },
   {
    "duration": 2663,
    "start_time": "2024-06-14T11:25:51.653Z"
   },
   {
    "duration": 1237,
    "start_time": "2024-06-14T11:25:54.318Z"
   },
   {
    "duration": 348,
    "start_time": "2024-06-14T11:25:55.556Z"
   },
   {
    "duration": 42,
    "start_time": "2024-06-14T11:25:55.906Z"
   },
   {
    "duration": 156,
    "start_time": "2024-06-14T11:25:55.949Z"
   },
   {
    "duration": 14,
    "start_time": "2024-06-14T11:25:56.109Z"
   },
   {
    "duration": 12,
    "start_time": "2024-06-14T11:25:56.124Z"
   },
   {
    "duration": 21,
    "start_time": "2024-06-14T11:25:56.138Z"
   },
   {
    "duration": 24,
    "start_time": "2024-06-14T11:25:56.160Z"
   },
   {
    "duration": 27,
    "start_time": "2024-06-14T11:25:56.186Z"
   },
   {
    "duration": 7,
    "start_time": "2024-06-14T11:25:56.214Z"
   },
   {
    "duration": 8,
    "start_time": "2024-06-14T11:25:56.222Z"
   },
   {
    "duration": 38,
    "start_time": "2024-06-14T11:25:56.231Z"
   },
   {
    "duration": 2,
    "start_time": "2024-06-14T11:25:56.271Z"
   },
   {
    "duration": 4,
    "start_time": "2024-06-14T11:25:56.275Z"
   },
   {
    "duration": 7,
    "start_time": "2024-06-14T11:25:56.280Z"
   },
   {
    "duration": 21,
    "start_time": "2024-06-14T11:25:56.288Z"
   },
   {
    "duration": 5,
    "start_time": "2024-06-14T11:25:56.310Z"
   },
   {
    "duration": 11,
    "start_time": "2024-06-14T11:25:56.316Z"
   },
   {
    "duration": 16,
    "start_time": "2024-06-14T11:25:56.328Z"
   },
   {
    "duration": 98309,
    "start_time": "2024-06-14T11:25:56.345Z"
   },
   {
    "duration": 3,
    "start_time": "2024-06-14T11:27:34.655Z"
   },
   {
    "duration": 428,
    "start_time": "2024-06-14T11:27:34.659Z"
   },
   {
    "duration": 114,
    "start_time": "2024-06-14T11:27:35.089Z"
   },
   {
    "duration": 2695,
    "start_time": "2024-06-14T11:29:45.748Z"
   },
   {
    "duration": 1238,
    "start_time": "2024-06-14T11:29:48.445Z"
   },
   {
    "duration": 333,
    "start_time": "2024-06-14T11:29:49.685Z"
   },
   {
    "duration": 44,
    "start_time": "2024-06-14T11:29:50.020Z"
   },
   {
    "duration": 164,
    "start_time": "2024-06-14T11:29:50.065Z"
   },
   {
    "duration": 15,
    "start_time": "2024-06-14T11:29:50.230Z"
   },
   {
    "duration": 16,
    "start_time": "2024-06-14T11:29:50.246Z"
   },
   {
    "duration": 11,
    "start_time": "2024-06-14T11:29:50.263Z"
   },
   {
    "duration": 28,
    "start_time": "2024-06-14T11:29:50.275Z"
   },
   {
    "duration": 17,
    "start_time": "2024-06-14T11:29:50.309Z"
   },
   {
    "duration": 8,
    "start_time": "2024-06-14T11:29:50.327Z"
   },
   {
    "duration": 42,
    "start_time": "2024-06-14T11:29:50.336Z"
   },
   {
    "duration": 2,
    "start_time": "2024-06-14T11:29:50.380Z"
   },
   {
    "duration": 33,
    "start_time": "2024-06-14T11:29:50.383Z"
   },
   {
    "duration": 17,
    "start_time": "2024-06-14T11:29:50.418Z"
   },
   {
    "duration": 111,
    "start_time": "2024-06-14T11:29:50.437Z"
   },
   {
    "duration": 0,
    "start_time": "2024-06-14T11:29:50.549Z"
   },
   {
    "duration": 0,
    "start_time": "2024-06-14T11:29:50.550Z"
   },
   {
    "duration": 0,
    "start_time": "2024-06-14T11:29:50.551Z"
   },
   {
    "duration": 0,
    "start_time": "2024-06-14T11:29:50.552Z"
   },
   {
    "duration": 0,
    "start_time": "2024-06-14T11:29:50.553Z"
   },
   {
    "duration": 0,
    "start_time": "2024-06-14T11:29:50.554Z"
   },
   {
    "duration": 2,
    "start_time": "2024-06-14T11:30:21.108Z"
   },
   {
    "duration": 10,
    "start_time": "2024-06-14T11:30:21.609Z"
   },
   {
    "duration": 8,
    "start_time": "2024-06-14T11:30:21.940Z"
   },
   {
    "duration": 2672,
    "start_time": "2024-06-14T11:30:40.685Z"
   },
   {
    "duration": 1209,
    "start_time": "2024-06-14T11:30:43.359Z"
   },
   {
    "duration": 301,
    "start_time": "2024-06-14T11:30:44.569Z"
   },
   {
    "duration": 45,
    "start_time": "2024-06-14T11:30:44.873Z"
   },
   {
    "duration": 163,
    "start_time": "2024-06-14T11:30:44.920Z"
   },
   {
    "duration": 25,
    "start_time": "2024-06-14T11:30:45.085Z"
   },
   {
    "duration": 51,
    "start_time": "2024-06-14T11:30:45.112Z"
   },
   {
    "duration": 14,
    "start_time": "2024-06-14T11:30:45.164Z"
   },
   {
    "duration": 55,
    "start_time": "2024-06-14T11:30:45.179Z"
   },
   {
    "duration": 117,
    "start_time": "2024-06-14T11:30:45.237Z"
   },
   {
    "duration": 24,
    "start_time": "2024-06-14T11:30:45.356Z"
   },
   {
    "duration": 58,
    "start_time": "2024-06-14T11:30:45.381Z"
   },
   {
    "duration": 4,
    "start_time": "2024-06-14T11:30:45.440Z"
   },
   {
    "duration": 38,
    "start_time": "2024-06-14T11:30:45.447Z"
   },
   {
    "duration": 81,
    "start_time": "2024-06-14T11:30:45.486Z"
   },
   {
    "duration": 47,
    "start_time": "2024-06-14T11:30:45.569Z"
   },
   {
    "duration": 28,
    "start_time": "2024-06-14T11:30:45.618Z"
   },
   {
    "duration": 20,
    "start_time": "2024-06-14T11:30:45.647Z"
   },
   {
    "duration": 55,
    "start_time": "2024-06-14T11:30:45.668Z"
   },
   {
    "duration": 18,
    "start_time": "2024-06-14T11:30:45.724Z"
   },
   {
    "duration": 98954,
    "start_time": "2024-06-14T11:30:45.743Z"
   },
   {
    "duration": 3,
    "start_time": "2024-06-14T11:32:24.699Z"
   },
   {
    "duration": 118,
    "start_time": "2024-06-14T11:32:24.708Z"
   },
   {
    "duration": 879,
    "start_time": "2024-06-14T11:33:56.408Z"
   },
   {
    "duration": 2718,
    "start_time": "2024-06-14T11:34:23.943Z"
   },
   {
    "duration": 1186,
    "start_time": "2024-06-14T11:34:26.664Z"
   },
   {
    "duration": 318,
    "start_time": "2024-06-14T11:34:27.852Z"
   },
   {
    "duration": 43,
    "start_time": "2024-06-14T11:34:28.171Z"
   },
   {
    "duration": 156,
    "start_time": "2024-06-14T11:34:28.215Z"
   },
   {
    "duration": 15,
    "start_time": "2024-06-14T11:34:28.372Z"
   },
   {
    "duration": 21,
    "start_time": "2024-06-14T11:34:28.388Z"
   },
   {
    "duration": 6,
    "start_time": "2024-06-14T11:34:28.411Z"
   },
   {
    "duration": 22,
    "start_time": "2024-06-14T11:34:28.419Z"
   },
   {
    "duration": 8,
    "start_time": "2024-06-14T11:34:28.443Z"
   },
   {
    "duration": 62,
    "start_time": "2024-06-14T11:34:28.452Z"
   },
   {
    "duration": 3,
    "start_time": "2024-06-14T11:34:28.516Z"
   },
   {
    "duration": 25,
    "start_time": "2024-06-14T11:34:28.520Z"
   },
   {
    "duration": 4,
    "start_time": "2024-06-14T11:34:28.547Z"
   },
   {
    "duration": 6,
    "start_time": "2024-06-14T11:34:28.552Z"
   },
   {
    "duration": 4,
    "start_time": "2024-06-14T11:34:28.559Z"
   },
   {
    "duration": 14,
    "start_time": "2024-06-14T11:34:28.564Z"
   },
   {
    "duration": 11,
    "start_time": "2024-06-14T11:34:28.580Z"
   },
   {
    "duration": 8,
    "start_time": "2024-06-14T11:34:28.592Z"
   },
   {
    "duration": 82688,
    "start_time": "2024-06-14T11:34:28.602Z"
   },
   {
    "duration": 4,
    "start_time": "2024-06-14T11:35:51.292Z"
   },
   {
    "duration": 409,
    "start_time": "2024-06-14T11:35:51.300Z"
   },
   {
    "duration": 19,
    "start_time": "2024-06-14T11:38:30.985Z"
   },
   {
    "duration": 13,
    "start_time": "2024-06-14T11:38:38.847Z"
   },
   {
    "duration": 351,
    "start_time": "2024-06-14T11:39:19.827Z"
   },
   {
    "duration": 375,
    "start_time": "2024-06-14T11:40:02.723Z"
   },
   {
    "duration": 253,
    "start_time": "2024-06-14T11:41:40.775Z"
   },
   {
    "duration": 461,
    "start_time": "2024-06-14T11:41:49.751Z"
   },
   {
    "duration": 304,
    "start_time": "2024-06-14T11:42:48.968Z"
   },
   {
    "duration": 11,
    "start_time": "2024-06-14T11:43:35.492Z"
   },
   {
    "duration": 371,
    "start_time": "2024-06-14T11:43:45.244Z"
   },
   {
    "duration": 11,
    "start_time": "2024-06-14T11:43:47.495Z"
   },
   {
    "duration": 83,
    "start_time": "2024-06-14T11:46:15.744Z"
   },
   {
    "duration": 2728,
    "start_time": "2024-06-14T11:46:21.456Z"
   },
   {
    "duration": 1265,
    "start_time": "2024-06-14T11:46:24.187Z"
   },
   {
    "duration": 432,
    "start_time": "2024-06-14T11:46:25.454Z"
   },
   {
    "duration": 41,
    "start_time": "2024-06-14T11:46:25.888Z"
   },
   {
    "duration": 150,
    "start_time": "2024-06-14T11:46:25.930Z"
   },
   {
    "duration": 14,
    "start_time": "2024-06-14T11:46:26.082Z"
   },
   {
    "duration": 11,
    "start_time": "2024-06-14T11:46:26.108Z"
   },
   {
    "duration": 8,
    "start_time": "2024-06-14T11:46:26.121Z"
   },
   {
    "duration": 23,
    "start_time": "2024-06-14T11:46:26.130Z"
   },
   {
    "duration": 32,
    "start_time": "2024-06-14T11:46:26.156Z"
   },
   {
    "duration": 45,
    "start_time": "2024-06-14T11:46:26.190Z"
   },
   {
    "duration": 69,
    "start_time": "2024-06-14T11:46:26.236Z"
   },
   {
    "duration": 25,
    "start_time": "2024-06-14T11:46:26.306Z"
   },
   {
    "duration": 9,
    "start_time": "2024-06-14T11:46:26.332Z"
   },
   {
    "duration": 29,
    "start_time": "2024-06-14T11:46:26.343Z"
   },
   {
    "duration": 23,
    "start_time": "2024-06-14T11:46:26.373Z"
   },
   {
    "duration": 170,
    "start_time": "2024-06-14T11:46:26.397Z"
   },
   {
    "duration": 0,
    "start_time": "2024-06-14T11:46:26.569Z"
   },
   {
    "duration": 0,
    "start_time": "2024-06-14T11:46:26.570Z"
   },
   {
    "duration": 0,
    "start_time": "2024-06-14T11:46:26.571Z"
   },
   {
    "duration": 0,
    "start_time": "2024-06-14T11:46:26.572Z"
   },
   {
    "duration": 0,
    "start_time": "2024-06-14T11:46:26.574Z"
   },
   {
    "duration": 0,
    "start_time": "2024-06-14T11:46:26.575Z"
   },
   {
    "duration": 0,
    "start_time": "2024-06-14T11:46:26.576Z"
   },
   {
    "duration": 308,
    "start_time": "2024-06-14T11:47:03.978Z"
   },
   {
    "duration": 2665,
    "start_time": "2024-06-14T11:47:24.814Z"
   },
   {
    "duration": 1288,
    "start_time": "2024-06-14T11:47:27.481Z"
   },
   {
    "duration": 330,
    "start_time": "2024-06-14T11:47:28.771Z"
   },
   {
    "duration": 44,
    "start_time": "2024-06-14T11:47:29.103Z"
   },
   {
    "duration": 167,
    "start_time": "2024-06-14T11:47:29.149Z"
   },
   {
    "duration": 15,
    "start_time": "2024-06-14T11:47:29.317Z"
   },
   {
    "duration": 63,
    "start_time": "2024-06-14T11:47:29.333Z"
   },
   {
    "duration": 29,
    "start_time": "2024-06-14T11:47:29.397Z"
   },
   {
    "duration": 38,
    "start_time": "2024-06-14T11:47:29.427Z"
   },
   {
    "duration": 9,
    "start_time": "2024-06-14T11:47:29.468Z"
   },
   {
    "duration": 60,
    "start_time": "2024-06-14T11:47:29.478Z"
   },
   {
    "duration": 6,
    "start_time": "2024-06-14T11:47:29.544Z"
   },
   {
    "duration": 16,
    "start_time": "2024-06-14T11:47:29.551Z"
   },
   {
    "duration": 6,
    "start_time": "2024-06-14T11:47:29.570Z"
   },
   {
    "duration": 28,
    "start_time": "2024-06-14T11:47:29.578Z"
   },
   {
    "duration": 14,
    "start_time": "2024-06-14T11:47:29.608Z"
   },
   {
    "duration": 310,
    "start_time": "2024-06-14T11:47:29.624Z"
   },
   {
    "duration": 58,
    "start_time": "2024-06-14T11:47:29.935Z"
   },
   {
    "duration": 0,
    "start_time": "2024-06-14T11:47:29.994Z"
   },
   {
    "duration": 0,
    "start_time": "2024-06-14T11:47:29.995Z"
   },
   {
    "duration": 0,
    "start_time": "2024-06-14T11:47:29.996Z"
   },
   {
    "duration": 0,
    "start_time": "2024-06-14T11:47:29.997Z"
   },
   {
    "duration": 0,
    "start_time": "2024-06-14T11:47:29.998Z"
   },
   {
    "duration": 0,
    "start_time": "2024-06-14T11:47:29.999Z"
   },
   {
    "duration": 2702,
    "start_time": "2024-06-14T11:48:00.809Z"
   },
   {
    "duration": 1229,
    "start_time": "2024-06-14T11:48:03.513Z"
   },
   {
    "duration": 324,
    "start_time": "2024-06-14T11:48:04.744Z"
   },
   {
    "duration": 42,
    "start_time": "2024-06-14T11:48:05.070Z"
   },
   {
    "duration": 168,
    "start_time": "2024-06-14T11:48:05.114Z"
   },
   {
    "duration": 15,
    "start_time": "2024-06-14T11:48:05.284Z"
   },
   {
    "duration": 12,
    "start_time": "2024-06-14T11:48:05.309Z"
   },
   {
    "duration": 19,
    "start_time": "2024-06-14T11:48:05.322Z"
   },
   {
    "duration": 27,
    "start_time": "2024-06-14T11:48:05.342Z"
   },
   {
    "duration": 8,
    "start_time": "2024-06-14T11:48:05.371Z"
   },
   {
    "duration": 62,
    "start_time": "2024-06-14T11:48:05.380Z"
   },
   {
    "duration": 3,
    "start_time": "2024-06-14T11:48:05.444Z"
   },
   {
    "duration": 16,
    "start_time": "2024-06-14T11:48:05.448Z"
   },
   {
    "duration": 28,
    "start_time": "2024-06-14T11:48:05.466Z"
   },
   {
    "duration": 26,
    "start_time": "2024-06-14T11:48:05.496Z"
   },
   {
    "duration": 14,
    "start_time": "2024-06-14T11:48:05.524Z"
   },
   {
    "duration": 375,
    "start_time": "2024-06-14T11:48:05.540Z"
   },
   {
    "duration": 119,
    "start_time": "2024-06-14T11:48:05.916Z"
   },
   {
    "duration": 0,
    "start_time": "2024-06-14T11:48:06.036Z"
   },
   {
    "duration": 0,
    "start_time": "2024-06-14T11:48:06.037Z"
   },
   {
    "duration": 0,
    "start_time": "2024-06-14T11:48:06.039Z"
   },
   {
    "duration": 0,
    "start_time": "2024-06-14T11:48:06.040Z"
   },
   {
    "duration": 0,
    "start_time": "2024-06-14T11:48:06.041Z"
   },
   {
    "duration": 0,
    "start_time": "2024-06-14T11:48:06.042Z"
   },
   {
    "duration": 3,
    "start_time": "2024-06-14T11:48:46.355Z"
   },
   {
    "duration": 15,
    "start_time": "2024-06-14T11:48:46.639Z"
   },
   {
    "duration": 8,
    "start_time": "2024-06-14T11:49:03.677Z"
   },
   {
    "duration": 3,
    "start_time": "2024-06-14T11:49:04.559Z"
   },
   {
    "duration": 4,
    "start_time": "2024-06-14T11:49:04.917Z"
   },
   {
    "duration": 5701,
    "start_time": "2024-06-14T11:49:05.255Z"
   },
   {
    "duration": 0,
    "start_time": "2024-06-14T11:49:10.958Z"
   },
   {
    "duration": 0,
    "start_time": "2024-06-14T11:49:10.959Z"
   },
   {
    "duration": 0,
    "start_time": "2024-06-14T11:49:10.960Z"
   },
   {
    "duration": 8,
    "start_time": "2024-06-14T11:50:27.384Z"
   },
   {
    "duration": 3,
    "start_time": "2024-06-14T11:50:27.732Z"
   },
   {
    "duration": 3,
    "start_time": "2024-06-14T11:50:28.068Z"
   },
   {
    "duration": 67762,
    "start_time": "2024-06-14T11:50:28.553Z"
   },
   {
    "duration": 3,
    "start_time": "2024-06-14T11:51:36.317Z"
   },
   {
    "duration": 338,
    "start_time": "2024-06-14T11:51:36.321Z"
   },
   {
    "duration": 312,
    "start_time": "2024-06-14T11:51:36.661Z"
   },
   {
    "duration": 2614,
    "start_time": "2024-06-14T12:03:56.881Z"
   },
   {
    "duration": 1587,
    "start_time": "2024-06-14T12:03:59.497Z"
   },
   {
    "duration": 483,
    "start_time": "2024-06-14T12:04:01.085Z"
   },
   {
    "duration": 45,
    "start_time": "2024-06-14T12:04:01.570Z"
   },
   {
    "duration": 198,
    "start_time": "2024-06-14T12:04:01.617Z"
   },
   {
    "duration": 16,
    "start_time": "2024-06-14T12:04:01.817Z"
   },
   {
    "duration": 54,
    "start_time": "2024-06-14T12:04:01.835Z"
   },
   {
    "duration": 56,
    "start_time": "2024-06-14T12:04:01.891Z"
   },
   {
    "duration": 153,
    "start_time": "2024-06-14T12:04:01.949Z"
   },
   {
    "duration": 43,
    "start_time": "2024-06-14T12:04:02.105Z"
   },
   {
    "duration": 56,
    "start_time": "2024-06-14T12:04:02.149Z"
   },
   {
    "duration": 27,
    "start_time": "2024-06-14T12:04:02.206Z"
   },
   {
    "duration": 24,
    "start_time": "2024-06-14T12:04:02.235Z"
   },
   {
    "duration": 15,
    "start_time": "2024-06-14T12:04:02.260Z"
   },
   {
    "duration": 109,
    "start_time": "2024-06-14T12:04:02.276Z"
   },
   {
    "duration": 69,
    "start_time": "2024-06-14T12:04:02.387Z"
   },
   {
    "duration": 5,
    "start_time": "2024-06-14T12:04:02.458Z"
   },
   {
    "duration": 76,
    "start_time": "2024-06-14T12:04:02.464Z"
   },
   {
    "duration": 25,
    "start_time": "2024-06-14T12:04:02.541Z"
   },
   {
    "duration": 51289,
    "start_time": "2024-06-14T12:04:02.568Z"
   },
   {
    "duration": 2,
    "start_time": "2024-06-14T12:04:53.858Z"
   },
   {
    "duration": 198,
    "start_time": "2024-06-14T12:04:53.862Z"
   },
   {
    "duration": 170,
    "start_time": "2024-06-14T12:04:54.061Z"
   },
   {
    "duration": 1658,
    "start_time": "2024-06-14T12:11:34.669Z"
   },
   {
    "duration": 2666,
    "start_time": "2024-06-14T12:11:42.587Z"
   },
   {
    "duration": 1481,
    "start_time": "2024-06-14T12:11:45.255Z"
   },
   {
    "duration": 300,
    "start_time": "2024-06-14T12:11:46.738Z"
   },
   {
    "duration": 42,
    "start_time": "2024-06-14T12:11:47.040Z"
   },
   {
    "duration": 150,
    "start_time": "2024-06-14T12:11:47.083Z"
   },
   {
    "duration": 14,
    "start_time": "2024-06-14T12:11:47.235Z"
   },
   {
    "duration": 10,
    "start_time": "2024-06-14T12:11:47.250Z"
   },
   {
    "duration": 22,
    "start_time": "2024-06-14T12:11:47.261Z"
   },
   {
    "duration": 739,
    "start_time": "2024-06-14T12:11:47.285Z"
   },
   {
    "duration": 5,
    "start_time": "2024-06-14T12:11:48.026Z"
   },
   {
    "duration": 22,
    "start_time": "2024-06-14T12:11:48.032Z"
   },
   {
    "duration": 40,
    "start_time": "2024-06-14T12:11:48.055Z"
   },
   {
    "duration": 3,
    "start_time": "2024-06-14T12:11:48.097Z"
   },
   {
    "duration": 39,
    "start_time": "2024-06-14T12:11:48.101Z"
   },
   {
    "duration": 7,
    "start_time": "2024-06-14T12:11:48.141Z"
   },
   {
    "duration": 15,
    "start_time": "2024-06-14T12:11:48.149Z"
   },
   {
    "duration": 4,
    "start_time": "2024-06-14T12:11:48.165Z"
   },
   {
    "duration": 19,
    "start_time": "2024-06-14T12:11:48.170Z"
   },
   {
    "duration": 9,
    "start_time": "2024-06-14T12:11:48.191Z"
   },
   {
    "duration": 8,
    "start_time": "2024-06-14T12:11:48.201Z"
   },
   {
    "duration": 2697,
    "start_time": "2024-06-14T12:12:17.816Z"
   },
   {
    "duration": 1543,
    "start_time": "2024-06-14T12:12:20.515Z"
   },
   {
    "duration": 328,
    "start_time": "2024-06-14T12:12:22.059Z"
   },
   {
    "duration": 43,
    "start_time": "2024-06-14T12:12:22.389Z"
   },
   {
    "duration": 181,
    "start_time": "2024-06-14T12:12:22.434Z"
   },
   {
    "duration": 16,
    "start_time": "2024-06-14T12:12:22.617Z"
   },
   {
    "duration": 22,
    "start_time": "2024-06-14T12:12:22.634Z"
   },
   {
    "duration": 12,
    "start_time": "2024-06-14T12:12:22.658Z"
   },
   {
    "duration": 11,
    "start_time": "2024-06-14T12:12:22.671Z"
   },
   {
    "duration": 36,
    "start_time": "2024-06-14T12:12:22.684Z"
   },
   {
    "duration": 32,
    "start_time": "2024-06-14T12:12:22.722Z"
   },
   {
    "duration": 11,
    "start_time": "2024-06-14T12:12:22.756Z"
   },
   {
    "duration": 11,
    "start_time": "2024-06-14T12:12:22.768Z"
   },
   {
    "duration": 3,
    "start_time": "2024-06-14T12:12:22.781Z"
   },
   {
    "duration": 45,
    "start_time": "2024-06-14T12:12:22.786Z"
   },
   {
    "duration": 14,
    "start_time": "2024-06-14T12:12:22.833Z"
   },
   {
    "duration": 13,
    "start_time": "2024-06-14T12:12:22.848Z"
   },
   {
    "duration": 32,
    "start_time": "2024-06-14T12:12:22.862Z"
   },
   {
    "duration": 12,
    "start_time": "2024-06-14T12:12:22.895Z"
   },
   {
    "duration": 52230,
    "start_time": "2024-06-14T12:12:22.908Z"
   },
   {
    "duration": 3,
    "start_time": "2024-06-14T12:13:15.139Z"
   },
   {
    "duration": 203,
    "start_time": "2024-06-14T12:13:15.143Z"
   },
   {
    "duration": 194,
    "start_time": "2024-06-14T12:13:15.348Z"
   },
   {
    "duration": 2660,
    "start_time": "2024-06-14T12:15:39.380Z"
   },
   {
    "duration": 1536,
    "start_time": "2024-06-14T12:15:42.042Z"
   },
   {
    "duration": 308,
    "start_time": "2024-06-14T12:15:43.579Z"
   },
   {
    "duration": 46,
    "start_time": "2024-06-14T12:15:43.889Z"
   },
   {
    "duration": 158,
    "start_time": "2024-06-14T12:15:43.936Z"
   },
   {
    "duration": 20,
    "start_time": "2024-06-14T12:15:44.095Z"
   },
   {
    "duration": 13,
    "start_time": "2024-06-14T12:15:44.116Z"
   },
   {
    "duration": 17,
    "start_time": "2024-06-14T12:15:44.130Z"
   },
   {
    "duration": 386,
    "start_time": "2024-06-14T12:15:44.148Z"
   },
   {
    "duration": 20,
    "start_time": "2024-06-14T12:15:44.536Z"
   },
   {
    "duration": 30,
    "start_time": "2024-06-14T12:15:44.558Z"
   },
   {
    "duration": 58,
    "start_time": "2024-06-14T12:15:44.589Z"
   },
   {
    "duration": 4,
    "start_time": "2024-06-14T12:15:44.648Z"
   },
   {
    "duration": 5,
    "start_time": "2024-06-14T12:15:44.653Z"
   },
   {
    "duration": 13,
    "start_time": "2024-06-14T12:15:44.659Z"
   },
   {
    "duration": 5,
    "start_time": "2024-06-14T12:15:44.674Z"
   },
   {
    "duration": 4,
    "start_time": "2024-06-14T12:15:44.680Z"
   },
   {
    "duration": 5,
    "start_time": "2024-06-14T12:15:44.685Z"
   },
   {
    "duration": 4,
    "start_time": "2024-06-14T12:15:44.708Z"
   },
   {
    "duration": 9,
    "start_time": "2024-06-14T12:15:44.713Z"
   },
   {
    "duration": 62167,
    "start_time": "2024-06-14T12:15:44.724Z"
   },
   {
    "duration": 2,
    "start_time": "2024-06-14T12:16:46.892Z"
   },
   {
    "duration": 247,
    "start_time": "2024-06-14T12:16:46.896Z"
   },
   {
    "duration": 120,
    "start_time": "2024-06-14T12:16:47.145Z"
   },
   {
    "duration": 2670,
    "start_time": "2024-06-14T12:16:58.433Z"
   },
   {
    "duration": 1520,
    "start_time": "2024-06-14T12:17:01.105Z"
   },
   {
    "duration": 586,
    "start_time": "2024-06-14T12:17:02.626Z"
   },
   {
    "duration": 54,
    "start_time": "2024-06-14T12:17:03.214Z"
   },
   {
    "duration": 210,
    "start_time": "2024-06-14T12:17:03.269Z"
   },
   {
    "duration": 19,
    "start_time": "2024-06-14T12:17:03.480Z"
   },
   {
    "duration": 35,
    "start_time": "2024-06-14T12:17:03.500Z"
   },
   {
    "duration": 32,
    "start_time": "2024-06-14T12:17:03.536Z"
   },
   {
    "duration": 456,
    "start_time": "2024-06-14T12:17:03.569Z"
   },
   {
    "duration": 0,
    "start_time": "2024-06-14T12:17:04.027Z"
   },
   {
    "duration": 1,
    "start_time": "2024-06-14T12:17:04.028Z"
   },
   {
    "duration": 0,
    "start_time": "2024-06-14T12:17:04.029Z"
   },
   {
    "duration": 0,
    "start_time": "2024-06-14T12:17:04.031Z"
   },
   {
    "duration": 0,
    "start_time": "2024-06-14T12:17:04.032Z"
   },
   {
    "duration": 0,
    "start_time": "2024-06-14T12:17:04.033Z"
   },
   {
    "duration": 0,
    "start_time": "2024-06-14T12:17:04.034Z"
   },
   {
    "duration": 0,
    "start_time": "2024-06-14T12:17:04.035Z"
   },
   {
    "duration": 0,
    "start_time": "2024-06-14T12:17:04.036Z"
   },
   {
    "duration": 0,
    "start_time": "2024-06-14T12:17:04.036Z"
   },
   {
    "duration": 0,
    "start_time": "2024-06-14T12:17:04.038Z"
   },
   {
    "duration": 0,
    "start_time": "2024-06-14T12:17:04.038Z"
   },
   {
    "duration": 0,
    "start_time": "2024-06-14T12:17:04.040Z"
   },
   {
    "duration": 0,
    "start_time": "2024-06-14T12:17:04.040Z"
   },
   {
    "duration": 0,
    "start_time": "2024-06-14T12:17:04.041Z"
   },
   {
    "duration": 6666,
    "start_time": "2024-06-14T15:22:06.309Z"
   },
   {
    "duration": 1530,
    "start_time": "2024-06-14T15:22:12.978Z"
   },
   {
    "duration": 388,
    "start_time": "2024-06-14T15:22:14.509Z"
   },
   {
    "duration": 36,
    "start_time": "2024-06-14T15:22:14.899Z"
   },
   {
    "duration": 131,
    "start_time": "2024-06-14T15:22:14.937Z"
   },
   {
    "duration": 13,
    "start_time": "2024-06-14T15:22:15.070Z"
   },
   {
    "duration": 26,
    "start_time": "2024-06-14T15:22:15.083Z"
   },
   {
    "duration": 38,
    "start_time": "2024-06-14T15:22:15.110Z"
   },
   {
    "duration": 6915,
    "start_time": "2024-06-14T15:22:15.149Z"
   },
   {
    "duration": 4,
    "start_time": "2024-06-14T15:22:22.066Z"
   },
   {
    "duration": 20,
    "start_time": "2024-06-14T15:22:22.072Z"
   },
   {
    "duration": 46,
    "start_time": "2024-06-14T15:22:22.094Z"
   },
   {
    "duration": 3,
    "start_time": "2024-06-14T15:22:22.142Z"
   },
   {
    "duration": 7,
    "start_time": "2024-06-14T15:22:22.146Z"
   },
   {
    "duration": 32,
    "start_time": "2024-06-14T15:22:22.155Z"
   },
   {
    "duration": 8,
    "start_time": "2024-06-14T15:22:22.188Z"
   },
   {
    "duration": 25,
    "start_time": "2024-06-14T15:22:22.197Z"
   },
   {
    "duration": 5,
    "start_time": "2024-06-14T15:22:22.223Z"
   },
   {
    "duration": 11,
    "start_time": "2024-06-14T15:22:22.229Z"
   },
   {
    "duration": 5,
    "start_time": "2024-06-14T15:22:22.241Z"
   },
   {
    "duration": 352,
    "start_time": "2024-06-14T15:22:22.247Z"
   },
   {
    "duration": 0,
    "start_time": "2024-06-14T15:22:22.600Z"
   },
   {
    "duration": 0,
    "start_time": "2024-06-14T15:22:22.601Z"
   },
   {
    "duration": 0,
    "start_time": "2024-06-14T15:22:22.602Z"
   },
   {
    "duration": 6674,
    "start_time": "2024-06-14T15:22:56.894Z"
   },
   {
    "duration": 196000,
    "start_time": "2024-06-14T15:25:00.323Z"
   },
   {
    "duration": 70,
    "start_time": "2024-06-14T15:29:36.678Z"
   },
   {
    "duration": 111,
    "start_time": "2024-06-14T15:29:45.686Z"
   },
   {
    "duration": 48,
    "start_time": "2024-06-14T15:30:02.483Z"
   },
   {
    "duration": 97,
    "start_time": "2024-06-14T15:30:17.671Z"
   },
   {
    "duration": 116,
    "start_time": "2024-06-14T15:31:10.146Z"
   },
   {
    "duration": 8820,
    "start_time": "2024-06-14T15:35:52.603Z"
   },
   {
    "duration": 2315,
    "start_time": "2024-06-14T15:37:05.499Z"
   },
   {
    "duration": 1368,
    "start_time": "2024-06-14T15:37:07.816Z"
   },
   {
    "duration": 360,
    "start_time": "2024-06-14T15:37:09.185Z"
   },
   {
    "duration": 48,
    "start_time": "2024-06-14T15:37:09.547Z"
   },
   {
    "duration": 126,
    "start_time": "2024-06-14T15:37:09.596Z"
   },
   {
    "duration": 12,
    "start_time": "2024-06-14T15:37:09.724Z"
   },
   {
    "duration": 11,
    "start_time": "2024-06-14T15:37:09.737Z"
   },
   {
    "duration": 8,
    "start_time": "2024-06-14T15:37:09.749Z"
   },
   {
    "duration": 131,
    "start_time": "2024-06-14T15:37:09.759Z"
   },
   {
    "duration": 5,
    "start_time": "2024-06-14T15:37:09.892Z"
   },
   {
    "duration": 11,
    "start_time": "2024-06-14T15:37:09.898Z"
   },
   {
    "duration": 22,
    "start_time": "2024-06-14T15:37:09.911Z"
   },
   {
    "duration": 3,
    "start_time": "2024-06-14T15:37:09.934Z"
   },
   {
    "duration": 6,
    "start_time": "2024-06-14T15:37:09.938Z"
   },
   {
    "duration": 10,
    "start_time": "2024-06-14T15:37:09.945Z"
   },
   {
    "duration": 10,
    "start_time": "2024-06-14T15:37:09.956Z"
   },
   {
    "duration": 7,
    "start_time": "2024-06-14T15:37:09.967Z"
   },
   {
    "duration": 5,
    "start_time": "2024-06-14T15:37:09.975Z"
   },
   {
    "duration": 13,
    "start_time": "2024-06-14T15:37:09.981Z"
   },
   {
    "duration": 3,
    "start_time": "2024-06-14T15:37:09.995Z"
   },
   {
    "duration": 43135,
    "start_time": "2024-06-14T15:37:09.999Z"
   },
   {
    "duration": 2,
    "start_time": "2024-06-14T15:37:53.136Z"
   },
   {
    "duration": 158,
    "start_time": "2024-06-14T15:37:53.139Z"
   },
   {
    "duration": 143,
    "start_time": "2024-06-14T15:37:53.298Z"
   },
   {
    "duration": 98,
    "start_time": "2024-06-14T15:52:22.351Z"
   },
   {
    "duration": 1059,
    "start_time": "2024-06-14T15:53:27.658Z"
   },
   {
    "duration": 136,
    "start_time": "2024-06-14T15:53:39.511Z"
   },
   {
    "duration": 55,
    "start_time": "2024-06-14T15:54:18.608Z"
   },
   {
    "duration": 1706,
    "start_time": "2024-06-14T15:55:08.001Z"
   },
   {
    "duration": 194,
    "start_time": "2024-06-14T15:55:16.102Z"
   },
   {
    "duration": 677,
    "start_time": "2024-06-14T15:56:08.226Z"
   },
   {
    "duration": 200,
    "start_time": "2024-06-14T15:56:15.604Z"
   },
   {
    "duration": 2245,
    "start_time": "2024-06-14T15:56:35.517Z"
   },
   {
    "duration": 1322,
    "start_time": "2024-06-14T15:56:37.764Z"
   },
   {
    "duration": 303,
    "start_time": "2024-06-14T15:56:39.087Z"
   },
   {
    "duration": 35,
    "start_time": "2024-06-14T15:56:39.391Z"
   },
   {
    "duration": 131,
    "start_time": "2024-06-14T15:56:39.428Z"
   },
   {
    "duration": 13,
    "start_time": "2024-06-14T15:56:39.560Z"
   },
   {
    "duration": 15,
    "start_time": "2024-06-14T15:56:39.574Z"
   },
   {
    "duration": 7,
    "start_time": "2024-06-14T15:56:39.590Z"
   },
   {
    "duration": 112,
    "start_time": "2024-06-14T15:56:39.598Z"
   },
   {
    "duration": 1341,
    "start_time": "2024-06-14T15:56:39.712Z"
   },
   {
    "duration": 289,
    "start_time": "2024-06-14T15:56:41.054Z"
   },
   {
    "duration": 353,
    "start_time": "2024-06-14T15:56:41.344Z"
   },
   {
    "duration": 252,
    "start_time": "2024-06-14T15:56:41.699Z"
   },
   {
    "duration": 2,
    "start_time": "2024-06-14T15:56:41.953Z"
   },
   {
    "duration": 3,
    "start_time": "2024-06-14T15:56:41.956Z"
   },
   {
    "duration": 4,
    "start_time": "2024-06-14T15:56:41.960Z"
   },
   {
    "duration": 8,
    "start_time": "2024-06-14T15:56:41.965Z"
   },
   {
    "duration": 3,
    "start_time": "2024-06-14T15:56:41.974Z"
   },
   {
    "duration": 13,
    "start_time": "2024-06-14T15:56:41.978Z"
   },
   {
    "duration": 6,
    "start_time": "2024-06-14T15:56:41.992Z"
   },
   {
    "duration": 15,
    "start_time": "2024-06-14T15:56:41.999Z"
   },
   {
    "duration": 54644,
    "start_time": "2024-06-14T15:56:42.015Z"
   },
   {
    "duration": 0,
    "start_time": "2024-06-14T15:57:36.661Z"
   },
   {
    "duration": 0,
    "start_time": "2024-06-14T15:57:36.662Z"
   },
   {
    "duration": 0,
    "start_time": "2024-06-14T15:57:36.663Z"
   },
   {
    "duration": 7,
    "start_time": "2024-06-14T15:59:40.955Z"
   },
   {
    "duration": 2240,
    "start_time": "2024-06-14T15:59:45.712Z"
   },
   {
    "duration": 1290,
    "start_time": "2024-06-14T15:59:47.954Z"
   },
   {
    "duration": 262,
    "start_time": "2024-06-14T15:59:49.246Z"
   },
   {
    "duration": 36,
    "start_time": "2024-06-14T15:59:49.509Z"
   },
   {
    "duration": 125,
    "start_time": "2024-06-14T15:59:49.546Z"
   },
   {
    "duration": 17,
    "start_time": "2024-06-14T15:59:49.673Z"
   },
   {
    "duration": 9,
    "start_time": "2024-06-14T15:59:49.691Z"
   },
   {
    "duration": 8,
    "start_time": "2024-06-14T15:59:49.701Z"
   },
   {
    "duration": 129,
    "start_time": "2024-06-14T15:59:49.710Z"
   },
   {
    "duration": 1342,
    "start_time": "2024-06-14T15:59:49.841Z"
   },
   {
    "duration": 299,
    "start_time": "2024-06-14T15:59:51.184Z"
   },
   {
    "duration": 343,
    "start_time": "2024-06-14T15:59:51.485Z"
   },
   {
    "duration": 99,
    "start_time": "2024-06-14T15:59:51.829Z"
   },
   {
    "duration": 0,
    "start_time": "2024-06-14T15:59:51.929Z"
   },
   {
    "duration": 0,
    "start_time": "2024-06-14T15:59:51.930Z"
   },
   {
    "duration": 0,
    "start_time": "2024-06-14T15:59:51.931Z"
   },
   {
    "duration": 0,
    "start_time": "2024-06-14T15:59:51.932Z"
   },
   {
    "duration": 1,
    "start_time": "2024-06-14T15:59:51.932Z"
   },
   {
    "duration": 0,
    "start_time": "2024-06-14T15:59:51.933Z"
   },
   {
    "duration": 0,
    "start_time": "2024-06-14T15:59:51.934Z"
   },
   {
    "duration": 0,
    "start_time": "2024-06-14T15:59:51.935Z"
   },
   {
    "duration": 0,
    "start_time": "2024-06-14T15:59:51.936Z"
   },
   {
    "duration": 0,
    "start_time": "2024-06-14T15:59:51.937Z"
   },
   {
    "duration": 0,
    "start_time": "2024-06-14T15:59:51.937Z"
   },
   {
    "duration": 0,
    "start_time": "2024-06-14T15:59:51.938Z"
   },
   {
    "duration": 235,
    "start_time": "2024-06-14T16:00:37.989Z"
   },
   {
    "duration": 4618,
    "start_time": "2024-06-14T16:02:19.026Z"
   },
   {
    "duration": 2245,
    "start_time": "2024-06-14T16:02:26.849Z"
   },
   {
    "duration": 1284,
    "start_time": "2024-06-14T16:02:29.096Z"
   },
   {
    "duration": 308,
    "start_time": "2024-06-14T16:02:30.382Z"
   },
   {
    "duration": 37,
    "start_time": "2024-06-14T16:02:30.692Z"
   },
   {
    "duration": 260,
    "start_time": "2024-06-14T16:02:30.730Z"
   },
   {
    "duration": 13,
    "start_time": "2024-06-14T16:02:30.992Z"
   },
   {
    "duration": 42,
    "start_time": "2024-06-14T16:02:31.006Z"
   },
   {
    "duration": 23,
    "start_time": "2024-06-14T16:02:31.049Z"
   },
   {
    "duration": 138,
    "start_time": "2024-06-14T16:02:31.073Z"
   },
   {
    "duration": 12861,
    "start_time": "2024-06-14T16:02:31.213Z"
   },
   {
    "duration": 394,
    "start_time": "2024-06-14T16:02:44.075Z"
   },
   {
    "duration": 1089,
    "start_time": "2024-06-14T16:02:44.471Z"
   },
   {
    "duration": 2013,
    "start_time": "2024-06-14T16:02:45.562Z"
   },
   {
    "duration": 2,
    "start_time": "2024-06-14T16:02:47.576Z"
   },
   {
    "duration": 10,
    "start_time": "2024-06-14T16:02:47.579Z"
   },
   {
    "duration": 4,
    "start_time": "2024-06-14T16:02:47.590Z"
   },
   {
    "duration": 3,
    "start_time": "2024-06-14T16:02:47.595Z"
   },
   {
    "duration": 4,
    "start_time": "2024-06-14T16:02:47.600Z"
   },
   {
    "duration": 5,
    "start_time": "2024-06-14T16:02:47.605Z"
   },
   {
    "duration": 6,
    "start_time": "2024-06-14T16:02:47.611Z"
   },
   {
    "duration": 5,
    "start_time": "2024-06-14T16:02:47.618Z"
   },
   {
    "duration": 292840,
    "start_time": "2024-06-14T16:02:47.624Z"
   },
   {
    "duration": 0,
    "start_time": "2024-06-14T16:07:40.465Z"
   },
   {
    "duration": 0,
    "start_time": "2024-06-14T16:07:40.466Z"
   },
   {
    "duration": 0,
    "start_time": "2024-06-14T16:07:40.467Z"
   },
   {
    "duration": 2254,
    "start_time": "2024-06-14T16:10:26.921Z"
   },
   {
    "duration": 1361,
    "start_time": "2024-06-14T16:10:29.177Z"
   },
   {
    "duration": 472,
    "start_time": "2024-06-14T16:10:30.539Z"
   },
   {
    "duration": 36,
    "start_time": "2024-06-14T16:10:31.013Z"
   },
   {
    "duration": 155,
    "start_time": "2024-06-14T16:10:31.050Z"
   },
   {
    "duration": 13,
    "start_time": "2024-06-14T16:10:31.206Z"
   },
   {
    "duration": 10,
    "start_time": "2024-06-14T16:10:31.220Z"
   },
   {
    "duration": 33,
    "start_time": "2024-06-14T16:10:31.231Z"
   },
   {
    "duration": 126,
    "start_time": "2024-06-14T16:10:31.265Z"
   },
   {
    "duration": 12855,
    "start_time": "2024-06-14T16:10:31.393Z"
   },
   {
    "duration": 416,
    "start_time": "2024-06-14T16:10:44.249Z"
   },
   {
    "duration": 1085,
    "start_time": "2024-06-14T16:10:44.667Z"
   },
   {
    "duration": 2020,
    "start_time": "2024-06-14T16:10:45.753Z"
   },
   {
    "duration": 3,
    "start_time": "2024-06-14T16:10:47.774Z"
   },
   {
    "duration": 12,
    "start_time": "2024-06-14T16:10:47.778Z"
   },
   {
    "duration": 7,
    "start_time": "2024-06-14T16:10:47.791Z"
   },
   {
    "duration": 13,
    "start_time": "2024-06-14T16:10:47.799Z"
   },
   {
    "duration": 8,
    "start_time": "2024-06-14T16:10:47.813Z"
   },
   {
    "duration": 6,
    "start_time": "2024-06-14T16:10:47.822Z"
   },
   {
    "duration": 8,
    "start_time": "2024-06-14T16:10:47.829Z"
   },
   {
    "duration": 6,
    "start_time": "2024-06-14T16:10:47.838Z"
   },
   {
    "duration": 142,
    "start_time": "2024-06-14T16:10:47.845Z"
   },
   {
    "duration": 0,
    "start_time": "2024-06-14T16:10:47.988Z"
   },
   {
    "duration": 0,
    "start_time": "2024-06-14T16:10:47.989Z"
   },
   {
    "duration": 0,
    "start_time": "2024-06-14T16:10:47.990Z"
   },
   {
    "duration": 2321,
    "start_time": "2024-06-14T16:15:29.374Z"
   },
   {
    "duration": 1569,
    "start_time": "2024-06-14T16:15:31.697Z"
   },
   {
    "duration": 279,
    "start_time": "2024-06-14T16:15:33.268Z"
   },
   {
    "duration": 45,
    "start_time": "2024-06-14T16:15:33.549Z"
   },
   {
    "duration": 129,
    "start_time": "2024-06-14T16:15:33.596Z"
   },
   {
    "duration": 12,
    "start_time": "2024-06-14T16:15:33.726Z"
   },
   {
    "duration": 9,
    "start_time": "2024-06-14T16:15:33.739Z"
   },
   {
    "duration": 29,
    "start_time": "2024-06-14T16:15:33.749Z"
   },
   {
    "duration": 110,
    "start_time": "2024-06-14T16:15:33.779Z"
   },
   {
    "duration": 13065,
    "start_time": "2024-06-14T16:15:33.891Z"
   },
   {
    "duration": 409,
    "start_time": "2024-06-14T16:15:46.958Z"
   },
   {
    "duration": 1106,
    "start_time": "2024-06-14T16:15:47.369Z"
   },
   {
    "duration": 2135,
    "start_time": "2024-06-14T16:15:48.477Z"
   },
   {
    "duration": 3,
    "start_time": "2024-06-14T16:15:50.613Z"
   },
   {
    "duration": 15,
    "start_time": "2024-06-14T16:15:50.617Z"
   },
   {
    "duration": 3,
    "start_time": "2024-06-14T16:15:50.633Z"
   },
   {
    "duration": 6,
    "start_time": "2024-06-14T16:15:50.637Z"
   },
   {
    "duration": 11,
    "start_time": "2024-06-14T16:15:50.645Z"
   },
   {
    "duration": 7,
    "start_time": "2024-06-14T16:15:50.657Z"
   },
   {
    "duration": 10,
    "start_time": "2024-06-14T16:15:50.665Z"
   },
   {
    "duration": 28,
    "start_time": "2024-06-14T16:15:50.676Z"
   },
   {
    "duration": 146,
    "start_time": "2024-06-14T16:15:50.705Z"
   },
   {
    "duration": 0,
    "start_time": "2024-06-14T16:15:50.853Z"
   },
   {
    "duration": 0,
    "start_time": "2024-06-14T16:15:50.854Z"
   },
   {
    "duration": 0,
    "start_time": "2024-06-14T16:15:50.855Z"
   },
   {
    "duration": 2629,
    "start_time": "2024-06-14T16:18:14.350Z"
   },
   {
    "duration": 2303,
    "start_time": "2024-06-14T16:18:20.608Z"
   },
   {
    "duration": 1290,
    "start_time": "2024-06-14T16:18:22.913Z"
   },
   {
    "duration": 264,
    "start_time": "2024-06-14T16:18:24.204Z"
   },
   {
    "duration": 37,
    "start_time": "2024-06-14T16:18:24.470Z"
   },
   {
    "duration": 146,
    "start_time": "2024-06-14T16:18:24.508Z"
   },
   {
    "duration": 13,
    "start_time": "2024-06-14T16:18:24.656Z"
   },
   {
    "duration": 17,
    "start_time": "2024-06-14T16:18:24.671Z"
   },
   {
    "duration": 6,
    "start_time": "2024-06-14T16:18:24.689Z"
   },
   {
    "duration": 115,
    "start_time": "2024-06-14T16:18:24.696Z"
   },
   {
    "duration": 12636,
    "start_time": "2024-06-14T16:18:24.814Z"
   },
   {
    "duration": 412,
    "start_time": "2024-06-14T16:18:37.451Z"
   },
   {
    "duration": 1092,
    "start_time": "2024-06-14T16:18:37.864Z"
   },
   {
    "duration": 2029,
    "start_time": "2024-06-14T16:18:38.958Z"
   },
   {
    "duration": 2,
    "start_time": "2024-06-14T16:18:40.990Z"
   },
   {
    "duration": 6,
    "start_time": "2024-06-14T16:18:40.994Z"
   },
   {
    "duration": 13,
    "start_time": "2024-06-14T16:18:41.001Z"
   },
   {
    "duration": 11,
    "start_time": "2024-06-14T16:18:41.015Z"
   },
   {
    "duration": 4,
    "start_time": "2024-06-14T16:18:41.027Z"
   },
   {
    "duration": 5,
    "start_time": "2024-06-14T16:18:41.032Z"
   },
   {
    "duration": 6,
    "start_time": "2024-06-14T16:18:41.038Z"
   },
   {
    "duration": 5,
    "start_time": "2024-06-14T16:18:41.045Z"
   },
   {
    "duration": 143,
    "start_time": "2024-06-14T16:18:41.051Z"
   },
   {
    "duration": 0,
    "start_time": "2024-06-14T16:18:41.196Z"
   },
   {
    "duration": 0,
    "start_time": "2024-06-14T16:18:41.197Z"
   },
   {
    "duration": 0,
    "start_time": "2024-06-14T16:18:41.198Z"
   },
   {
    "duration": 4,
    "start_time": "2024-06-14T16:19:55.589Z"
   },
   {
    "duration": 7,
    "start_time": "2024-06-14T16:20:11.814Z"
   },
   {
    "duration": 5,
    "start_time": "2024-06-14T16:20:20.132Z"
   },
   {
    "duration": 7,
    "start_time": "2024-06-14T16:20:29.670Z"
   },
   {
    "duration": 9,
    "start_time": "2024-06-14T16:20:59.771Z"
   },
   {
    "duration": 11,
    "start_time": "2024-06-14T16:21:03.416Z"
   },
   {
    "duration": 7,
    "start_time": "2024-06-14T16:21:16.867Z"
   },
   {
    "duration": 8,
    "start_time": "2024-06-14T16:21:31.912Z"
   },
   {
    "duration": 2294,
    "start_time": "2024-06-14T16:27:32.669Z"
   },
   {
    "duration": 1327,
    "start_time": "2024-06-14T16:27:34.965Z"
   },
   {
    "duration": 331,
    "start_time": "2024-06-14T16:27:36.293Z"
   },
   {
    "duration": 36,
    "start_time": "2024-06-14T16:27:36.625Z"
   },
   {
    "duration": 126,
    "start_time": "2024-06-14T16:27:36.662Z"
   },
   {
    "duration": 12,
    "start_time": "2024-06-14T16:27:36.790Z"
   },
   {
    "duration": 19,
    "start_time": "2024-06-14T16:27:36.803Z"
   },
   {
    "duration": 14,
    "start_time": "2024-06-14T16:27:36.823Z"
   },
   {
    "duration": 122,
    "start_time": "2024-06-14T16:27:36.838Z"
   },
   {
    "duration": 12775,
    "start_time": "2024-06-14T16:27:36.962Z"
   },
   {
    "duration": 414,
    "start_time": "2024-06-14T16:27:49.739Z"
   },
   {
    "duration": 1105,
    "start_time": "2024-06-14T16:27:50.154Z"
   },
   {
    "duration": 4107,
    "start_time": "2024-06-14T16:27:51.260Z"
   },
   {
    "duration": 7,
    "start_time": "2024-06-14T16:27:55.368Z"
   },
   {
    "duration": 43,
    "start_time": "2024-06-14T16:27:55.376Z"
   },
   {
    "duration": 4,
    "start_time": "2024-06-14T16:27:55.420Z"
   },
   {
    "duration": 15,
    "start_time": "2024-06-14T16:27:55.425Z"
   },
   {
    "duration": 4,
    "start_time": "2024-06-14T16:27:55.442Z"
   },
   {
    "duration": 4,
    "start_time": "2024-06-14T16:27:55.447Z"
   },
   {
    "duration": 14,
    "start_time": "2024-06-14T16:27:55.452Z"
   },
   {
    "duration": 10,
    "start_time": "2024-06-14T16:27:55.467Z"
   },
   {
    "duration": 6,
    "start_time": "2024-06-14T16:27:55.478Z"
   },
   {
    "duration": 171,
    "start_time": "2024-06-14T16:27:55.485Z"
   },
   {
    "duration": 0,
    "start_time": "2024-06-14T16:27:55.657Z"
   },
   {
    "duration": 0,
    "start_time": "2024-06-14T16:27:55.658Z"
   },
   {
    "duration": 0,
    "start_time": "2024-06-14T16:27:55.659Z"
   },
   {
    "duration": 3,
    "start_time": "2024-06-14T21:16:07.395Z"
   },
   {
    "duration": 4,
    "start_time": "2024-06-14T21:16:38.409Z"
   },
   {
    "duration": 4,
    "start_time": "2024-06-14T21:16:49.760Z"
   },
   {
    "duration": 7395,
    "start_time": "2024-06-16T11:32:52.651Z"
   },
   {
    "duration": 1773,
    "start_time": "2024-06-16T11:33:00.048Z"
   },
   {
    "duration": 576,
    "start_time": "2024-06-16T11:33:01.823Z"
   },
   {
    "duration": 55,
    "start_time": "2024-06-16T11:33:02.401Z"
   },
   {
    "duration": 201,
    "start_time": "2024-06-16T11:33:02.458Z"
   },
   {
    "duration": 17,
    "start_time": "2024-06-16T11:33:02.660Z"
   },
   {
    "duration": 23,
    "start_time": "2024-06-16T11:33:02.678Z"
   },
   {
    "duration": 17,
    "start_time": "2024-06-16T11:33:02.702Z"
   },
   {
    "duration": 172,
    "start_time": "2024-06-16T11:33:02.720Z"
   },
   {
    "duration": 16936,
    "start_time": "2024-06-16T11:33:02.894Z"
   },
   {
    "duration": 379,
    "start_time": "2024-06-16T11:33:19.832Z"
   },
   {
    "duration": 1243,
    "start_time": "2024-06-16T11:33:20.213Z"
   },
   {
    "duration": 5411,
    "start_time": "2024-06-16T11:33:21.458Z"
   },
   {
    "duration": 10,
    "start_time": "2024-06-16T11:33:26.870Z"
   },
   {
    "duration": 21,
    "start_time": "2024-06-16T11:33:26.881Z"
   },
   {
    "duration": 5,
    "start_time": "2024-06-16T11:33:26.904Z"
   },
   {
    "duration": 3,
    "start_time": "2024-06-16T11:33:26.911Z"
   },
   {
    "duration": 4,
    "start_time": "2024-06-16T11:33:26.916Z"
   },
   {
    "duration": 17,
    "start_time": "2024-06-16T11:33:26.921Z"
   },
   {
    "duration": 6,
    "start_time": "2024-06-16T11:33:26.939Z"
   },
   {
    "duration": 5,
    "start_time": "2024-06-16T11:33:26.947Z"
   },
   {
    "duration": 5,
    "start_time": "2024-06-16T11:33:26.953Z"
   },
   {
    "duration": 4,
    "start_time": "2024-06-16T11:33:26.959Z"
   },
   {
    "duration": 187,
    "start_time": "2024-06-16T11:33:26.964Z"
   },
   {
    "duration": 0,
    "start_time": "2024-06-16T11:33:27.153Z"
   },
   {
    "duration": 0,
    "start_time": "2024-06-16T11:33:27.154Z"
   },
   {
    "duration": 0,
    "start_time": "2024-06-16T11:33:27.155Z"
   },
   {
    "duration": 32,
    "start_time": "2024-06-16T11:37:57.862Z"
   },
   {
    "duration": 3,
    "start_time": "2024-06-16T11:39:29.919Z"
   },
   {
    "duration": 4,
    "start_time": "2024-06-16T11:41:06.033Z"
   },
   {
    "duration": 3,
    "start_time": "2024-06-16T11:41:13.534Z"
   },
   {
    "duration": 12,
    "start_time": "2024-06-16T11:41:21.082Z"
   },
   {
    "duration": 2421,
    "start_time": "2024-06-16T11:41:34.115Z"
   },
   {
    "duration": 1563,
    "start_time": "2024-06-16T11:41:36.538Z"
   },
   {
    "duration": 427,
    "start_time": "2024-06-16T11:41:38.103Z"
   },
   {
    "duration": 55,
    "start_time": "2024-06-16T11:41:38.532Z"
   },
   {
    "duration": 173,
    "start_time": "2024-06-16T11:41:38.589Z"
   },
   {
    "duration": 17,
    "start_time": "2024-06-16T11:41:38.763Z"
   },
   {
    "duration": 23,
    "start_time": "2024-06-16T11:41:38.781Z"
   },
   {
    "duration": 8,
    "start_time": "2024-06-16T11:41:38.805Z"
   },
   {
    "duration": 192,
    "start_time": "2024-06-16T11:41:38.814Z"
   },
   {
    "duration": 17125,
    "start_time": "2024-06-16T11:41:39.007Z"
   },
   {
    "duration": 370,
    "start_time": "2024-06-16T11:41:56.133Z"
   },
   {
    "duration": 1265,
    "start_time": "2024-06-16T11:41:56.504Z"
   },
   {
    "duration": 5353,
    "start_time": "2024-06-16T11:41:57.771Z"
   },
   {
    "duration": 3,
    "start_time": "2024-06-16T11:42:03.127Z"
   },
   {
    "duration": 4,
    "start_time": "2024-06-16T11:42:03.132Z"
   },
   {
    "duration": 6,
    "start_time": "2024-06-16T11:42:03.137Z"
   },
   {
    "duration": 15,
    "start_time": "2024-06-16T11:42:03.144Z"
   },
   {
    "duration": 4,
    "start_time": "2024-06-16T11:42:03.161Z"
   },
   {
    "duration": 3,
    "start_time": "2024-06-16T11:42:03.166Z"
   },
   {
    "duration": 6,
    "start_time": "2024-06-16T11:42:03.171Z"
   },
   {
    "duration": 21,
    "start_time": "2024-06-16T11:42:03.178Z"
   },
   {
    "duration": 4,
    "start_time": "2024-06-16T11:42:03.201Z"
   },
   {
    "duration": 3,
    "start_time": "2024-06-16T11:42:03.206Z"
   },
   {
    "duration": 177,
    "start_time": "2024-06-16T11:42:03.211Z"
   },
   {
    "duration": 0,
    "start_time": "2024-06-16T11:42:03.390Z"
   },
   {
    "duration": 0,
    "start_time": "2024-06-16T11:42:03.391Z"
   },
   {
    "duration": 0,
    "start_time": "2024-06-16T11:42:03.399Z"
   },
   {
    "duration": 2459,
    "start_time": "2024-06-16T11:42:35.374Z"
   },
   {
    "duration": 1580,
    "start_time": "2024-06-16T11:42:37.836Z"
   },
   {
    "duration": 381,
    "start_time": "2024-06-16T11:42:39.418Z"
   },
   {
    "duration": 54,
    "start_time": "2024-06-16T11:42:39.802Z"
   },
   {
    "duration": 184,
    "start_time": "2024-06-16T11:42:39.858Z"
   },
   {
    "duration": 19,
    "start_time": "2024-06-16T11:42:40.044Z"
   },
   {
    "duration": 13,
    "start_time": "2024-06-16T11:42:40.065Z"
   },
   {
    "duration": 26,
    "start_time": "2024-06-16T11:42:40.079Z"
   },
   {
    "duration": 164,
    "start_time": "2024-06-16T11:42:40.106Z"
   },
   {
    "duration": 16767,
    "start_time": "2024-06-16T11:42:40.272Z"
   },
   {
    "duration": 375,
    "start_time": "2024-06-16T11:42:57.041Z"
   },
   {
    "duration": 1229,
    "start_time": "2024-06-16T11:42:57.418Z"
   },
   {
    "duration": 5420,
    "start_time": "2024-06-16T11:42:58.648Z"
   },
   {
    "duration": 3,
    "start_time": "2024-06-16T11:43:04.070Z"
   },
   {
    "duration": 6,
    "start_time": "2024-06-16T11:43:04.075Z"
   },
   {
    "duration": 5,
    "start_time": "2024-06-16T11:43:04.083Z"
   },
   {
    "duration": 2,
    "start_time": "2024-06-16T11:43:04.100Z"
   },
   {
    "duration": 3,
    "start_time": "2024-06-16T11:43:04.104Z"
   },
   {
    "duration": 5,
    "start_time": "2024-06-16T11:43:04.108Z"
   },
   {
    "duration": 5,
    "start_time": "2024-06-16T11:43:04.115Z"
   },
   {
    "duration": 4,
    "start_time": "2024-06-16T11:43:04.121Z"
   },
   {
    "duration": 3,
    "start_time": "2024-06-16T11:43:04.127Z"
   },
   {
    "duration": 197,
    "start_time": "2024-06-16T11:43:04.132Z"
   },
   {
    "duration": 0,
    "start_time": "2024-06-16T11:43:04.330Z"
   },
   {
    "duration": 0,
    "start_time": "2024-06-16T11:43:04.331Z"
   },
   {
    "duration": 0,
    "start_time": "2024-06-16T11:43:04.332Z"
   },
   {
    "duration": 2424,
    "start_time": "2024-06-16T11:50:18.740Z"
   },
   {
    "duration": 1629,
    "start_time": "2024-06-16T11:50:21.166Z"
   },
   {
    "duration": 354,
    "start_time": "2024-06-16T11:50:22.796Z"
   },
   {
    "duration": 56,
    "start_time": "2024-06-16T11:50:23.152Z"
   },
   {
    "duration": 185,
    "start_time": "2024-06-16T11:50:23.210Z"
   },
   {
    "duration": 18,
    "start_time": "2024-06-16T11:50:23.397Z"
   },
   {
    "duration": 14,
    "start_time": "2024-06-16T11:50:23.417Z"
   },
   {
    "duration": 7,
    "start_time": "2024-06-16T11:50:23.433Z"
   },
   {
    "duration": 188,
    "start_time": "2024-06-16T11:50:23.442Z"
   },
   {
    "duration": 16770,
    "start_time": "2024-06-16T11:50:23.632Z"
   },
   {
    "duration": 385,
    "start_time": "2024-06-16T11:50:40.404Z"
   },
   {
    "duration": 1226,
    "start_time": "2024-06-16T11:50:40.791Z"
   },
   {
    "duration": 5516,
    "start_time": "2024-06-16T11:50:42.019Z"
   },
   {
    "duration": 3,
    "start_time": "2024-06-16T11:50:47.537Z"
   },
   {
    "duration": 12,
    "start_time": "2024-06-16T11:50:47.542Z"
   },
   {
    "duration": 6,
    "start_time": "2024-06-16T11:50:47.555Z"
   },
   {
    "duration": 3,
    "start_time": "2024-06-16T11:50:47.562Z"
   },
   {
    "duration": 3,
    "start_time": "2024-06-16T11:50:47.567Z"
   },
   {
    "duration": 6,
    "start_time": "2024-06-16T11:50:47.571Z"
   },
   {
    "duration": 20,
    "start_time": "2024-06-16T11:50:47.579Z"
   },
   {
    "duration": 3,
    "start_time": "2024-06-16T11:50:47.601Z"
   },
   {
    "duration": 5,
    "start_time": "2024-06-16T11:50:47.606Z"
   },
   {
    "duration": 4,
    "start_time": "2024-06-16T11:50:47.612Z"
   },
   {
    "duration": 2404,
    "start_time": "2024-06-16T11:56:49.127Z"
   },
   {
    "duration": 1591,
    "start_time": "2024-06-16T11:56:51.534Z"
   },
   {
    "duration": 360,
    "start_time": "2024-06-16T11:56:53.127Z"
   },
   {
    "duration": 53,
    "start_time": "2024-06-16T11:56:53.488Z"
   },
   {
    "duration": 184,
    "start_time": "2024-06-16T11:56:53.543Z"
   },
   {
    "duration": 22,
    "start_time": "2024-06-16T11:56:53.729Z"
   },
   {
    "duration": 13,
    "start_time": "2024-06-16T11:56:53.753Z"
   },
   {
    "duration": 8,
    "start_time": "2024-06-16T11:56:53.768Z"
   },
   {
    "duration": 162,
    "start_time": "2024-06-16T11:56:53.800Z"
   },
   {
    "duration": 16849,
    "start_time": "2024-06-16T11:56:53.966Z"
   },
   {
    "duration": 358,
    "start_time": "2024-06-16T11:57:10.817Z"
   },
   {
    "duration": 1181,
    "start_time": "2024-06-16T11:57:11.176Z"
   },
   {
    "duration": 761,
    "start_time": "2024-06-16T11:57:12.359Z"
   },
   {
    "duration": 5346,
    "start_time": "2024-06-16T11:57:13.121Z"
   },
   {
    "duration": 3,
    "start_time": "2024-06-16T11:57:18.468Z"
   },
   {
    "duration": 6,
    "start_time": "2024-06-16T11:57:18.473Z"
   },
   {
    "duration": 7,
    "start_time": "2024-06-16T11:57:18.480Z"
   },
   {
    "duration": 12,
    "start_time": "2024-06-16T11:57:18.488Z"
   },
   {
    "duration": 9,
    "start_time": "2024-06-16T11:57:18.502Z"
   },
   {
    "duration": 4,
    "start_time": "2024-06-16T11:57:18.513Z"
   },
   {
    "duration": 7,
    "start_time": "2024-06-16T11:57:18.518Z"
   },
   {
    "duration": 9,
    "start_time": "2024-06-16T11:57:18.526Z"
   },
   {
    "duration": 7,
    "start_time": "2024-06-16T11:57:18.536Z"
   },
   {
    "duration": 4,
    "start_time": "2024-06-16T11:57:18.545Z"
   },
   {
    "duration": 30731,
    "start_time": "2024-06-16T11:57:18.550Z"
   },
   {
    "duration": 0,
    "start_time": "2024-06-16T11:57:49.282Z"
   },
   {
    "duration": 0,
    "start_time": "2024-06-16T11:57:49.284Z"
   },
   {
    "duration": 0,
    "start_time": "2024-06-16T11:57:49.285Z"
   },
   {
    "duration": 2454,
    "start_time": "2024-06-16T11:58:32.663Z"
   },
   {
    "duration": 1607,
    "start_time": "2024-06-16T11:58:35.119Z"
   },
   {
    "duration": 383,
    "start_time": "2024-06-16T11:58:36.727Z"
   },
   {
    "duration": 51,
    "start_time": "2024-06-16T11:58:37.112Z"
   },
   {
    "duration": 182,
    "start_time": "2024-06-16T11:58:37.165Z"
   },
   {
    "duration": 16,
    "start_time": "2024-06-16T11:58:37.349Z"
   },
   {
    "duration": 17,
    "start_time": "2024-06-16T11:58:37.366Z"
   },
   {
    "duration": 22,
    "start_time": "2024-06-16T11:58:37.385Z"
   },
   {
    "duration": 153,
    "start_time": "2024-06-16T11:58:37.409Z"
   },
   {
    "duration": 16613,
    "start_time": "2024-06-16T11:58:37.564Z"
   },
   {
    "duration": 370,
    "start_time": "2024-06-16T11:58:54.179Z"
   },
   {
    "duration": 1992,
    "start_time": "2024-06-16T11:58:54.551Z"
   },
   {
    "duration": 105,
    "start_time": "2024-06-16T11:58:56.544Z"
   },
   {
    "duration": 651,
    "start_time": "2024-06-16T11:58:56.651Z"
   },
   {
    "duration": 2,
    "start_time": "2024-06-16T11:58:57.304Z"
   },
   {
    "duration": 3,
    "start_time": "2024-06-16T11:58:57.308Z"
   },
   {
    "duration": 4,
    "start_time": "2024-06-16T11:58:57.313Z"
   },
   {
    "duration": 4,
    "start_time": "2024-06-16T11:58:57.318Z"
   },
   {
    "duration": 3,
    "start_time": "2024-06-16T11:58:57.323Z"
   },
   {
    "duration": 5,
    "start_time": "2024-06-16T11:58:57.328Z"
   },
   {
    "duration": 7,
    "start_time": "2024-06-16T11:58:57.334Z"
   },
   {
    "duration": 5,
    "start_time": "2024-06-16T11:58:57.343Z"
   },
   {
    "duration": 6,
    "start_time": "2024-06-16T11:58:57.350Z"
   },
   {
    "duration": 5,
    "start_time": "2024-06-16T11:58:57.357Z"
   },
   {
    "duration": 50143,
    "start_time": "2024-06-16T11:58:57.363Z"
   },
   {
    "duration": 4,
    "start_time": "2024-06-16T11:59:47.507Z"
   },
   {
    "duration": 498,
    "start_time": "2024-06-16T11:59:47.512Z"
   },
   {
    "duration": 0,
    "start_time": "2024-06-16T11:59:48.012Z"
   },
   {
    "duration": 2438,
    "start_time": "2024-06-16T12:04:16.311Z"
   },
   {
    "duration": 1578,
    "start_time": "2024-06-16T12:04:18.751Z"
   },
   {
    "duration": 363,
    "start_time": "2024-06-16T12:04:20.331Z"
   },
   {
    "duration": 55,
    "start_time": "2024-06-16T12:04:20.696Z"
   },
   {
    "duration": 181,
    "start_time": "2024-06-16T12:04:20.754Z"
   },
   {
    "duration": 17,
    "start_time": "2024-06-16T12:04:20.937Z"
   },
   {
    "duration": 13,
    "start_time": "2024-06-16T12:04:20.955Z"
   },
   {
    "duration": 8,
    "start_time": "2024-06-16T12:04:20.970Z"
   },
   {
    "duration": 16722,
    "start_time": "2024-06-16T12:04:20.979Z"
   },
   {
    "duration": 369,
    "start_time": "2024-06-16T12:04:37.703Z"
   },
   {
    "duration": 2018,
    "start_time": "2024-06-16T12:04:38.073Z"
   },
   {
    "duration": 109,
    "start_time": "2024-06-16T12:04:40.093Z"
   },
   {
    "duration": 82,
    "start_time": "2024-06-16T12:04:40.203Z"
   },
   {
    "duration": 14,
    "start_time": "2024-06-16T12:04:40.287Z"
   },
   {
    "duration": 3,
    "start_time": "2024-06-16T12:04:40.302Z"
   },
   {
    "duration": 3,
    "start_time": "2024-06-16T12:04:40.307Z"
   },
   {
    "duration": 4,
    "start_time": "2024-06-16T12:04:40.311Z"
   },
   {
    "duration": 4,
    "start_time": "2024-06-16T12:04:40.316Z"
   },
   {
    "duration": 3,
    "start_time": "2024-06-16T12:04:40.321Z"
   },
   {
    "duration": 3,
    "start_time": "2024-06-16T12:04:40.325Z"
   },
   {
    "duration": 7,
    "start_time": "2024-06-16T12:04:40.329Z"
   },
   {
    "duration": 7,
    "start_time": "2024-06-16T12:04:40.338Z"
   },
   {
    "duration": 9,
    "start_time": "2024-06-16T12:04:40.346Z"
   },
   {
    "duration": 5,
    "start_time": "2024-06-16T12:04:40.356Z"
   },
   {
    "duration": 38,
    "start_time": "2024-06-16T12:04:40.363Z"
   },
   {
    "duration": 6926,
    "start_time": "2024-06-16T12:04:40.403Z"
   },
   {
    "duration": 0,
    "start_time": "2024-06-16T12:04:47.331Z"
   },
   {
    "duration": 0,
    "start_time": "2024-06-16T12:04:47.332Z"
   },
   {
    "duration": 0,
    "start_time": "2024-06-16T12:04:47.332Z"
   },
   {
    "duration": 6,
    "start_time": "2024-06-16T12:05:42.341Z"
   },
   {
    "duration": 3,
    "start_time": "2024-06-16T12:08:05.127Z"
   },
   {
    "duration": 3,
    "start_time": "2024-06-16T12:08:17.944Z"
   },
   {
    "duration": 11,
    "start_time": "2024-06-16T12:08:22.116Z"
   },
   {
    "duration": 2425,
    "start_time": "2024-06-16T12:08:32.819Z"
   },
   {
    "duration": 1743,
    "start_time": "2024-06-16T12:08:35.246Z"
   },
   {
    "duration": 415,
    "start_time": "2024-06-16T12:08:36.991Z"
   },
   {
    "duration": 52,
    "start_time": "2024-06-16T12:08:37.407Z"
   },
   {
    "duration": 174,
    "start_time": "2024-06-16T12:08:37.461Z"
   },
   {
    "duration": 17,
    "start_time": "2024-06-16T12:08:37.636Z"
   },
   {
    "duration": 12,
    "start_time": "2024-06-16T12:08:37.654Z"
   },
   {
    "duration": 7,
    "start_time": "2024-06-16T12:08:37.668Z"
   },
   {
    "duration": 16716,
    "start_time": "2024-06-16T12:08:37.677Z"
   },
   {
    "duration": 383,
    "start_time": "2024-06-16T12:08:54.394Z"
   },
   {
    "duration": 2049,
    "start_time": "2024-06-16T12:08:54.779Z"
   },
   {
    "duration": 109,
    "start_time": "2024-06-16T12:08:56.830Z"
   },
   {
    "duration": 3,
    "start_time": "2024-06-16T12:08:56.940Z"
   },
   {
    "duration": 6,
    "start_time": "2024-06-16T12:08:56.945Z"
   },
   {
    "duration": 6,
    "start_time": "2024-06-16T12:08:56.952Z"
   },
   {
    "duration": 4,
    "start_time": "2024-06-16T12:08:56.959Z"
   },
   {
    "duration": 4,
    "start_time": "2024-06-16T12:08:56.964Z"
   },
   {
    "duration": 8,
    "start_time": "2024-06-16T12:08:56.969Z"
   },
   {
    "duration": 3,
    "start_time": "2024-06-16T12:08:56.978Z"
   },
   {
    "duration": 18,
    "start_time": "2024-06-16T12:08:56.982Z"
   },
   {
    "duration": 5,
    "start_time": "2024-06-16T12:08:57.002Z"
   },
   {
    "duration": 7,
    "start_time": "2024-06-16T12:08:57.009Z"
   },
   {
    "duration": 5,
    "start_time": "2024-06-16T12:08:57.017Z"
   },
   {
    "duration": 6,
    "start_time": "2024-06-16T12:08:57.024Z"
   },
   {
    "duration": 6,
    "start_time": "2024-06-16T12:08:57.031Z"
   },
   {
    "duration": 51606,
    "start_time": "2024-06-16T12:08:57.038Z"
   },
   {
    "duration": 3,
    "start_time": "2024-06-16T12:09:48.646Z"
   },
   {
    "duration": 551,
    "start_time": "2024-06-16T12:09:48.650Z"
   },
   {
    "duration": 0,
    "start_time": "2024-06-16T12:09:49.202Z"
   },
   {
    "duration": 2842,
    "start_time": "2024-06-16T12:10:08.817Z"
   },
   {
    "duration": 1585,
    "start_time": "2024-06-16T12:10:11.661Z"
   },
   {
    "duration": 413,
    "start_time": "2024-06-16T12:10:13.248Z"
   },
   {
    "duration": 52,
    "start_time": "2024-06-16T12:10:13.663Z"
   },
   {
    "duration": 171,
    "start_time": "2024-06-16T12:10:13.717Z"
   },
   {
    "duration": 21,
    "start_time": "2024-06-16T12:10:13.890Z"
   },
   {
    "duration": 13,
    "start_time": "2024-06-16T12:10:13.912Z"
   },
   {
    "duration": 6,
    "start_time": "2024-06-16T12:10:13.927Z"
   },
   {
    "duration": 17017,
    "start_time": "2024-06-16T12:10:13.934Z"
   },
   {
    "duration": 386,
    "start_time": "2024-06-16T12:10:30.954Z"
   },
   {
    "duration": 2023,
    "start_time": "2024-06-16T12:10:31.341Z"
   },
   {
    "duration": 103,
    "start_time": "2024-06-16T12:10:33.366Z"
   },
   {
    "duration": 2,
    "start_time": "2024-06-16T12:10:33.471Z"
   },
   {
    "duration": 4,
    "start_time": "2024-06-16T12:10:33.474Z"
   },
   {
    "duration": 6,
    "start_time": "2024-06-16T12:10:33.480Z"
   },
   {
    "duration": 13,
    "start_time": "2024-06-16T12:10:33.487Z"
   },
   {
    "duration": 3,
    "start_time": "2024-06-16T12:10:33.502Z"
   },
   {
    "duration": 3,
    "start_time": "2024-06-16T12:10:33.507Z"
   },
   {
    "duration": 3,
    "start_time": "2024-06-16T12:10:33.512Z"
   },
   {
    "duration": 4,
    "start_time": "2024-06-16T12:10:33.516Z"
   },
   {
    "duration": 3,
    "start_time": "2024-06-16T12:10:33.521Z"
   },
   {
    "duration": 6,
    "start_time": "2024-06-16T12:10:33.526Z"
   },
   {
    "duration": 6,
    "start_time": "2024-06-16T12:10:33.533Z"
   },
   {
    "duration": 4,
    "start_time": "2024-06-16T12:10:33.540Z"
   },
   {
    "duration": 4,
    "start_time": "2024-06-16T12:10:33.545Z"
   },
   {
    "duration": 13609,
    "start_time": "2024-06-16T12:10:33.551Z"
   },
   {
    "duration": 0,
    "start_time": "2024-06-16T12:10:47.162Z"
   },
   {
    "duration": 0,
    "start_time": "2024-06-16T12:10:47.163Z"
   },
   {
    "duration": 0,
    "start_time": "2024-06-16T12:10:47.164Z"
   },
   {
    "duration": 5,
    "start_time": "2024-06-16T12:10:52.019Z"
   },
   {
    "duration": 5,
    "start_time": "2024-06-16T12:10:58.933Z"
   },
   {
    "duration": 2421,
    "start_time": "2024-06-16T12:12:26.802Z"
   },
   {
    "duration": 1620,
    "start_time": "2024-06-16T12:12:29.225Z"
   },
   {
    "duration": 504,
    "start_time": "2024-06-16T12:12:30.847Z"
   },
   {
    "duration": 64,
    "start_time": "2024-06-16T12:12:31.352Z"
   },
   {
    "duration": 188,
    "start_time": "2024-06-16T12:12:31.418Z"
   },
   {
    "duration": 18,
    "start_time": "2024-06-16T12:12:31.608Z"
   },
   {
    "duration": 29,
    "start_time": "2024-06-16T12:12:31.627Z"
   },
   {
    "duration": 29,
    "start_time": "2024-06-16T12:12:31.658Z"
   },
   {
    "duration": 2516,
    "start_time": "2024-06-16T12:12:47.230Z"
   },
   {
    "duration": 1608,
    "start_time": "2024-06-16T12:12:49.748Z"
   },
   {
    "duration": 355,
    "start_time": "2024-06-16T12:12:51.357Z"
   },
   {
    "duration": 61,
    "start_time": "2024-06-16T12:12:51.714Z"
   },
   {
    "duration": 185,
    "start_time": "2024-06-16T12:12:51.778Z"
   },
   {
    "duration": 18,
    "start_time": "2024-06-16T12:12:51.965Z"
   },
   {
    "duration": 23,
    "start_time": "2024-06-16T12:12:51.984Z"
   },
   {
    "duration": 7,
    "start_time": "2024-06-16T12:12:52.009Z"
   },
   {
    "duration": 16620,
    "start_time": "2024-06-16T12:12:52.018Z"
   },
   {
    "duration": 366,
    "start_time": "2024-06-16T12:13:08.639Z"
   },
   {
    "duration": 7792,
    "start_time": "2024-06-16T12:13:09.007Z"
   },
   {
    "duration": 1199,
    "start_time": "2024-06-16T12:13:16.800Z"
   },
   {
    "duration": 3,
    "start_time": "2024-06-16T12:13:18.001Z"
   },
   {
    "duration": 3,
    "start_time": "2024-06-16T12:13:18.006Z"
   },
   {
    "duration": 4,
    "start_time": "2024-06-16T12:13:18.010Z"
   },
   {
    "duration": 4,
    "start_time": "2024-06-16T12:13:18.015Z"
   },
   {
    "duration": 8,
    "start_time": "2024-06-16T12:13:18.020Z"
   },
   {
    "duration": 5,
    "start_time": "2024-06-16T12:13:18.029Z"
   },
   {
    "duration": 4,
    "start_time": "2024-06-16T12:13:18.036Z"
   },
   {
    "duration": 5,
    "start_time": "2024-06-16T12:13:18.041Z"
   },
   {
    "duration": 3,
    "start_time": "2024-06-16T12:13:18.047Z"
   },
   {
    "duration": 5,
    "start_time": "2024-06-16T12:13:18.052Z"
   },
   {
    "duration": 3,
    "start_time": "2024-06-16T12:13:18.059Z"
   },
   {
    "duration": 36,
    "start_time": "2024-06-16T12:13:18.064Z"
   },
   {
    "duration": 10,
    "start_time": "2024-06-16T12:13:18.102Z"
   },
   {
    "duration": 5209,
    "start_time": "2024-06-16T12:13:18.113Z"
   },
   {
    "duration": 0,
    "start_time": "2024-06-16T12:13:23.324Z"
   },
   {
    "duration": 0,
    "start_time": "2024-06-16T12:13:23.326Z"
   },
   {
    "duration": 0,
    "start_time": "2024-06-16T12:13:23.327Z"
   },
   {
    "duration": 2503,
    "start_time": "2024-06-16T12:14:04.611Z"
   },
   {
    "duration": 1591,
    "start_time": "2024-06-16T12:14:07.116Z"
   },
   {
    "duration": 345,
    "start_time": "2024-06-16T12:14:08.709Z"
   },
   {
    "duration": 54,
    "start_time": "2024-06-16T12:14:09.056Z"
   },
   {
    "duration": 191,
    "start_time": "2024-06-16T12:14:09.112Z"
   },
   {
    "duration": 17,
    "start_time": "2024-06-16T12:14:09.305Z"
   },
   {
    "duration": 15,
    "start_time": "2024-06-16T12:14:09.324Z"
   },
   {
    "duration": 15,
    "start_time": "2024-06-16T12:14:09.341Z"
   },
   {
    "duration": 16487,
    "start_time": "2024-06-16T12:14:09.357Z"
   },
   {
    "duration": 394,
    "start_time": "2024-06-16T12:14:25.846Z"
   },
   {
    "duration": 2270,
    "start_time": "2024-06-16T12:14:26.242Z"
   },
   {
    "duration": 130,
    "start_time": "2024-06-16T12:14:28.514Z"
   },
   {
    "duration": 0,
    "start_time": "2024-06-16T12:14:28.646Z"
   },
   {
    "duration": 0,
    "start_time": "2024-06-16T12:14:28.647Z"
   },
   {
    "duration": 0,
    "start_time": "2024-06-16T12:14:28.648Z"
   },
   {
    "duration": 0,
    "start_time": "2024-06-16T12:14:28.650Z"
   },
   {
    "duration": 0,
    "start_time": "2024-06-16T12:14:28.651Z"
   },
   {
    "duration": 0,
    "start_time": "2024-06-16T12:14:28.653Z"
   },
   {
    "duration": 0,
    "start_time": "2024-06-16T12:14:28.654Z"
   },
   {
    "duration": 0,
    "start_time": "2024-06-16T12:14:28.655Z"
   },
   {
    "duration": 0,
    "start_time": "2024-06-16T12:14:28.657Z"
   },
   {
    "duration": 0,
    "start_time": "2024-06-16T12:14:28.658Z"
   },
   {
    "duration": 0,
    "start_time": "2024-06-16T12:14:28.660Z"
   },
   {
    "duration": 0,
    "start_time": "2024-06-16T12:14:28.662Z"
   },
   {
    "duration": 0,
    "start_time": "2024-06-16T12:14:28.663Z"
   },
   {
    "duration": 1,
    "start_time": "2024-06-16T12:14:28.664Z"
   },
   {
    "duration": 0,
    "start_time": "2024-06-16T12:14:28.666Z"
   },
   {
    "duration": 0,
    "start_time": "2024-06-16T12:14:28.700Z"
   },
   {
    "duration": 1,
    "start_time": "2024-06-16T12:14:28.701Z"
   },
   {
    "duration": 2276,
    "start_time": "2024-06-16T12:15:33.159Z"
   },
   {
    "duration": 1214,
    "start_time": "2024-06-16T12:15:52.140Z"
   },
   {
    "duration": 2389,
    "start_time": "2024-06-16T12:15:57.444Z"
   },
   {
    "duration": 1604,
    "start_time": "2024-06-16T12:15:59.835Z"
   },
   {
    "duration": 377,
    "start_time": "2024-06-16T12:16:01.441Z"
   },
   {
    "duration": 54,
    "start_time": "2024-06-16T12:16:01.820Z"
   },
   {
    "duration": 184,
    "start_time": "2024-06-16T12:16:01.877Z"
   },
   {
    "duration": 19,
    "start_time": "2024-06-16T12:16:02.063Z"
   },
   {
    "duration": 24,
    "start_time": "2024-06-16T12:16:02.083Z"
   },
   {
    "duration": 7,
    "start_time": "2024-06-16T12:16:02.108Z"
   },
   {
    "duration": 16523,
    "start_time": "2024-06-16T12:16:02.117Z"
   },
   {
    "duration": 379,
    "start_time": "2024-06-16T12:16:18.641Z"
   },
   {
    "duration": 2269,
    "start_time": "2024-06-16T12:16:19.023Z"
   },
   {
    "duration": 1197,
    "start_time": "2024-06-16T12:16:21.294Z"
   },
   {
    "duration": 6,
    "start_time": "2024-06-16T12:16:22.493Z"
   },
   {
    "duration": 3,
    "start_time": "2024-06-16T12:16:22.502Z"
   },
   {
    "duration": 3,
    "start_time": "2024-06-16T12:16:22.507Z"
   },
   {
    "duration": 4,
    "start_time": "2024-06-16T12:16:22.511Z"
   },
   {
    "duration": 9,
    "start_time": "2024-06-16T12:16:22.516Z"
   },
   {
    "duration": 3,
    "start_time": "2024-06-16T12:16:22.526Z"
   },
   {
    "duration": 5,
    "start_time": "2024-06-16T12:16:22.530Z"
   },
   {
    "duration": 3,
    "start_time": "2024-06-16T12:16:22.536Z"
   },
   {
    "duration": 4,
    "start_time": "2024-06-16T12:16:22.540Z"
   },
   {
    "duration": 6,
    "start_time": "2024-06-16T12:16:22.545Z"
   },
   {
    "duration": 8,
    "start_time": "2024-06-16T12:16:22.553Z"
   },
   {
    "duration": 6,
    "start_time": "2024-06-16T12:16:22.562Z"
   },
   {
    "duration": 4,
    "start_time": "2024-06-16T12:16:22.599Z"
   },
   {
    "duration": 2455,
    "start_time": "2024-06-16T12:18:26.951Z"
   },
   {
    "duration": 1842,
    "start_time": "2024-06-16T12:18:29.408Z"
   },
   {
    "duration": 745,
    "start_time": "2024-06-16T12:18:31.252Z"
   },
   {
    "duration": 55,
    "start_time": "2024-06-16T12:18:31.999Z"
   },
   {
    "duration": 197,
    "start_time": "2024-06-16T12:18:32.055Z"
   },
   {
    "duration": 17,
    "start_time": "2024-06-16T12:18:32.253Z"
   },
   {
    "duration": 48,
    "start_time": "2024-06-16T12:18:32.272Z"
   },
   {
    "duration": 13,
    "start_time": "2024-06-16T12:18:32.322Z"
   },
   {
    "duration": 16723,
    "start_time": "2024-06-16T12:18:32.337Z"
   },
   {
    "duration": 376,
    "start_time": "2024-06-16T12:18:49.063Z"
   },
   {
    "duration": 2267,
    "start_time": "2024-06-16T12:18:49.441Z"
   },
   {
    "duration": 1337,
    "start_time": "2024-06-16T12:18:51.709Z"
   },
   {
    "duration": 3,
    "start_time": "2024-06-16T12:18:53.047Z"
   },
   {
    "duration": 8,
    "start_time": "2024-06-16T12:18:53.052Z"
   },
   {
    "duration": 4,
    "start_time": "2024-06-16T12:18:53.062Z"
   },
   {
    "duration": 6,
    "start_time": "2024-06-16T12:18:53.068Z"
   },
   {
    "duration": 3,
    "start_time": "2024-06-16T12:18:53.100Z"
   },
   {
    "duration": 3,
    "start_time": "2024-06-16T12:18:53.104Z"
   },
   {
    "duration": 5,
    "start_time": "2024-06-16T12:18:53.109Z"
   },
   {
    "duration": 4,
    "start_time": "2024-06-16T12:18:53.116Z"
   },
   {
    "duration": 4,
    "start_time": "2024-06-16T12:18:53.121Z"
   },
   {
    "duration": 8,
    "start_time": "2024-06-16T12:18:53.127Z"
   },
   {
    "duration": 4,
    "start_time": "2024-06-16T12:18:53.136Z"
   },
   {
    "duration": 4,
    "start_time": "2024-06-16T12:18:53.141Z"
   },
   {
    "duration": 5,
    "start_time": "2024-06-16T12:18:53.147Z"
   },
   {
    "duration": 2421,
    "start_time": "2024-06-16T12:21:32.093Z"
   },
   {
    "duration": 1619,
    "start_time": "2024-06-16T12:21:34.516Z"
   },
   {
    "duration": 312,
    "start_time": "2024-06-16T12:21:36.137Z"
   },
   {
    "duration": 57,
    "start_time": "2024-06-16T12:21:36.450Z"
   },
   {
    "duration": 174,
    "start_time": "2024-06-16T12:21:36.509Z"
   },
   {
    "duration": 18,
    "start_time": "2024-06-16T12:21:36.684Z"
   },
   {
    "duration": 13,
    "start_time": "2024-06-16T12:21:36.704Z"
   },
   {
    "duration": 6,
    "start_time": "2024-06-16T12:21:36.719Z"
   },
   {
    "duration": 10924,
    "start_time": "2024-06-16T12:21:36.726Z"
   },
   {
    "duration": 139,
    "start_time": "2024-06-16T12:21:47.651Z"
   },
   {
    "duration": 290,
    "start_time": "2024-06-16T12:21:47.792Z"
   },
   {
    "duration": 501,
    "start_time": "2024-06-16T12:21:48.083Z"
   },
   {
    "duration": 2,
    "start_time": "2024-06-16T12:21:48.586Z"
   },
   {
    "duration": 3,
    "start_time": "2024-06-16T12:21:48.590Z"
   },
   {
    "duration": 3,
    "start_time": "2024-06-16T12:21:48.598Z"
   },
   {
    "duration": 3,
    "start_time": "2024-06-16T12:21:48.603Z"
   },
   {
    "duration": 3,
    "start_time": "2024-06-16T12:21:48.608Z"
   },
   {
    "duration": 3,
    "start_time": "2024-06-16T12:21:48.612Z"
   },
   {
    "duration": 3,
    "start_time": "2024-06-16T12:21:48.617Z"
   },
   {
    "duration": 4,
    "start_time": "2024-06-16T12:21:48.621Z"
   },
   {
    "duration": 6,
    "start_time": "2024-06-16T12:21:48.626Z"
   },
   {
    "duration": 12,
    "start_time": "2024-06-16T12:21:48.633Z"
   },
   {
    "duration": 4,
    "start_time": "2024-06-16T12:21:48.646Z"
   },
   {
    "duration": 10,
    "start_time": "2024-06-16T12:21:48.652Z"
   },
   {
    "duration": 37,
    "start_time": "2024-06-16T12:21:48.664Z"
   },
   {
    "duration": 2455,
    "start_time": "2024-06-16T12:25:22.980Z"
   },
   {
    "duration": 1601,
    "start_time": "2024-06-16T12:25:25.437Z"
   },
   {
    "duration": 342,
    "start_time": "2024-06-16T12:25:27.040Z"
   },
   {
    "duration": 54,
    "start_time": "2024-06-16T12:25:27.383Z"
   },
   {
    "duration": 185,
    "start_time": "2024-06-16T12:25:27.439Z"
   },
   {
    "duration": 18,
    "start_time": "2024-06-16T12:25:27.625Z"
   },
   {
    "duration": 14,
    "start_time": "2024-06-16T12:25:27.644Z"
   },
   {
    "duration": 7,
    "start_time": "2024-06-16T12:25:27.659Z"
   },
   {
    "duration": 10864,
    "start_time": "2024-06-16T12:25:27.668Z"
   },
   {
    "duration": 138,
    "start_time": "2024-06-16T12:25:38.534Z"
   },
   {
    "duration": 285,
    "start_time": "2024-06-16T12:25:38.674Z"
   },
   {
    "duration": 500,
    "start_time": "2024-06-16T12:25:38.961Z"
   },
   {
    "duration": 2,
    "start_time": "2024-06-16T12:25:39.463Z"
   },
   {
    "duration": 3,
    "start_time": "2024-06-16T12:25:39.468Z"
   },
   {
    "duration": 10,
    "start_time": "2024-06-16T12:25:39.473Z"
   },
   {
    "duration": 7,
    "start_time": "2024-06-16T12:25:39.485Z"
   },
   {
    "duration": 6,
    "start_time": "2024-06-16T12:25:39.494Z"
   },
   {
    "duration": 3,
    "start_time": "2024-06-16T12:25:39.502Z"
   },
   {
    "duration": 7,
    "start_time": "2024-06-16T12:25:39.506Z"
   },
   {
    "duration": 3,
    "start_time": "2024-06-16T12:25:39.515Z"
   },
   {
    "duration": 5,
    "start_time": "2024-06-16T12:25:39.519Z"
   },
   {
    "duration": 7,
    "start_time": "2024-06-16T12:25:39.526Z"
   },
   {
    "duration": 4,
    "start_time": "2024-06-16T12:25:39.534Z"
   },
   {
    "duration": 5,
    "start_time": "2024-06-16T12:25:39.540Z"
   },
   {
    "duration": 4,
    "start_time": "2024-06-16T12:25:39.546Z"
   },
   {
    "duration": 20789,
    "start_time": "2024-06-16T12:25:39.551Z"
   },
   {
    "duration": 0,
    "start_time": "2024-06-16T12:26:00.342Z"
   },
   {
    "duration": 0,
    "start_time": "2024-06-16T12:26:00.343Z"
   },
   {
    "duration": 0,
    "start_time": "2024-06-16T12:26:00.344Z"
   },
   {
    "duration": 2416,
    "start_time": "2024-06-16T12:26:18.824Z"
   },
   {
    "duration": 1558,
    "start_time": "2024-06-16T12:26:21.243Z"
   },
   {
    "duration": 335,
    "start_time": "2024-06-16T12:26:22.803Z"
   },
   {
    "duration": 56,
    "start_time": "2024-06-16T12:26:23.140Z"
   },
   {
    "duration": 174,
    "start_time": "2024-06-16T12:26:23.197Z"
   },
   {
    "duration": 28,
    "start_time": "2024-06-16T12:26:23.373Z"
   },
   {
    "duration": 13,
    "start_time": "2024-06-16T12:26:23.402Z"
   },
   {
    "duration": 8,
    "start_time": "2024-06-16T12:26:23.417Z"
   },
   {
    "duration": 11164,
    "start_time": "2024-06-16T12:26:23.427Z"
   },
   {
    "duration": 138,
    "start_time": "2024-06-16T12:26:34.599Z"
   },
   {
    "duration": 272,
    "start_time": "2024-06-16T12:26:34.739Z"
   },
   {
    "duration": 502,
    "start_time": "2024-06-16T12:26:35.013Z"
   },
   {
    "duration": 3,
    "start_time": "2024-06-16T12:26:35.516Z"
   },
   {
    "duration": 8,
    "start_time": "2024-06-16T12:26:35.521Z"
   },
   {
    "duration": 6,
    "start_time": "2024-06-16T12:26:35.531Z"
   },
   {
    "duration": 22,
    "start_time": "2024-06-16T12:26:35.538Z"
   },
   {
    "duration": 16,
    "start_time": "2024-06-16T12:26:35.562Z"
   },
   {
    "duration": 4,
    "start_time": "2024-06-16T12:26:35.579Z"
   },
   {
    "duration": 7,
    "start_time": "2024-06-16T12:26:35.585Z"
   },
   {
    "duration": 6,
    "start_time": "2024-06-16T12:26:35.594Z"
   },
   {
    "duration": 4,
    "start_time": "2024-06-16T12:26:35.601Z"
   },
   {
    "duration": 53,
    "start_time": "2024-06-16T12:26:35.607Z"
   },
   {
    "duration": 0,
    "start_time": "2024-06-16T12:26:35.662Z"
   },
   {
    "duration": 0,
    "start_time": "2024-06-16T12:26:35.664Z"
   },
   {
    "duration": 1,
    "start_time": "2024-06-16T12:26:35.665Z"
   },
   {
    "duration": 0,
    "start_time": "2024-06-16T12:26:35.667Z"
   },
   {
    "duration": 0,
    "start_time": "2024-06-16T12:26:35.669Z"
   },
   {
    "duration": 0,
    "start_time": "2024-06-16T12:26:35.670Z"
   },
   {
    "duration": 0,
    "start_time": "2024-06-16T12:26:35.671Z"
   },
   {
    "duration": 4,
    "start_time": "2024-06-16T12:27:35.769Z"
   },
   {
    "duration": 3,
    "start_time": "2024-06-16T12:27:38.482Z"
   },
   {
    "duration": 4,
    "start_time": "2024-06-16T12:27:38.724Z"
   },
   {
    "duration": 4,
    "start_time": "2024-06-16T12:27:38.931Z"
   },
   {
    "duration": 185,
    "start_time": "2024-06-16T12:27:39.194Z"
   },
   {
    "duration": 8,
    "start_time": "2024-06-16T12:27:39.705Z"
   },
   {
    "duration": 0,
    "start_time": "2024-06-16T12:27:39.715Z"
   },
   {
    "duration": 9,
    "start_time": "2024-06-16T12:27:39.868Z"
   },
   {
    "duration": 4,
    "start_time": "2024-06-16T12:29:11.607Z"
   },
   {
    "duration": 3,
    "start_time": "2024-06-16T12:29:11.875Z"
   },
   {
    "duration": 3,
    "start_time": "2024-06-16T12:29:12.130Z"
   },
   {
    "duration": 5,
    "start_time": "2024-06-16T12:29:12.359Z"
   },
   {
    "duration": 3,
    "start_time": "2024-06-16T12:29:12.561Z"
   },
   {
    "duration": 3,
    "start_time": "2024-06-16T12:29:12.836Z"
   },
   {
    "duration": 4,
    "start_time": "2024-06-16T12:29:13.107Z"
   },
   {
    "duration": 78,
    "start_time": "2024-06-16T12:29:13.386Z"
   },
   {
    "duration": 9,
    "start_time": "2024-06-16T12:29:14.087Z"
   },
   {
    "duration": 2403,
    "start_time": "2024-06-16T12:29:20.090Z"
   },
   {
    "duration": 1598,
    "start_time": "2024-06-16T12:29:22.495Z"
   },
   {
    "duration": 334,
    "start_time": "2024-06-16T12:29:24.095Z"
   },
   {
    "duration": 62,
    "start_time": "2024-06-16T12:29:24.431Z"
   },
   {
    "duration": 179,
    "start_time": "2024-06-16T12:29:24.495Z"
   },
   {
    "duration": 17,
    "start_time": "2024-06-16T12:29:24.675Z"
   },
   {
    "duration": 19,
    "start_time": "2024-06-16T12:29:24.693Z"
   },
   {
    "duration": 8,
    "start_time": "2024-06-16T12:29:24.713Z"
   },
   {
    "duration": 10967,
    "start_time": "2024-06-16T12:29:24.722Z"
   },
   {
    "duration": 131,
    "start_time": "2024-06-16T12:29:35.691Z"
   },
   {
    "duration": 324,
    "start_time": "2024-06-16T12:29:35.824Z"
   },
   {
    "duration": 490,
    "start_time": "2024-06-16T12:29:36.150Z"
   },
   {
    "duration": 3,
    "start_time": "2024-06-16T12:29:36.641Z"
   },
   {
    "duration": 8,
    "start_time": "2024-06-16T12:29:36.645Z"
   },
   {
    "duration": 4,
    "start_time": "2024-06-16T12:29:36.654Z"
   },
   {
    "duration": 3,
    "start_time": "2024-06-16T12:29:36.659Z"
   },
   {
    "duration": 2,
    "start_time": "2024-06-16T12:29:36.664Z"
   },
   {
    "duration": 4,
    "start_time": "2024-06-16T12:29:36.667Z"
   },
   {
    "duration": 6,
    "start_time": "2024-06-16T12:29:36.672Z"
   },
   {
    "duration": 22,
    "start_time": "2024-06-16T12:29:36.679Z"
   },
   {
    "duration": 5,
    "start_time": "2024-06-16T12:29:36.703Z"
   },
   {
    "duration": 3,
    "start_time": "2024-06-16T12:29:36.710Z"
   },
   {
    "duration": 5,
    "start_time": "2024-06-16T12:29:36.714Z"
   },
   {
    "duration": 3,
    "start_time": "2024-06-16T12:29:36.720Z"
   },
   {
    "duration": 217,
    "start_time": "2024-06-16T12:29:36.725Z"
   },
   {
    "duration": 0,
    "start_time": "2024-06-16T12:29:36.943Z"
   },
   {
    "duration": 0,
    "start_time": "2024-06-16T12:29:36.945Z"
   },
   {
    "duration": 0,
    "start_time": "2024-06-16T12:29:36.946Z"
   },
   {
    "duration": 9,
    "start_time": "2024-06-16T12:30:43.051Z"
   },
   {
    "duration": 9,
    "start_time": "2024-06-16T12:30:43.403Z"
   },
   {
    "duration": 10,
    "start_time": "2024-06-16T12:30:43.821Z"
   },
   {
    "duration": 2556,
    "start_time": "2024-06-16T12:31:51.534Z"
   },
   {
    "duration": 1615,
    "start_time": "2024-06-16T12:31:54.092Z"
   },
   {
    "duration": 361,
    "start_time": "2024-06-16T12:31:55.708Z"
   },
   {
    "duration": 52,
    "start_time": "2024-06-16T12:31:56.072Z"
   },
   {
    "duration": 182,
    "start_time": "2024-06-16T12:31:56.126Z"
   },
   {
    "duration": 16,
    "start_time": "2024-06-16T12:31:56.310Z"
   },
   {
    "duration": 12,
    "start_time": "2024-06-16T12:31:56.328Z"
   },
   {
    "duration": 7,
    "start_time": "2024-06-16T12:31:56.342Z"
   },
   {
    "duration": 10620,
    "start_time": "2024-06-16T12:31:56.351Z"
   },
   {
    "duration": 141,
    "start_time": "2024-06-16T12:32:06.974Z"
   },
   {
    "duration": 279,
    "start_time": "2024-06-16T12:32:07.117Z"
   },
   {
    "duration": 516,
    "start_time": "2024-06-16T12:32:07.397Z"
   },
   {
    "duration": 2,
    "start_time": "2024-06-16T12:32:07.915Z"
   },
   {
    "duration": 4,
    "start_time": "2024-06-16T12:32:07.919Z"
   },
   {
    "duration": 4,
    "start_time": "2024-06-16T12:32:07.925Z"
   },
   {
    "duration": 4,
    "start_time": "2024-06-16T12:32:07.930Z"
   },
   {
    "duration": 3,
    "start_time": "2024-06-16T12:32:07.935Z"
   },
   {
    "duration": 5,
    "start_time": "2024-06-16T12:32:07.940Z"
   },
   {
    "duration": 3,
    "start_time": "2024-06-16T12:32:07.946Z"
   },
   {
    "duration": 5,
    "start_time": "2024-06-16T12:32:07.951Z"
   },
   {
    "duration": 5,
    "start_time": "2024-06-16T12:32:07.958Z"
   },
   {
    "duration": 36,
    "start_time": "2024-06-16T12:32:07.965Z"
   },
   {
    "duration": 4,
    "start_time": "2024-06-16T12:32:08.003Z"
   },
   {
    "duration": 7,
    "start_time": "2024-06-16T12:32:08.008Z"
   },
   {
    "duration": 2469,
    "start_time": "2024-06-16T12:34:29.663Z"
   },
   {
    "duration": 1590,
    "start_time": "2024-06-16T12:34:32.134Z"
   },
   {
    "duration": 331,
    "start_time": "2024-06-16T12:34:33.725Z"
   },
   {
    "duration": 55,
    "start_time": "2024-06-16T12:34:34.058Z"
   },
   {
    "duration": 179,
    "start_time": "2024-06-16T12:34:34.115Z"
   },
   {
    "duration": 17,
    "start_time": "2024-06-16T12:34:34.296Z"
   },
   {
    "duration": 12,
    "start_time": "2024-06-16T12:34:34.315Z"
   },
   {
    "duration": 7,
    "start_time": "2024-06-16T12:34:34.328Z"
   },
   {
    "duration": 11041,
    "start_time": "2024-06-16T12:34:34.336Z"
   },
   {
    "duration": 136,
    "start_time": "2024-06-16T12:34:45.379Z"
   },
   {
    "duration": 297,
    "start_time": "2024-06-16T12:34:45.516Z"
   },
   {
    "duration": 543,
    "start_time": "2024-06-16T12:34:45.815Z"
   },
   {
    "duration": 3,
    "start_time": "2024-06-16T12:34:46.359Z"
   },
   {
    "duration": 36,
    "start_time": "2024-06-16T12:34:46.363Z"
   },
   {
    "duration": 5,
    "start_time": "2024-06-16T12:34:46.401Z"
   },
   {
    "duration": 4,
    "start_time": "2024-06-16T12:34:46.407Z"
   },
   {
    "duration": 4,
    "start_time": "2024-06-16T12:34:46.412Z"
   },
   {
    "duration": 5,
    "start_time": "2024-06-16T12:34:46.418Z"
   },
   {
    "duration": 5,
    "start_time": "2024-06-16T12:34:46.424Z"
   },
   {
    "duration": 3,
    "start_time": "2024-06-16T12:34:46.431Z"
   },
   {
    "duration": 4,
    "start_time": "2024-06-16T12:34:46.435Z"
   },
   {
    "duration": 58,
    "start_time": "2024-06-16T12:34:46.441Z"
   },
   {
    "duration": 4,
    "start_time": "2024-06-16T12:34:46.501Z"
   },
   {
    "duration": 7,
    "start_time": "2024-06-16T12:34:46.507Z"
   },
   {
    "duration": 2463,
    "start_time": "2024-06-16T12:36:29.614Z"
   },
   {
    "duration": 1662,
    "start_time": "2024-06-16T12:36:32.079Z"
   },
   {
    "duration": 313,
    "start_time": "2024-06-16T12:36:33.742Z"
   },
   {
    "duration": 54,
    "start_time": "2024-06-16T12:36:34.057Z"
   },
   {
    "duration": 183,
    "start_time": "2024-06-16T12:36:34.113Z"
   },
   {
    "duration": 17,
    "start_time": "2024-06-16T12:36:34.299Z"
   },
   {
    "duration": 13,
    "start_time": "2024-06-16T12:36:34.318Z"
   },
   {
    "duration": 7,
    "start_time": "2024-06-16T12:36:34.332Z"
   },
   {
    "duration": 10884,
    "start_time": "2024-06-16T12:36:34.340Z"
   },
   {
    "duration": 137,
    "start_time": "2024-06-16T12:36:45.225Z"
   },
   {
    "duration": 281,
    "start_time": "2024-06-16T12:36:45.364Z"
   },
   {
    "duration": 511,
    "start_time": "2024-06-16T12:36:45.646Z"
   },
   {
    "duration": 2,
    "start_time": "2024-06-16T12:36:46.159Z"
   },
   {
    "duration": 4,
    "start_time": "2024-06-16T12:36:46.163Z"
   },
   {
    "duration": 3,
    "start_time": "2024-06-16T12:36:46.168Z"
   },
   {
    "duration": 28,
    "start_time": "2024-06-16T12:36:46.173Z"
   },
   {
    "duration": 9,
    "start_time": "2024-06-16T12:36:46.203Z"
   },
   {
    "duration": 7,
    "start_time": "2024-06-16T12:36:46.213Z"
   },
   {
    "duration": 5,
    "start_time": "2024-06-16T12:36:46.221Z"
   },
   {
    "duration": 3,
    "start_time": "2024-06-16T12:36:46.227Z"
   },
   {
    "duration": 3,
    "start_time": "2024-06-16T12:36:46.232Z"
   },
   {
    "duration": 3,
    "start_time": "2024-06-16T12:36:46.236Z"
   },
   {
    "duration": 4,
    "start_time": "2024-06-16T12:36:46.240Z"
   },
   {
    "duration": 3,
    "start_time": "2024-06-16T12:36:46.246Z"
   },
   {
    "duration": 173632,
    "start_time": "2024-06-16T12:36:46.250Z"
   },
   {
    "duration": 0,
    "start_time": "2024-06-16T12:39:39.883Z"
   },
   {
    "duration": 0,
    "start_time": "2024-06-16T12:39:39.884Z"
   },
   {
    "duration": 0,
    "start_time": "2024-06-16T12:39:39.886Z"
   },
   {
    "duration": 12,
    "start_time": "2024-06-16T12:40:38.484Z"
   },
   {
    "duration": 1138,
    "start_time": "2024-06-16T12:41:03.486Z"
   },
   {
    "duration": 27910,
    "start_time": "2024-06-16T12:41:06.476Z"
   },
   {
    "duration": 1169,
    "start_time": "2024-06-16T12:42:44.551Z"
   },
   {
    "duration": 16085,
    "start_time": "2024-06-16T12:42:45.928Z"
   },
   {
    "duration": 2361,
    "start_time": "2024-06-16T12:43:10.968Z"
   },
   {
    "duration": 1598,
    "start_time": "2024-06-16T12:43:13.331Z"
   },
   {
    "duration": 339,
    "start_time": "2024-06-16T12:43:14.932Z"
   },
   {
    "duration": 53,
    "start_time": "2024-06-16T12:43:15.273Z"
   },
   {
    "duration": 186,
    "start_time": "2024-06-16T12:43:15.328Z"
   },
   {
    "duration": 18,
    "start_time": "2024-06-16T12:43:15.515Z"
   },
   {
    "duration": 13,
    "start_time": "2024-06-16T12:43:15.535Z"
   },
   {
    "duration": 7,
    "start_time": "2024-06-16T12:43:15.550Z"
   },
   {
    "duration": 11043,
    "start_time": "2024-06-16T12:43:15.559Z"
   },
   {
    "duration": 140,
    "start_time": "2024-06-16T12:43:26.604Z"
   },
   {
    "duration": 287,
    "start_time": "2024-06-16T12:43:26.745Z"
   },
   {
    "duration": 515,
    "start_time": "2024-06-16T12:43:27.034Z"
   },
   {
    "duration": 3,
    "start_time": "2024-06-16T12:43:27.551Z"
   },
   {
    "duration": 5,
    "start_time": "2024-06-16T12:43:27.557Z"
   },
   {
    "duration": 4,
    "start_time": "2024-06-16T12:43:27.564Z"
   },
   {
    "duration": 4,
    "start_time": "2024-06-16T12:43:27.570Z"
   },
   {
    "duration": 23,
    "start_time": "2024-06-16T12:43:27.577Z"
   },
   {
    "duration": 5,
    "start_time": "2024-06-16T12:43:27.602Z"
   },
   {
    "duration": 4,
    "start_time": "2024-06-16T12:43:27.609Z"
   },
   {
    "duration": 5,
    "start_time": "2024-06-16T12:43:27.615Z"
   },
   {
    "duration": 5,
    "start_time": "2024-06-16T12:43:27.622Z"
   },
   {
    "duration": 6,
    "start_time": "2024-06-16T12:43:27.628Z"
   },
   {
    "duration": 5,
    "start_time": "2024-06-16T12:43:27.635Z"
   },
   {
    "duration": 4,
    "start_time": "2024-06-16T12:43:27.642Z"
   },
   {
    "duration": 1140,
    "start_time": "2024-06-16T12:43:27.648Z"
   },
   {
    "duration": 1335,
    "start_time": "2024-06-16T12:43:28.789Z"
   },
   {
    "duration": 16300,
    "start_time": "2024-06-16T12:43:30.125Z"
   },
   {
    "duration": 0,
    "start_time": "2024-06-16T12:43:46.427Z"
   },
   {
    "duration": 0,
    "start_time": "2024-06-16T12:43:46.428Z"
   },
   {
    "duration": 0,
    "start_time": "2024-06-16T12:43:46.429Z"
   },
   {
    "duration": 2560,
    "start_time": "2024-06-16T12:44:22.570Z"
   },
   {
    "duration": 1660,
    "start_time": "2024-06-16T12:44:25.132Z"
   },
   {
    "duration": 352,
    "start_time": "2024-06-16T12:44:26.794Z"
   },
   {
    "duration": 58,
    "start_time": "2024-06-16T12:44:27.148Z"
   },
   {
    "duration": 177,
    "start_time": "2024-06-16T12:44:27.208Z"
   },
   {
    "duration": 22,
    "start_time": "2024-06-16T12:44:27.386Z"
   },
   {
    "duration": 13,
    "start_time": "2024-06-16T12:44:27.409Z"
   },
   {
    "duration": 6,
    "start_time": "2024-06-16T12:44:27.423Z"
   },
   {
    "duration": 11186,
    "start_time": "2024-06-16T12:44:27.431Z"
   },
   {
    "duration": 136,
    "start_time": "2024-06-16T12:44:38.620Z"
   },
   {
    "duration": 279,
    "start_time": "2024-06-16T12:44:38.758Z"
   },
   {
    "duration": 495,
    "start_time": "2024-06-16T12:44:39.039Z"
   },
   {
    "duration": 2,
    "start_time": "2024-06-16T12:44:39.536Z"
   },
   {
    "duration": 5,
    "start_time": "2024-06-16T12:44:39.539Z"
   },
   {
    "duration": 4,
    "start_time": "2024-06-16T12:44:39.545Z"
   },
   {
    "duration": 5,
    "start_time": "2024-06-16T12:44:39.550Z"
   },
   {
    "duration": 4,
    "start_time": "2024-06-16T12:44:39.556Z"
   },
   {
    "duration": 4,
    "start_time": "2024-06-16T12:44:39.561Z"
   },
   {
    "duration": 4,
    "start_time": "2024-06-16T12:44:39.566Z"
   },
   {
    "duration": 2,
    "start_time": "2024-06-16T12:44:39.572Z"
   },
   {
    "duration": 25,
    "start_time": "2024-06-16T12:44:39.576Z"
   },
   {
    "duration": 4,
    "start_time": "2024-06-16T12:44:39.602Z"
   },
   {
    "duration": 5,
    "start_time": "2024-06-16T12:44:39.608Z"
   },
   {
    "duration": 5,
    "start_time": "2024-06-16T12:44:39.614Z"
   },
   {
    "duration": 170112,
    "start_time": "2024-06-16T12:44:39.620Z"
   },
   {
    "duration": 0,
    "start_time": "2024-06-16T12:47:29.733Z"
   },
   {
    "duration": 0,
    "start_time": "2024-06-16T12:47:29.734Z"
   },
   {
    "duration": 0,
    "start_time": "2024-06-16T12:47:29.735Z"
   },
   {
    "duration": 3,
    "start_time": "2024-06-16T12:50:09.747Z"
   },
   {
    "duration": 169984,
    "start_time": "2024-06-16T12:50:11.795Z"
   },
   {
    "duration": 2555,
    "start_time": "2024-06-16T12:56:27.187Z"
   },
   {
    "duration": 1700,
    "start_time": "2024-06-16T12:56:29.745Z"
   },
   {
    "duration": 579,
    "start_time": "2024-06-16T12:56:31.447Z"
   },
   {
    "duration": 55,
    "start_time": "2024-06-16T12:56:32.027Z"
   },
   {
    "duration": 193,
    "start_time": "2024-06-16T12:56:32.084Z"
   },
   {
    "duration": 23,
    "start_time": "2024-06-16T12:56:32.279Z"
   },
   {
    "duration": 19,
    "start_time": "2024-06-16T12:56:32.304Z"
   },
   {
    "duration": 15,
    "start_time": "2024-06-16T12:56:32.324Z"
   },
   {
    "duration": 11500,
    "start_time": "2024-06-16T12:56:32.340Z"
   },
   {
    "duration": 137,
    "start_time": "2024-06-16T12:56:43.842Z"
   },
   {
    "duration": 278,
    "start_time": "2024-06-16T12:56:43.980Z"
   },
   {
    "duration": 507,
    "start_time": "2024-06-16T12:56:44.260Z"
   },
   {
    "duration": 3,
    "start_time": "2024-06-16T12:56:44.769Z"
   },
   {
    "duration": 4,
    "start_time": "2024-06-16T12:56:44.775Z"
   },
   {
    "duration": 19,
    "start_time": "2024-06-16T12:56:44.781Z"
   },
   {
    "duration": 4,
    "start_time": "2024-06-16T12:56:44.802Z"
   },
   {
    "duration": 4,
    "start_time": "2024-06-16T12:56:44.807Z"
   },
   {
    "duration": 4,
    "start_time": "2024-06-16T12:56:44.813Z"
   },
   {
    "duration": 7,
    "start_time": "2024-06-16T12:56:44.818Z"
   },
   {
    "duration": 4,
    "start_time": "2024-06-16T12:56:44.826Z"
   },
   {
    "duration": 6,
    "start_time": "2024-06-16T12:56:44.831Z"
   },
   {
    "duration": 4,
    "start_time": "2024-06-16T12:56:44.839Z"
   },
   {
    "duration": 4,
    "start_time": "2024-06-16T12:56:44.845Z"
   },
   {
    "duration": 8,
    "start_time": "2024-06-16T12:56:44.851Z"
   },
   {
    "duration": 159,
    "start_time": "2024-06-16T12:56:44.860Z"
   },
   {
    "duration": 0,
    "start_time": "2024-06-16T12:56:45.021Z"
   },
   {
    "duration": 0,
    "start_time": "2024-06-16T12:56:45.022Z"
   },
   {
    "duration": 0,
    "start_time": "2024-06-16T12:56:45.023Z"
   },
   {
    "duration": 0,
    "start_time": "2024-06-16T12:56:45.024Z"
   },
   {
    "duration": 2453,
    "start_time": "2024-06-16T12:58:59.883Z"
   },
   {
    "duration": 1563,
    "start_time": "2024-06-16T12:59:02.338Z"
   },
   {
    "duration": 327,
    "start_time": "2024-06-16T12:59:03.903Z"
   },
   {
    "duration": 52,
    "start_time": "2024-06-16T12:59:04.231Z"
   },
   {
    "duration": 171,
    "start_time": "2024-06-16T12:59:04.286Z"
   },
   {
    "duration": 17,
    "start_time": "2024-06-16T12:59:04.459Z"
   },
   {
    "duration": 23,
    "start_time": "2024-06-16T12:59:04.478Z"
   },
   {
    "duration": 7,
    "start_time": "2024-06-16T12:59:04.503Z"
   },
   {
    "duration": 11022,
    "start_time": "2024-06-16T12:59:04.511Z"
   },
   {
    "duration": 136,
    "start_time": "2024-06-16T12:59:15.535Z"
   },
   {
    "duration": 284,
    "start_time": "2024-06-16T12:59:15.673Z"
   },
   {
    "duration": 500,
    "start_time": "2024-06-16T12:59:15.959Z"
   },
   {
    "duration": 3,
    "start_time": "2024-06-16T12:59:16.460Z"
   },
   {
    "duration": 3,
    "start_time": "2024-06-16T12:59:16.466Z"
   },
   {
    "duration": 6,
    "start_time": "2024-06-16T12:59:16.471Z"
   },
   {
    "duration": 4,
    "start_time": "2024-06-16T12:59:16.479Z"
   },
   {
    "duration": 18,
    "start_time": "2024-06-16T12:59:16.485Z"
   },
   {
    "duration": 4,
    "start_time": "2024-06-16T12:59:16.505Z"
   },
   {
    "duration": 3,
    "start_time": "2024-06-16T12:59:16.510Z"
   },
   {
    "duration": 2,
    "start_time": "2024-06-16T12:59:16.515Z"
   },
   {
    "duration": 13,
    "start_time": "2024-06-16T12:59:16.519Z"
   },
   {
    "duration": 8,
    "start_time": "2024-06-16T12:59:16.533Z"
   },
   {
    "duration": 4,
    "start_time": "2024-06-16T12:59:16.542Z"
   },
   {
    "duration": 6,
    "start_time": "2024-06-16T12:59:16.547Z"
   },
   {
    "duration": 5,
    "start_time": "2024-06-16T12:59:16.554Z"
   },
   {
    "duration": 5659,
    "start_time": "2024-06-16T12:59:16.561Z"
   },
   {
    "duration": 0,
    "start_time": "2024-06-16T12:59:22.221Z"
   },
   {
    "duration": 0,
    "start_time": "2024-06-16T12:59:22.223Z"
   },
   {
    "duration": 0,
    "start_time": "2024-06-16T12:59:22.224Z"
   },
   {
    "duration": 2461,
    "start_time": "2024-06-16T13:01:36.162Z"
   },
   {
    "duration": 1596,
    "start_time": "2024-06-16T13:01:38.625Z"
   },
   {
    "duration": 344,
    "start_time": "2024-06-16T13:01:40.223Z"
   },
   {
    "duration": 52,
    "start_time": "2024-06-16T13:01:40.569Z"
   },
   {
    "duration": 170,
    "start_time": "2024-06-16T13:01:40.623Z"
   },
   {
    "duration": 17,
    "start_time": "2024-06-16T13:01:40.795Z"
   },
   {
    "duration": 12,
    "start_time": "2024-06-16T13:01:40.814Z"
   },
   {
    "duration": 6,
    "start_time": "2024-06-16T13:01:40.827Z"
   },
   {
    "duration": 11011,
    "start_time": "2024-06-16T13:01:40.835Z"
   },
   {
    "duration": 142,
    "start_time": "2024-06-16T13:01:51.849Z"
   },
   {
    "duration": 282,
    "start_time": "2024-06-16T13:01:51.993Z"
   },
   {
    "duration": 498,
    "start_time": "2024-06-16T13:01:52.277Z"
   },
   {
    "duration": 2,
    "start_time": "2024-06-16T13:01:52.777Z"
   },
   {
    "duration": 6,
    "start_time": "2024-06-16T13:01:52.781Z"
   },
   {
    "duration": 11,
    "start_time": "2024-06-16T13:01:52.788Z"
   },
   {
    "duration": 3,
    "start_time": "2024-06-16T13:01:52.801Z"
   },
   {
    "duration": 11,
    "start_time": "2024-06-16T13:01:52.805Z"
   },
   {
    "duration": 5,
    "start_time": "2024-06-16T13:01:52.817Z"
   },
   {
    "duration": 12,
    "start_time": "2024-06-16T13:01:52.823Z"
   },
   {
    "duration": 8,
    "start_time": "2024-06-16T13:01:52.836Z"
   },
   {
    "duration": 6,
    "start_time": "2024-06-16T13:01:52.846Z"
   },
   {
    "duration": 17,
    "start_time": "2024-06-16T13:01:52.854Z"
   },
   {
    "duration": 13,
    "start_time": "2024-06-16T13:01:52.872Z"
   },
   {
    "duration": 6,
    "start_time": "2024-06-16T13:01:52.886Z"
   },
   {
    "duration": 6,
    "start_time": "2024-06-16T13:01:52.893Z"
   },
   {
    "duration": 171394,
    "start_time": "2024-06-16T13:01:52.900Z"
   },
   {
    "duration": 0,
    "start_time": "2024-06-16T13:04:44.296Z"
   },
   {
    "duration": 0,
    "start_time": "2024-06-16T13:04:44.297Z"
   },
   {
    "duration": 0,
    "start_time": "2024-06-16T13:04:44.299Z"
   },
   {
    "duration": 2431,
    "start_time": "2024-06-16T13:06:27.079Z"
   },
   {
    "duration": 1693,
    "start_time": "2024-06-16T13:06:29.512Z"
   },
   {
    "duration": 383,
    "start_time": "2024-06-16T13:06:31.207Z"
   },
   {
    "duration": 58,
    "start_time": "2024-06-16T13:06:31.591Z"
   },
   {
    "duration": 189,
    "start_time": "2024-06-16T13:06:31.652Z"
   },
   {
    "duration": 17,
    "start_time": "2024-06-16T13:06:31.842Z"
   },
   {
    "duration": 20,
    "start_time": "2024-06-16T13:06:31.861Z"
   },
   {
    "duration": 18,
    "start_time": "2024-06-16T13:06:31.883Z"
   },
   {
    "duration": 11123,
    "start_time": "2024-06-16T13:06:31.903Z"
   },
   {
    "duration": 133,
    "start_time": "2024-06-16T13:06:43.027Z"
   },
   {
    "duration": 272,
    "start_time": "2024-06-16T13:06:43.162Z"
   },
   {
    "duration": 489,
    "start_time": "2024-06-16T13:06:43.436Z"
   },
   {
    "duration": 2,
    "start_time": "2024-06-16T13:06:43.927Z"
   },
   {
    "duration": 22,
    "start_time": "2024-06-16T13:06:43.932Z"
   },
   {
    "duration": 13,
    "start_time": "2024-06-16T13:06:43.956Z"
   },
   {
    "duration": 3,
    "start_time": "2024-06-16T13:06:43.970Z"
   },
   {
    "duration": 4,
    "start_time": "2024-06-16T13:06:43.975Z"
   },
   {
    "duration": 4,
    "start_time": "2024-06-16T13:06:43.980Z"
   },
   {
    "duration": 12,
    "start_time": "2024-06-16T13:06:43.986Z"
   },
   {
    "duration": 5,
    "start_time": "2024-06-16T13:06:44.000Z"
   },
   {
    "duration": 11,
    "start_time": "2024-06-16T13:06:44.006Z"
   },
   {
    "duration": 5,
    "start_time": "2024-06-16T13:06:44.018Z"
   },
   {
    "duration": 5,
    "start_time": "2024-06-16T13:06:44.024Z"
   },
   {
    "duration": 4,
    "start_time": "2024-06-16T13:06:44.030Z"
   },
   {
    "duration": 7,
    "start_time": "2024-06-16T13:06:44.035Z"
   },
   {
    "duration": 2395,
    "start_time": "2024-06-16T13:14:36.279Z"
   },
   {
    "duration": 1654,
    "start_time": "2024-06-16T13:14:38.679Z"
   },
   {
    "duration": 340,
    "start_time": "2024-06-16T13:14:40.335Z"
   },
   {
    "duration": 53,
    "start_time": "2024-06-16T13:14:40.677Z"
   },
   {
    "duration": 176,
    "start_time": "2024-06-16T13:14:40.732Z"
   },
   {
    "duration": 17,
    "start_time": "2024-06-16T13:14:40.909Z"
   },
   {
    "duration": 12,
    "start_time": "2024-06-16T13:14:40.928Z"
   },
   {
    "duration": 6,
    "start_time": "2024-06-16T13:14:40.941Z"
   },
   {
    "duration": 11200,
    "start_time": "2024-06-16T13:14:40.949Z"
   },
   {
    "duration": 131,
    "start_time": "2024-06-16T13:14:52.151Z"
   },
   {
    "duration": 279,
    "start_time": "2024-06-16T13:14:52.283Z"
   },
   {
    "duration": 502,
    "start_time": "2024-06-16T13:14:52.563Z"
   },
   {
    "duration": 2,
    "start_time": "2024-06-16T13:14:53.067Z"
   },
   {
    "duration": 8,
    "start_time": "2024-06-16T13:14:53.072Z"
   },
   {
    "duration": 5,
    "start_time": "2024-06-16T13:14:53.081Z"
   },
   {
    "duration": 16,
    "start_time": "2024-06-16T13:14:53.088Z"
   },
   {
    "duration": 119,
    "start_time": "2024-06-16T13:14:53.106Z"
   },
   {
    "duration": 0,
    "start_time": "2024-06-16T13:14:53.227Z"
   },
   {
    "duration": 0,
    "start_time": "2024-06-16T13:14:53.228Z"
   },
   {
    "duration": 0,
    "start_time": "2024-06-16T13:14:53.229Z"
   },
   {
    "duration": 0,
    "start_time": "2024-06-16T13:14:53.230Z"
   },
   {
    "duration": 0,
    "start_time": "2024-06-16T13:14:53.232Z"
   },
   {
    "duration": 0,
    "start_time": "2024-06-16T13:14:53.233Z"
   },
   {
    "duration": 0,
    "start_time": "2024-06-16T13:14:53.234Z"
   },
   {
    "duration": 0,
    "start_time": "2024-06-16T13:14:53.235Z"
   },
   {
    "duration": 0,
    "start_time": "2024-06-16T13:14:53.236Z"
   },
   {
    "duration": 0,
    "start_time": "2024-06-16T13:14:53.237Z"
   },
   {
    "duration": 0,
    "start_time": "2024-06-16T13:14:53.238Z"
   },
   {
    "duration": 0,
    "start_time": "2024-06-16T13:14:53.239Z"
   },
   {
    "duration": 4,
    "start_time": "2024-06-16T13:16:03.237Z"
   },
   {
    "duration": 3,
    "start_time": "2024-06-16T13:16:04.014Z"
   },
   {
    "duration": 3,
    "start_time": "2024-06-16T13:16:04.336Z"
   },
   {
    "duration": 3,
    "start_time": "2024-06-16T13:16:04.650Z"
   },
   {
    "duration": 9,
    "start_time": "2024-06-16T13:16:04.893Z"
   },
   {
    "duration": 3,
    "start_time": "2024-06-16T13:16:05.473Z"
   },
   {
    "duration": 12,
    "start_time": "2024-06-16T13:16:05.478Z"
   },
   {
    "duration": 4,
    "start_time": "2024-06-16T13:16:05.625Z"
   },
   {
    "duration": 311724,
    "start_time": "2024-06-16T13:16:05.850Z"
   },
   {
    "duration": 0,
    "start_time": "2024-06-16T13:21:17.576Z"
   },
   {
    "duration": 0,
    "start_time": "2024-06-16T13:21:17.578Z"
   },
   {
    "duration": 0,
    "start_time": "2024-06-16T13:21:17.579Z"
   },
   {
    "duration": 0,
    "start_time": "2024-06-16T13:21:17.580Z"
   },
   {
    "duration": 2559,
    "start_time": "2024-06-16T13:21:35.138Z"
   },
   {
    "duration": 1606,
    "start_time": "2024-06-16T13:21:37.699Z"
   },
   {
    "duration": 420,
    "start_time": "2024-06-16T13:21:39.307Z"
   },
   {
    "duration": 53,
    "start_time": "2024-06-16T13:21:39.728Z"
   },
   {
    "duration": 169,
    "start_time": "2024-06-16T13:21:39.783Z"
   },
   {
    "duration": 17,
    "start_time": "2024-06-16T13:21:39.954Z"
   },
   {
    "duration": 13,
    "start_time": "2024-06-16T13:21:39.972Z"
   },
   {
    "duration": 18,
    "start_time": "2024-06-16T13:21:39.986Z"
   },
   {
    "duration": 10766,
    "start_time": "2024-06-16T13:21:40.006Z"
   },
   {
    "duration": 133,
    "start_time": "2024-06-16T13:21:50.774Z"
   },
   {
    "duration": 275,
    "start_time": "2024-06-16T13:21:50.908Z"
   },
   {
    "duration": 487,
    "start_time": "2024-06-16T13:21:51.185Z"
   },
   {
    "duration": 3,
    "start_time": "2024-06-16T13:21:51.673Z"
   },
   {
    "duration": 6,
    "start_time": "2024-06-16T13:21:51.677Z"
   },
   {
    "duration": 22,
    "start_time": "2024-06-16T13:21:51.685Z"
   },
   {
    "duration": 3,
    "start_time": "2024-06-16T13:21:51.709Z"
   },
   {
    "duration": 4,
    "start_time": "2024-06-16T13:21:51.714Z"
   },
   {
    "duration": 5,
    "start_time": "2024-06-16T13:21:51.719Z"
   },
   {
    "duration": 3,
    "start_time": "2024-06-16T13:21:51.725Z"
   },
   {
    "duration": 2,
    "start_time": "2024-06-16T13:21:51.730Z"
   },
   {
    "duration": 5,
    "start_time": "2024-06-16T13:21:51.734Z"
   },
   {
    "duration": 30,
    "start_time": "2024-06-16T13:21:51.740Z"
   },
   {
    "duration": 4,
    "start_time": "2024-06-16T13:21:51.771Z"
   },
   {
    "duration": 3,
    "start_time": "2024-06-16T13:21:51.777Z"
   },
   {
    "duration": 1048529,
    "start_time": "2024-06-16T13:21:51.782Z"
   },
   {
    "duration": 3,
    "start_time": "2024-06-16T13:39:20.313Z"
   },
   {
    "duration": 1832,
    "start_time": "2024-06-16T13:39:20.318Z"
   },
   {
    "duration": 138,
    "start_time": "2024-06-16T13:39:22.153Z"
   },
   {
    "duration": 269171,
    "start_time": "2024-06-16T14:03:29.859Z"
   },
   {
    "duration": 30548,
    "start_time": "2024-06-16T14:08:13.836Z"
   },
   {
    "duration": 1972,
    "start_time": "2024-06-16T14:16:05.752Z"
   },
   {
    "duration": 18,
    "start_time": "2024-06-16T14:16:41.815Z"
   },
   {
    "duration": 2490,
    "start_time": "2024-06-16T14:21:18.471Z"
   },
   {
    "duration": 2006,
    "start_time": "2024-06-16T14:21:20.964Z"
   },
   {
    "duration": 492,
    "start_time": "2024-06-16T14:21:22.972Z"
   },
   {
    "duration": 61,
    "start_time": "2024-06-16T14:21:23.467Z"
   },
   {
    "duration": 206,
    "start_time": "2024-06-16T14:21:23.530Z"
   },
   {
    "duration": 19,
    "start_time": "2024-06-16T14:21:23.737Z"
   },
   {
    "duration": 14,
    "start_time": "2024-06-16T14:21:23.757Z"
   },
   {
    "duration": 7,
    "start_time": "2024-06-16T14:21:23.773Z"
   },
   {
    "duration": 11161,
    "start_time": "2024-06-16T14:21:23.800Z"
   },
   {
    "duration": 140,
    "start_time": "2024-06-16T14:21:34.963Z"
   },
   {
    "duration": 295,
    "start_time": "2024-06-16T14:21:35.104Z"
   },
   {
    "duration": 512,
    "start_time": "2024-06-16T14:21:35.400Z"
   },
   {
    "duration": 4,
    "start_time": "2024-06-16T14:21:35.914Z"
   },
   {
    "duration": 5,
    "start_time": "2024-06-16T14:21:35.926Z"
   },
   {
    "duration": 4,
    "start_time": "2024-06-16T14:21:35.933Z"
   },
   {
    "duration": 9,
    "start_time": "2024-06-16T14:21:35.940Z"
   },
   {
    "duration": 5,
    "start_time": "2024-06-16T14:21:35.951Z"
   },
   {
    "duration": 7,
    "start_time": "2024-06-16T14:21:35.958Z"
   },
   {
    "duration": 7,
    "start_time": "2024-06-16T14:21:35.966Z"
   },
   {
    "duration": 4,
    "start_time": "2024-06-16T14:21:35.976Z"
   },
   {
    "duration": 6,
    "start_time": "2024-06-16T14:21:35.999Z"
   },
   {
    "duration": 14,
    "start_time": "2024-06-16T14:21:36.006Z"
   },
   {
    "duration": 8,
    "start_time": "2024-06-16T14:21:36.021Z"
   },
   {
    "duration": 5,
    "start_time": "2024-06-16T14:21:36.030Z"
   },
   {
    "duration": 58847,
    "start_time": "2024-06-16T14:21:36.036Z"
   },
   {
    "duration": 0,
    "start_time": "2024-06-16T14:22:34.886Z"
   },
   {
    "duration": 0,
    "start_time": "2024-06-16T14:22:34.887Z"
   },
   {
    "duration": 0,
    "start_time": "2024-06-16T14:22:34.889Z"
   },
   {
    "duration": 1,
    "start_time": "2024-06-16T14:22:34.890Z"
   },
   {
    "duration": 2438,
    "start_time": "2024-06-16T14:24:42.859Z"
   },
   {
    "duration": 1861,
    "start_time": "2024-06-16T14:24:45.300Z"
   },
   {
    "duration": 337,
    "start_time": "2024-06-16T14:24:47.164Z"
   },
   {
    "duration": 53,
    "start_time": "2024-06-16T14:24:47.503Z"
   },
   {
    "duration": 195,
    "start_time": "2024-06-16T14:24:47.558Z"
   },
   {
    "duration": 17,
    "start_time": "2024-06-16T14:24:47.754Z"
   },
   {
    "duration": 13,
    "start_time": "2024-06-16T14:24:47.772Z"
   },
   {
    "duration": 20,
    "start_time": "2024-06-16T14:24:47.786Z"
   },
   {
    "duration": 11195,
    "start_time": "2024-06-16T14:24:47.807Z"
   },
   {
    "duration": 139,
    "start_time": "2024-06-16T14:24:59.005Z"
   },
   {
    "duration": 284,
    "start_time": "2024-06-16T14:24:59.146Z"
   },
   {
    "duration": 493,
    "start_time": "2024-06-16T14:24:59.432Z"
   },
   {
    "duration": 2,
    "start_time": "2024-06-16T14:24:59.927Z"
   },
   {
    "duration": 5,
    "start_time": "2024-06-16T14:24:59.931Z"
   },
   {
    "duration": 5,
    "start_time": "2024-06-16T14:24:59.937Z"
   },
   {
    "duration": 3,
    "start_time": "2024-06-16T14:24:59.944Z"
   },
   {
    "duration": 4,
    "start_time": "2024-06-16T14:24:59.949Z"
   },
   {
    "duration": 5,
    "start_time": "2024-06-16T14:24:59.954Z"
   },
   {
    "duration": 3,
    "start_time": "2024-06-16T14:24:59.960Z"
   },
   {
    "duration": 4,
    "start_time": "2024-06-16T14:24:59.965Z"
   },
   {
    "duration": 29,
    "start_time": "2024-06-16T14:24:59.971Z"
   },
   {
    "duration": 3,
    "start_time": "2024-06-16T14:25:00.001Z"
   },
   {
    "duration": 22,
    "start_time": "2024-06-16T14:25:00.005Z"
   },
   {
    "duration": 9,
    "start_time": "2024-06-16T14:25:00.029Z"
   },
   {
    "duration": 1049091,
    "start_time": "2024-06-16T14:25:00.039Z"
   },
   {
    "duration": 3,
    "start_time": "2024-06-16T14:42:29.131Z"
   },
   {
    "duration": 1890,
    "start_time": "2024-06-16T14:42:29.136Z"
   },
   {
    "duration": 119,
    "start_time": "2024-06-16T14:42:31.029Z"
   },
   {
    "duration": 0,
    "start_time": "2024-06-16T14:42:31.150Z"
   },
   {
    "duration": 3204,
    "start_time": "2024-06-16T14:43:17.424Z"
   },
   {
    "duration": 1511,
    "start_time": "2024-06-16T14:43:27.867Z"
   },
   {
    "duration": 819,
    "start_time": "2024-06-16T14:54:57.557Z"
   },
   {
    "duration": 2511,
    "start_time": "2024-06-16T14:55:14.485Z"
   },
   {
    "duration": 1664,
    "start_time": "2024-06-16T14:55:16.998Z"
   },
   {
    "duration": 460,
    "start_time": "2024-06-16T14:55:18.663Z"
   },
   {
    "duration": 57,
    "start_time": "2024-06-16T14:55:19.125Z"
   },
   {
    "duration": 176,
    "start_time": "2024-06-16T14:55:19.184Z"
   },
   {
    "duration": 18,
    "start_time": "2024-06-16T14:55:19.361Z"
   },
   {
    "duration": 26,
    "start_time": "2024-06-16T14:55:19.380Z"
   },
   {
    "duration": 8,
    "start_time": "2024-06-16T14:55:19.408Z"
   },
   {
    "duration": 11305,
    "start_time": "2024-06-16T14:55:19.418Z"
   },
   {
    "duration": 58,
    "start_time": "2024-06-16T14:55:30.724Z"
   },
   {
    "duration": 145,
    "start_time": "2024-06-16T14:55:30.783Z"
   },
   {
    "duration": 0,
    "start_time": "2024-06-16T14:55:30.930Z"
   },
   {
    "duration": 0,
    "start_time": "2024-06-16T14:55:30.931Z"
   },
   {
    "duration": 0,
    "start_time": "2024-06-16T14:55:30.932Z"
   },
   {
    "duration": 0,
    "start_time": "2024-06-16T14:55:30.933Z"
   },
   {
    "duration": 0,
    "start_time": "2024-06-16T14:55:30.934Z"
   },
   {
    "duration": 0,
    "start_time": "2024-06-16T14:55:30.935Z"
   },
   {
    "duration": 0,
    "start_time": "2024-06-16T14:55:30.936Z"
   },
   {
    "duration": 0,
    "start_time": "2024-06-16T14:55:30.937Z"
   },
   {
    "duration": 0,
    "start_time": "2024-06-16T14:55:30.938Z"
   },
   {
    "duration": 0,
    "start_time": "2024-06-16T14:55:30.939Z"
   },
   {
    "duration": 0,
    "start_time": "2024-06-16T14:55:30.940Z"
   },
   {
    "duration": 0,
    "start_time": "2024-06-16T14:55:30.941Z"
   },
   {
    "duration": 0,
    "start_time": "2024-06-16T14:55:30.942Z"
   },
   {
    "duration": 0,
    "start_time": "2024-06-16T14:55:30.943Z"
   },
   {
    "duration": 0,
    "start_time": "2024-06-16T14:55:30.944Z"
   },
   {
    "duration": 0,
    "start_time": "2024-06-16T14:55:30.946Z"
   },
   {
    "duration": 0,
    "start_time": "2024-06-16T14:55:30.947Z"
   },
   {
    "duration": 0,
    "start_time": "2024-06-16T14:55:30.948Z"
   },
   {
    "duration": 0,
    "start_time": "2024-06-16T14:55:30.950Z"
   },
   {
    "duration": 0,
    "start_time": "2024-06-16T14:55:30.951Z"
   },
   {
    "duration": 95,
    "start_time": "2024-06-16T14:55:54.737Z"
   },
   {
    "duration": 421,
    "start_time": "2024-06-16T14:56:01.714Z"
   },
   {
    "duration": 276,
    "start_time": "2024-06-16T14:56:02.137Z"
   },
   {
    "duration": 501,
    "start_time": "2024-06-16T14:56:02.414Z"
   },
   {
    "duration": 2,
    "start_time": "2024-06-16T14:56:02.917Z"
   },
   {
    "duration": 2490,
    "start_time": "2024-06-16T14:57:54.846Z"
   },
   {
    "duration": 1596,
    "start_time": "2024-06-16T14:57:57.339Z"
   },
   {
    "duration": 395,
    "start_time": "2024-06-16T14:57:58.937Z"
   },
   {
    "duration": 55,
    "start_time": "2024-06-16T14:57:59.334Z"
   },
   {
    "duration": 173,
    "start_time": "2024-06-16T14:57:59.391Z"
   },
   {
    "duration": 18,
    "start_time": "2024-06-16T14:57:59.566Z"
   },
   {
    "duration": 24,
    "start_time": "2024-06-16T14:57:59.585Z"
   },
   {
    "duration": 7,
    "start_time": "2024-06-16T14:57:59.611Z"
   },
   {
    "duration": 11236,
    "start_time": "2024-06-16T14:57:59.620Z"
   },
   {
    "duration": 56,
    "start_time": "2024-06-16T14:58:10.859Z"
   },
   {
    "duration": 27,
    "start_time": "2024-06-16T14:58:10.917Z"
   },
   {
    "duration": 432,
    "start_time": "2024-06-16T14:58:10.946Z"
   },
   {
    "duration": 277,
    "start_time": "2024-06-16T14:58:11.379Z"
   },
   {
    "duration": 505,
    "start_time": "2024-06-16T14:58:11.658Z"
   },
   {
    "duration": 3,
    "start_time": "2024-06-16T14:58:12.164Z"
   },
   {
    "duration": 5,
    "start_time": "2024-06-16T14:58:12.168Z"
   },
   {
    "duration": 4,
    "start_time": "2024-06-16T14:58:12.174Z"
   },
   {
    "duration": 5,
    "start_time": "2024-06-16T14:58:12.180Z"
   },
   {
    "duration": 14,
    "start_time": "2024-06-16T14:58:12.186Z"
   },
   {
    "duration": 4,
    "start_time": "2024-06-16T14:58:12.202Z"
   },
   {
    "duration": 3,
    "start_time": "2024-06-16T14:58:12.207Z"
   },
   {
    "duration": 3,
    "start_time": "2024-06-16T14:58:12.212Z"
   },
   {
    "duration": 6,
    "start_time": "2024-06-16T14:58:12.216Z"
   },
   {
    "duration": 12,
    "start_time": "2024-06-16T14:58:12.224Z"
   },
   {
    "duration": 15,
    "start_time": "2024-06-16T14:58:12.238Z"
   },
   {
    "duration": 5,
    "start_time": "2024-06-16T14:58:12.254Z"
   },
   {
    "duration": 1119772,
    "start_time": "2024-06-16T14:58:12.261Z"
   },
   {
    "duration": 3,
    "start_time": "2024-06-16T15:16:52.036Z"
   },
   {
    "duration": 829,
    "start_time": "2024-06-16T15:16:52.040Z"
   },
   {
    "duration": 3212,
    "start_time": "2024-06-16T15:16:52.871Z"
   },
   {
    "duration": 664,
    "start_time": "2024-06-16T15:16:56.085Z"
   },
   {
    "duration": 10876,
    "start_time": "2024-06-16T20:57:09.187Z"
   },
   {
    "duration": 1886,
    "start_time": "2024-06-16T20:57:20.068Z"
   },
   {
    "duration": 514,
    "start_time": "2024-06-16T20:57:21.956Z"
   },
   {
    "duration": 55,
    "start_time": "2024-06-16T20:57:22.472Z"
   },
   {
    "duration": 214,
    "start_time": "2024-06-16T20:57:22.529Z"
   },
   {
    "duration": 21,
    "start_time": "2024-06-16T20:57:22.745Z"
   },
   {
    "duration": 19,
    "start_time": "2024-06-16T20:57:22.767Z"
   },
   {
    "duration": 10,
    "start_time": "2024-06-16T20:57:22.788Z"
   },
   {
    "duration": 11822,
    "start_time": "2024-06-16T20:57:22.800Z"
   },
   {
    "duration": 64,
    "start_time": "2024-06-16T20:57:34.624Z"
   },
   {
    "duration": 32,
    "start_time": "2024-06-16T20:57:34.689Z"
   },
   {
    "duration": 162,
    "start_time": "2024-06-16T20:57:34.727Z"
   },
   {
    "duration": 1,
    "start_time": "2024-06-16T20:57:34.891Z"
   },
   {
    "duration": 0,
    "start_time": "2024-06-16T20:57:34.893Z"
   },
   {
    "duration": 0,
    "start_time": "2024-06-16T20:57:34.895Z"
   },
   {
    "duration": 0,
    "start_time": "2024-06-16T20:57:34.895Z"
   },
   {
    "duration": 0,
    "start_time": "2024-06-16T20:57:34.897Z"
   },
   {
    "duration": 0,
    "start_time": "2024-06-16T20:57:34.898Z"
   },
   {
    "duration": 0,
    "start_time": "2024-06-16T20:57:34.899Z"
   },
   {
    "duration": 0,
    "start_time": "2024-06-16T20:57:34.901Z"
   },
   {
    "duration": 0,
    "start_time": "2024-06-16T20:57:34.902Z"
   },
   {
    "duration": 0,
    "start_time": "2024-06-16T20:57:34.904Z"
   },
   {
    "duration": 0,
    "start_time": "2024-06-16T20:57:34.906Z"
   },
   {
    "duration": 0,
    "start_time": "2024-06-16T20:57:34.908Z"
   },
   {
    "duration": 0,
    "start_time": "2024-06-16T20:57:34.909Z"
   },
   {
    "duration": 0,
    "start_time": "2024-06-16T20:57:34.911Z"
   },
   {
    "duration": 0,
    "start_time": "2024-06-16T20:57:34.912Z"
   },
   {
    "duration": 0,
    "start_time": "2024-06-16T20:57:34.914Z"
   },
   {
    "duration": 0,
    "start_time": "2024-06-16T20:57:34.960Z"
   },
   {
    "duration": 0,
    "start_time": "2024-06-16T20:57:34.961Z"
   },
   {
    "duration": 0,
    "start_time": "2024-06-16T20:57:34.963Z"
   },
   {
    "duration": 0,
    "start_time": "2024-06-16T20:57:34.965Z"
   },
   {
    "duration": 4981,
    "start_time": "2024-06-16T20:59:43.007Z"
   },
   {
    "duration": 1652,
    "start_time": "2024-06-16T20:59:47.991Z"
   },
   {
    "duration": 364,
    "start_time": "2024-06-16T20:59:49.645Z"
   },
   {
    "duration": 57,
    "start_time": "2024-06-16T20:59:50.012Z"
   },
   {
    "duration": 207,
    "start_time": "2024-06-16T20:59:50.071Z"
   },
   {
    "duration": 19,
    "start_time": "2024-06-16T20:59:50.280Z"
   },
   {
    "duration": 14,
    "start_time": "2024-06-16T20:59:50.301Z"
   },
   {
    "duration": 8,
    "start_time": "2024-06-16T20:59:50.317Z"
   },
   {
    "duration": 11612,
    "start_time": "2024-06-16T20:59:50.327Z"
   },
   {
    "duration": 65,
    "start_time": "2024-06-16T21:00:01.942Z"
   },
   {
    "duration": 47,
    "start_time": "2024-06-16T21:00:02.008Z"
   },
   {
    "duration": 5079,
    "start_time": "2024-06-16T21:02:00.716Z"
   },
   {
    "duration": 2240,
    "start_time": "2024-06-16T21:02:05.797Z"
   },
   {
    "duration": 363,
    "start_time": "2024-06-16T21:02:08.038Z"
   },
   {
    "duration": 56,
    "start_time": "2024-06-16T21:02:08.404Z"
   },
   {
    "duration": 189,
    "start_time": "2024-06-16T21:02:08.462Z"
   },
   {
    "duration": 23,
    "start_time": "2024-06-16T21:02:08.655Z"
   },
   {
    "duration": 14,
    "start_time": "2024-06-16T21:02:08.679Z"
   },
   {
    "duration": 10,
    "start_time": "2024-06-16T21:02:08.695Z"
   },
   {
    "duration": 51,
    "start_time": "2024-06-16T21:03:36.918Z"
   },
   {
    "duration": 5280,
    "start_time": "2024-06-16T21:03:46.324Z"
   },
   {
    "duration": 2338,
    "start_time": "2024-06-16T21:03:51.607Z"
   },
   {
    "duration": 441,
    "start_time": "2024-06-16T21:03:53.947Z"
   },
   {
    "duration": 62,
    "start_time": "2024-06-16T21:03:54.390Z"
   },
   {
    "duration": 193,
    "start_time": "2024-06-16T21:03:54.454Z"
   },
   {
    "duration": 21,
    "start_time": "2024-06-16T21:03:54.649Z"
   },
   {
    "duration": 14,
    "start_time": "2024-06-16T21:03:54.671Z"
   },
   {
    "duration": 8,
    "start_time": "2024-06-16T21:03:54.687Z"
   },
   {
    "duration": 171,
    "start_time": "2024-06-16T21:03:54.697Z"
   },
   {
    "duration": 0,
    "start_time": "2024-06-16T21:03:54.870Z"
   },
   {
    "duration": 0,
    "start_time": "2024-06-16T21:03:54.872Z"
   },
   {
    "duration": 0,
    "start_time": "2024-06-16T21:03:54.873Z"
   },
   {
    "duration": 0,
    "start_time": "2024-06-16T21:03:54.874Z"
   },
   {
    "duration": 0,
    "start_time": "2024-06-16T21:03:54.875Z"
   },
   {
    "duration": 0,
    "start_time": "2024-06-16T21:03:54.876Z"
   },
   {
    "duration": 0,
    "start_time": "2024-06-16T21:03:54.877Z"
   },
   {
    "duration": 0,
    "start_time": "2024-06-16T21:03:54.878Z"
   },
   {
    "duration": 0,
    "start_time": "2024-06-16T21:03:54.880Z"
   },
   {
    "duration": 0,
    "start_time": "2024-06-16T21:03:54.881Z"
   },
   {
    "duration": 0,
    "start_time": "2024-06-16T21:03:54.882Z"
   },
   {
    "duration": 0,
    "start_time": "2024-06-16T21:03:54.883Z"
   },
   {
    "duration": 0,
    "start_time": "2024-06-16T21:03:54.884Z"
   },
   {
    "duration": 0,
    "start_time": "2024-06-16T21:03:54.886Z"
   },
   {
    "duration": 0,
    "start_time": "2024-06-16T21:03:54.887Z"
   },
   {
    "duration": 0,
    "start_time": "2024-06-16T21:03:54.888Z"
   },
   {
    "duration": 0,
    "start_time": "2024-06-16T21:03:54.889Z"
   },
   {
    "duration": 0,
    "start_time": "2024-06-16T21:03:54.890Z"
   },
   {
    "duration": 0,
    "start_time": "2024-06-16T21:03:54.892Z"
   },
   {
    "duration": 0,
    "start_time": "2024-06-16T21:03:54.892Z"
   },
   {
    "duration": 0,
    "start_time": "2024-06-16T21:03:54.893Z"
   },
   {
    "duration": 0,
    "start_time": "2024-06-16T21:03:54.894Z"
   },
   {
    "duration": 0,
    "start_time": "2024-06-16T21:03:54.896Z"
   },
   {
    "duration": 14,
    "start_time": "2024-06-16T21:04:53.166Z"
   },
   {
    "duration": 16,
    "start_time": "2024-06-16T21:05:42.239Z"
   },
   {
    "duration": 930,
    "start_time": "2024-06-16T21:06:00.369Z"
   },
   {
    "duration": 21,
    "start_time": "2024-06-16T21:06:29.731Z"
   },
   {
    "duration": 51,
    "start_time": "2024-06-16T21:07:43.428Z"
   },
   {
    "duration": 5064,
    "start_time": "2024-06-16T21:07:53.288Z"
   },
   {
    "duration": 2662,
    "start_time": "2024-06-16T21:07:58.354Z"
   },
   {
    "duration": 403,
    "start_time": "2024-06-16T21:08:01.018Z"
   },
   {
    "duration": 64,
    "start_time": "2024-06-16T21:08:01.424Z"
   },
   {
    "duration": 192,
    "start_time": "2024-06-16T21:08:01.490Z"
   },
   {
    "duration": 18,
    "start_time": "2024-06-16T21:08:01.684Z"
   },
   {
    "duration": 46,
    "start_time": "2024-06-16T21:08:01.704Z"
   },
   {
    "duration": 35,
    "start_time": "2024-06-16T21:08:01.752Z"
   },
   {
    "duration": 174,
    "start_time": "2024-06-16T21:08:01.789Z"
   },
   {
    "duration": 0,
    "start_time": "2024-06-16T21:08:01.966Z"
   },
   {
    "duration": 0,
    "start_time": "2024-06-16T21:08:01.967Z"
   },
   {
    "duration": 0,
    "start_time": "2024-06-16T21:08:01.968Z"
   },
   {
    "duration": 0,
    "start_time": "2024-06-16T21:08:01.969Z"
   },
   {
    "duration": 0,
    "start_time": "2024-06-16T21:08:01.970Z"
   },
   {
    "duration": 0,
    "start_time": "2024-06-16T21:08:01.971Z"
   },
   {
    "duration": 0,
    "start_time": "2024-06-16T21:08:01.972Z"
   },
   {
    "duration": 0,
    "start_time": "2024-06-16T21:08:01.973Z"
   },
   {
    "duration": 0,
    "start_time": "2024-06-16T21:08:01.975Z"
   },
   {
    "duration": 0,
    "start_time": "2024-06-16T21:08:01.976Z"
   },
   {
    "duration": 0,
    "start_time": "2024-06-16T21:08:01.977Z"
   },
   {
    "duration": 0,
    "start_time": "2024-06-16T21:08:01.978Z"
   },
   {
    "duration": 0,
    "start_time": "2024-06-16T21:08:01.979Z"
   },
   {
    "duration": 0,
    "start_time": "2024-06-16T21:08:01.980Z"
   },
   {
    "duration": 0,
    "start_time": "2024-06-16T21:08:01.981Z"
   },
   {
    "duration": 0,
    "start_time": "2024-06-16T21:08:01.982Z"
   },
   {
    "duration": 0,
    "start_time": "2024-06-16T21:08:01.983Z"
   },
   {
    "duration": 0,
    "start_time": "2024-06-16T21:08:01.984Z"
   },
   {
    "duration": 0,
    "start_time": "2024-06-16T21:08:01.986Z"
   },
   {
    "duration": 0,
    "start_time": "2024-06-16T21:08:01.987Z"
   },
   {
    "duration": 0,
    "start_time": "2024-06-16T21:08:01.988Z"
   },
   {
    "duration": 0,
    "start_time": "2024-06-16T21:08:01.990Z"
   },
   {
    "duration": 0,
    "start_time": "2024-06-16T21:08:01.991Z"
   },
   {
    "duration": 5048,
    "start_time": "2024-06-16T21:09:17.913Z"
   },
   {
    "duration": 2338,
    "start_time": "2024-06-16T21:09:22.964Z"
   },
   {
    "duration": 368,
    "start_time": "2024-06-16T21:09:25.304Z"
   },
   {
    "duration": 54,
    "start_time": "2024-06-16T21:09:25.675Z"
   },
   {
    "duration": 191,
    "start_time": "2024-06-16T21:09:25.732Z"
   },
   {
    "duration": 19,
    "start_time": "2024-06-16T21:09:25.924Z"
   },
   {
    "duration": 12,
    "start_time": "2024-06-16T21:09:25.956Z"
   },
   {
    "duration": 7,
    "start_time": "2024-06-16T21:09:25.970Z"
   },
   {
    "duration": 54,
    "start_time": "2024-06-16T21:09:25.979Z"
   },
   {
    "duration": 0,
    "start_time": "2024-06-16T21:09:26.035Z"
   },
   {
    "duration": 0,
    "start_time": "2024-06-16T21:09:26.037Z"
   },
   {
    "duration": 0,
    "start_time": "2024-06-16T21:09:26.039Z"
   },
   {
    "duration": 0,
    "start_time": "2024-06-16T21:09:26.040Z"
   },
   {
    "duration": 0,
    "start_time": "2024-06-16T21:09:26.041Z"
   },
   {
    "duration": 0,
    "start_time": "2024-06-16T21:09:26.043Z"
   },
   {
    "duration": 0,
    "start_time": "2024-06-16T21:09:26.044Z"
   },
   {
    "duration": 0,
    "start_time": "2024-06-16T21:09:26.046Z"
   },
   {
    "duration": 0,
    "start_time": "2024-06-16T21:09:26.047Z"
   },
   {
    "duration": 0,
    "start_time": "2024-06-16T21:09:26.049Z"
   },
   {
    "duration": 0,
    "start_time": "2024-06-16T21:09:26.050Z"
   },
   {
    "duration": 0,
    "start_time": "2024-06-16T21:09:26.051Z"
   },
   {
    "duration": 0,
    "start_time": "2024-06-16T21:09:26.053Z"
   },
   {
    "duration": 0,
    "start_time": "2024-06-16T21:09:26.054Z"
   },
   {
    "duration": 0,
    "start_time": "2024-06-16T21:09:26.055Z"
   },
   {
    "duration": 0,
    "start_time": "2024-06-16T21:09:26.056Z"
   },
   {
    "duration": 0,
    "start_time": "2024-06-16T21:09:26.057Z"
   },
   {
    "duration": 0,
    "start_time": "2024-06-16T21:09:26.058Z"
   },
   {
    "duration": 0,
    "start_time": "2024-06-16T21:09:26.059Z"
   },
   {
    "duration": 0,
    "start_time": "2024-06-16T21:09:26.060Z"
   },
   {
    "duration": 0,
    "start_time": "2024-06-16T21:09:26.061Z"
   },
   {
    "duration": 0,
    "start_time": "2024-06-16T21:09:26.062Z"
   },
   {
    "duration": 0,
    "start_time": "2024-06-16T21:09:26.063Z"
   },
   {
    "duration": 5153,
    "start_time": "2024-06-16T21:12:24.846Z"
   },
   {
    "duration": 2892,
    "start_time": "2024-06-16T21:12:30.002Z"
   },
   {
    "duration": 354,
    "start_time": "2024-06-16T21:12:32.895Z"
   },
   {
    "duration": 58,
    "start_time": "2024-06-16T21:12:33.252Z"
   },
   {
    "duration": 188,
    "start_time": "2024-06-16T21:12:33.312Z"
   },
   {
    "duration": 19,
    "start_time": "2024-06-16T21:12:33.502Z"
   },
   {
    "duration": 15,
    "start_time": "2024-06-16T21:12:33.522Z"
   },
   {
    "duration": 7,
    "start_time": "2024-06-16T21:12:33.556Z"
   },
   {
    "duration": 90,
    "start_time": "2024-06-16T21:12:33.565Z"
   },
   {
    "duration": 5121,
    "start_time": "2024-06-16T21:14:19.545Z"
   },
   {
    "duration": 2263,
    "start_time": "2024-06-16T21:14:24.669Z"
   },
   {
    "duration": 359,
    "start_time": "2024-06-16T21:14:26.934Z"
   },
   {
    "duration": 55,
    "start_time": "2024-06-16T21:14:27.295Z"
   },
   {
    "duration": 182,
    "start_time": "2024-06-16T21:14:27.352Z"
   },
   {
    "duration": 23,
    "start_time": "2024-06-16T21:14:27.536Z"
   },
   {
    "duration": 15,
    "start_time": "2024-06-16T21:14:27.561Z"
   },
   {
    "duration": 11,
    "start_time": "2024-06-16T21:14:27.577Z"
   },
   {
    "duration": 89,
    "start_time": "2024-06-16T21:14:27.589Z"
   },
   {
    "duration": 151,
    "start_time": "2024-06-16T21:14:27.681Z"
   },
   {
    "duration": 0,
    "start_time": "2024-06-16T21:14:27.834Z"
   },
   {
    "duration": 0,
    "start_time": "2024-06-16T21:14:27.836Z"
   },
   {
    "duration": 0,
    "start_time": "2024-06-16T21:14:27.837Z"
   },
   {
    "duration": 0,
    "start_time": "2024-06-16T21:14:27.838Z"
   },
   {
    "duration": 0,
    "start_time": "2024-06-16T21:14:27.855Z"
   },
   {
    "duration": 0,
    "start_time": "2024-06-16T21:14:27.857Z"
   },
   {
    "duration": 0,
    "start_time": "2024-06-16T21:14:27.858Z"
   },
   {
    "duration": 0,
    "start_time": "2024-06-16T21:14:27.859Z"
   },
   {
    "duration": 0,
    "start_time": "2024-06-16T21:14:27.861Z"
   },
   {
    "duration": 0,
    "start_time": "2024-06-16T21:14:27.862Z"
   },
   {
    "duration": 0,
    "start_time": "2024-06-16T21:14:27.863Z"
   },
   {
    "duration": 0,
    "start_time": "2024-06-16T21:14:27.864Z"
   },
   {
    "duration": 0,
    "start_time": "2024-06-16T21:14:27.865Z"
   },
   {
    "duration": 0,
    "start_time": "2024-06-16T21:14:27.866Z"
   },
   {
    "duration": 0,
    "start_time": "2024-06-16T21:14:27.868Z"
   },
   {
    "duration": 0,
    "start_time": "2024-06-16T21:14:27.869Z"
   },
   {
    "duration": 0,
    "start_time": "2024-06-16T21:14:27.870Z"
   },
   {
    "duration": 0,
    "start_time": "2024-06-16T21:14:27.871Z"
   },
   {
    "duration": 0,
    "start_time": "2024-06-16T21:14:27.872Z"
   },
   {
    "duration": 0,
    "start_time": "2024-06-16T21:14:27.873Z"
   },
   {
    "duration": 0,
    "start_time": "2024-06-16T21:14:27.874Z"
   },
   {
    "duration": 0,
    "start_time": "2024-06-16T21:14:27.875Z"
   },
   {
    "duration": 1,
    "start_time": "2024-06-16T21:14:27.876Z"
   },
   {
    "duration": 5098,
    "start_time": "2024-06-16T21:17:27.454Z"
   },
   {
    "duration": 1724,
    "start_time": "2024-06-16T21:17:32.554Z"
   },
   {
    "duration": 403,
    "start_time": "2024-06-16T21:17:34.279Z"
   },
   {
    "duration": 57,
    "start_time": "2024-06-16T21:17:34.684Z"
   },
   {
    "duration": 181,
    "start_time": "2024-06-16T21:17:34.742Z"
   },
   {
    "duration": 18,
    "start_time": "2024-06-16T21:17:34.925Z"
   },
   {
    "duration": 13,
    "start_time": "2024-06-16T21:17:34.955Z"
   },
   {
    "duration": 7,
    "start_time": "2024-06-16T21:17:34.969Z"
   },
   {
    "duration": 83,
    "start_time": "2024-06-16T21:17:34.978Z"
   },
   {
    "duration": 3320,
    "start_time": "2024-06-16T21:17:35.064Z"
   },
   {
    "duration": 11646,
    "start_time": "2024-06-16T21:17:38.385Z"
   },
   {
    "duration": 62,
    "start_time": "2024-06-16T21:17:50.033Z"
   },
   {
    "duration": 32,
    "start_time": "2024-06-16T21:17:50.097Z"
   },
   {
    "duration": 452,
    "start_time": "2024-06-16T21:17:50.131Z"
   },
   {
    "duration": 276,
    "start_time": "2024-06-16T21:17:50.585Z"
   },
   {
    "duration": 500,
    "start_time": "2024-06-16T21:17:50.862Z"
   },
   {
    "duration": 3,
    "start_time": "2024-06-16T21:17:51.364Z"
   },
   {
    "duration": 7,
    "start_time": "2024-06-16T21:17:51.368Z"
   },
   {
    "duration": 6,
    "start_time": "2024-06-16T21:17:51.377Z"
   },
   {
    "duration": 5,
    "start_time": "2024-06-16T21:17:51.384Z"
   },
   {
    "duration": 4,
    "start_time": "2024-06-16T21:17:51.390Z"
   },
   {
    "duration": 22,
    "start_time": "2024-06-16T21:17:51.396Z"
   },
   {
    "duration": 8,
    "start_time": "2024-06-16T21:17:51.419Z"
   },
   {
    "duration": 18,
    "start_time": "2024-06-16T21:17:51.428Z"
   },
   {
    "duration": 6,
    "start_time": "2024-06-16T21:17:51.447Z"
   },
   {
    "duration": 15,
    "start_time": "2024-06-16T21:17:51.455Z"
   },
   {
    "duration": 27,
    "start_time": "2024-06-16T21:17:51.472Z"
   },
   {
    "duration": 13,
    "start_time": "2024-06-16T21:17:51.503Z"
   },
   {
    "duration": 5072,
    "start_time": "2024-06-16T21:18:17.021Z"
   },
   {
    "duration": 1653,
    "start_time": "2024-06-16T21:18:22.096Z"
   },
   {
    "duration": 344,
    "start_time": "2024-06-16T21:18:23.751Z"
   },
   {
    "duration": 61,
    "start_time": "2024-06-16T21:18:24.098Z"
   },
   {
    "duration": 180,
    "start_time": "2024-06-16T21:18:24.160Z"
   },
   {
    "duration": 22,
    "start_time": "2024-06-16T21:18:24.342Z"
   },
   {
    "duration": 14,
    "start_time": "2024-06-16T21:18:24.365Z"
   },
   {
    "duration": 8,
    "start_time": "2024-06-16T21:18:24.380Z"
   },
   {
    "duration": 92,
    "start_time": "2024-06-16T21:18:24.390Z"
   },
   {
    "duration": 11983,
    "start_time": "2024-06-16T21:18:24.484Z"
   },
   {
    "duration": 61,
    "start_time": "2024-06-16T21:18:36.469Z"
   },
   {
    "duration": 44,
    "start_time": "2024-06-16T21:18:36.531Z"
   },
   {
    "duration": 0,
    "start_time": "2024-06-16T21:23:38.163Z"
   },
   {
    "duration": 0,
    "start_time": "2024-06-16T21:23:38.165Z"
   },
   {
    "duration": 0,
    "start_time": "2024-06-16T21:23:38.166Z"
   },
   {
    "duration": 0,
    "start_time": "2024-06-16T21:23:38.167Z"
   },
   {
    "duration": 0,
    "start_time": "2024-06-16T21:23:38.168Z"
   },
   {
    "duration": 0,
    "start_time": "2024-06-16T21:23:38.168Z"
   },
   {
    "duration": 0,
    "start_time": "2024-06-16T21:23:38.169Z"
   },
   {
    "duration": 0,
    "start_time": "2024-06-16T21:23:38.170Z"
   },
   {
    "duration": 0,
    "start_time": "2024-06-16T21:23:38.171Z"
   },
   {
    "duration": 0,
    "start_time": "2024-06-16T21:23:38.173Z"
   },
   {
    "duration": 0,
    "start_time": "2024-06-16T21:23:38.173Z"
   },
   {
    "duration": 0,
    "start_time": "2024-06-16T21:23:38.174Z"
   },
   {
    "duration": 0,
    "start_time": "2024-06-16T21:23:38.175Z"
   },
   {
    "duration": 0,
    "start_time": "2024-06-16T21:23:38.176Z"
   },
   {
    "duration": 0,
    "start_time": "2024-06-16T21:23:38.177Z"
   },
   {
    "duration": 0,
    "start_time": "2024-06-16T21:23:38.179Z"
   },
   {
    "duration": 0,
    "start_time": "2024-06-16T21:23:38.179Z"
   },
   {
    "duration": 0,
    "start_time": "2024-06-16T21:23:38.181Z"
   },
   {
    "duration": 0,
    "start_time": "2024-06-16T21:23:38.182Z"
   },
   {
    "duration": 0,
    "start_time": "2024-06-16T21:23:38.183Z"
   },
   {
    "duration": 0,
    "start_time": "2024-06-16T21:23:38.184Z"
   },
   {
    "duration": 5147,
    "start_time": "2024-06-16T21:23:52.947Z"
   },
   {
    "duration": 1674,
    "start_time": "2024-06-16T21:23:58.097Z"
   },
   {
    "duration": 376,
    "start_time": "2024-06-16T21:23:59.773Z"
   },
   {
    "duration": 66,
    "start_time": "2024-06-16T21:24:00.152Z"
   },
   {
    "duration": 260,
    "start_time": "2024-06-16T21:24:00.220Z"
   },
   {
    "duration": 18,
    "start_time": "2024-06-16T21:24:00.482Z"
   },
   {
    "duration": 62,
    "start_time": "2024-06-16T21:24:00.502Z"
   },
   {
    "duration": 36,
    "start_time": "2024-06-16T21:24:00.566Z"
   },
   {
    "duration": 101,
    "start_time": "2024-06-16T21:24:00.603Z"
   },
   {
    "duration": 3378,
    "start_time": "2024-06-16T21:24:00.706Z"
   },
   {
    "duration": 11907,
    "start_time": "2024-06-16T21:24:04.086Z"
   },
   {
    "duration": 68,
    "start_time": "2024-06-16T21:24:15.994Z"
   },
   {
    "duration": 29,
    "start_time": "2024-06-16T21:24:16.064Z"
   },
   {
    "duration": 450,
    "start_time": "2024-06-16T21:24:16.095Z"
   },
   {
    "duration": 294,
    "start_time": "2024-06-16T21:24:16.547Z"
   },
   {
    "duration": 500,
    "start_time": "2024-06-16T21:24:16.843Z"
   },
   {
    "duration": 3,
    "start_time": "2024-06-16T21:24:17.344Z"
   },
   {
    "duration": 9,
    "start_time": "2024-06-16T21:24:17.348Z"
   },
   {
    "duration": 4,
    "start_time": "2024-06-16T21:24:17.358Z"
   },
   {
    "duration": 4,
    "start_time": "2024-06-16T21:24:17.363Z"
   },
   {
    "duration": 4,
    "start_time": "2024-06-16T21:24:17.368Z"
   },
   {
    "duration": 4,
    "start_time": "2024-06-16T21:24:17.374Z"
   },
   {
    "duration": 4,
    "start_time": "2024-06-16T21:24:17.380Z"
   },
   {
    "duration": 4,
    "start_time": "2024-06-16T21:24:17.386Z"
   },
   {
    "duration": 6,
    "start_time": "2024-06-16T21:24:17.392Z"
   },
   {
    "duration": 11,
    "start_time": "2024-06-16T21:24:17.400Z"
   },
   {
    "duration": 4,
    "start_time": "2024-06-16T21:24:17.413Z"
   },
   {
    "duration": 36,
    "start_time": "2024-06-16T21:24:17.420Z"
   },
   {
    "duration": 24099,
    "start_time": "2024-06-16T21:24:17.458Z"
   },
   {
    "duration": 0,
    "start_time": "2024-06-16T21:24:41.558Z"
   },
   {
    "duration": 0,
    "start_time": "2024-06-16T21:24:41.560Z"
   },
   {
    "duration": 0,
    "start_time": "2024-06-16T21:24:41.561Z"
   },
   {
    "duration": 0,
    "start_time": "2024-06-16T21:24:41.562Z"
   },
   {
    "duration": 0,
    "start_time": "2024-06-16T21:24:41.563Z"
   },
   {
    "duration": 5262,
    "start_time": "2024-06-16T21:24:43.601Z"
   },
   {
    "duration": 1751,
    "start_time": "2024-06-16T21:24:48.868Z"
   },
   {
    "duration": 409,
    "start_time": "2024-06-16T21:24:50.621Z"
   },
   {
    "duration": 70,
    "start_time": "2024-06-16T21:24:51.032Z"
   },
   {
    "duration": 258,
    "start_time": "2024-06-16T21:24:51.105Z"
   },
   {
    "duration": 19,
    "start_time": "2024-06-16T21:24:51.364Z"
   },
   {
    "duration": 46,
    "start_time": "2024-06-16T21:24:51.385Z"
   },
   {
    "duration": 36,
    "start_time": "2024-06-16T21:24:51.433Z"
   },
   {
    "duration": 95,
    "start_time": "2024-06-16T21:24:51.471Z"
   },
   {
    "duration": 5191,
    "start_time": "2024-06-16T21:26:28.920Z"
   },
   {
    "duration": 1675,
    "start_time": "2024-06-16T21:26:34.113Z"
   },
   {
    "duration": 364,
    "start_time": "2024-06-16T21:26:35.789Z"
   },
   {
    "duration": 61,
    "start_time": "2024-06-16T21:26:36.156Z"
   },
   {
    "duration": 199,
    "start_time": "2024-06-16T21:26:36.219Z"
   },
   {
    "duration": 18,
    "start_time": "2024-06-16T21:26:36.420Z"
   },
   {
    "duration": 27,
    "start_time": "2024-06-16T21:26:36.439Z"
   },
   {
    "duration": 36,
    "start_time": "2024-06-16T21:26:36.467Z"
   },
   {
    "duration": 78,
    "start_time": "2024-06-16T21:26:36.505Z"
   },
   {
    "duration": 76989,
    "start_time": "2024-06-16T21:26:36.592Z"
   },
   {
    "duration": 0,
    "start_time": "2024-06-16T21:27:53.582Z"
   },
   {
    "duration": 0,
    "start_time": "2024-06-16T21:27:53.583Z"
   },
   {
    "duration": 0,
    "start_time": "2024-06-16T21:27:53.585Z"
   },
   {
    "duration": 0,
    "start_time": "2024-06-16T21:27:53.586Z"
   },
   {
    "duration": 0,
    "start_time": "2024-06-16T21:27:53.587Z"
   },
   {
    "duration": 0,
    "start_time": "2024-06-16T21:27:53.588Z"
   },
   {
    "duration": 0,
    "start_time": "2024-06-16T21:27:53.589Z"
   },
   {
    "duration": 0,
    "start_time": "2024-06-16T21:27:53.590Z"
   },
   {
    "duration": 0,
    "start_time": "2024-06-16T21:27:53.591Z"
   },
   {
    "duration": 0,
    "start_time": "2024-06-16T21:27:53.592Z"
   },
   {
    "duration": 0,
    "start_time": "2024-06-16T21:27:53.593Z"
   },
   {
    "duration": 0,
    "start_time": "2024-06-16T21:27:53.594Z"
   },
   {
    "duration": 0,
    "start_time": "2024-06-16T21:27:53.595Z"
   },
   {
    "duration": 0,
    "start_time": "2024-06-16T21:27:53.596Z"
   },
   {
    "duration": 0,
    "start_time": "2024-06-16T21:27:53.597Z"
   },
   {
    "duration": 0,
    "start_time": "2024-06-16T21:27:53.598Z"
   },
   {
    "duration": 0,
    "start_time": "2024-06-16T21:27:53.598Z"
   },
   {
    "duration": 0,
    "start_time": "2024-06-16T21:27:53.599Z"
   },
   {
    "duration": 0,
    "start_time": "2024-06-16T21:27:53.600Z"
   },
   {
    "duration": 0,
    "start_time": "2024-06-16T21:27:53.601Z"
   },
   {
    "duration": 0,
    "start_time": "2024-06-16T21:27:53.602Z"
   },
   {
    "duration": 0,
    "start_time": "2024-06-16T21:27:53.603Z"
   },
   {
    "duration": 0,
    "start_time": "2024-06-16T21:27:53.604Z"
   },
   {
    "duration": 2929,
    "start_time": "2024-06-16T21:28:20.036Z"
   },
   {
    "duration": 3389,
    "start_time": "2024-06-16T21:29:13.080Z"
   },
   {
    "duration": 2507,
    "start_time": "2024-06-16T21:29:42.889Z"
   },
   {
    "duration": 2862,
    "start_time": "2024-06-16T21:29:46.947Z"
   },
   {
    "duration": 3260,
    "start_time": "2024-06-16T21:31:14.436Z"
   },
   {
    "duration": 5327,
    "start_time": "2024-06-16T21:33:15.391Z"
   },
   {
    "duration": 1785,
    "start_time": "2024-06-16T21:33:20.721Z"
   },
   {
    "duration": 405,
    "start_time": "2024-06-16T21:33:22.508Z"
   },
   {
    "duration": 61,
    "start_time": "2024-06-16T21:33:22.914Z"
   },
   {
    "duration": 196,
    "start_time": "2024-06-16T21:33:22.977Z"
   },
   {
    "duration": 18,
    "start_time": "2024-06-16T21:33:23.176Z"
   },
   {
    "duration": 14,
    "start_time": "2024-06-16T21:33:23.196Z"
   },
   {
    "duration": 6,
    "start_time": "2024-06-16T21:33:23.212Z"
   },
   {
    "duration": 98,
    "start_time": "2024-06-16T21:33:23.220Z"
   },
   {
    "duration": 73,
    "start_time": "2024-06-16T21:33:23.320Z"
   },
   {
    "duration": 33,
    "start_time": "2024-06-16T21:33:23.394Z"
   },
   {
    "duration": 5414,
    "start_time": "2024-06-16T21:33:41.128Z"
   },
   {
    "duration": 1788,
    "start_time": "2024-06-16T21:33:46.544Z"
   },
   {
    "duration": 367,
    "start_time": "2024-06-16T21:33:48.334Z"
   },
   {
    "duration": 73,
    "start_time": "2024-06-16T21:33:48.703Z"
   },
   {
    "duration": 227,
    "start_time": "2024-06-16T21:33:48.778Z"
   },
   {
    "duration": 18,
    "start_time": "2024-06-16T21:33:49.008Z"
   },
   {
    "duration": 26,
    "start_time": "2024-06-16T21:33:49.027Z"
   },
   {
    "duration": 22,
    "start_time": "2024-06-16T21:33:49.055Z"
   },
   {
    "duration": 71,
    "start_time": "2024-06-16T21:33:49.079Z"
   },
   {
    "duration": 64,
    "start_time": "2024-06-16T21:33:49.160Z"
   },
   {
    "duration": 40,
    "start_time": "2024-06-16T21:33:49.226Z"
   },
   {
    "duration": 5837,
    "start_time": "2024-06-16T21:33:49.269Z"
   },
   {
    "duration": 12586,
    "start_time": "2024-06-16T21:33:55.108Z"
   },
   {
    "duration": 141,
    "start_time": "2024-06-16T21:34:07.696Z"
   },
   {
    "duration": 302,
    "start_time": "2024-06-16T21:34:07.839Z"
   },
   {
    "duration": 552,
    "start_time": "2024-06-16T21:34:08.143Z"
   },
   {
    "duration": 3,
    "start_time": "2024-06-16T21:34:08.697Z"
   },
   {
    "duration": 5,
    "start_time": "2024-06-16T21:34:08.702Z"
   },
   {
    "duration": 21,
    "start_time": "2024-06-16T21:34:08.708Z"
   },
   {
    "duration": 4,
    "start_time": "2024-06-16T21:34:08.731Z"
   },
   {
    "duration": 4,
    "start_time": "2024-06-16T21:34:08.737Z"
   },
   {
    "duration": 6,
    "start_time": "2024-06-16T21:34:08.743Z"
   },
   {
    "duration": 3,
    "start_time": "2024-06-16T21:34:08.768Z"
   },
   {
    "duration": 6,
    "start_time": "2024-06-16T21:34:08.773Z"
   },
   {
    "duration": 8,
    "start_time": "2024-06-16T21:34:08.781Z"
   },
   {
    "duration": 14,
    "start_time": "2024-06-16T21:34:08.791Z"
   },
   {
    "duration": 8,
    "start_time": "2024-06-16T21:34:08.806Z"
   },
   {
    "duration": 4,
    "start_time": "2024-06-16T21:34:08.817Z"
   },
   {
    "duration": 26753,
    "start_time": "2024-06-16T21:34:08.823Z"
   },
   {
    "duration": 0,
    "start_time": "2024-06-16T21:34:35.578Z"
   },
   {
    "duration": 0,
    "start_time": "2024-06-16T21:34:35.579Z"
   },
   {
    "duration": 0,
    "start_time": "2024-06-16T21:34:35.580Z"
   },
   {
    "duration": 0,
    "start_time": "2024-06-16T21:34:35.582Z"
   },
   {
    "duration": 0,
    "start_time": "2024-06-16T21:34:35.584Z"
   },
   {
    "duration": 5103,
    "start_time": "2024-06-16T21:34:51.804Z"
   },
   {
    "duration": 1853,
    "start_time": "2024-06-16T21:34:56.910Z"
   },
   {
    "duration": 352,
    "start_time": "2024-06-16T21:34:58.764Z"
   },
   {
    "duration": 56,
    "start_time": "2024-06-16T21:34:59.119Z"
   },
   {
    "duration": 196,
    "start_time": "2024-06-16T21:34:59.177Z"
   },
   {
    "duration": 17,
    "start_time": "2024-06-16T21:34:59.375Z"
   },
   {
    "duration": 14,
    "start_time": "2024-06-16T21:34:59.394Z"
   },
   {
    "duration": 8,
    "start_time": "2024-06-16T21:34:59.409Z"
   },
   {
    "duration": 89,
    "start_time": "2024-06-16T21:34:59.419Z"
   },
   {
    "duration": 65,
    "start_time": "2024-06-16T21:34:59.511Z"
   },
   {
    "duration": 31,
    "start_time": "2024-06-16T21:34:59.578Z"
   },
   {
    "duration": 6083,
    "start_time": "2024-06-16T21:34:59.611Z"
   },
   {
    "duration": 12071,
    "start_time": "2024-06-16T21:35:05.695Z"
   },
   {
    "duration": 140,
    "start_time": "2024-06-16T21:35:17.768Z"
   },
   {
    "duration": 281,
    "start_time": "2024-06-16T21:35:17.909Z"
   },
   {
    "duration": 537,
    "start_time": "2024-06-16T21:35:18.191Z"
   },
   {
    "duration": 3,
    "start_time": "2024-06-16T21:35:18.729Z"
   },
   {
    "duration": 15,
    "start_time": "2024-06-16T21:35:18.734Z"
   },
   {
    "duration": 12,
    "start_time": "2024-06-16T21:35:18.751Z"
   },
   {
    "duration": 4,
    "start_time": "2024-06-16T21:35:18.765Z"
   },
   {
    "duration": 10,
    "start_time": "2024-06-16T21:35:18.770Z"
   },
   {
    "duration": 9,
    "start_time": "2024-06-16T21:35:18.781Z"
   },
   {
    "duration": 4,
    "start_time": "2024-06-16T21:35:18.791Z"
   },
   {
    "duration": 12,
    "start_time": "2024-06-16T21:35:18.797Z"
   },
   {
    "duration": 14,
    "start_time": "2024-06-16T21:35:18.811Z"
   },
   {
    "duration": 5,
    "start_time": "2024-06-16T21:35:18.827Z"
   },
   {
    "duration": 12,
    "start_time": "2024-06-16T21:35:18.834Z"
   },
   {
    "duration": 4,
    "start_time": "2024-06-16T21:35:18.857Z"
   },
   {
    "duration": 5049,
    "start_time": "2024-06-16T21:36:58.879Z"
   },
   {
    "duration": 1760,
    "start_time": "2024-06-16T21:37:03.930Z"
   },
   {
    "duration": 391,
    "start_time": "2024-06-16T21:37:05.692Z"
   },
   {
    "duration": 61,
    "start_time": "2024-06-16T21:37:06.086Z"
   },
   {
    "duration": 216,
    "start_time": "2024-06-16T21:37:06.149Z"
   },
   {
    "duration": 26,
    "start_time": "2024-06-16T21:37:06.367Z"
   },
   {
    "duration": 21,
    "start_time": "2024-06-16T21:37:06.395Z"
   },
   {
    "duration": 14,
    "start_time": "2024-06-16T21:37:06.418Z"
   },
   {
    "duration": 107,
    "start_time": "2024-06-16T21:37:06.434Z"
   },
   {
    "duration": 3333,
    "start_time": "2024-06-16T21:37:06.555Z"
   },
   {
    "duration": 66,
    "start_time": "2024-06-16T21:37:09.889Z"
   },
   {
    "duration": 25,
    "start_time": "2024-06-16T21:37:09.957Z"
   },
   {
    "duration": 12918,
    "start_time": "2024-06-16T21:37:09.984Z"
   },
   {
    "duration": 147,
    "start_time": "2024-06-16T21:37:22.905Z"
   },
   {
    "duration": 313,
    "start_time": "2024-06-16T21:37:23.054Z"
   },
   {
    "duration": 538,
    "start_time": "2024-06-16T21:37:23.369Z"
   },
   {
    "duration": 3,
    "start_time": "2024-06-16T21:37:23.909Z"
   },
   {
    "duration": 28,
    "start_time": "2024-06-16T21:37:23.913Z"
   },
   {
    "duration": 26,
    "start_time": "2024-06-16T21:37:23.943Z"
   },
   {
    "duration": 14,
    "start_time": "2024-06-16T21:37:23.971Z"
   },
   {
    "duration": 12,
    "start_time": "2024-06-16T21:37:23.986Z"
   },
   {
    "duration": 68,
    "start_time": "2024-06-16T21:37:23.999Z"
   },
   {
    "duration": 36,
    "start_time": "2024-06-16T21:37:24.069Z"
   },
   {
    "duration": 15,
    "start_time": "2024-06-16T21:37:24.106Z"
   },
   {
    "duration": 17,
    "start_time": "2024-06-16T21:37:24.123Z"
   },
   {
    "duration": 54,
    "start_time": "2024-06-16T21:37:24.142Z"
   },
   {
    "duration": 18,
    "start_time": "2024-06-16T21:37:24.198Z"
   },
   {
    "duration": 22,
    "start_time": "2024-06-16T21:37:24.218Z"
   },
   {
    "duration": 222064,
    "start_time": "2024-06-16T21:37:24.242Z"
   },
   {
    "duration": 0,
    "start_time": "2024-06-16T21:41:06.307Z"
   },
   {
    "duration": 0,
    "start_time": "2024-06-16T21:41:06.309Z"
   },
   {
    "duration": 0,
    "start_time": "2024-06-16T21:41:06.310Z"
   },
   {
    "duration": 0,
    "start_time": "2024-06-16T21:41:06.311Z"
   },
   {
    "duration": 5009,
    "start_time": "2024-06-16T21:43:50.363Z"
   },
   {
    "duration": 1702,
    "start_time": "2024-06-16T21:43:55.375Z"
   },
   {
    "duration": 358,
    "start_time": "2024-06-16T21:43:57.079Z"
   },
   {
    "duration": 77,
    "start_time": "2024-06-16T21:43:57.439Z"
   },
   {
    "duration": 194,
    "start_time": "2024-06-16T21:43:57.518Z"
   },
   {
    "duration": 18,
    "start_time": "2024-06-16T21:43:57.713Z"
   },
   {
    "duration": 26,
    "start_time": "2024-06-16T21:43:57.733Z"
   },
   {
    "duration": 20,
    "start_time": "2024-06-16T21:43:57.761Z"
   },
   {
    "duration": 73,
    "start_time": "2024-06-16T21:43:57.782Z"
   },
   {
    "duration": 3330,
    "start_time": "2024-06-16T21:43:57.859Z"
   },
   {
    "duration": 65,
    "start_time": "2024-06-16T21:44:01.190Z"
   },
   {
    "duration": 27,
    "start_time": "2024-06-16T21:44:01.257Z"
   },
   {
    "duration": 12171,
    "start_time": "2024-06-16T21:44:01.286Z"
   },
   {
    "duration": 149,
    "start_time": "2024-06-16T21:44:13.459Z"
   },
   {
    "duration": 284,
    "start_time": "2024-06-16T21:44:13.610Z"
   },
   {
    "duration": 505,
    "start_time": "2024-06-16T21:44:13.897Z"
   },
   {
    "duration": 3,
    "start_time": "2024-06-16T21:44:14.404Z"
   },
   {
    "duration": 9,
    "start_time": "2024-06-16T21:44:14.409Z"
   },
   {
    "duration": 4,
    "start_time": "2024-06-16T21:44:14.420Z"
   },
   {
    "duration": 4,
    "start_time": "2024-06-16T21:44:14.426Z"
   },
   {
    "duration": 26,
    "start_time": "2024-06-16T21:44:14.431Z"
   },
   {
    "duration": 14,
    "start_time": "2024-06-16T21:44:14.459Z"
   },
   {
    "duration": 4,
    "start_time": "2024-06-16T21:44:14.475Z"
   },
   {
    "duration": 6,
    "start_time": "2024-06-16T21:44:14.480Z"
   },
   {
    "duration": 5,
    "start_time": "2024-06-16T21:44:14.488Z"
   },
   {
    "duration": 16,
    "start_time": "2024-06-16T21:44:14.495Z"
   },
   {
    "duration": 6,
    "start_time": "2024-06-16T21:44:14.512Z"
   },
   {
    "duration": 4,
    "start_time": "2024-06-16T21:44:14.521Z"
   },
   {
    "duration": 5310,
    "start_time": "2024-06-16T21:57:39.723Z"
   },
   {
    "duration": 1795,
    "start_time": "2024-06-16T21:57:45.035Z"
   },
   {
    "duration": 612,
    "start_time": "2024-06-16T21:57:46.831Z"
   },
   {
    "duration": 70,
    "start_time": "2024-06-16T21:57:47.445Z"
   },
   {
    "duration": 208,
    "start_time": "2024-06-16T21:57:47.517Z"
   },
   {
    "duration": 18,
    "start_time": "2024-06-16T21:57:47.727Z"
   },
   {
    "duration": 27,
    "start_time": "2024-06-16T21:57:47.747Z"
   },
   {
    "duration": 7,
    "start_time": "2024-06-16T21:57:47.775Z"
   },
   {
    "duration": 109,
    "start_time": "2024-06-16T21:57:47.784Z"
   },
   {
    "duration": 22,
    "start_time": "2024-06-16T21:57:47.897Z"
   },
   {
    "duration": 7558,
    "start_time": "2024-06-16T21:57:47.921Z"
   },
   {
    "duration": 57,
    "start_time": "2024-06-16T21:57:55.481Z"
   },
   {
    "duration": 46,
    "start_time": "2024-06-16T21:57:55.539Z"
   },
   {
    "duration": 12201,
    "start_time": "2024-06-16T21:57:55.587Z"
   },
   {
    "duration": 148,
    "start_time": "2024-06-16T21:58:07.789Z"
   },
   {
    "duration": 298,
    "start_time": "2024-06-16T21:58:07.938Z"
   },
   {
    "duration": 553,
    "start_time": "2024-06-16T21:58:08.238Z"
   },
   {
    "duration": 3,
    "start_time": "2024-06-16T21:58:08.793Z"
   },
   {
    "duration": 6,
    "start_time": "2024-06-16T21:58:08.797Z"
   },
   {
    "duration": 9,
    "start_time": "2024-06-16T21:58:08.804Z"
   },
   {
    "duration": 5,
    "start_time": "2024-06-16T21:58:08.815Z"
   },
   {
    "duration": 8,
    "start_time": "2024-06-16T21:58:08.822Z"
   },
   {
    "duration": 5,
    "start_time": "2024-06-16T21:58:08.831Z"
   },
   {
    "duration": 14,
    "start_time": "2024-06-16T21:58:08.856Z"
   },
   {
    "duration": 4,
    "start_time": "2024-06-16T21:58:08.874Z"
   },
   {
    "duration": 7,
    "start_time": "2024-06-16T21:58:08.880Z"
   },
   {
    "duration": 6,
    "start_time": "2024-06-16T21:58:08.889Z"
   },
   {
    "duration": 8,
    "start_time": "2024-06-16T21:58:08.899Z"
   },
   {
    "duration": 18,
    "start_time": "2024-06-16T21:58:08.909Z"
   },
   {
    "duration": 44977,
    "start_time": "2024-06-16T21:58:08.928Z"
   },
   {
    "duration": 0,
    "start_time": "2024-06-16T21:58:53.908Z"
   },
   {
    "duration": 0,
    "start_time": "2024-06-16T21:58:53.909Z"
   },
   {
    "duration": 0,
    "start_time": "2024-06-16T21:58:53.911Z"
   },
   {
    "duration": 0,
    "start_time": "2024-06-16T21:58:53.912Z"
   },
   {
    "duration": 0,
    "start_time": "2024-06-16T21:58:53.913Z"
   },
   {
    "duration": 0,
    "start_time": "2024-06-16T21:58:53.915Z"
   },
   {
    "duration": 5248,
    "start_time": "2024-06-16T22:00:49.748Z"
   },
   {
    "duration": 1771,
    "start_time": "2024-06-16T22:00:54.998Z"
   },
   {
    "duration": 401,
    "start_time": "2024-06-16T22:00:56.771Z"
   },
   {
    "duration": 64,
    "start_time": "2024-06-16T22:00:57.175Z"
   },
   {
    "duration": 204,
    "start_time": "2024-06-16T22:00:57.241Z"
   },
   {
    "duration": 25,
    "start_time": "2024-06-16T22:00:57.446Z"
   },
   {
    "duration": 24,
    "start_time": "2024-06-16T22:00:57.473Z"
   },
   {
    "duration": 11,
    "start_time": "2024-06-16T22:00:57.500Z"
   },
   {
    "duration": 86,
    "start_time": "2024-06-16T22:00:57.513Z"
   },
   {
    "duration": 1135,
    "start_time": "2024-06-16T22:00:57.602Z"
   },
   {
    "duration": 0,
    "start_time": "2024-06-16T22:00:58.740Z"
   },
   {
    "duration": 0,
    "start_time": "2024-06-16T22:00:58.741Z"
   },
   {
    "duration": 0,
    "start_time": "2024-06-16T22:00:58.743Z"
   },
   {
    "duration": 0,
    "start_time": "2024-06-16T22:00:58.744Z"
   },
   {
    "duration": 0,
    "start_time": "2024-06-16T22:00:58.745Z"
   },
   {
    "duration": 0,
    "start_time": "2024-06-16T22:00:58.747Z"
   },
   {
    "duration": 0,
    "start_time": "2024-06-16T22:00:58.748Z"
   },
   {
    "duration": 0,
    "start_time": "2024-06-16T22:00:58.750Z"
   },
   {
    "duration": 0,
    "start_time": "2024-06-16T22:00:58.755Z"
   },
   {
    "duration": 0,
    "start_time": "2024-06-16T22:00:58.757Z"
   },
   {
    "duration": 0,
    "start_time": "2024-06-16T22:00:58.758Z"
   },
   {
    "duration": 0,
    "start_time": "2024-06-16T22:00:58.765Z"
   },
   {
    "duration": 0,
    "start_time": "2024-06-16T22:00:58.771Z"
   },
   {
    "duration": 0,
    "start_time": "2024-06-16T22:00:58.772Z"
   },
   {
    "duration": 0,
    "start_time": "2024-06-16T22:00:58.773Z"
   },
   {
    "duration": 0,
    "start_time": "2024-06-16T22:00:58.774Z"
   },
   {
    "duration": 0,
    "start_time": "2024-06-16T22:00:58.775Z"
   },
   {
    "duration": 0,
    "start_time": "2024-06-16T22:00:58.776Z"
   },
   {
    "duration": 0,
    "start_time": "2024-06-16T22:00:58.777Z"
   },
   {
    "duration": 0,
    "start_time": "2024-06-16T22:00:58.778Z"
   },
   {
    "duration": 0,
    "start_time": "2024-06-16T22:00:58.779Z"
   },
   {
    "duration": 0,
    "start_time": "2024-06-16T22:00:58.780Z"
   },
   {
    "duration": 0,
    "start_time": "2024-06-16T22:00:58.781Z"
   },
   {
    "duration": 0,
    "start_time": "2024-06-16T22:00:58.782Z"
   },
   {
    "duration": 0,
    "start_time": "2024-06-16T22:00:58.783Z"
   },
   {
    "duration": 0,
    "start_time": "2024-06-16T22:00:58.784Z"
   },
   {
    "duration": 24,
    "start_time": "2024-06-16T22:01:27.137Z"
   },
   {
    "duration": 5298,
    "start_time": "2024-06-16T22:03:34.611Z"
   },
   {
    "duration": 1724,
    "start_time": "2024-06-16T22:03:39.911Z"
   },
   {
    "duration": 389,
    "start_time": "2024-06-16T22:03:41.637Z"
   },
   {
    "duration": 60,
    "start_time": "2024-06-16T22:03:42.028Z"
   },
   {
    "duration": 220,
    "start_time": "2024-06-16T22:03:42.089Z"
   },
   {
    "duration": 17,
    "start_time": "2024-06-16T22:03:42.311Z"
   },
   {
    "duration": 13,
    "start_time": "2024-06-16T22:03:42.330Z"
   },
   {
    "duration": 7,
    "start_time": "2024-06-16T22:03:42.358Z"
   },
   {
    "duration": 64,
    "start_time": "2024-06-16T22:03:42.368Z"
   },
   {
    "duration": 40,
    "start_time": "2024-06-16T22:03:42.435Z"
   },
   {
    "duration": 5533,
    "start_time": "2024-06-16T22:04:02.872Z"
   },
   {
    "duration": 1914,
    "start_time": "2024-06-16T22:04:08.407Z"
   },
   {
    "duration": 389,
    "start_time": "2024-06-16T22:04:10.323Z"
   },
   {
    "duration": 66,
    "start_time": "2024-06-16T22:04:10.714Z"
   },
   {
    "duration": 201,
    "start_time": "2024-06-16T22:04:10.781Z"
   },
   {
    "duration": 18,
    "start_time": "2024-06-16T22:04:10.984Z"
   },
   {
    "duration": 13,
    "start_time": "2024-06-16T22:04:11.004Z"
   },
   {
    "duration": 10,
    "start_time": "2024-06-16T22:04:11.019Z"
   },
   {
    "duration": 96,
    "start_time": "2024-06-16T22:04:11.031Z"
   },
   {
    "duration": 45,
    "start_time": "2024-06-16T22:04:11.129Z"
   },
   {
    "duration": 5378,
    "start_time": "2024-06-16T22:04:29.817Z"
   },
   {
    "duration": 1811,
    "start_time": "2024-06-16T22:04:35.198Z"
   },
   {
    "duration": 361,
    "start_time": "2024-06-16T22:04:37.011Z"
   },
   {
    "duration": 57,
    "start_time": "2024-06-16T22:04:37.374Z"
   },
   {
    "duration": 207,
    "start_time": "2024-06-16T22:04:37.433Z"
   },
   {
    "duration": 29,
    "start_time": "2024-06-16T22:04:37.641Z"
   },
   {
    "duration": 14,
    "start_time": "2024-06-16T22:04:37.672Z"
   },
   {
    "duration": 7,
    "start_time": "2024-06-16T22:04:37.688Z"
   },
   {
    "duration": 93,
    "start_time": "2024-06-16T22:04:37.697Z"
   },
   {
    "duration": 22,
    "start_time": "2024-06-16T22:04:37.793Z"
   },
   {
    "duration": 5390,
    "start_time": "2024-06-16T22:05:08.110Z"
   },
   {
    "duration": 1740,
    "start_time": "2024-06-16T22:05:13.503Z"
   },
   {
    "duration": 390,
    "start_time": "2024-06-16T22:05:15.245Z"
   },
   {
    "duration": 65,
    "start_time": "2024-06-16T22:05:15.637Z"
   },
   {
    "duration": 213,
    "start_time": "2024-06-16T22:05:15.703Z"
   },
   {
    "duration": 18,
    "start_time": "2024-06-16T22:05:15.918Z"
   },
   {
    "duration": 35,
    "start_time": "2024-06-16T22:05:15.938Z"
   },
   {
    "duration": 13,
    "start_time": "2024-06-16T22:05:15.975Z"
   },
   {
    "duration": 84,
    "start_time": "2024-06-16T22:05:15.990Z"
   },
   {
    "duration": 27,
    "start_time": "2024-06-16T22:05:16.078Z"
   },
   {
    "duration": 21934,
    "start_time": "2024-06-16T22:05:16.106Z"
   },
   {
    "duration": 73,
    "start_time": "2024-06-16T22:05:38.042Z"
   },
   {
    "duration": 29,
    "start_time": "2024-06-16T22:05:38.116Z"
   },
   {
    "duration": 12638,
    "start_time": "2024-06-16T22:05:38.147Z"
   },
   {
    "duration": 144,
    "start_time": "2024-06-16T22:05:50.787Z"
   },
   {
    "duration": 300,
    "start_time": "2024-06-16T22:05:50.933Z"
   },
   {
    "duration": 552,
    "start_time": "2024-06-16T22:05:51.235Z"
   },
   {
    "duration": 2,
    "start_time": "2024-06-16T22:05:51.789Z"
   },
   {
    "duration": 23,
    "start_time": "2024-06-16T22:05:51.793Z"
   },
   {
    "duration": 19,
    "start_time": "2024-06-16T22:05:51.817Z"
   },
   {
    "duration": 7,
    "start_time": "2024-06-16T22:05:51.837Z"
   },
   {
    "duration": 31,
    "start_time": "2024-06-16T22:05:51.846Z"
   },
   {
    "duration": 18,
    "start_time": "2024-06-16T22:05:51.878Z"
   },
   {
    "duration": 18,
    "start_time": "2024-06-16T22:05:51.898Z"
   },
   {
    "duration": 16,
    "start_time": "2024-06-16T22:05:51.918Z"
   },
   {
    "duration": 34,
    "start_time": "2024-06-16T22:05:51.935Z"
   },
   {
    "duration": 7,
    "start_time": "2024-06-16T22:05:51.971Z"
   },
   {
    "duration": 4,
    "start_time": "2024-06-16T22:05:51.981Z"
   },
   {
    "duration": 5,
    "start_time": "2024-06-16T22:05:51.986Z"
   },
   {
    "duration": 44936,
    "start_time": "2024-06-16T22:05:51.993Z"
   },
   {
    "duration": 0,
    "start_time": "2024-06-16T22:06:36.931Z"
   },
   {
    "duration": 0,
    "start_time": "2024-06-16T22:06:36.933Z"
   },
   {
    "duration": 0,
    "start_time": "2024-06-16T22:06:36.934Z"
   },
   {
    "duration": 0,
    "start_time": "2024-06-16T22:06:36.936Z"
   },
   {
    "duration": 0,
    "start_time": "2024-06-16T22:06:36.937Z"
   },
   {
    "duration": 0,
    "start_time": "2024-06-16T22:06:36.938Z"
   },
   {
    "duration": 5112,
    "start_time": "2024-06-16T22:12:18.241Z"
   },
   {
    "duration": 1705,
    "start_time": "2024-06-16T22:12:23.355Z"
   },
   {
    "duration": 412,
    "start_time": "2024-06-16T22:12:25.062Z"
   },
   {
    "duration": 54,
    "start_time": "2024-06-16T22:12:25.476Z"
   },
   {
    "duration": 179,
    "start_time": "2024-06-16T22:12:25.531Z"
   },
   {
    "duration": 17,
    "start_time": "2024-06-16T22:12:25.711Z"
   },
   {
    "duration": 26,
    "start_time": "2024-06-16T22:12:25.730Z"
   },
   {
    "duration": 18,
    "start_time": "2024-06-16T22:12:25.757Z"
   },
   {
    "duration": 66,
    "start_time": "2024-06-16T22:12:25.777Z"
   },
   {
    "duration": 154,
    "start_time": "2024-06-16T22:12:25.854Z"
   },
   {
    "duration": 0,
    "start_time": "2024-06-16T22:12:26.009Z"
   },
   {
    "duration": 0,
    "start_time": "2024-06-16T22:12:26.011Z"
   },
   {
    "duration": 0,
    "start_time": "2024-06-16T22:12:26.011Z"
   },
   {
    "duration": 0,
    "start_time": "2024-06-16T22:12:26.013Z"
   },
   {
    "duration": 0,
    "start_time": "2024-06-16T22:12:26.014Z"
   },
   {
    "duration": 0,
    "start_time": "2024-06-16T22:12:26.015Z"
   },
   {
    "duration": 0,
    "start_time": "2024-06-16T22:12:26.016Z"
   },
   {
    "duration": 0,
    "start_time": "2024-06-16T22:12:26.017Z"
   },
   {
    "duration": 0,
    "start_time": "2024-06-16T22:12:26.018Z"
   },
   {
    "duration": 0,
    "start_time": "2024-06-16T22:12:26.019Z"
   },
   {
    "duration": 0,
    "start_time": "2024-06-16T22:12:26.020Z"
   },
   {
    "duration": 0,
    "start_time": "2024-06-16T22:12:26.021Z"
   },
   {
    "duration": 0,
    "start_time": "2024-06-16T22:12:26.022Z"
   },
   {
    "duration": 0,
    "start_time": "2024-06-16T22:12:26.023Z"
   },
   {
    "duration": 0,
    "start_time": "2024-06-16T22:12:26.024Z"
   },
   {
    "duration": 0,
    "start_time": "2024-06-16T22:12:26.056Z"
   },
   {
    "duration": 0,
    "start_time": "2024-06-16T22:12:26.057Z"
   },
   {
    "duration": 0,
    "start_time": "2024-06-16T22:12:26.058Z"
   },
   {
    "duration": 0,
    "start_time": "2024-06-16T22:12:26.059Z"
   },
   {
    "duration": 0,
    "start_time": "2024-06-16T22:12:26.061Z"
   },
   {
    "duration": 0,
    "start_time": "2024-06-16T22:12:26.063Z"
   },
   {
    "duration": 0,
    "start_time": "2024-06-16T22:12:26.064Z"
   },
   {
    "duration": 0,
    "start_time": "2024-06-16T22:12:26.065Z"
   },
   {
    "duration": 0,
    "start_time": "2024-06-16T22:12:26.066Z"
   },
   {
    "duration": 0,
    "start_time": "2024-06-16T22:12:26.067Z"
   },
   {
    "duration": 0,
    "start_time": "2024-06-16T22:12:26.068Z"
   },
   {
    "duration": 11,
    "start_time": "2024-06-16T22:14:53.361Z"
   },
   {
    "duration": 5055,
    "start_time": "2024-06-16T22:16:30.878Z"
   },
   {
    "duration": 1775,
    "start_time": "2024-06-16T22:16:35.935Z"
   },
   {
    "duration": 344,
    "start_time": "2024-06-16T22:16:37.712Z"
   },
   {
    "duration": 57,
    "start_time": "2024-06-16T22:16:38.058Z"
   },
   {
    "duration": 201,
    "start_time": "2024-06-16T22:16:38.116Z"
   },
   {
    "duration": 18,
    "start_time": "2024-06-16T22:16:38.318Z"
   },
   {
    "duration": 22,
    "start_time": "2024-06-16T22:16:38.338Z"
   },
   {
    "duration": 12,
    "start_time": "2024-06-16T22:16:38.362Z"
   },
   {
    "duration": 81,
    "start_time": "2024-06-16T22:16:38.375Z"
   },
   {
    "duration": 11,
    "start_time": "2024-06-16T22:16:38.460Z"
   },
   {
    "duration": 6,
    "start_time": "2024-06-16T22:16:38.473Z"
   },
   {
    "duration": 0,
    "start_time": "2024-06-16T22:16:38.480Z"
   },
   {
    "duration": 0,
    "start_time": "2024-06-16T22:16:38.482Z"
   },
   {
    "duration": 0,
    "start_time": "2024-06-16T22:16:38.483Z"
   },
   {
    "duration": 0,
    "start_time": "2024-06-16T22:16:38.485Z"
   },
   {
    "duration": 0,
    "start_time": "2024-06-16T22:16:38.486Z"
   },
   {
    "duration": 0,
    "start_time": "2024-06-16T22:16:38.487Z"
   },
   {
    "duration": 0,
    "start_time": "2024-06-16T22:16:38.488Z"
   },
   {
    "duration": 0,
    "start_time": "2024-06-16T22:16:38.490Z"
   },
   {
    "duration": 0,
    "start_time": "2024-06-16T22:16:38.491Z"
   },
   {
    "duration": 0,
    "start_time": "2024-06-16T22:16:38.492Z"
   },
   {
    "duration": 0,
    "start_time": "2024-06-16T22:16:38.493Z"
   },
   {
    "duration": 0,
    "start_time": "2024-06-16T22:16:38.494Z"
   },
   {
    "duration": 0,
    "start_time": "2024-06-16T22:16:38.496Z"
   },
   {
    "duration": 0,
    "start_time": "2024-06-16T22:16:38.497Z"
   },
   {
    "duration": 0,
    "start_time": "2024-06-16T22:16:38.499Z"
   },
   {
    "duration": 0,
    "start_time": "2024-06-16T22:16:38.500Z"
   },
   {
    "duration": 1,
    "start_time": "2024-06-16T22:16:38.501Z"
   },
   {
    "duration": 0,
    "start_time": "2024-06-16T22:16:38.503Z"
   },
   {
    "duration": 0,
    "start_time": "2024-06-16T22:16:38.555Z"
   },
   {
    "duration": 0,
    "start_time": "2024-06-16T22:16:38.556Z"
   },
   {
    "duration": 0,
    "start_time": "2024-06-16T22:16:38.558Z"
   },
   {
    "duration": 0,
    "start_time": "2024-06-16T22:16:38.559Z"
   },
   {
    "duration": 0,
    "start_time": "2024-06-16T22:16:38.560Z"
   },
   {
    "duration": 0,
    "start_time": "2024-06-16T22:16:38.561Z"
   },
   {
    "duration": 0,
    "start_time": "2024-06-16T22:16:38.562Z"
   },
   {
    "duration": 0,
    "start_time": "2024-06-16T22:16:38.563Z"
   },
   {
    "duration": 131,
    "start_time": "2024-06-16T22:16:50.488Z"
   },
   {
    "duration": 5085,
    "start_time": "2024-06-16T22:29:20.992Z"
   },
   {
    "duration": 1675,
    "start_time": "2024-06-16T22:29:26.080Z"
   },
   {
    "duration": 433,
    "start_time": "2024-06-16T22:29:27.757Z"
   },
   {
    "duration": 57,
    "start_time": "2024-06-16T22:29:28.192Z"
   },
   {
    "duration": 198,
    "start_time": "2024-06-16T22:29:28.251Z"
   },
   {
    "duration": 19,
    "start_time": "2024-06-16T22:29:28.450Z"
   },
   {
    "duration": 14,
    "start_time": "2024-06-16T22:29:28.470Z"
   },
   {
    "duration": 9,
    "start_time": "2024-06-16T22:29:28.486Z"
   },
   {
    "duration": 93,
    "start_time": "2024-06-16T22:29:28.496Z"
   },
   {
    "duration": 12,
    "start_time": "2024-06-16T22:29:28.593Z"
   },
   {
    "duration": 26,
    "start_time": "2024-06-16T22:29:28.606Z"
   },
   {
    "duration": 68,
    "start_time": "2024-06-16T22:29:28.633Z"
   },
   {
    "duration": 1082,
    "start_time": "2024-06-16T22:29:28.703Z"
   },
   {
    "duration": 0,
    "start_time": "2024-06-16T22:29:29.787Z"
   },
   {
    "duration": 0,
    "start_time": "2024-06-16T22:29:29.789Z"
   },
   {
    "duration": 0,
    "start_time": "2024-06-16T22:29:29.790Z"
   },
   {
    "duration": 0,
    "start_time": "2024-06-16T22:29:29.792Z"
   },
   {
    "duration": 0,
    "start_time": "2024-06-16T22:29:29.793Z"
   },
   {
    "duration": 0,
    "start_time": "2024-06-16T22:29:29.795Z"
   },
   {
    "duration": 0,
    "start_time": "2024-06-16T22:29:29.796Z"
   },
   {
    "duration": 0,
    "start_time": "2024-06-16T22:29:29.797Z"
   },
   {
    "duration": 0,
    "start_time": "2024-06-16T22:29:29.799Z"
   },
   {
    "duration": 0,
    "start_time": "2024-06-16T22:29:29.800Z"
   },
   {
    "duration": 0,
    "start_time": "2024-06-16T22:29:29.803Z"
   },
   {
    "duration": 0,
    "start_time": "2024-06-16T22:29:29.804Z"
   },
   {
    "duration": 0,
    "start_time": "2024-06-16T22:29:29.805Z"
   },
   {
    "duration": 0,
    "start_time": "2024-06-16T22:29:29.806Z"
   },
   {
    "duration": 0,
    "start_time": "2024-06-16T22:29:29.807Z"
   },
   {
    "duration": 0,
    "start_time": "2024-06-16T22:29:29.808Z"
   },
   {
    "duration": 0,
    "start_time": "2024-06-16T22:29:29.809Z"
   },
   {
    "duration": 0,
    "start_time": "2024-06-16T22:29:29.811Z"
   },
   {
    "duration": 0,
    "start_time": "2024-06-16T22:29:29.812Z"
   },
   {
    "duration": 0,
    "start_time": "2024-06-16T22:29:29.814Z"
   },
   {
    "duration": 0,
    "start_time": "2024-06-16T22:29:29.815Z"
   },
   {
    "duration": 0,
    "start_time": "2024-06-16T22:29:29.817Z"
   },
   {
    "duration": 0,
    "start_time": "2024-06-16T22:29:29.818Z"
   },
   {
    "duration": 0,
    "start_time": "2024-06-16T22:29:29.820Z"
   },
   {
    "duration": 0,
    "start_time": "2024-06-16T22:29:29.821Z"
   },
   {
    "duration": 0,
    "start_time": "2024-06-16T22:29:29.823Z"
   },
   {
    "duration": 6,
    "start_time": "2024-06-16T22:30:50.888Z"
   },
   {
    "duration": 5196,
    "start_time": "2024-06-16T22:32:07.908Z"
   },
   {
    "duration": 1786,
    "start_time": "2024-06-16T22:32:13.106Z"
   },
   {
    "duration": 378,
    "start_time": "2024-06-16T22:32:14.894Z"
   },
   {
    "duration": 59,
    "start_time": "2024-06-16T22:32:15.275Z"
   },
   {
    "duration": 201,
    "start_time": "2024-06-16T22:32:15.337Z"
   },
   {
    "duration": 23,
    "start_time": "2024-06-16T22:32:15.539Z"
   },
   {
    "duration": 14,
    "start_time": "2024-06-16T22:32:15.564Z"
   },
   {
    "duration": 11,
    "start_time": "2024-06-16T22:32:15.579Z"
   },
   {
    "duration": 89,
    "start_time": "2024-06-16T22:32:15.593Z"
   },
   {
    "duration": 11,
    "start_time": "2024-06-16T22:32:15.685Z"
   },
   {
    "duration": 24,
    "start_time": "2024-06-16T22:32:15.698Z"
   },
   {
    "duration": 73,
    "start_time": "2024-06-16T22:32:15.724Z"
   },
   {
    "duration": 6,
    "start_time": "2024-06-16T22:32:15.799Z"
   },
   {
    "duration": 124610,
    "start_time": "2024-06-16T22:32:15.807Z"
   },
   {
    "duration": 158,
    "start_time": "2024-06-16T22:34:20.418Z"
   },
   {
    "duration": 0,
    "start_time": "2024-06-16T22:34:20.579Z"
   },
   {
    "duration": 0,
    "start_time": "2024-06-16T22:34:20.580Z"
   },
   {
    "duration": 0,
    "start_time": "2024-06-16T22:34:20.581Z"
   },
   {
    "duration": 0,
    "start_time": "2024-06-16T22:34:20.583Z"
   },
   {
    "duration": 0,
    "start_time": "2024-06-16T22:34:20.584Z"
   },
   {
    "duration": 0,
    "start_time": "2024-06-16T22:34:20.585Z"
   },
   {
    "duration": 0,
    "start_time": "2024-06-16T22:34:20.587Z"
   },
   {
    "duration": 0,
    "start_time": "2024-06-16T22:34:20.589Z"
   },
   {
    "duration": 0,
    "start_time": "2024-06-16T22:34:20.590Z"
   },
   {
    "duration": 0,
    "start_time": "2024-06-16T22:34:20.592Z"
   },
   {
    "duration": 0,
    "start_time": "2024-06-16T22:34:20.594Z"
   },
   {
    "duration": 1,
    "start_time": "2024-06-16T22:34:20.595Z"
   },
   {
    "duration": 0,
    "start_time": "2024-06-16T22:34:20.597Z"
   },
   {
    "duration": 0,
    "start_time": "2024-06-16T22:34:20.599Z"
   },
   {
    "duration": 0,
    "start_time": "2024-06-16T22:34:20.601Z"
   },
   {
    "duration": 0,
    "start_time": "2024-06-16T22:34:20.602Z"
   },
   {
    "duration": 0,
    "start_time": "2024-06-16T22:34:20.604Z"
   },
   {
    "duration": 0,
    "start_time": "2024-06-16T22:34:20.606Z"
   },
   {
    "duration": 0,
    "start_time": "2024-06-16T22:34:20.608Z"
   },
   {
    "duration": 0,
    "start_time": "2024-06-16T22:34:20.609Z"
   },
   {
    "duration": 0,
    "start_time": "2024-06-16T22:34:20.610Z"
   },
   {
    "duration": 0,
    "start_time": "2024-06-16T22:34:20.612Z"
   },
   {
    "duration": 0,
    "start_time": "2024-06-16T22:34:20.612Z"
   },
   {
    "duration": 0,
    "start_time": "2024-06-16T22:34:20.613Z"
   },
   {
    "duration": 5442,
    "start_time": "2024-06-16T22:35:29.233Z"
   },
   {
    "duration": 1810,
    "start_time": "2024-06-16T22:35:34.678Z"
   },
   {
    "duration": 365,
    "start_time": "2024-06-16T22:35:36.490Z"
   },
   {
    "duration": 60,
    "start_time": "2024-06-16T22:35:36.859Z"
   },
   {
    "duration": 214,
    "start_time": "2024-06-16T22:35:36.920Z"
   },
   {
    "duration": 29,
    "start_time": "2024-06-16T22:35:37.135Z"
   },
   {
    "duration": 14,
    "start_time": "2024-06-16T22:35:37.171Z"
   },
   {
    "duration": 13,
    "start_time": "2024-06-16T22:35:37.187Z"
   },
   {
    "duration": 111,
    "start_time": "2024-06-16T22:35:37.202Z"
   },
   {
    "duration": 12,
    "start_time": "2024-06-16T22:35:37.315Z"
   },
   {
    "duration": 50,
    "start_time": "2024-06-16T22:35:37.328Z"
   },
   {
    "duration": 59,
    "start_time": "2024-06-16T22:35:37.380Z"
   },
   {
    "duration": 68,
    "start_time": "2024-06-16T22:35:37.441Z"
   },
   {
    "duration": 6,
    "start_time": "2024-06-16T22:35:37.511Z"
   },
   {
    "duration": 5268,
    "start_time": "2024-06-16T22:35:57.780Z"
   },
   {
    "duration": 1750,
    "start_time": "2024-06-16T22:36:03.050Z"
   },
   {
    "duration": 339,
    "start_time": "2024-06-16T22:36:04.801Z"
   },
   {
    "duration": 74,
    "start_time": "2024-06-16T22:36:05.142Z"
   },
   {
    "duration": 203,
    "start_time": "2024-06-16T22:36:05.219Z"
   },
   {
    "duration": 33,
    "start_time": "2024-06-16T22:36:05.424Z"
   },
   {
    "duration": 19,
    "start_time": "2024-06-16T22:36:05.459Z"
   },
   {
    "duration": 10,
    "start_time": "2024-06-16T22:36:05.480Z"
   },
   {
    "duration": 108,
    "start_time": "2024-06-16T22:36:05.491Z"
   },
   {
    "duration": 12,
    "start_time": "2024-06-16T22:36:05.600Z"
   },
   {
    "duration": 42,
    "start_time": "2024-06-16T22:36:05.614Z"
   },
   {
    "duration": 60,
    "start_time": "2024-06-16T22:36:05.658Z"
   },
   {
    "duration": 70,
    "start_time": "2024-06-16T22:36:05.720Z"
   },
   {
    "duration": 25753,
    "start_time": "2024-06-16T22:36:05.793Z"
   },
   {
    "duration": 43,
    "start_time": "2024-06-16T22:36:31.547Z"
   },
   {
    "duration": 13167,
    "start_time": "2024-06-16T22:36:31.592Z"
   },
   {
    "duration": 145,
    "start_time": "2024-06-16T22:36:44.767Z"
   },
   {
    "duration": 298,
    "start_time": "2024-06-16T22:36:44.913Z"
   },
   {
    "duration": 539,
    "start_time": "2024-06-16T22:36:45.213Z"
   },
   {
    "duration": 12,
    "start_time": "2024-06-16T22:36:45.753Z"
   },
   {
    "duration": 7,
    "start_time": "2024-06-16T22:36:45.767Z"
   },
   {
    "duration": 17,
    "start_time": "2024-06-16T22:36:45.776Z"
   },
   {
    "duration": 7,
    "start_time": "2024-06-16T22:36:45.795Z"
   },
   {
    "duration": 12,
    "start_time": "2024-06-16T22:36:45.804Z"
   },
   {
    "duration": 4,
    "start_time": "2024-06-16T22:36:45.818Z"
   },
   {
    "duration": 15,
    "start_time": "2024-06-16T22:36:45.824Z"
   },
   {
    "duration": 9,
    "start_time": "2024-06-16T22:36:45.840Z"
   },
   {
    "duration": 20,
    "start_time": "2024-06-16T22:36:45.850Z"
   },
   {
    "duration": 4,
    "start_time": "2024-06-16T22:36:45.874Z"
   },
   {
    "duration": 14,
    "start_time": "2024-06-16T22:36:45.880Z"
   },
   {
    "duration": 29,
    "start_time": "2024-06-16T22:36:45.896Z"
   },
   {
    "duration": 45436,
    "start_time": "2024-06-16T22:36:45.927Z"
   },
   {
    "duration": 0,
    "start_time": "2024-06-16T22:37:31.366Z"
   },
   {
    "duration": 0,
    "start_time": "2024-06-16T22:37:31.367Z"
   },
   {
    "duration": 0,
    "start_time": "2024-06-16T22:37:31.368Z"
   },
   {
    "duration": 0,
    "start_time": "2024-06-16T22:37:31.370Z"
   },
   {
    "duration": 0,
    "start_time": "2024-06-16T22:37:31.371Z"
   },
   {
    "duration": 0,
    "start_time": "2024-06-16T22:37:31.372Z"
   },
   {
    "duration": 34,
    "start_time": "2024-06-16T22:38:26.256Z"
   },
   {
    "duration": 5365,
    "start_time": "2024-06-16T22:38:33.207Z"
   },
   {
    "duration": 1849,
    "start_time": "2024-06-16T22:38:38.576Z"
   },
   {
    "duration": 454,
    "start_time": "2024-06-16T22:38:40.426Z"
   },
   {
    "duration": 66,
    "start_time": "2024-06-16T22:38:40.882Z"
   },
   {
    "duration": 226,
    "start_time": "2024-06-16T22:38:40.950Z"
   },
   {
    "duration": 19,
    "start_time": "2024-06-16T22:38:41.177Z"
   },
   {
    "duration": 15,
    "start_time": "2024-06-16T22:38:41.198Z"
   },
   {
    "duration": 8,
    "start_time": "2024-06-16T22:38:41.214Z"
   },
   {
    "duration": 94,
    "start_time": "2024-06-16T22:38:41.223Z"
   },
   {
    "duration": 11,
    "start_time": "2024-06-16T22:38:41.320Z"
   },
   {
    "duration": 53,
    "start_time": "2024-06-16T22:38:41.332Z"
   },
   {
    "duration": 58,
    "start_time": "2024-06-16T22:38:41.386Z"
   },
   {
    "duration": 73,
    "start_time": "2024-06-16T22:38:41.455Z"
   },
   {
    "duration": 160,
    "start_time": "2024-06-16T22:38:41.530Z"
   },
   {
    "duration": 0,
    "start_time": "2024-06-16T22:38:41.692Z"
   },
   {
    "duration": 0,
    "start_time": "2024-06-16T22:38:41.693Z"
   },
   {
    "duration": 0,
    "start_time": "2024-06-16T22:38:41.694Z"
   },
   {
    "duration": 0,
    "start_time": "2024-06-16T22:38:41.696Z"
   },
   {
    "duration": 0,
    "start_time": "2024-06-16T22:38:41.697Z"
   },
   {
    "duration": 0,
    "start_time": "2024-06-16T22:38:41.698Z"
   },
   {
    "duration": 0,
    "start_time": "2024-06-16T22:38:41.700Z"
   },
   {
    "duration": 0,
    "start_time": "2024-06-16T22:38:41.701Z"
   },
   {
    "duration": 0,
    "start_time": "2024-06-16T22:38:41.702Z"
   },
   {
    "duration": 0,
    "start_time": "2024-06-16T22:38:41.703Z"
   },
   {
    "duration": 0,
    "start_time": "2024-06-16T22:38:41.704Z"
   },
   {
    "duration": 0,
    "start_time": "2024-06-16T22:38:41.705Z"
   },
   {
    "duration": 0,
    "start_time": "2024-06-16T22:38:41.707Z"
   },
   {
    "duration": 0,
    "start_time": "2024-06-16T22:38:41.708Z"
   },
   {
    "duration": 0,
    "start_time": "2024-06-16T22:38:41.709Z"
   },
   {
    "duration": 0,
    "start_time": "2024-06-16T22:38:41.710Z"
   },
   {
    "duration": 0,
    "start_time": "2024-06-16T22:38:41.711Z"
   },
   {
    "duration": 0,
    "start_time": "2024-06-16T22:38:41.712Z"
   },
   {
    "duration": 0,
    "start_time": "2024-06-16T22:38:41.713Z"
   },
   {
    "duration": 0,
    "start_time": "2024-06-16T22:38:41.715Z"
   },
   {
    "duration": 0,
    "start_time": "2024-06-16T22:38:41.716Z"
   },
   {
    "duration": 0,
    "start_time": "2024-06-16T22:38:41.717Z"
   },
   {
    "duration": 0,
    "start_time": "2024-06-16T22:38:41.755Z"
   },
   {
    "duration": 0,
    "start_time": "2024-06-16T22:38:41.756Z"
   },
   {
    "duration": 0,
    "start_time": "2024-06-16T22:38:41.757Z"
   },
   {
    "duration": 53,
    "start_time": "2024-06-16T22:39:25.474Z"
   },
   {
    "duration": 202966,
    "start_time": "2024-06-16T22:39:26.560Z"
   },
   {
    "duration": 5497,
    "start_time": "2024-06-16T22:44:38.995Z"
   },
   {
    "duration": 1852,
    "start_time": "2024-06-16T22:44:44.495Z"
   },
   {
    "duration": 400,
    "start_time": "2024-06-16T22:44:46.348Z"
   },
   {
    "duration": 91,
    "start_time": "2024-06-16T22:44:46.751Z"
   },
   {
    "duration": 265,
    "start_time": "2024-06-16T22:44:46.844Z"
   },
   {
    "duration": 25,
    "start_time": "2024-06-16T22:44:47.111Z"
   },
   {
    "duration": 37,
    "start_time": "2024-06-16T22:44:47.139Z"
   },
   {
    "duration": 18,
    "start_time": "2024-06-16T22:44:47.178Z"
   },
   {
    "duration": 89,
    "start_time": "2024-06-16T22:44:47.198Z"
   },
   {
    "duration": 11,
    "start_time": "2024-06-16T22:44:47.290Z"
   },
   {
    "duration": 21,
    "start_time": "2024-06-16T22:44:47.303Z"
   },
   {
    "duration": 98,
    "start_time": "2024-06-16T22:44:47.326Z"
   },
   {
    "duration": 68,
    "start_time": "2024-06-16T22:44:47.426Z"
   },
   {
    "duration": 124,
    "start_time": "2024-06-16T22:44:47.496Z"
   },
   {
    "duration": 512408,
    "start_time": "2024-06-16T22:44:47.621Z"
   },
   {
    "duration": 0,
    "start_time": "2024-06-16T22:53:20.031Z"
   },
   {
    "duration": 0,
    "start_time": "2024-06-16T22:53:20.032Z"
   },
   {
    "duration": 0,
    "start_time": "2024-06-16T22:53:20.033Z"
   },
   {
    "duration": 0,
    "start_time": "2024-06-16T22:53:20.035Z"
   },
   {
    "duration": 0,
    "start_time": "2024-06-16T22:53:20.036Z"
   },
   {
    "duration": 0,
    "start_time": "2024-06-16T22:53:20.037Z"
   },
   {
    "duration": 0,
    "start_time": "2024-06-16T22:53:20.038Z"
   },
   {
    "duration": 0,
    "start_time": "2024-06-16T22:53:20.059Z"
   },
   {
    "duration": 0,
    "start_time": "2024-06-16T22:53:20.060Z"
   },
   {
    "duration": 0,
    "start_time": "2024-06-16T22:53:20.061Z"
   },
   {
    "duration": 0,
    "start_time": "2024-06-16T22:53:20.062Z"
   },
   {
    "duration": 0,
    "start_time": "2024-06-16T22:53:20.063Z"
   },
   {
    "duration": 0,
    "start_time": "2024-06-16T22:53:20.064Z"
   },
   {
    "duration": 0,
    "start_time": "2024-06-16T22:53:20.065Z"
   },
   {
    "duration": 0,
    "start_time": "2024-06-16T22:53:20.066Z"
   },
   {
    "duration": 0,
    "start_time": "2024-06-16T22:53:20.067Z"
   },
   {
    "duration": 0,
    "start_time": "2024-06-16T22:53:20.068Z"
   },
   {
    "duration": 0,
    "start_time": "2024-06-16T22:53:20.069Z"
   },
   {
    "duration": 0,
    "start_time": "2024-06-16T22:53:20.070Z"
   },
   {
    "duration": 0,
    "start_time": "2024-06-16T22:53:20.072Z"
   },
   {
    "duration": 0,
    "start_time": "2024-06-16T22:53:20.073Z"
   },
   {
    "duration": 0,
    "start_time": "2024-06-16T22:53:20.074Z"
   },
   {
    "duration": 10431,
    "start_time": "2024-06-17T21:44:18.785Z"
   },
   {
    "duration": 1865,
    "start_time": "2024-06-17T21:44:29.218Z"
   },
   {
    "duration": 595,
    "start_time": "2024-06-17T21:44:31.085Z"
   },
   {
    "duration": 56,
    "start_time": "2024-06-17T21:44:31.682Z"
   },
   {
    "duration": 220,
    "start_time": "2024-06-17T21:44:31.740Z"
   },
   {
    "duration": 21,
    "start_time": "2024-06-17T21:44:31.962Z"
   },
   {
    "duration": 16,
    "start_time": "2024-06-17T21:44:31.985Z"
   },
   {
    "duration": 10,
    "start_time": "2024-06-17T21:44:32.002Z"
   },
   {
    "duration": 76,
    "start_time": "2024-06-17T21:44:32.013Z"
   },
   {
    "duration": 10,
    "start_time": "2024-06-17T21:44:32.091Z"
   },
   {
    "duration": 21,
    "start_time": "2024-06-17T21:44:32.102Z"
   },
   {
    "duration": 78,
    "start_time": "2024-06-17T21:44:32.124Z"
   },
   {
    "duration": 46,
    "start_time": "2024-06-17T21:44:32.204Z"
   },
   {
    "duration": 1067,
    "start_time": "2024-06-17T21:44:32.252Z"
   },
   {
    "duration": 0,
    "start_time": "2024-06-17T21:44:33.321Z"
   },
   {
    "duration": 0,
    "start_time": "2024-06-17T21:44:33.323Z"
   },
   {
    "duration": 0,
    "start_time": "2024-06-17T21:44:33.324Z"
   },
   {
    "duration": 0,
    "start_time": "2024-06-17T21:44:33.325Z"
   },
   {
    "duration": 0,
    "start_time": "2024-06-17T21:44:33.326Z"
   },
   {
    "duration": 0,
    "start_time": "2024-06-17T21:44:33.327Z"
   },
   {
    "duration": 0,
    "start_time": "2024-06-17T21:44:33.329Z"
   },
   {
    "duration": 0,
    "start_time": "2024-06-17T21:44:33.330Z"
   },
   {
    "duration": 0,
    "start_time": "2024-06-17T21:44:33.332Z"
   },
   {
    "duration": 0,
    "start_time": "2024-06-17T21:44:33.333Z"
   },
   {
    "duration": 0,
    "start_time": "2024-06-17T21:44:33.334Z"
   },
   {
    "duration": 0,
    "start_time": "2024-06-17T21:44:33.335Z"
   },
   {
    "duration": 0,
    "start_time": "2024-06-17T21:44:33.336Z"
   },
   {
    "duration": 0,
    "start_time": "2024-06-17T21:44:33.338Z"
   },
   {
    "duration": 0,
    "start_time": "2024-06-17T21:44:33.339Z"
   },
   {
    "duration": 0,
    "start_time": "2024-06-17T21:44:33.340Z"
   },
   {
    "duration": 0,
    "start_time": "2024-06-17T21:44:33.341Z"
   },
   {
    "duration": 0,
    "start_time": "2024-06-17T21:44:33.342Z"
   },
   {
    "duration": 0,
    "start_time": "2024-06-17T21:44:33.343Z"
   },
   {
    "duration": 0,
    "start_time": "2024-06-17T21:44:33.344Z"
   },
   {
    "duration": 0,
    "start_time": "2024-06-17T21:44:33.346Z"
   },
   {
    "duration": 0,
    "start_time": "2024-06-17T21:44:33.347Z"
   },
   {
    "duration": 0,
    "start_time": "2024-06-17T21:44:33.348Z"
   },
   {
    "duration": 1272,
    "start_time": "2024-06-17T21:46:15.063Z"
   },
   {
    "duration": 25,
    "start_time": "2024-06-17T21:47:07.925Z"
   },
   {
    "duration": 28,
    "start_time": "2024-06-17T21:48:28.221Z"
   },
   {
    "duration": 5019,
    "start_time": "2024-06-17T21:48:49.929Z"
   },
   {
    "duration": 1733,
    "start_time": "2024-06-17T21:48:54.951Z"
   },
   {
    "duration": 453,
    "start_time": "2024-06-17T21:48:56.686Z"
   },
   {
    "duration": 55,
    "start_time": "2024-06-17T21:48:57.141Z"
   },
   {
    "duration": 174,
    "start_time": "2024-06-17T21:48:57.197Z"
   },
   {
    "duration": 23,
    "start_time": "2024-06-17T21:48:57.372Z"
   },
   {
    "duration": 19,
    "start_time": "2024-06-17T21:48:57.397Z"
   },
   {
    "duration": 9,
    "start_time": "2024-06-17T21:48:57.417Z"
   },
   {
    "duration": 78,
    "start_time": "2024-06-17T21:48:57.428Z"
   },
   {
    "duration": 10,
    "start_time": "2024-06-17T21:48:57.508Z"
   },
   {
    "duration": 20,
    "start_time": "2024-06-17T21:48:57.519Z"
   },
   {
    "duration": 95,
    "start_time": "2024-06-17T21:48:57.541Z"
   },
   {
    "duration": 57,
    "start_time": "2024-06-17T21:48:57.637Z"
   },
   {
    "duration": 103,
    "start_time": "2024-06-17T21:48:57.696Z"
   },
   {
    "duration": 35,
    "start_time": "2024-06-17T21:48:57.800Z"
   },
   {
    "duration": 63,
    "start_time": "2024-06-17T21:48:57.836Z"
   },
   {
    "duration": 38,
    "start_time": "2024-06-17T21:48:57.902Z"
   },
   {
    "duration": 46,
    "start_time": "2024-06-17T21:48:57.944Z"
   },
   {
    "duration": 4,
    "start_time": "2024-06-17T21:48:57.992Z"
   },
   {
    "duration": 9,
    "start_time": "2024-06-17T21:48:57.998Z"
   },
   {
    "duration": 11,
    "start_time": "2024-06-17T21:48:58.009Z"
   },
   {
    "duration": 11,
    "start_time": "2024-06-17T21:48:58.022Z"
   },
   {
    "duration": 8,
    "start_time": "2024-06-17T21:48:58.034Z"
   },
   {
    "duration": 7,
    "start_time": "2024-06-17T21:48:58.044Z"
   },
   {
    "duration": 5,
    "start_time": "2024-06-17T21:48:58.053Z"
   },
   {
    "duration": 8,
    "start_time": "2024-06-17T21:48:58.059Z"
   },
   {
    "duration": 14,
    "start_time": "2024-06-17T21:48:58.068Z"
   },
   {
    "duration": 9,
    "start_time": "2024-06-17T21:48:58.085Z"
   },
   {
    "duration": 8,
    "start_time": "2024-06-17T21:48:58.095Z"
   },
   {
    "duration": 14,
    "start_time": "2024-06-17T21:48:58.104Z"
   },
   {
    "duration": 1489,
    "start_time": "2024-06-17T21:48:58.120Z"
   },
   {
    "duration": 0,
    "start_time": "2024-06-17T21:48:59.611Z"
   },
   {
    "duration": 0,
    "start_time": "2024-06-17T21:48:59.612Z"
   },
   {
    "duration": 0,
    "start_time": "2024-06-17T21:48:59.614Z"
   },
   {
    "duration": 0,
    "start_time": "2024-06-17T21:48:59.615Z"
   },
   {
    "duration": 0,
    "start_time": "2024-06-17T21:48:59.616Z"
   },
   {
    "duration": 5153,
    "start_time": "2024-06-17T21:49:29.786Z"
   },
   {
    "duration": 1686,
    "start_time": "2024-06-17T21:49:34.942Z"
   },
   {
    "duration": 505,
    "start_time": "2024-06-17T21:49:36.629Z"
   },
   {
    "duration": 52,
    "start_time": "2024-06-17T21:49:37.136Z"
   },
   {
    "duration": 175,
    "start_time": "2024-06-17T21:49:37.190Z"
   },
   {
    "duration": 24,
    "start_time": "2024-06-17T21:49:37.367Z"
   },
   {
    "duration": 12,
    "start_time": "2024-06-17T21:49:37.393Z"
   },
   {
    "duration": 13,
    "start_time": "2024-06-17T21:49:37.407Z"
   },
   {
    "duration": 87,
    "start_time": "2024-06-17T21:49:37.421Z"
   },
   {
    "duration": 10,
    "start_time": "2024-06-17T21:49:37.510Z"
   },
   {
    "duration": 24,
    "start_time": "2024-06-17T21:49:37.521Z"
   },
   {
    "duration": 73,
    "start_time": "2024-06-17T21:49:37.547Z"
   },
   {
    "duration": 67,
    "start_time": "2024-06-17T21:49:37.622Z"
   },
   {
    "duration": 24283,
    "start_time": "2024-06-17T21:49:37.691Z"
   },
   {
    "duration": 32,
    "start_time": "2024-06-17T21:50:01.976Z"
   },
   {
    "duration": 85,
    "start_time": "2024-06-17T21:50:02.010Z"
   },
   {
    "duration": 60,
    "start_time": "2024-06-17T21:50:02.097Z"
   },
   {
    "duration": 37,
    "start_time": "2024-06-17T21:50:02.159Z"
   },
   {
    "duration": 13,
    "start_time": "2024-06-17T21:50:02.198Z"
   },
   {
    "duration": 30,
    "start_time": "2024-06-17T21:50:02.213Z"
   },
   {
    "duration": 43,
    "start_time": "2024-06-17T21:50:02.245Z"
   },
   {
    "duration": 21,
    "start_time": "2024-06-17T21:50:02.290Z"
   },
   {
    "duration": 22,
    "start_time": "2024-06-17T21:50:02.313Z"
   },
   {
    "duration": 26,
    "start_time": "2024-06-17T21:50:02.337Z"
   },
   {
    "duration": 29,
    "start_time": "2024-06-17T21:50:02.365Z"
   },
   {
    "duration": 20,
    "start_time": "2024-06-17T21:50:02.396Z"
   },
   {
    "duration": 6,
    "start_time": "2024-06-17T21:50:02.418Z"
   },
   {
    "duration": 10,
    "start_time": "2024-06-17T21:50:02.427Z"
   },
   {
    "duration": 5,
    "start_time": "2024-06-17T21:50:02.439Z"
   },
   {
    "duration": 5,
    "start_time": "2024-06-17T21:50:02.445Z"
   },
   {
    "duration": 1524,
    "start_time": "2024-06-17T21:50:02.452Z"
   },
   {
    "duration": 0,
    "start_time": "2024-06-17T21:50:03.978Z"
   },
   {
    "duration": 0,
    "start_time": "2024-06-17T21:50:03.981Z"
   },
   {
    "duration": 0,
    "start_time": "2024-06-17T21:50:03.983Z"
   },
   {
    "duration": 0,
    "start_time": "2024-06-17T21:50:03.984Z"
   },
   {
    "duration": 0,
    "start_time": "2024-06-17T21:50:03.985Z"
   },
   {
    "duration": 4988,
    "start_time": "2024-06-17T21:51:15.417Z"
   },
   {
    "duration": 1693,
    "start_time": "2024-06-17T21:51:20.407Z"
   },
   {
    "duration": 338,
    "start_time": "2024-06-17T21:51:22.101Z"
   },
   {
    "duration": 66,
    "start_time": "2024-06-17T21:51:22.441Z"
   },
   {
    "duration": 209,
    "start_time": "2024-06-17T21:51:22.510Z"
   },
   {
    "duration": 19,
    "start_time": "2024-06-17T21:51:22.721Z"
   },
   {
    "duration": 13,
    "start_time": "2024-06-17T21:51:22.741Z"
   },
   {
    "duration": 26,
    "start_time": "2024-06-17T21:51:22.756Z"
   },
   {
    "duration": 81,
    "start_time": "2024-06-17T21:51:22.784Z"
   },
   {
    "duration": 25,
    "start_time": "2024-06-17T21:51:22.867Z"
   },
   {
    "duration": 20,
    "start_time": "2024-06-17T21:51:22.893Z"
   },
   {
    "duration": 75,
    "start_time": "2024-06-17T21:51:22.915Z"
   },
   {
    "duration": 49,
    "start_time": "2024-06-17T21:51:22.991Z"
   },
   {
    "duration": 12689,
    "start_time": "2024-06-17T21:51:23.044Z"
   },
   {
    "duration": 0,
    "start_time": "2024-06-17T21:51:35.735Z"
   },
   {
    "duration": 0,
    "start_time": "2024-06-17T21:51:35.736Z"
   },
   {
    "duration": 0,
    "start_time": "2024-06-17T21:51:35.737Z"
   },
   {
    "duration": 0,
    "start_time": "2024-06-17T21:51:35.738Z"
   },
   {
    "duration": 0,
    "start_time": "2024-06-17T21:51:35.739Z"
   },
   {
    "duration": 0,
    "start_time": "2024-06-17T21:51:35.740Z"
   },
   {
    "duration": 0,
    "start_time": "2024-06-17T21:51:35.741Z"
   },
   {
    "duration": 0,
    "start_time": "2024-06-17T21:51:35.743Z"
   },
   {
    "duration": 0,
    "start_time": "2024-06-17T21:51:35.743Z"
   },
   {
    "duration": 0,
    "start_time": "2024-06-17T21:51:35.745Z"
   },
   {
    "duration": 0,
    "start_time": "2024-06-17T21:51:35.746Z"
   },
   {
    "duration": 0,
    "start_time": "2024-06-17T21:51:35.747Z"
   },
   {
    "duration": 0,
    "start_time": "2024-06-17T21:51:35.748Z"
   },
   {
    "duration": 0,
    "start_time": "2024-06-17T21:51:35.749Z"
   },
   {
    "duration": 0,
    "start_time": "2024-06-17T21:51:35.750Z"
   },
   {
    "duration": 0,
    "start_time": "2024-06-17T21:51:35.783Z"
   },
   {
    "duration": 0,
    "start_time": "2024-06-17T21:51:35.785Z"
   },
   {
    "duration": 0,
    "start_time": "2024-06-17T21:51:35.786Z"
   },
   {
    "duration": 0,
    "start_time": "2024-06-17T21:51:35.788Z"
   },
   {
    "duration": 0,
    "start_time": "2024-06-17T21:51:35.789Z"
   },
   {
    "duration": 0,
    "start_time": "2024-06-17T21:51:35.791Z"
   },
   {
    "duration": 0,
    "start_time": "2024-06-17T21:51:35.792Z"
   },
   {
    "duration": 0,
    "start_time": "2024-06-17T21:51:35.793Z"
   },
   {
    "duration": 955,
    "start_time": "2024-06-17T21:52:40.196Z"
   },
   {
    "duration": 10247,
    "start_time": "2024-06-17T21:53:01.099Z"
   },
   {
    "duration": 39,
    "start_time": "2024-06-17T21:53:53.964Z"
   },
   {
    "duration": 38,
    "start_time": "2024-06-17T21:54:08.818Z"
   },
   {
    "duration": 9099,
    "start_time": "2024-06-17T21:54:20.028Z"
   },
   {
    "duration": 19,
    "start_time": "2024-06-17T21:55:22.340Z"
   },
   {
    "duration": 19,
    "start_time": "2024-06-17T21:55:35.080Z"
   },
   {
    "duration": 21,
    "start_time": "2024-06-17T21:56:03.057Z"
   },
   {
    "duration": 5052,
    "start_time": "2024-06-17T21:56:52.517Z"
   },
   {
    "duration": 2920,
    "start_time": "2024-06-17T21:56:57.571Z"
   },
   {
    "duration": 409,
    "start_time": "2024-06-17T21:57:00.492Z"
   },
   {
    "duration": 58,
    "start_time": "2024-06-17T21:57:00.903Z"
   },
   {
    "duration": 236,
    "start_time": "2024-06-17T21:57:00.963Z"
   },
   {
    "duration": 20,
    "start_time": "2024-06-17T21:57:01.200Z"
   },
   {
    "duration": 35,
    "start_time": "2024-06-17T21:57:01.223Z"
   },
   {
    "duration": 79,
    "start_time": "2024-06-17T21:57:01.259Z"
   },
   {
    "duration": 142,
    "start_time": "2024-06-17T21:57:01.340Z"
   },
   {
    "duration": 12,
    "start_time": "2024-06-17T21:57:01.488Z"
   },
   {
    "duration": 48,
    "start_time": "2024-06-17T21:57:01.502Z"
   },
   {
    "duration": 82,
    "start_time": "2024-06-17T21:57:01.552Z"
   },
   {
    "duration": 61,
    "start_time": "2024-06-17T21:57:01.636Z"
   },
   {
    "duration": 2513,
    "start_time": "2024-06-17T21:57:01.699Z"
   },
   {
    "duration": 126,
    "start_time": "2024-06-17T21:57:04.214Z"
   },
   {
    "duration": 0,
    "start_time": "2024-06-17T21:57:04.342Z"
   },
   {
    "duration": 0,
    "start_time": "2024-06-17T21:57:04.344Z"
   },
   {
    "duration": 0,
    "start_time": "2024-06-17T21:57:04.345Z"
   },
   {
    "duration": 0,
    "start_time": "2024-06-17T21:57:04.347Z"
   },
   {
    "duration": 0,
    "start_time": "2024-06-17T21:57:04.349Z"
   },
   {
    "duration": 0,
    "start_time": "2024-06-17T21:57:04.351Z"
   },
   {
    "duration": 0,
    "start_time": "2024-06-17T21:57:04.352Z"
   },
   {
    "duration": 0,
    "start_time": "2024-06-17T21:57:04.354Z"
   },
   {
    "duration": 0,
    "start_time": "2024-06-17T21:57:04.355Z"
   },
   {
    "duration": 0,
    "start_time": "2024-06-17T21:57:04.383Z"
   },
   {
    "duration": 0,
    "start_time": "2024-06-17T21:57:04.384Z"
   },
   {
    "duration": 0,
    "start_time": "2024-06-17T21:57:04.386Z"
   },
   {
    "duration": 0,
    "start_time": "2024-06-17T21:57:04.387Z"
   },
   {
    "duration": 0,
    "start_time": "2024-06-17T21:57:04.389Z"
   },
   {
    "duration": 0,
    "start_time": "2024-06-17T21:57:04.391Z"
   },
   {
    "duration": 0,
    "start_time": "2024-06-17T21:57:04.392Z"
   },
   {
    "duration": 0,
    "start_time": "2024-06-17T21:57:04.394Z"
   },
   {
    "duration": 0,
    "start_time": "2024-06-17T21:57:04.395Z"
   },
   {
    "duration": 0,
    "start_time": "2024-06-17T21:57:04.397Z"
   },
   {
    "duration": 0,
    "start_time": "2024-06-17T21:57:04.398Z"
   },
   {
    "duration": 0,
    "start_time": "2024-06-17T21:57:04.400Z"
   },
   {
    "duration": 0,
    "start_time": "2024-06-17T21:57:04.401Z"
   },
   {
    "duration": 5011,
    "start_time": "2024-06-17T21:57:54.308Z"
   },
   {
    "duration": 4736,
    "start_time": "2024-06-17T21:57:59.322Z"
   },
   {
    "duration": 355,
    "start_time": "2024-06-17T21:58:04.060Z"
   },
   {
    "duration": 71,
    "start_time": "2024-06-17T21:58:04.417Z"
   },
   {
    "duration": 188,
    "start_time": "2024-06-17T21:58:04.490Z"
   },
   {
    "duration": 18,
    "start_time": "2024-06-17T21:58:04.682Z"
   },
   {
    "duration": 13,
    "start_time": "2024-06-17T21:58:04.701Z"
   },
   {
    "duration": 10,
    "start_time": "2024-06-17T21:58:04.716Z"
   },
   {
    "duration": 84,
    "start_time": "2024-06-17T21:58:04.728Z"
   },
   {
    "duration": 11,
    "start_time": "2024-06-17T21:58:04.814Z"
   },
   {
    "duration": 26,
    "start_time": "2024-06-17T21:58:04.827Z"
   },
   {
    "duration": 70,
    "start_time": "2024-06-17T21:58:04.854Z"
   },
   {
    "duration": 59,
    "start_time": "2024-06-17T21:58:04.925Z"
   },
   {
    "duration": 50,
    "start_time": "2024-06-17T21:58:51.405Z"
   },
   {
    "duration": 5056,
    "start_time": "2024-06-17T21:58:56.705Z"
   },
   {
    "duration": 2771,
    "start_time": "2024-06-17T21:59:01.763Z"
   },
   {
    "duration": 344,
    "start_time": "2024-06-17T21:59:04.536Z"
   },
   {
    "duration": 52,
    "start_time": "2024-06-17T21:59:04.883Z"
   },
   {
    "duration": 263,
    "start_time": "2024-06-17T21:59:04.937Z"
   },
   {
    "duration": 0,
    "start_time": "2024-06-17T21:59:05.203Z"
   },
   {
    "duration": 0,
    "start_time": "2024-06-17T21:59:05.204Z"
   },
   {
    "duration": 0,
    "start_time": "2024-06-17T21:59:05.205Z"
   },
   {
    "duration": 0,
    "start_time": "2024-06-17T21:59:05.207Z"
   },
   {
    "duration": 0,
    "start_time": "2024-06-17T21:59:05.208Z"
   },
   {
    "duration": 0,
    "start_time": "2024-06-17T21:59:05.210Z"
   },
   {
    "duration": 0,
    "start_time": "2024-06-17T21:59:05.211Z"
   },
   {
    "duration": 0,
    "start_time": "2024-06-17T21:59:05.212Z"
   },
   {
    "duration": 0,
    "start_time": "2024-06-17T21:59:05.214Z"
   },
   {
    "duration": 0,
    "start_time": "2024-06-17T21:59:05.215Z"
   },
   {
    "duration": 0,
    "start_time": "2024-06-17T21:59:05.216Z"
   },
   {
    "duration": 0,
    "start_time": "2024-06-17T21:59:05.217Z"
   },
   {
    "duration": 0,
    "start_time": "2024-06-17T21:59:05.218Z"
   },
   {
    "duration": 0,
    "start_time": "2024-06-17T21:59:05.219Z"
   },
   {
    "duration": 0,
    "start_time": "2024-06-17T21:59:05.220Z"
   },
   {
    "duration": 0,
    "start_time": "2024-06-17T21:59:05.221Z"
   },
   {
    "duration": 0,
    "start_time": "2024-06-17T21:59:05.222Z"
   },
   {
    "duration": 0,
    "start_time": "2024-06-17T21:59:05.223Z"
   },
   {
    "duration": 0,
    "start_time": "2024-06-17T21:59:05.225Z"
   },
   {
    "duration": 0,
    "start_time": "2024-06-17T21:59:05.226Z"
   },
   {
    "duration": 0,
    "start_time": "2024-06-17T21:59:05.227Z"
   },
   {
    "duration": 0,
    "start_time": "2024-06-17T21:59:05.228Z"
   },
   {
    "duration": 0,
    "start_time": "2024-06-17T21:59:05.229Z"
   },
   {
    "duration": 0,
    "start_time": "2024-06-17T21:59:05.230Z"
   },
   {
    "duration": 0,
    "start_time": "2024-06-17T21:59:05.231Z"
   },
   {
    "duration": 0,
    "start_time": "2024-06-17T21:59:05.232Z"
   },
   {
    "duration": 0,
    "start_time": "2024-06-17T21:59:05.233Z"
   },
   {
    "duration": 0,
    "start_time": "2024-06-17T21:59:05.234Z"
   },
   {
    "duration": 0,
    "start_time": "2024-06-17T21:59:05.235Z"
   },
   {
    "duration": 0,
    "start_time": "2024-06-17T21:59:05.281Z"
   },
   {
    "duration": 0,
    "start_time": "2024-06-17T21:59:05.283Z"
   },
   {
    "duration": 0,
    "start_time": "2024-06-17T21:59:05.285Z"
   },
   {
    "duration": 2368,
    "start_time": "2024-06-17T21:59:21.641Z"
   },
   {
    "duration": 2224,
    "start_time": "2024-06-17T21:59:36.906Z"
   },
   {
    "duration": 4904,
    "start_time": "2024-06-17T22:01:19.496Z"
   },
   {
    "duration": 1733,
    "start_time": "2024-06-17T22:01:24.403Z"
   },
   {
    "duration": 441,
    "start_time": "2024-06-17T22:01:26.138Z"
   },
   {
    "duration": 54,
    "start_time": "2024-06-17T22:01:26.581Z"
   },
   {
    "duration": 188,
    "start_time": "2024-06-17T22:01:26.636Z"
   },
   {
    "duration": 17,
    "start_time": "2024-06-17T22:01:26.825Z"
   },
   {
    "duration": 18,
    "start_time": "2024-06-17T22:01:26.843Z"
   },
   {
    "duration": 11,
    "start_time": "2024-06-17T22:01:26.862Z"
   },
   {
    "duration": 65,
    "start_time": "2024-06-17T22:01:26.882Z"
   },
   {
    "duration": 10,
    "start_time": "2024-06-17T22:01:26.949Z"
   },
   {
    "duration": 84,
    "start_time": "2024-06-17T22:01:26.961Z"
   },
   {
    "duration": 56,
    "start_time": "2024-06-17T22:01:27.046Z"
   },
   {
    "duration": 50,
    "start_time": "2024-06-17T22:01:27.104Z"
   },
   {
    "duration": 4,
    "start_time": "2024-06-17T22:01:27.156Z"
   },
   {
    "duration": 4130,
    "start_time": "2024-06-17T22:01:27.162Z"
   },
   {
    "duration": 0,
    "start_time": "2024-06-17T22:01:31.295Z"
   },
   {
    "duration": 0,
    "start_time": "2024-06-17T22:01:31.296Z"
   },
   {
    "duration": 0,
    "start_time": "2024-06-17T22:01:31.298Z"
   },
   {
    "duration": 0,
    "start_time": "2024-06-17T22:01:31.299Z"
   },
   {
    "duration": 0,
    "start_time": "2024-06-17T22:01:31.300Z"
   },
   {
    "duration": 0,
    "start_time": "2024-06-17T22:01:31.301Z"
   },
   {
    "duration": 0,
    "start_time": "2024-06-17T22:01:31.302Z"
   },
   {
    "duration": 0,
    "start_time": "2024-06-17T22:01:31.303Z"
   },
   {
    "duration": 0,
    "start_time": "2024-06-17T22:01:31.304Z"
   },
   {
    "duration": 0,
    "start_time": "2024-06-17T22:01:31.306Z"
   },
   {
    "duration": 0,
    "start_time": "2024-06-17T22:01:31.306Z"
   },
   {
    "duration": 0,
    "start_time": "2024-06-17T22:01:31.307Z"
   },
   {
    "duration": 0,
    "start_time": "2024-06-17T22:01:31.309Z"
   },
   {
    "duration": 0,
    "start_time": "2024-06-17T22:01:31.310Z"
   },
   {
    "duration": 0,
    "start_time": "2024-06-17T22:01:31.311Z"
   },
   {
    "duration": 0,
    "start_time": "2024-06-17T22:01:31.312Z"
   },
   {
    "duration": 0,
    "start_time": "2024-06-17T22:01:31.313Z"
   },
   {
    "duration": 0,
    "start_time": "2024-06-17T22:01:31.314Z"
   },
   {
    "duration": 0,
    "start_time": "2024-06-17T22:01:31.316Z"
   },
   {
    "duration": 0,
    "start_time": "2024-06-17T22:01:31.317Z"
   },
   {
    "duration": 0,
    "start_time": "2024-06-17T22:01:31.318Z"
   },
   {
    "duration": 0,
    "start_time": "2024-06-17T22:01:31.319Z"
   },
   {
    "duration": 0,
    "start_time": "2024-06-17T22:01:31.320Z"
   },
   {
    "duration": 5287,
    "start_time": "2024-06-17T22:02:57.900Z"
   },
   {
    "duration": 1983,
    "start_time": "2024-06-17T22:03:03.190Z"
   },
   {
    "duration": 358,
    "start_time": "2024-06-17T22:03:05.177Z"
   },
   {
    "duration": 55,
    "start_time": "2024-06-17T22:03:05.538Z"
   },
   {
    "duration": 188,
    "start_time": "2024-06-17T22:03:05.595Z"
   },
   {
    "duration": 18,
    "start_time": "2024-06-17T22:03:05.785Z"
   },
   {
    "duration": 13,
    "start_time": "2024-06-17T22:03:05.805Z"
   },
   {
    "duration": 10,
    "start_time": "2024-06-17T22:03:05.820Z"
   },
   {
    "duration": 93,
    "start_time": "2024-06-17T22:03:05.832Z"
   },
   {
    "duration": 11,
    "start_time": "2024-06-17T22:03:05.927Z"
   },
   {
    "duration": 46,
    "start_time": "2024-06-17T22:03:05.940Z"
   },
   {
    "duration": 78,
    "start_time": "2024-06-17T22:03:05.988Z"
   },
   {
    "duration": 50,
    "start_time": "2024-06-17T22:03:06.069Z"
   },
   {
    "duration": 5,
    "start_time": "2024-06-17T22:03:06.121Z"
   },
   {
    "duration": 7080,
    "start_time": "2024-06-17T22:03:06.127Z"
   },
   {
    "duration": 122,
    "start_time": "2024-06-17T22:03:13.208Z"
   },
   {
    "duration": 0,
    "start_time": "2024-06-17T22:03:13.331Z"
   },
   {
    "duration": 0,
    "start_time": "2024-06-17T22:03:13.333Z"
   },
   {
    "duration": 0,
    "start_time": "2024-06-17T22:03:13.334Z"
   },
   {
    "duration": 0,
    "start_time": "2024-06-17T22:03:13.335Z"
   },
   {
    "duration": 0,
    "start_time": "2024-06-17T22:03:13.337Z"
   },
   {
    "duration": 0,
    "start_time": "2024-06-17T22:03:13.338Z"
   },
   {
    "duration": 0,
    "start_time": "2024-06-17T22:03:13.339Z"
   },
   {
    "duration": 0,
    "start_time": "2024-06-17T22:03:13.340Z"
   },
   {
    "duration": 0,
    "start_time": "2024-06-17T22:03:13.341Z"
   },
   {
    "duration": 0,
    "start_time": "2024-06-17T22:03:13.342Z"
   },
   {
    "duration": 0,
    "start_time": "2024-06-17T22:03:13.343Z"
   },
   {
    "duration": 0,
    "start_time": "2024-06-17T22:03:13.345Z"
   },
   {
    "duration": 0,
    "start_time": "2024-06-17T22:03:13.346Z"
   },
   {
    "duration": 0,
    "start_time": "2024-06-17T22:03:13.346Z"
   },
   {
    "duration": 0,
    "start_time": "2024-06-17T22:03:13.348Z"
   },
   {
    "duration": 0,
    "start_time": "2024-06-17T22:03:13.348Z"
   },
   {
    "duration": 0,
    "start_time": "2024-06-17T22:03:13.349Z"
   },
   {
    "duration": 0,
    "start_time": "2024-06-17T22:03:13.350Z"
   },
   {
    "duration": 0,
    "start_time": "2024-06-17T22:03:13.382Z"
   },
   {
    "duration": 1,
    "start_time": "2024-06-17T22:03:13.383Z"
   },
   {
    "duration": 0,
    "start_time": "2024-06-17T22:03:13.385Z"
   },
   {
    "duration": 0,
    "start_time": "2024-06-17T22:03:13.386Z"
   },
   {
    "duration": 4952,
    "start_time": "2024-06-17T22:04:52.474Z"
   },
   {
    "duration": 1680,
    "start_time": "2024-06-17T22:04:57.429Z"
   },
   {
    "duration": 427,
    "start_time": "2024-06-17T22:04:59.110Z"
   },
   {
    "duration": 53,
    "start_time": "2024-06-17T22:04:59.539Z"
   },
   {
    "duration": 184,
    "start_time": "2024-06-17T22:04:59.594Z"
   },
   {
    "duration": 18,
    "start_time": "2024-06-17T22:04:59.781Z"
   },
   {
    "duration": 13,
    "start_time": "2024-06-17T22:04:59.800Z"
   },
   {
    "duration": 10,
    "start_time": "2024-06-17T22:04:59.814Z"
   },
   {
    "duration": 93,
    "start_time": "2024-06-17T22:04:59.826Z"
   },
   {
    "duration": 12,
    "start_time": "2024-06-17T22:04:59.922Z"
   },
   {
    "duration": 27,
    "start_time": "2024-06-17T22:04:59.935Z"
   },
   {
    "duration": 76,
    "start_time": "2024-06-17T22:04:59.964Z"
   },
   {
    "duration": 61,
    "start_time": "2024-06-17T22:05:00.041Z"
   },
   {
    "duration": 15,
    "start_time": "2024-06-17T22:05:00.104Z"
   },
   {
    "duration": 5256,
    "start_time": "2024-06-17T22:05:00.121Z"
   },
   {
    "duration": 131,
    "start_time": "2024-06-17T22:05:05.382Z"
   },
   {
    "duration": 0,
    "start_time": "2024-06-17T22:05:05.515Z"
   },
   {
    "duration": 0,
    "start_time": "2024-06-17T22:05:05.516Z"
   },
   {
    "duration": 0,
    "start_time": "2024-06-17T22:05:05.517Z"
   },
   {
    "duration": 0,
    "start_time": "2024-06-17T22:05:05.518Z"
   },
   {
    "duration": 0,
    "start_time": "2024-06-17T22:05:05.519Z"
   },
   {
    "duration": 0,
    "start_time": "2024-06-17T22:05:05.520Z"
   },
   {
    "duration": 0,
    "start_time": "2024-06-17T22:05:05.521Z"
   },
   {
    "duration": 0,
    "start_time": "2024-06-17T22:05:05.522Z"
   },
   {
    "duration": 0,
    "start_time": "2024-06-17T22:05:05.523Z"
   },
   {
    "duration": 0,
    "start_time": "2024-06-17T22:05:05.524Z"
   },
   {
    "duration": 1,
    "start_time": "2024-06-17T22:05:05.524Z"
   },
   {
    "duration": 0,
    "start_time": "2024-06-17T22:05:05.525Z"
   },
   {
    "duration": 0,
    "start_time": "2024-06-17T22:05:05.527Z"
   },
   {
    "duration": 0,
    "start_time": "2024-06-17T22:05:05.527Z"
   },
   {
    "duration": 0,
    "start_time": "2024-06-17T22:05:05.528Z"
   },
   {
    "duration": 0,
    "start_time": "2024-06-17T22:05:05.529Z"
   },
   {
    "duration": 0,
    "start_time": "2024-06-17T22:05:05.530Z"
   },
   {
    "duration": 0,
    "start_time": "2024-06-17T22:05:05.531Z"
   },
   {
    "duration": 0,
    "start_time": "2024-06-17T22:05:05.532Z"
   },
   {
    "duration": 0,
    "start_time": "2024-06-17T22:05:05.533Z"
   },
   {
    "duration": 0,
    "start_time": "2024-06-17T22:05:05.534Z"
   },
   {
    "duration": 0,
    "start_time": "2024-06-17T22:05:05.535Z"
   },
   {
    "duration": 5087,
    "start_time": "2024-06-17T22:07:20.779Z"
   },
   {
    "duration": 1744,
    "start_time": "2024-06-17T22:07:25.868Z"
   },
   {
    "duration": 384,
    "start_time": "2024-06-17T22:07:27.614Z"
   },
   {
    "duration": 55,
    "start_time": "2024-06-17T22:07:28.001Z"
   },
   {
    "duration": 195,
    "start_time": "2024-06-17T22:07:28.058Z"
   },
   {
    "duration": 17,
    "start_time": "2024-06-17T22:07:28.255Z"
   },
   {
    "duration": 13,
    "start_time": "2024-06-17T22:07:28.282Z"
   },
   {
    "duration": 8,
    "start_time": "2024-06-17T22:07:28.297Z"
   },
   {
    "duration": 84,
    "start_time": "2024-06-17T22:07:28.306Z"
   },
   {
    "duration": 11,
    "start_time": "2024-06-17T22:07:28.392Z"
   },
   {
    "duration": 21,
    "start_time": "2024-06-17T22:07:28.404Z"
   },
   {
    "duration": 79,
    "start_time": "2024-06-17T22:07:28.427Z"
   },
   {
    "duration": 50,
    "start_time": "2024-06-17T22:07:28.508Z"
   },
   {
    "duration": 5,
    "start_time": "2024-06-17T22:07:28.560Z"
   },
   {
    "duration": 4246,
    "start_time": "2024-06-17T22:07:28.566Z"
   },
   {
    "duration": 0,
    "start_time": "2024-06-17T22:07:32.813Z"
   },
   {
    "duration": 0,
    "start_time": "2024-06-17T22:07:32.815Z"
   },
   {
    "duration": 0,
    "start_time": "2024-06-17T22:07:32.816Z"
   },
   {
    "duration": 0,
    "start_time": "2024-06-17T22:07:32.817Z"
   },
   {
    "duration": 0,
    "start_time": "2024-06-17T22:07:32.818Z"
   },
   {
    "duration": 0,
    "start_time": "2024-06-17T22:07:32.820Z"
   },
   {
    "duration": 0,
    "start_time": "2024-06-17T22:07:32.821Z"
   },
   {
    "duration": 0,
    "start_time": "2024-06-17T22:07:32.822Z"
   },
   {
    "duration": 1,
    "start_time": "2024-06-17T22:07:32.823Z"
   },
   {
    "duration": 0,
    "start_time": "2024-06-17T22:07:32.825Z"
   },
   {
    "duration": 0,
    "start_time": "2024-06-17T22:07:32.826Z"
   },
   {
    "duration": 0,
    "start_time": "2024-06-17T22:07:32.827Z"
   },
   {
    "duration": 0,
    "start_time": "2024-06-17T22:07:32.828Z"
   },
   {
    "duration": 0,
    "start_time": "2024-06-17T22:07:32.829Z"
   },
   {
    "duration": 0,
    "start_time": "2024-06-17T22:07:32.830Z"
   },
   {
    "duration": 0,
    "start_time": "2024-06-17T22:07:32.831Z"
   },
   {
    "duration": 0,
    "start_time": "2024-06-17T22:07:32.832Z"
   },
   {
    "duration": 0,
    "start_time": "2024-06-17T22:07:32.834Z"
   },
   {
    "duration": 0,
    "start_time": "2024-06-17T22:07:32.835Z"
   },
   {
    "duration": 0,
    "start_time": "2024-06-17T22:07:32.836Z"
   },
   {
    "duration": 0,
    "start_time": "2024-06-17T22:07:32.837Z"
   },
   {
    "duration": 0,
    "start_time": "2024-06-17T22:07:32.838Z"
   },
   {
    "duration": 0,
    "start_time": "2024-06-17T22:07:32.882Z"
   },
   {
    "duration": 5031,
    "start_time": "2024-06-17T22:08:15.491Z"
   },
   {
    "duration": 1705,
    "start_time": "2024-06-17T22:08:20.524Z"
   },
   {
    "duration": 378,
    "start_time": "2024-06-17T22:08:22.231Z"
   },
   {
    "duration": 56,
    "start_time": "2024-06-17T22:08:22.611Z"
   },
   {
    "duration": 202,
    "start_time": "2024-06-17T22:08:22.669Z"
   },
   {
    "duration": 23,
    "start_time": "2024-06-17T22:08:22.873Z"
   },
   {
    "duration": 20,
    "start_time": "2024-06-17T22:08:22.898Z"
   },
   {
    "duration": 19,
    "start_time": "2024-06-17T22:08:22.919Z"
   },
   {
    "duration": 76,
    "start_time": "2024-06-17T22:08:22.939Z"
   },
   {
    "duration": 10,
    "start_time": "2024-06-17T22:08:23.018Z"
   },
   {
    "duration": 53,
    "start_time": "2024-06-17T22:08:23.030Z"
   },
   {
    "duration": 71,
    "start_time": "2024-06-17T22:08:23.085Z"
   },
   {
    "duration": 54,
    "start_time": "2024-06-17T22:08:23.158Z"
   },
   {
    "duration": 3,
    "start_time": "2024-06-17T22:08:23.214Z"
   },
   {
    "duration": 6800,
    "start_time": "2024-06-17T22:08:23.218Z"
   },
   {
    "duration": 136,
    "start_time": "2024-06-17T22:08:30.020Z"
   },
   {
    "duration": 0,
    "start_time": "2024-06-17T22:08:30.158Z"
   },
   {
    "duration": 0,
    "start_time": "2024-06-17T22:08:30.160Z"
   },
   {
    "duration": 0,
    "start_time": "2024-06-17T22:08:30.162Z"
   },
   {
    "duration": 0,
    "start_time": "2024-06-17T22:08:30.163Z"
   },
   {
    "duration": 0,
    "start_time": "2024-06-17T22:08:30.165Z"
   },
   {
    "duration": 0,
    "start_time": "2024-06-17T22:08:30.182Z"
   },
   {
    "duration": 0,
    "start_time": "2024-06-17T22:08:30.184Z"
   },
   {
    "duration": 0,
    "start_time": "2024-06-17T22:08:30.185Z"
   },
   {
    "duration": 0,
    "start_time": "2024-06-17T22:08:30.187Z"
   },
   {
    "duration": 0,
    "start_time": "2024-06-17T22:08:30.189Z"
   },
   {
    "duration": 0,
    "start_time": "2024-06-17T22:08:30.190Z"
   },
   {
    "duration": 0,
    "start_time": "2024-06-17T22:08:30.192Z"
   },
   {
    "duration": 0,
    "start_time": "2024-06-17T22:08:30.194Z"
   },
   {
    "duration": 0,
    "start_time": "2024-06-17T22:08:30.195Z"
   },
   {
    "duration": 0,
    "start_time": "2024-06-17T22:08:30.196Z"
   },
   {
    "duration": 0,
    "start_time": "2024-06-17T22:08:30.197Z"
   },
   {
    "duration": 0,
    "start_time": "2024-06-17T22:08:30.203Z"
   },
   {
    "duration": 0,
    "start_time": "2024-06-17T22:08:30.205Z"
   },
   {
    "duration": 0,
    "start_time": "2024-06-17T22:08:30.206Z"
   },
   {
    "duration": 0,
    "start_time": "2024-06-17T22:08:30.207Z"
   },
   {
    "duration": 0,
    "start_time": "2024-06-17T22:08:30.209Z"
   },
   {
    "duration": 0,
    "start_time": "2024-06-17T22:08:30.210Z"
   },
   {
    "duration": 5051,
    "start_time": "2024-06-17T22:10:42.544Z"
   },
   {
    "duration": 1717,
    "start_time": "2024-06-17T22:10:47.597Z"
   },
   {
    "duration": 389,
    "start_time": "2024-06-17T22:10:49.316Z"
   },
   {
    "duration": 55,
    "start_time": "2024-06-17T22:10:49.707Z"
   },
   {
    "duration": 184,
    "start_time": "2024-06-17T22:10:49.763Z"
   },
   {
    "duration": 18,
    "start_time": "2024-06-17T22:10:49.949Z"
   },
   {
    "duration": 25,
    "start_time": "2024-06-17T22:10:49.969Z"
   },
   {
    "duration": 29,
    "start_time": "2024-06-17T22:10:49.995Z"
   },
   {
    "duration": 69,
    "start_time": "2024-06-17T22:10:50.025Z"
   },
   {
    "duration": 11,
    "start_time": "2024-06-17T22:10:50.097Z"
   },
   {
    "duration": 31,
    "start_time": "2024-06-17T22:10:50.110Z"
   },
   {
    "duration": 65,
    "start_time": "2024-06-17T22:10:50.143Z"
   },
   {
    "duration": 50,
    "start_time": "2024-06-17T22:10:50.210Z"
   },
   {
    "duration": 4,
    "start_time": "2024-06-17T22:10:50.262Z"
   },
   {
    "duration": 6815,
    "start_time": "2024-06-17T22:10:50.268Z"
   },
   {
    "duration": 133,
    "start_time": "2024-06-17T22:10:57.084Z"
   },
   {
    "duration": 0,
    "start_time": "2024-06-17T22:10:57.219Z"
   },
   {
    "duration": 0,
    "start_time": "2024-06-17T22:10:57.220Z"
   },
   {
    "duration": 0,
    "start_time": "2024-06-17T22:10:57.221Z"
   },
   {
    "duration": 0,
    "start_time": "2024-06-17T22:10:57.222Z"
   },
   {
    "duration": 0,
    "start_time": "2024-06-17T22:10:57.223Z"
   },
   {
    "duration": 0,
    "start_time": "2024-06-17T22:10:57.224Z"
   },
   {
    "duration": 0,
    "start_time": "2024-06-17T22:10:57.225Z"
   },
   {
    "duration": 0,
    "start_time": "2024-06-17T22:10:57.226Z"
   },
   {
    "duration": 0,
    "start_time": "2024-06-17T22:10:57.227Z"
   },
   {
    "duration": 0,
    "start_time": "2024-06-17T22:10:57.228Z"
   },
   {
    "duration": 0,
    "start_time": "2024-06-17T22:10:57.229Z"
   },
   {
    "duration": 0,
    "start_time": "2024-06-17T22:10:57.230Z"
   },
   {
    "duration": 0,
    "start_time": "2024-06-17T22:10:57.231Z"
   },
   {
    "duration": 0,
    "start_time": "2024-06-17T22:10:57.232Z"
   },
   {
    "duration": 0,
    "start_time": "2024-06-17T22:10:57.233Z"
   },
   {
    "duration": 0,
    "start_time": "2024-06-17T22:10:57.234Z"
   },
   {
    "duration": 0,
    "start_time": "2024-06-17T22:10:57.235Z"
   },
   {
    "duration": 0,
    "start_time": "2024-06-17T22:10:57.236Z"
   },
   {
    "duration": 0,
    "start_time": "2024-06-17T22:10:57.237Z"
   },
   {
    "duration": 0,
    "start_time": "2024-06-17T22:10:57.238Z"
   },
   {
    "duration": 0,
    "start_time": "2024-06-17T22:10:57.239Z"
   },
   {
    "duration": 0,
    "start_time": "2024-06-17T22:10:57.282Z"
   },
   {
    "duration": 5,
    "start_time": "2024-06-17T22:11:30.095Z"
   },
   {
    "duration": 6763,
    "start_time": "2024-06-17T22:11:32.749Z"
   },
   {
    "duration": 5033,
    "start_time": "2024-06-17T22:13:30.918Z"
   },
   {
    "duration": 1701,
    "start_time": "2024-06-17T22:13:35.954Z"
   },
   {
    "duration": 407,
    "start_time": "2024-06-17T22:13:37.657Z"
   },
   {
    "duration": 64,
    "start_time": "2024-06-17T22:13:38.066Z"
   },
   {
    "duration": 193,
    "start_time": "2024-06-17T22:13:38.133Z"
   },
   {
    "duration": 18,
    "start_time": "2024-06-17T22:13:38.327Z"
   },
   {
    "duration": 13,
    "start_time": "2024-06-17T22:13:38.347Z"
   },
   {
    "duration": 24,
    "start_time": "2024-06-17T22:13:38.361Z"
   },
   {
    "duration": 64,
    "start_time": "2024-06-17T22:13:38.386Z"
   },
   {
    "duration": 10,
    "start_time": "2024-06-17T22:13:38.452Z"
   },
   {
    "duration": 36,
    "start_time": "2024-06-17T22:13:38.464Z"
   },
   {
    "duration": 55,
    "start_time": "2024-06-17T22:13:38.501Z"
   },
   {
    "duration": 65,
    "start_time": "2024-06-17T22:13:38.558Z"
   },
   {
    "duration": 4,
    "start_time": "2024-06-17T22:13:38.626Z"
   },
   {
    "duration": 208,
    "start_time": "2024-06-17T22:13:38.632Z"
   },
   {
    "duration": 0,
    "start_time": "2024-06-17T22:13:38.842Z"
   },
   {
    "duration": 0,
    "start_time": "2024-06-17T22:13:38.843Z"
   },
   {
    "duration": 0,
    "start_time": "2024-06-17T22:13:38.844Z"
   },
   {
    "duration": 0,
    "start_time": "2024-06-17T22:13:38.846Z"
   },
   {
    "duration": 0,
    "start_time": "2024-06-17T22:13:38.847Z"
   },
   {
    "duration": 0,
    "start_time": "2024-06-17T22:13:38.848Z"
   },
   {
    "duration": 0,
    "start_time": "2024-06-17T22:13:38.849Z"
   },
   {
    "duration": 0,
    "start_time": "2024-06-17T22:13:38.850Z"
   },
   {
    "duration": 0,
    "start_time": "2024-06-17T22:13:38.851Z"
   },
   {
    "duration": 0,
    "start_time": "2024-06-17T22:13:38.853Z"
   },
   {
    "duration": 0,
    "start_time": "2024-06-17T22:13:38.854Z"
   },
   {
    "duration": 0,
    "start_time": "2024-06-17T22:13:38.882Z"
   },
   {
    "duration": 0,
    "start_time": "2024-06-17T22:13:38.883Z"
   },
   {
    "duration": 0,
    "start_time": "2024-06-17T22:13:38.884Z"
   },
   {
    "duration": 0,
    "start_time": "2024-06-17T22:13:38.885Z"
   },
   {
    "duration": 0,
    "start_time": "2024-06-17T22:13:38.886Z"
   },
   {
    "duration": 0,
    "start_time": "2024-06-17T22:13:38.887Z"
   },
   {
    "duration": 0,
    "start_time": "2024-06-17T22:13:38.888Z"
   },
   {
    "duration": 0,
    "start_time": "2024-06-17T22:13:38.889Z"
   },
   {
    "duration": 0,
    "start_time": "2024-06-17T22:13:38.890Z"
   },
   {
    "duration": 0,
    "start_time": "2024-06-17T22:13:38.891Z"
   },
   {
    "duration": 0,
    "start_time": "2024-06-17T22:13:38.892Z"
   },
   {
    "duration": 0,
    "start_time": "2024-06-17T22:13:38.893Z"
   },
   {
    "duration": 5,
    "start_time": "2024-06-17T22:14:04.570Z"
   },
   {
    "duration": 6659,
    "start_time": "2024-06-17T22:14:04.808Z"
   },
   {
    "duration": 5034,
    "start_time": "2024-06-17T22:15:05.293Z"
   },
   {
    "duration": 1676,
    "start_time": "2024-06-17T22:15:10.329Z"
   },
   {
    "duration": 353,
    "start_time": "2024-06-17T22:15:12.007Z"
   },
   {
    "duration": 53,
    "start_time": "2024-06-17T22:15:12.362Z"
   },
   {
    "duration": 198,
    "start_time": "2024-06-17T22:15:12.417Z"
   },
   {
    "duration": 22,
    "start_time": "2024-06-17T22:15:12.617Z"
   },
   {
    "duration": 30,
    "start_time": "2024-06-17T22:15:12.641Z"
   },
   {
    "duration": 14,
    "start_time": "2024-06-17T22:15:12.673Z"
   },
   {
    "duration": 69,
    "start_time": "2024-06-17T22:15:12.688Z"
   },
   {
    "duration": 26,
    "start_time": "2024-06-17T22:15:12.760Z"
   },
   {
    "duration": 22,
    "start_time": "2024-06-17T22:15:12.788Z"
   },
   {
    "duration": 79,
    "start_time": "2024-06-17T22:15:12.812Z"
   },
   {
    "duration": 48,
    "start_time": "2024-06-17T22:15:12.893Z"
   },
   {
    "duration": 117,
    "start_time": "2024-06-17T22:15:12.943Z"
   },
   {
    "duration": 4,
    "start_time": "2024-06-17T22:15:13.061Z"
   },
   {
    "duration": 7236,
    "start_time": "2024-06-17T22:15:13.067Z"
   },
   {
    "duration": 9,
    "start_time": "2024-06-17T22:15:20.304Z"
   },
   {
    "duration": 53,
    "start_time": "2024-06-17T22:15:20.314Z"
   },
   {
    "duration": 37,
    "start_time": "2024-06-17T22:15:20.369Z"
   },
   {
    "duration": 11,
    "start_time": "2024-06-17T22:15:20.408Z"
   },
   {
    "duration": 17,
    "start_time": "2024-06-17T22:15:20.421Z"
   },
   {
    "duration": 10,
    "start_time": "2024-06-17T22:15:20.440Z"
   },
   {
    "duration": 18,
    "start_time": "2024-06-17T22:15:20.452Z"
   },
   {
    "duration": 24,
    "start_time": "2024-06-17T22:15:20.471Z"
   },
   {
    "duration": 20,
    "start_time": "2024-06-17T22:15:20.496Z"
   },
   {
    "duration": 27,
    "start_time": "2024-06-17T22:15:20.517Z"
   },
   {
    "duration": 22,
    "start_time": "2024-06-17T22:15:20.546Z"
   },
   {
    "duration": 25,
    "start_time": "2024-06-17T22:15:20.571Z"
   },
   {
    "duration": 27,
    "start_time": "2024-06-17T22:15:20.598Z"
   },
   {
    "duration": 8,
    "start_time": "2024-06-17T22:15:20.626Z"
   },
   {
    "duration": 5,
    "start_time": "2024-06-17T22:15:20.636Z"
   },
   {
    "duration": 1517,
    "start_time": "2024-06-17T22:15:20.642Z"
   },
   {
    "duration": 0,
    "start_time": "2024-06-17T22:15:22.161Z"
   },
   {
    "duration": 0,
    "start_time": "2024-06-17T22:15:22.162Z"
   },
   {
    "duration": 0,
    "start_time": "2024-06-17T22:15:22.164Z"
   },
   {
    "duration": 0,
    "start_time": "2024-06-17T22:15:22.165Z"
   },
   {
    "duration": 0,
    "start_time": "2024-06-17T22:15:22.166Z"
   },
   {
    "duration": 4987,
    "start_time": "2024-06-17T22:16:31.142Z"
   },
   {
    "duration": 1672,
    "start_time": "2024-06-17T22:16:36.131Z"
   },
   {
    "duration": 376,
    "start_time": "2024-06-17T22:16:37.804Z"
   },
   {
    "duration": 56,
    "start_time": "2024-06-17T22:16:38.181Z"
   },
   {
    "duration": 193,
    "start_time": "2024-06-17T22:16:38.239Z"
   },
   {
    "duration": 18,
    "start_time": "2024-06-17T22:16:38.434Z"
   },
   {
    "duration": 16,
    "start_time": "2024-06-17T22:16:38.453Z"
   },
   {
    "duration": 18,
    "start_time": "2024-06-17T22:16:38.470Z"
   },
   {
    "duration": 83,
    "start_time": "2024-06-17T22:16:38.489Z"
   },
   {
    "duration": 11,
    "start_time": "2024-06-17T22:16:38.584Z"
   },
   {
    "duration": 25,
    "start_time": "2024-06-17T22:16:38.597Z"
   },
   {
    "duration": 108,
    "start_time": "2024-06-17T22:16:38.624Z"
   },
   {
    "duration": 60,
    "start_time": "2024-06-17T22:16:38.734Z"
   },
   {
    "duration": 71,
    "start_time": "2024-06-17T22:16:38.797Z"
   },
   {
    "duration": 6,
    "start_time": "2024-06-17T22:16:38.869Z"
   },
   {
    "duration": 48,
    "start_time": "2024-06-17T22:16:38.877Z"
   },
   {
    "duration": 99,
    "start_time": "2024-06-17T22:16:38.927Z"
   },
   {
    "duration": 119,
    "start_time": "2024-06-17T22:16:39.028Z"
   },
   {
    "duration": 4,
    "start_time": "2024-06-17T22:16:39.149Z"
   },
   {
    "duration": 8485,
    "start_time": "2024-06-17T22:16:39.155Z"
   },
   {
    "duration": 16,
    "start_time": "2024-06-17T22:16:47.642Z"
   },
   {
    "duration": 63,
    "start_time": "2024-06-17T22:16:47.660Z"
   },
   {
    "duration": 57,
    "start_time": "2024-06-17T22:16:47.725Z"
   },
   {
    "duration": 3,
    "start_time": "2024-06-17T22:16:47.784Z"
   },
   {
    "duration": 5,
    "start_time": "2024-06-17T22:16:47.789Z"
   },
   {
    "duration": 4,
    "start_time": "2024-06-17T22:16:47.796Z"
   },
   {
    "duration": 4,
    "start_time": "2024-06-17T22:16:47.802Z"
   },
   {
    "duration": 5,
    "start_time": "2024-06-17T22:16:47.808Z"
   },
   {
    "duration": 12,
    "start_time": "2024-06-17T22:16:47.814Z"
   },
   {
    "duration": 6,
    "start_time": "2024-06-17T22:16:47.827Z"
   },
   {
    "duration": 8,
    "start_time": "2024-06-17T22:16:47.834Z"
   },
   {
    "duration": 5,
    "start_time": "2024-06-17T22:16:47.844Z"
   },
   {
    "duration": 6,
    "start_time": "2024-06-17T22:16:47.851Z"
   },
   {
    "duration": 7,
    "start_time": "2024-06-17T22:16:47.883Z"
   },
   {
    "duration": 5,
    "start_time": "2024-06-17T22:16:47.892Z"
   },
   {
    "duration": 2696,
    "start_time": "2024-06-17T22:16:47.899Z"
   },
   {
    "duration": 0,
    "start_time": "2024-06-17T22:16:50.597Z"
   },
   {
    "duration": 0,
    "start_time": "2024-06-17T22:16:50.598Z"
   },
   {
    "duration": 0,
    "start_time": "2024-06-17T22:16:50.599Z"
   },
   {
    "duration": 0,
    "start_time": "2024-06-17T22:16:50.601Z"
   },
   {
    "duration": 0,
    "start_time": "2024-06-17T22:16:50.602Z"
   },
   {
    "duration": 5,
    "start_time": "2024-06-17T22:19:19.512Z"
   },
   {
    "duration": 27,
    "start_time": "2024-06-17T22:19:19.731Z"
   },
   {
    "duration": 5045,
    "start_time": "2024-06-17T22:19:23.951Z"
   },
   {
    "duration": 1683,
    "start_time": "2024-06-17T22:19:28.998Z"
   },
   {
    "duration": 413,
    "start_time": "2024-06-17T22:19:30.682Z"
   },
   {
    "duration": 55,
    "start_time": "2024-06-17T22:19:31.097Z"
   },
   {
    "duration": 208,
    "start_time": "2024-06-17T22:19:31.153Z"
   },
   {
    "duration": 20,
    "start_time": "2024-06-17T22:19:31.363Z"
   },
   {
    "duration": 91,
    "start_time": "2024-06-17T22:19:31.384Z"
   },
   {
    "duration": 50,
    "start_time": "2024-06-17T22:19:31.477Z"
   },
   {
    "duration": 96,
    "start_time": "2024-06-17T22:19:31.529Z"
   },
   {
    "duration": 11,
    "start_time": "2024-06-17T22:19:31.627Z"
   },
   {
    "duration": 52,
    "start_time": "2024-06-17T22:19:31.640Z"
   },
   {
    "duration": 124,
    "start_time": "2024-06-17T22:19:31.694Z"
   },
   {
    "duration": 65,
    "start_time": "2024-06-17T22:19:31.820Z"
   },
   {
    "duration": 59,
    "start_time": "2024-06-17T22:19:31.887Z"
   },
   {
    "duration": 6,
    "start_time": "2024-06-17T22:19:31.948Z"
   },
   {
    "duration": 65,
    "start_time": "2024-06-17T22:19:31.955Z"
   },
   {
    "duration": 92,
    "start_time": "2024-06-17T22:19:32.022Z"
   },
   {
    "duration": 118,
    "start_time": "2024-06-17T22:19:32.116Z"
   },
   {
    "duration": 7,
    "start_time": "2024-06-17T22:19:32.236Z"
   },
   {
    "duration": 197,
    "start_time": "2024-06-17T22:19:32.244Z"
   },
   {
    "duration": 0,
    "start_time": "2024-06-17T22:19:32.443Z"
   },
   {
    "duration": 0,
    "start_time": "2024-06-17T22:19:32.445Z"
   },
   {
    "duration": 0,
    "start_time": "2024-06-17T22:19:32.446Z"
   },
   {
    "duration": 0,
    "start_time": "2024-06-17T22:19:32.447Z"
   },
   {
    "duration": 0,
    "start_time": "2024-06-17T22:19:32.448Z"
   },
   {
    "duration": 0,
    "start_time": "2024-06-17T22:19:32.449Z"
   },
   {
    "duration": 0,
    "start_time": "2024-06-17T22:19:32.451Z"
   },
   {
    "duration": 0,
    "start_time": "2024-06-17T22:19:32.452Z"
   },
   {
    "duration": 0,
    "start_time": "2024-06-17T22:19:32.453Z"
   },
   {
    "duration": 0,
    "start_time": "2024-06-17T22:19:32.454Z"
   },
   {
    "duration": 0,
    "start_time": "2024-06-17T22:19:32.456Z"
   },
   {
    "duration": 0,
    "start_time": "2024-06-17T22:19:32.458Z"
   },
   {
    "duration": 0,
    "start_time": "2024-06-17T22:19:32.482Z"
   },
   {
    "duration": 0,
    "start_time": "2024-06-17T22:19:32.483Z"
   },
   {
    "duration": 0,
    "start_time": "2024-06-17T22:19:32.484Z"
   },
   {
    "duration": 0,
    "start_time": "2024-06-17T22:19:32.485Z"
   },
   {
    "duration": 0,
    "start_time": "2024-06-17T22:19:32.487Z"
   },
   {
    "duration": 0,
    "start_time": "2024-06-17T22:19:32.488Z"
   },
   {
    "duration": 0,
    "start_time": "2024-06-17T22:19:32.489Z"
   },
   {
    "duration": 0,
    "start_time": "2024-06-17T22:19:32.490Z"
   },
   {
    "duration": 0,
    "start_time": "2024-06-17T22:19:32.491Z"
   },
   {
    "duration": 4946,
    "start_time": "2024-06-17T22:20:47.831Z"
   },
   {
    "duration": 1666,
    "start_time": "2024-06-17T22:20:52.780Z"
   },
   {
    "duration": 405,
    "start_time": "2024-06-17T22:20:54.448Z"
   },
   {
    "duration": 55,
    "start_time": "2024-06-17T22:20:54.856Z"
   },
   {
    "duration": 185,
    "start_time": "2024-06-17T22:20:54.912Z"
   },
   {
    "duration": 17,
    "start_time": "2024-06-17T22:20:55.099Z"
   },
   {
    "duration": 16,
    "start_time": "2024-06-17T22:20:55.117Z"
   },
   {
    "duration": 12,
    "start_time": "2024-06-17T22:20:55.135Z"
   },
   {
    "duration": 77,
    "start_time": "2024-06-17T22:20:55.149Z"
   },
   {
    "duration": 10,
    "start_time": "2024-06-17T22:20:55.229Z"
   },
   {
    "duration": 19,
    "start_time": "2024-06-17T22:20:55.240Z"
   },
   {
    "duration": 114,
    "start_time": "2024-06-17T22:20:55.261Z"
   },
   {
    "duration": 48,
    "start_time": "2024-06-17T22:20:55.381Z"
   },
   {
    "duration": 56,
    "start_time": "2024-06-17T22:20:55.431Z"
   },
   {
    "duration": 5,
    "start_time": "2024-06-17T22:20:55.489Z"
   },
   {
    "duration": 48,
    "start_time": "2024-06-17T22:20:55.495Z"
   },
   {
    "duration": 101,
    "start_time": "2024-06-17T22:20:55.544Z"
   },
   {
    "duration": 111,
    "start_time": "2024-06-17T22:20:55.646Z"
   },
   {
    "duration": 3,
    "start_time": "2024-06-17T22:20:55.759Z"
   },
   {
    "duration": 8420,
    "start_time": "2024-06-17T22:20:55.764Z"
   },
   {
    "duration": 14,
    "start_time": "2024-06-17T22:21:04.186Z"
   },
   {
    "duration": 48,
    "start_time": "2024-06-17T22:21:04.202Z"
   },
   {
    "duration": 63,
    "start_time": "2024-06-17T22:21:04.252Z"
   },
   {
    "duration": 156,
    "start_time": "2024-06-17T22:21:04.317Z"
   },
   {
    "duration": 7,
    "start_time": "2024-06-17T22:21:04.475Z"
   },
   {
    "duration": 10,
    "start_time": "2024-06-17T22:21:04.484Z"
   },
   {
    "duration": 10,
    "start_time": "2024-06-17T22:21:04.495Z"
   },
   {
    "duration": 3,
    "start_time": "2024-06-17T22:21:04.509Z"
   },
   {
    "duration": 6,
    "start_time": "2024-06-17T22:21:04.514Z"
   },
   {
    "duration": 10,
    "start_time": "2024-06-17T22:21:04.521Z"
   },
   {
    "duration": 7,
    "start_time": "2024-06-17T22:21:04.533Z"
   },
   {
    "duration": 5,
    "start_time": "2024-06-17T22:21:04.541Z"
   },
   {
    "duration": 4,
    "start_time": "2024-06-17T22:21:04.548Z"
   },
   {
    "duration": 4,
    "start_time": "2024-06-17T22:21:04.554Z"
   },
   {
    "duration": 7403,
    "start_time": "2024-06-17T22:21:04.583Z"
   },
   {
    "duration": 0,
    "start_time": "2024-06-17T22:21:11.989Z"
   },
   {
    "duration": 0,
    "start_time": "2024-06-17T22:21:11.991Z"
   },
   {
    "duration": 0,
    "start_time": "2024-06-17T22:21:11.992Z"
   },
   {
    "duration": 0,
    "start_time": "2024-06-17T22:21:11.993Z"
   },
   {
    "duration": 0,
    "start_time": "2024-06-17T22:21:11.995Z"
   },
   {
    "duration": 5013,
    "start_time": "2024-06-17T22:21:45.767Z"
   },
   {
    "duration": 1670,
    "start_time": "2024-06-17T22:21:50.783Z"
   },
   {
    "duration": 401,
    "start_time": "2024-06-17T22:21:52.455Z"
   },
   {
    "duration": 54,
    "start_time": "2024-06-17T22:21:52.858Z"
   },
   {
    "duration": 199,
    "start_time": "2024-06-17T22:21:52.913Z"
   },
   {
    "duration": 18,
    "start_time": "2024-06-17T22:21:53.114Z"
   },
   {
    "duration": 14,
    "start_time": "2024-06-17T22:21:53.134Z"
   },
   {
    "duration": 9,
    "start_time": "2024-06-17T22:21:53.149Z"
   },
   {
    "duration": 64,
    "start_time": "2024-06-17T22:21:53.182Z"
   },
   {
    "duration": 10,
    "start_time": "2024-06-17T22:21:53.248Z"
   },
   {
    "duration": 38,
    "start_time": "2024-06-17T22:21:53.260Z"
   },
   {
    "duration": 108,
    "start_time": "2024-06-17T22:21:53.300Z"
   },
   {
    "duration": 52,
    "start_time": "2024-06-17T22:21:53.410Z"
   },
   {
    "duration": 60,
    "start_time": "2024-06-17T22:21:53.463Z"
   },
   {
    "duration": 6,
    "start_time": "2024-06-17T22:21:53.524Z"
   },
   {
    "duration": 63,
    "start_time": "2024-06-17T22:21:53.532Z"
   },
   {
    "duration": 96,
    "start_time": "2024-06-17T22:21:53.597Z"
   },
   {
    "duration": 104,
    "start_time": "2024-06-17T22:21:53.694Z"
   },
   {
    "duration": 4,
    "start_time": "2024-06-17T22:21:53.800Z"
   },
   {
    "duration": 8368,
    "start_time": "2024-06-17T22:21:53.805Z"
   },
   {
    "duration": 16,
    "start_time": "2024-06-17T22:22:02.175Z"
   },
   {
    "duration": 56,
    "start_time": "2024-06-17T22:22:02.193Z"
   },
   {
    "duration": 48,
    "start_time": "2024-06-17T22:22:02.251Z"
   },
   {
    "duration": 135,
    "start_time": "2024-06-17T22:22:02.300Z"
   },
   {
    "duration": 3,
    "start_time": "2024-06-17T22:22:02.437Z"
   },
   {
    "duration": 5,
    "start_time": "2024-06-17T22:22:02.441Z"
   },
   {
    "duration": 5,
    "start_time": "2024-06-17T22:22:02.447Z"
   },
   {
    "duration": 22,
    "start_time": "2024-06-17T22:22:02.456Z"
   },
   {
    "duration": 4,
    "start_time": "2024-06-17T22:22:02.481Z"
   },
   {
    "duration": 5,
    "start_time": "2024-06-17T22:22:02.486Z"
   },
   {
    "duration": 16,
    "start_time": "2024-06-17T22:22:02.492Z"
   },
   {
    "duration": 13,
    "start_time": "2024-06-17T22:22:02.509Z"
   },
   {
    "duration": 11,
    "start_time": "2024-06-17T22:22:02.524Z"
   },
   {
    "duration": 17,
    "start_time": "2024-06-17T22:22:02.538Z"
   },
   {
    "duration": 7011,
    "start_time": "2024-06-17T22:22:02.558Z"
   },
   {
    "duration": 0,
    "start_time": "2024-06-17T22:22:09.572Z"
   },
   {
    "duration": 0,
    "start_time": "2024-06-17T22:22:09.573Z"
   },
   {
    "duration": 0,
    "start_time": "2024-06-17T22:22:09.582Z"
   },
   {
    "duration": 0,
    "start_time": "2024-06-17T22:22:09.584Z"
   },
   {
    "duration": 0,
    "start_time": "2024-06-17T22:22:09.586Z"
   },
   {
    "duration": 4983,
    "start_time": "2024-06-17T22:22:49.665Z"
   },
   {
    "duration": 1703,
    "start_time": "2024-06-17T22:22:54.651Z"
   },
   {
    "duration": 409,
    "start_time": "2024-06-17T22:22:56.356Z"
   },
   {
    "duration": 54,
    "start_time": "2024-06-17T22:22:56.767Z"
   },
   {
    "duration": 200,
    "start_time": "2024-06-17T22:22:56.823Z"
   },
   {
    "duration": 18,
    "start_time": "2024-06-17T22:22:57.025Z"
   },
   {
    "duration": 30,
    "start_time": "2024-06-17T22:22:57.045Z"
   },
   {
    "duration": 37,
    "start_time": "2024-06-17T22:22:57.077Z"
   },
   {
    "duration": 73,
    "start_time": "2024-06-17T22:22:57.115Z"
   },
   {
    "duration": 11,
    "start_time": "2024-06-17T22:22:57.191Z"
   },
   {
    "duration": 45,
    "start_time": "2024-06-17T22:22:57.203Z"
   },
   {
    "duration": 114,
    "start_time": "2024-06-17T22:22:57.250Z"
   },
   {
    "duration": 68,
    "start_time": "2024-06-17T22:22:57.366Z"
   },
   {
    "duration": 63,
    "start_time": "2024-06-17T22:22:57.436Z"
   },
   {
    "duration": 6,
    "start_time": "2024-06-17T22:22:57.501Z"
   },
   {
    "duration": 77,
    "start_time": "2024-06-17T22:22:57.508Z"
   },
   {
    "duration": 88,
    "start_time": "2024-06-17T22:22:57.587Z"
   },
   {
    "duration": 108,
    "start_time": "2024-06-17T22:22:57.676Z"
   },
   {
    "duration": 4,
    "start_time": "2024-06-17T22:22:57.785Z"
   },
   {
    "duration": 8416,
    "start_time": "2024-06-17T22:22:57.790Z"
   },
   {
    "duration": 13,
    "start_time": "2024-06-17T22:23:06.208Z"
   },
   {
    "duration": 59,
    "start_time": "2024-06-17T22:23:06.223Z"
   },
   {
    "duration": 54,
    "start_time": "2024-06-17T22:23:06.283Z"
   },
   {
    "duration": 133,
    "start_time": "2024-06-17T22:23:06.339Z"
   },
   {
    "duration": 8,
    "start_time": "2024-06-17T22:23:06.474Z"
   },
   {
    "duration": 23,
    "start_time": "2024-06-17T22:23:06.484Z"
   },
   {
    "duration": 4,
    "start_time": "2024-06-17T22:23:06.509Z"
   },
   {
    "duration": 7,
    "start_time": "2024-06-17T22:23:06.517Z"
   },
   {
    "duration": 4,
    "start_time": "2024-06-17T22:23:06.525Z"
   },
   {
    "duration": 10,
    "start_time": "2024-06-17T22:23:06.531Z"
   },
   {
    "duration": 5,
    "start_time": "2024-06-17T22:23:06.543Z"
   },
   {
    "duration": 9,
    "start_time": "2024-06-17T22:23:06.550Z"
   },
   {
    "duration": 5,
    "start_time": "2024-06-17T22:23:06.560Z"
   },
   {
    "duration": 4,
    "start_time": "2024-06-17T22:23:06.566Z"
   },
   {
    "duration": 170147,
    "start_time": "2024-06-17T22:23:06.581Z"
   },
   {
    "duration": 0,
    "start_time": "2024-06-17T22:25:56.730Z"
   },
   {
    "duration": 0,
    "start_time": "2024-06-17T22:25:56.732Z"
   },
   {
    "duration": 0,
    "start_time": "2024-06-17T22:25:56.733Z"
   },
   {
    "duration": 0,
    "start_time": "2024-06-17T22:25:56.734Z"
   },
   {
    "duration": 0,
    "start_time": "2024-06-17T22:25:56.735Z"
   },
   {
    "duration": 5364,
    "start_time": "2024-06-17T22:26:03.736Z"
   },
   {
    "duration": 1704,
    "start_time": "2024-06-17T22:26:09.102Z"
   },
   {
    "duration": 393,
    "start_time": "2024-06-17T22:26:10.808Z"
   },
   {
    "duration": 54,
    "start_time": "2024-06-17T22:26:11.204Z"
   },
   {
    "duration": 184,
    "start_time": "2024-06-17T22:26:11.260Z"
   },
   {
    "duration": 17,
    "start_time": "2024-06-17T22:26:11.446Z"
   },
   {
    "duration": 24,
    "start_time": "2024-06-17T22:26:11.465Z"
   },
   {
    "duration": 7,
    "start_time": "2024-06-17T22:26:11.491Z"
   },
   {
    "duration": 84,
    "start_time": "2024-06-17T22:26:11.500Z"
   },
   {
    "duration": 11,
    "start_time": "2024-06-17T22:26:11.586Z"
   },
   {
    "duration": 22,
    "start_time": "2024-06-17T22:26:11.599Z"
   },
   {
    "duration": 131,
    "start_time": "2024-06-17T22:26:11.622Z"
   },
   {
    "duration": 67,
    "start_time": "2024-06-17T22:26:11.754Z"
   },
   {
    "duration": 59,
    "start_time": "2024-06-17T22:26:11.823Z"
   },
   {
    "duration": 7,
    "start_time": "2024-06-17T22:26:11.883Z"
   },
   {
    "duration": 58,
    "start_time": "2024-06-17T22:26:11.892Z"
   },
   {
    "duration": 105,
    "start_time": "2024-06-17T22:26:11.952Z"
   },
   {
    "duration": 105,
    "start_time": "2024-06-17T22:26:12.059Z"
   },
   {
    "duration": 3,
    "start_time": "2024-06-17T22:26:12.166Z"
   },
   {
    "duration": 8396,
    "start_time": "2024-06-17T22:26:12.181Z"
   },
   {
    "duration": 15,
    "start_time": "2024-06-17T22:26:20.581Z"
   },
   {
    "duration": 49,
    "start_time": "2024-06-17T22:26:20.598Z"
   },
   {
    "duration": 62,
    "start_time": "2024-06-17T22:26:20.648Z"
   },
   {
    "duration": 131,
    "start_time": "2024-06-17T22:26:20.711Z"
   },
   {
    "duration": 3,
    "start_time": "2024-06-17T22:26:20.844Z"
   },
   {
    "duration": 4,
    "start_time": "2024-06-17T22:26:20.848Z"
   },
   {
    "duration": 4,
    "start_time": "2024-06-17T22:26:20.854Z"
   },
   {
    "duration": 3,
    "start_time": "2024-06-17T22:26:20.861Z"
   },
   {
    "duration": 3,
    "start_time": "2024-06-17T22:26:20.882Z"
   },
   {
    "duration": 5,
    "start_time": "2024-06-17T22:26:20.887Z"
   },
   {
    "duration": 13,
    "start_time": "2024-06-17T22:26:20.893Z"
   },
   {
    "duration": 10,
    "start_time": "2024-06-17T22:26:20.907Z"
   },
   {
    "duration": 14,
    "start_time": "2024-06-17T22:26:20.919Z"
   },
   {
    "duration": 9,
    "start_time": "2024-06-17T22:26:20.934Z"
   },
   {
    "duration": 4975,
    "start_time": "2024-06-17T22:27:42.429Z"
   },
   {
    "duration": 1681,
    "start_time": "2024-06-17T22:27:47.406Z"
   },
   {
    "duration": 366,
    "start_time": "2024-06-17T22:27:49.089Z"
   },
   {
    "duration": 53,
    "start_time": "2024-06-17T22:27:49.457Z"
   },
   {
    "duration": 187,
    "start_time": "2024-06-17T22:27:49.512Z"
   },
   {
    "duration": 18,
    "start_time": "2024-06-17T22:27:49.701Z"
   },
   {
    "duration": 16,
    "start_time": "2024-06-17T22:27:49.721Z"
   },
   {
    "duration": 8,
    "start_time": "2024-06-17T22:27:49.739Z"
   },
   {
    "duration": 92,
    "start_time": "2024-06-17T22:27:49.749Z"
   },
   {
    "duration": 13,
    "start_time": "2024-06-17T22:27:49.845Z"
   },
   {
    "duration": 41,
    "start_time": "2024-06-17T22:27:49.861Z"
   },
   {
    "duration": 127,
    "start_time": "2024-06-17T22:27:49.904Z"
   },
   {
    "duration": 64,
    "start_time": "2024-06-17T22:27:50.032Z"
   },
   {
    "duration": 54,
    "start_time": "2024-06-17T22:27:50.098Z"
   },
   {
    "duration": 7,
    "start_time": "2024-06-17T22:27:50.154Z"
   },
   {
    "duration": 61,
    "start_time": "2024-06-17T22:27:50.162Z"
   },
   {
    "duration": 108,
    "start_time": "2024-06-17T22:27:50.224Z"
   },
   {
    "duration": 125,
    "start_time": "2024-06-17T22:27:50.334Z"
   },
   {
    "duration": 6,
    "start_time": "2024-06-17T22:27:50.461Z"
   },
   {
    "duration": 8414,
    "start_time": "2024-06-17T22:27:50.469Z"
   },
   {
    "duration": 14,
    "start_time": "2024-06-17T22:27:58.885Z"
   },
   {
    "duration": 60,
    "start_time": "2024-06-17T22:27:58.901Z"
   },
   {
    "duration": 58,
    "start_time": "2024-06-17T22:27:58.963Z"
   },
   {
    "duration": 146,
    "start_time": "2024-06-17T22:27:59.023Z"
   },
   {
    "duration": 4,
    "start_time": "2024-06-17T22:27:59.170Z"
   },
   {
    "duration": 30,
    "start_time": "2024-06-17T22:27:59.175Z"
   },
   {
    "duration": 15,
    "start_time": "2024-06-17T22:27:59.207Z"
   },
   {
    "duration": 18,
    "start_time": "2024-06-17T22:27:59.225Z"
   },
   {
    "duration": 20,
    "start_time": "2024-06-17T22:27:59.245Z"
   },
   {
    "duration": 20,
    "start_time": "2024-06-17T22:27:59.267Z"
   },
   {
    "duration": 14,
    "start_time": "2024-06-17T22:27:59.289Z"
   },
   {
    "duration": 14,
    "start_time": "2024-06-17T22:27:59.305Z"
   },
   {
    "duration": 14,
    "start_time": "2024-06-17T22:27:59.321Z"
   },
   {
    "duration": 37,
    "start_time": "2024-06-17T22:27:59.337Z"
   },
   {
    "duration": 5036,
    "start_time": "2024-06-17T22:29:57.267Z"
   },
   {
    "duration": 1719,
    "start_time": "2024-06-17T22:30:02.305Z"
   },
   {
    "duration": 357,
    "start_time": "2024-06-17T22:30:04.026Z"
   },
   {
    "duration": 57,
    "start_time": "2024-06-17T22:30:04.385Z"
   },
   {
    "duration": 191,
    "start_time": "2024-06-17T22:30:04.445Z"
   },
   {
    "duration": 16,
    "start_time": "2024-06-17T22:30:04.638Z"
   },
   {
    "duration": 27,
    "start_time": "2024-06-17T22:30:04.656Z"
   },
   {
    "duration": 9,
    "start_time": "2024-06-17T22:30:04.685Z"
   },
   {
    "duration": 151,
    "start_time": "2024-06-17T22:30:04.695Z"
   },
   {
    "duration": 10,
    "start_time": "2024-06-17T22:30:04.848Z"
   },
   {
    "duration": 28,
    "start_time": "2024-06-17T22:30:04.860Z"
   },
   {
    "duration": 37,
    "start_time": "2024-06-17T22:30:04.890Z"
   },
   {
    "duration": 64,
    "start_time": "2024-06-17T22:30:04.929Z"
   },
   {
    "duration": 49,
    "start_time": "2024-06-17T22:30:04.996Z"
   },
   {
    "duration": 7,
    "start_time": "2024-06-17T22:30:05.047Z"
   },
   {
    "duration": 70,
    "start_time": "2024-06-17T22:30:05.056Z"
   },
   {
    "duration": 102,
    "start_time": "2024-06-17T22:30:05.128Z"
   },
   {
    "duration": 102,
    "start_time": "2024-06-17T22:30:05.232Z"
   },
   {
    "duration": 6,
    "start_time": "2024-06-17T22:30:05.336Z"
   },
   {
    "duration": 8031,
    "start_time": "2024-06-17T22:30:05.344Z"
   },
   {
    "duration": 12,
    "start_time": "2024-06-17T22:30:13.381Z"
   },
   {
    "duration": 54,
    "start_time": "2024-06-17T22:30:13.395Z"
   },
   {
    "duration": 39,
    "start_time": "2024-06-17T22:30:13.450Z"
   },
   {
    "duration": 116,
    "start_time": "2024-06-17T22:30:13.490Z"
   },
   {
    "duration": 3,
    "start_time": "2024-06-17T22:30:13.608Z"
   },
   {
    "duration": 18,
    "start_time": "2024-06-17T22:30:13.613Z"
   },
   {
    "duration": 4,
    "start_time": "2024-06-17T22:30:13.633Z"
   },
   {
    "duration": 8,
    "start_time": "2024-06-17T22:30:13.639Z"
   },
   {
    "duration": 4,
    "start_time": "2024-06-17T22:30:13.649Z"
   },
   {
    "duration": 17,
    "start_time": "2024-06-17T22:30:13.655Z"
   },
   {
    "duration": 8,
    "start_time": "2024-06-17T22:30:13.674Z"
   },
   {
    "duration": 17,
    "start_time": "2024-06-17T22:30:13.683Z"
   },
   {
    "duration": 24,
    "start_time": "2024-06-17T22:30:13.702Z"
   },
   {
    "duration": 5,
    "start_time": "2024-06-17T22:30:13.728Z"
   },
   {
    "duration": 38543,
    "start_time": "2024-06-17T22:30:13.735Z"
   },
   {
    "duration": 0,
    "start_time": "2024-06-17T22:30:52.280Z"
   },
   {
    "duration": 0,
    "start_time": "2024-06-17T22:30:52.282Z"
   },
   {
    "duration": 0,
    "start_time": "2024-06-17T22:30:52.283Z"
   },
   {
    "duration": 0,
    "start_time": "2024-06-17T22:30:52.284Z"
   },
   {
    "duration": 0,
    "start_time": "2024-06-17T22:30:52.285Z"
   },
   {
    "duration": 5026,
    "start_time": "2024-06-17T22:32:04.158Z"
   },
   {
    "duration": 1652,
    "start_time": "2024-06-17T22:32:09.187Z"
   },
   {
    "duration": 364,
    "start_time": "2024-06-17T22:32:10.844Z"
   },
   {
    "duration": 60,
    "start_time": "2024-06-17T22:32:11.210Z"
   },
   {
    "duration": 198,
    "start_time": "2024-06-17T22:32:11.272Z"
   },
   {
    "duration": 22,
    "start_time": "2024-06-17T22:32:11.472Z"
   },
   {
    "duration": 13,
    "start_time": "2024-06-17T22:32:11.496Z"
   },
   {
    "duration": 9,
    "start_time": "2024-06-17T22:32:11.510Z"
   },
   {
    "duration": 10,
    "start_time": "2024-06-17T22:32:11.522Z"
   },
   {
    "duration": 20,
    "start_time": "2024-06-17T22:32:11.533Z"
   },
   {
    "duration": 64,
    "start_time": "2024-06-17T22:32:11.554Z"
   },
   {
    "duration": 65,
    "start_time": "2024-06-17T22:32:11.620Z"
   },
   {
    "duration": 49,
    "start_time": "2024-06-17T22:32:11.686Z"
   },
   {
    "duration": 5,
    "start_time": "2024-06-17T22:32:11.737Z"
   },
   {
    "duration": 65,
    "start_time": "2024-06-17T22:32:11.743Z"
   },
   {
    "duration": 99,
    "start_time": "2024-06-17T22:32:11.810Z"
   },
   {
    "duration": 104,
    "start_time": "2024-06-17T22:32:11.911Z"
   },
   {
    "duration": 4,
    "start_time": "2024-06-17T22:32:12.017Z"
   },
   {
    "duration": 7905,
    "start_time": "2024-06-17T22:32:12.023Z"
   },
   {
    "duration": 16,
    "start_time": "2024-06-17T22:32:19.930Z"
   },
   {
    "duration": 55,
    "start_time": "2024-06-17T22:32:19.948Z"
   },
   {
    "duration": 37,
    "start_time": "2024-06-17T22:32:20.004Z"
   },
   {
    "duration": 7,
    "start_time": "2024-06-17T22:32:20.043Z"
   },
   {
    "duration": 5,
    "start_time": "2024-06-17T22:32:20.051Z"
   },
   {
    "duration": 26,
    "start_time": "2024-06-17T22:32:20.057Z"
   },
   {
    "duration": 4,
    "start_time": "2024-06-17T22:32:20.085Z"
   },
   {
    "duration": 2,
    "start_time": "2024-06-17T22:32:20.092Z"
   },
   {
    "duration": 3,
    "start_time": "2024-06-17T22:32:20.096Z"
   },
   {
    "duration": 8,
    "start_time": "2024-06-17T22:32:20.101Z"
   },
   {
    "duration": 12,
    "start_time": "2024-06-17T22:32:20.110Z"
   },
   {
    "duration": 25,
    "start_time": "2024-06-17T22:32:20.123Z"
   },
   {
    "duration": 14,
    "start_time": "2024-06-17T22:32:20.150Z"
   },
   {
    "duration": 6,
    "start_time": "2024-06-17T22:32:20.165Z"
   },
   {
    "duration": 5017,
    "start_time": "2024-06-17T22:34:55.484Z"
   },
   {
    "duration": 1673,
    "start_time": "2024-06-17T22:35:00.503Z"
   },
   {
    "duration": 398,
    "start_time": "2024-06-17T22:35:02.177Z"
   },
   {
    "duration": 58,
    "start_time": "2024-06-17T22:35:02.578Z"
   },
   {
    "duration": 179,
    "start_time": "2024-06-17T22:35:02.637Z"
   },
   {
    "duration": 17,
    "start_time": "2024-06-17T22:35:02.817Z"
   },
   {
    "duration": 17,
    "start_time": "2024-06-17T22:35:02.835Z"
   },
   {
    "duration": 14,
    "start_time": "2024-06-17T22:35:02.853Z"
   },
   {
    "duration": 33,
    "start_time": "2024-06-17T22:35:02.868Z"
   },
   {
    "duration": 26,
    "start_time": "2024-06-17T22:35:02.903Z"
   },
   {
    "duration": 42,
    "start_time": "2024-06-17T22:35:02.931Z"
   },
   {
    "duration": 79,
    "start_time": "2024-06-17T22:35:02.975Z"
   },
   {
    "duration": 59,
    "start_time": "2024-06-17T22:35:03.055Z"
   },
   {
    "duration": 7,
    "start_time": "2024-06-17T22:35:03.116Z"
   },
   {
    "duration": 77,
    "start_time": "2024-06-17T22:35:03.124Z"
   },
   {
    "duration": 91,
    "start_time": "2024-06-17T22:35:03.202Z"
   },
   {
    "duration": 104,
    "start_time": "2024-06-17T22:35:03.294Z"
   },
   {
    "duration": 4,
    "start_time": "2024-06-17T22:35:03.400Z"
   },
   {
    "duration": 155,
    "start_time": "2024-06-17T22:35:03.406Z"
   },
   {
    "duration": 0,
    "start_time": "2024-06-17T22:35:03.564Z"
   },
   {
    "duration": 0,
    "start_time": "2024-06-17T22:35:03.566Z"
   },
   {
    "duration": 0,
    "start_time": "2024-06-17T22:35:03.568Z"
   },
   {
    "duration": 0,
    "start_time": "2024-06-17T22:35:03.569Z"
   },
   {
    "duration": 0,
    "start_time": "2024-06-17T22:35:03.570Z"
   },
   {
    "duration": 0,
    "start_time": "2024-06-17T22:35:03.572Z"
   },
   {
    "duration": 0,
    "start_time": "2024-06-17T22:35:03.582Z"
   },
   {
    "duration": 0,
    "start_time": "2024-06-17T22:35:03.583Z"
   },
   {
    "duration": 0,
    "start_time": "2024-06-17T22:35:03.585Z"
   },
   {
    "duration": 0,
    "start_time": "2024-06-17T22:35:03.586Z"
   },
   {
    "duration": 0,
    "start_time": "2024-06-17T22:35:03.587Z"
   },
   {
    "duration": 0,
    "start_time": "2024-06-17T22:35:03.589Z"
   },
   {
    "duration": 0,
    "start_time": "2024-06-17T22:35:03.590Z"
   },
   {
    "duration": 0,
    "start_time": "2024-06-17T22:35:03.591Z"
   },
   {
    "duration": 0,
    "start_time": "2024-06-17T22:35:03.592Z"
   },
   {
    "duration": 0,
    "start_time": "2024-06-17T22:35:03.594Z"
   },
   {
    "duration": 0,
    "start_time": "2024-06-17T22:35:03.595Z"
   },
   {
    "duration": 0,
    "start_time": "2024-06-17T22:35:03.596Z"
   },
   {
    "duration": 0,
    "start_time": "2024-06-17T22:35:03.597Z"
   },
   {
    "duration": 0,
    "start_time": "2024-06-17T22:35:03.599Z"
   },
   {
    "duration": 0,
    "start_time": "2024-06-17T22:35:03.601Z"
   },
   {
    "duration": 59,
    "start_time": "2024-06-17T22:35:55.347Z"
   },
   {
    "duration": 42,
    "start_time": "2024-06-17T22:36:09.030Z"
   },
   {
    "duration": 8591,
    "start_time": "2024-06-17T22:36:12.591Z"
   },
   {
    "duration": 5098,
    "start_time": "2024-06-17T22:39:09.942Z"
   },
   {
    "duration": 1656,
    "start_time": "2024-06-17T22:39:15.042Z"
   },
   {
    "duration": 388,
    "start_time": "2024-06-17T22:39:16.700Z"
   },
   {
    "duration": 53,
    "start_time": "2024-06-17T22:39:17.090Z"
   },
   {
    "duration": 180,
    "start_time": "2024-06-17T22:39:17.145Z"
   },
   {
    "duration": 16,
    "start_time": "2024-06-17T22:39:17.327Z"
   },
   {
    "duration": 12,
    "start_time": "2024-06-17T22:39:17.345Z"
   },
   {
    "duration": 26,
    "start_time": "2024-06-17T22:39:17.359Z"
   },
   {
    "duration": 39,
    "start_time": "2024-06-17T22:39:17.386Z"
   },
   {
    "duration": 24,
    "start_time": "2024-06-17T22:39:17.427Z"
   },
   {
    "duration": 35,
    "start_time": "2024-06-17T22:39:17.452Z"
   },
   {
    "duration": 60,
    "start_time": "2024-06-17T22:39:17.489Z"
   },
   {
    "duration": 53,
    "start_time": "2024-06-17T22:39:17.550Z"
   },
   {
    "duration": 6,
    "start_time": "2024-06-17T22:39:17.605Z"
   },
   {
    "duration": 66,
    "start_time": "2024-06-17T22:39:17.613Z"
   },
   {
    "duration": 91,
    "start_time": "2024-06-17T22:39:17.681Z"
   },
   {
    "duration": 117,
    "start_time": "2024-06-17T22:39:17.773Z"
   },
   {
    "duration": 9,
    "start_time": "2024-06-17T22:39:17.891Z"
   },
   {
    "duration": 66,
    "start_time": "2024-06-17T22:39:17.902Z"
   },
   {
    "duration": 1273,
    "start_time": "2024-06-17T22:39:17.970Z"
   },
   {
    "duration": 0,
    "start_time": "2024-06-17T22:39:19.245Z"
   },
   {
    "duration": 0,
    "start_time": "2024-06-17T22:39:19.246Z"
   },
   {
    "duration": 0,
    "start_time": "2024-06-17T22:39:19.248Z"
   },
   {
    "duration": 0,
    "start_time": "2024-06-17T22:39:19.248Z"
   },
   {
    "duration": 0,
    "start_time": "2024-06-17T22:39:19.249Z"
   },
   {
    "duration": 0,
    "start_time": "2024-06-17T22:39:19.250Z"
   },
   {
    "duration": 0,
    "start_time": "2024-06-17T22:39:19.251Z"
   },
   {
    "duration": 0,
    "start_time": "2024-06-17T22:39:19.253Z"
   },
   {
    "duration": 0,
    "start_time": "2024-06-17T22:39:19.254Z"
   },
   {
    "duration": 0,
    "start_time": "2024-06-17T22:39:19.255Z"
   },
   {
    "duration": 0,
    "start_time": "2024-06-17T22:39:19.256Z"
   },
   {
    "duration": 0,
    "start_time": "2024-06-17T22:39:19.257Z"
   },
   {
    "duration": 0,
    "start_time": "2024-06-17T22:39:19.258Z"
   },
   {
    "duration": 0,
    "start_time": "2024-06-17T22:39:19.259Z"
   },
   {
    "duration": 0,
    "start_time": "2024-06-17T22:39:19.260Z"
   },
   {
    "duration": 0,
    "start_time": "2024-06-17T22:39:19.261Z"
   },
   {
    "duration": 0,
    "start_time": "2024-06-17T22:39:19.262Z"
   },
   {
    "duration": 0,
    "start_time": "2024-06-17T22:39:19.263Z"
   },
   {
    "duration": 0,
    "start_time": "2024-06-17T22:39:19.264Z"
   },
   {
    "duration": 0,
    "start_time": "2024-06-17T22:39:19.265Z"
   },
   {
    "duration": 0,
    "start_time": "2024-06-17T22:39:19.266Z"
   },
   {
    "duration": 13,
    "start_time": "2024-06-17T22:41:14.283Z"
   },
   {
    "duration": 17,
    "start_time": "2024-06-17T22:41:27.203Z"
   },
   {
    "duration": 8861,
    "start_time": "2024-06-17T22:41:33.364Z"
   },
   {
    "duration": 4952,
    "start_time": "2024-06-17T22:45:25.059Z"
   },
   {
    "duration": 1690,
    "start_time": "2024-06-17T22:45:30.014Z"
   },
   {
    "duration": 530,
    "start_time": "2024-06-17T22:45:31.705Z"
   },
   {
    "duration": 54,
    "start_time": "2024-06-17T22:45:32.237Z"
   },
   {
    "duration": 178,
    "start_time": "2024-06-17T22:45:32.293Z"
   },
   {
    "duration": 22,
    "start_time": "2024-06-17T22:45:32.473Z"
   },
   {
    "duration": 24,
    "start_time": "2024-06-17T22:45:32.497Z"
   },
   {
    "duration": 12,
    "start_time": "2024-06-17T22:45:32.522Z"
   },
   {
    "duration": 23,
    "start_time": "2024-06-17T22:45:32.535Z"
   },
   {
    "duration": 23,
    "start_time": "2024-06-17T22:45:32.561Z"
   },
   {
    "duration": 82,
    "start_time": "2024-06-17T22:45:32.585Z"
   },
   {
    "duration": 54,
    "start_time": "2024-06-17T22:45:32.668Z"
   },
   {
    "duration": 51,
    "start_time": "2024-06-17T22:45:32.723Z"
   },
   {
    "duration": 19,
    "start_time": "2024-06-17T22:45:32.776Z"
   },
   {
    "duration": 78,
    "start_time": "2024-06-17T22:45:32.796Z"
   },
   {
    "duration": 87,
    "start_time": "2024-06-17T22:45:32.876Z"
   },
   {
    "duration": 98,
    "start_time": "2024-06-17T22:45:32.965Z"
   },
   {
    "duration": 16,
    "start_time": "2024-06-17T22:45:33.066Z"
   },
   {
    "duration": 61,
    "start_time": "2024-06-17T22:45:33.083Z"
   },
   {
    "duration": 102,
    "start_time": "2024-06-17T22:45:33.146Z"
   },
   {
    "duration": 9466,
    "start_time": "2024-06-17T22:45:33.250Z"
   },
   {
    "duration": 15,
    "start_time": "2024-06-17T22:45:42.717Z"
   },
   {
    "duration": 103,
    "start_time": "2024-06-17T22:45:42.733Z"
   },
   {
    "duration": 36,
    "start_time": "2024-06-17T22:45:42.838Z"
   },
   {
    "duration": 10,
    "start_time": "2024-06-17T22:45:42.876Z"
   },
   {
    "duration": 7,
    "start_time": "2024-06-17T22:45:42.888Z"
   },
   {
    "duration": 6,
    "start_time": "2024-06-17T22:45:42.897Z"
   },
   {
    "duration": 6,
    "start_time": "2024-06-17T22:45:42.906Z"
   },
   {
    "duration": 4,
    "start_time": "2024-06-17T22:45:42.913Z"
   },
   {
    "duration": 5,
    "start_time": "2024-06-17T22:45:42.919Z"
   },
   {
    "duration": 9,
    "start_time": "2024-06-17T22:45:42.926Z"
   },
   {
    "duration": 9,
    "start_time": "2024-06-17T22:45:42.937Z"
   },
   {
    "duration": 21,
    "start_time": "2024-06-17T22:45:42.948Z"
   },
   {
    "duration": 32,
    "start_time": "2024-06-17T22:45:42.970Z"
   },
   {
    "duration": 21,
    "start_time": "2024-06-17T22:45:43.004Z"
   },
   {
    "duration": 1313,
    "start_time": "2024-06-17T22:45:43.026Z"
   },
   {
    "duration": 0,
    "start_time": "2024-06-17T22:45:44.341Z"
   },
   {
    "duration": 0,
    "start_time": "2024-06-17T22:45:44.342Z"
   },
   {
    "duration": 0,
    "start_time": "2024-06-17T22:45:44.343Z"
   },
   {
    "duration": 0,
    "start_time": "2024-06-17T22:45:44.344Z"
   },
   {
    "duration": 0,
    "start_time": "2024-06-17T22:45:44.345Z"
   },
   {
    "duration": 4956,
    "start_time": "2024-06-17T22:46:19.910Z"
   },
   {
    "duration": 1723,
    "start_time": "2024-06-17T22:46:24.869Z"
   },
   {
    "duration": 359,
    "start_time": "2024-06-17T22:46:26.593Z"
   },
   {
    "duration": 53,
    "start_time": "2024-06-17T22:46:26.954Z"
   },
   {
    "duration": 183,
    "start_time": "2024-06-17T22:46:27.008Z"
   },
   {
    "duration": 16,
    "start_time": "2024-06-17T22:46:27.193Z"
   },
   {
    "duration": 13,
    "start_time": "2024-06-17T22:46:27.211Z"
   },
   {
    "duration": 35,
    "start_time": "2024-06-17T22:46:27.226Z"
   },
   {
    "duration": 14,
    "start_time": "2024-06-17T22:46:27.263Z"
   },
   {
    "duration": 19,
    "start_time": "2024-06-17T22:46:27.279Z"
   },
   {
    "duration": 34,
    "start_time": "2024-06-17T22:46:27.300Z"
   },
   {
    "duration": 75,
    "start_time": "2024-06-17T22:46:27.336Z"
   },
   {
    "duration": 54,
    "start_time": "2024-06-17T22:46:27.413Z"
   },
   {
    "duration": 17,
    "start_time": "2024-06-17T22:46:27.469Z"
   },
   {
    "duration": 51,
    "start_time": "2024-06-17T22:46:27.487Z"
   },
   {
    "duration": 106,
    "start_time": "2024-06-17T22:46:27.539Z"
   },
   {
    "duration": 99,
    "start_time": "2024-06-17T22:46:27.647Z"
   },
   {
    "duration": 5,
    "start_time": "2024-06-17T22:46:27.748Z"
   },
   {
    "duration": 67,
    "start_time": "2024-06-17T22:46:27.755Z"
   },
   {
    "duration": 8713,
    "start_time": "2024-06-17T22:46:27.824Z"
   },
   {
    "duration": 14,
    "start_time": "2024-06-17T22:46:36.539Z"
   },
   {
    "duration": 60,
    "start_time": "2024-06-17T22:46:36.555Z"
   },
   {
    "duration": 40,
    "start_time": "2024-06-17T22:46:36.617Z"
   },
   {
    "duration": 6,
    "start_time": "2024-06-17T22:46:36.659Z"
   },
   {
    "duration": 18,
    "start_time": "2024-06-17T22:46:36.667Z"
   },
   {
    "duration": 5,
    "start_time": "2024-06-17T22:46:36.686Z"
   },
   {
    "duration": 8,
    "start_time": "2024-06-17T22:46:36.692Z"
   },
   {
    "duration": 5,
    "start_time": "2024-06-17T22:46:36.703Z"
   },
   {
    "duration": 11,
    "start_time": "2024-06-17T22:46:36.709Z"
   },
   {
    "duration": 6,
    "start_time": "2024-06-17T22:46:36.721Z"
   },
   {
    "duration": 18,
    "start_time": "2024-06-17T22:46:36.729Z"
   },
   {
    "duration": 7,
    "start_time": "2024-06-17T22:46:36.749Z"
   },
   {
    "duration": 16,
    "start_time": "2024-06-17T22:46:36.758Z"
   },
   {
    "duration": 6,
    "start_time": "2024-06-17T22:46:36.776Z"
   },
   {
    "duration": 4888,
    "start_time": "2024-06-17T22:47:15.909Z"
   },
   {
    "duration": 1695,
    "start_time": "2024-06-17T22:47:20.799Z"
   },
   {
    "duration": 379,
    "start_time": "2024-06-17T22:47:22.496Z"
   },
   {
    "duration": 55,
    "start_time": "2024-06-17T22:47:22.877Z"
   },
   {
    "duration": 209,
    "start_time": "2024-06-17T22:47:22.933Z"
   },
   {
    "duration": 21,
    "start_time": "2024-06-17T22:47:23.144Z"
   },
   {
    "duration": 23,
    "start_time": "2024-06-17T22:47:23.167Z"
   },
   {
    "duration": 27,
    "start_time": "2024-06-17T22:47:23.192Z"
   },
   {
    "duration": 38,
    "start_time": "2024-06-17T22:47:23.220Z"
   },
   {
    "duration": 20,
    "start_time": "2024-06-17T22:47:23.261Z"
   },
   {
    "duration": 52,
    "start_time": "2024-06-17T22:47:23.283Z"
   },
   {
    "duration": 55,
    "start_time": "2024-06-17T22:47:23.337Z"
   },
   {
    "duration": 52,
    "start_time": "2024-06-17T22:47:23.394Z"
   },
   {
    "duration": 6,
    "start_time": "2024-06-17T22:47:23.447Z"
   },
   {
    "duration": 58,
    "start_time": "2024-06-17T22:47:23.454Z"
   },
   {
    "duration": 102,
    "start_time": "2024-06-17T22:47:23.513Z"
   },
   {
    "duration": 101,
    "start_time": "2024-06-17T22:47:23.616Z"
   },
   {
    "duration": 11,
    "start_time": "2024-06-17T22:47:23.719Z"
   },
   {
    "duration": 87,
    "start_time": "2024-06-17T22:47:23.731Z"
   },
   {
    "duration": 9,
    "start_time": "2024-06-17T22:47:23.820Z"
   },
   {
    "duration": 8769,
    "start_time": "2024-06-17T22:47:23.831Z"
   },
   {
    "duration": 14,
    "start_time": "2024-06-17T22:47:32.601Z"
   },
   {
    "duration": 76,
    "start_time": "2024-06-17T22:47:32.617Z"
   },
   {
    "duration": 40,
    "start_time": "2024-06-17T22:47:32.695Z"
   },
   {
    "duration": 7,
    "start_time": "2024-06-17T22:47:32.737Z"
   },
   {
    "duration": 33,
    "start_time": "2024-06-17T22:47:32.745Z"
   },
   {
    "duration": 4,
    "start_time": "2024-06-17T22:47:32.779Z"
   },
   {
    "duration": 3,
    "start_time": "2024-06-17T22:47:32.786Z"
   },
   {
    "duration": 4,
    "start_time": "2024-06-17T22:47:32.791Z"
   },
   {
    "duration": 9,
    "start_time": "2024-06-17T22:47:32.796Z"
   },
   {
    "duration": 30,
    "start_time": "2024-06-17T22:47:32.806Z"
   },
   {
    "duration": 20,
    "start_time": "2024-06-17T22:47:32.837Z"
   },
   {
    "duration": 11,
    "start_time": "2024-06-17T22:47:32.859Z"
   },
   {
    "duration": 20,
    "start_time": "2024-06-17T22:47:32.872Z"
   },
   {
    "duration": 3,
    "start_time": "2024-06-17T22:47:32.894Z"
   },
   {
    "duration": 4970,
    "start_time": "2024-06-17T22:48:38.339Z"
   },
   {
    "duration": 1664,
    "start_time": "2024-06-17T22:48:43.311Z"
   },
   {
    "duration": 381,
    "start_time": "2024-06-17T22:48:44.977Z"
   },
   {
    "duration": 55,
    "start_time": "2024-06-17T22:48:45.360Z"
   },
   {
    "duration": 199,
    "start_time": "2024-06-17T22:48:45.417Z"
   },
   {
    "duration": 18,
    "start_time": "2024-06-17T22:48:45.618Z"
   },
   {
    "duration": 13,
    "start_time": "2024-06-17T22:48:45.638Z"
   },
   {
    "duration": 8,
    "start_time": "2024-06-17T22:48:45.652Z"
   },
   {
    "duration": 14,
    "start_time": "2024-06-17T22:48:45.683Z"
   },
   {
    "duration": 22,
    "start_time": "2024-06-17T22:48:45.700Z"
   },
   {
    "duration": 38,
    "start_time": "2024-06-17T22:48:45.723Z"
   },
   {
    "duration": 54,
    "start_time": "2024-06-17T22:48:45.783Z"
   },
   {
    "duration": 68,
    "start_time": "2024-06-17T22:48:45.839Z"
   },
   {
    "duration": 7,
    "start_time": "2024-06-17T22:48:45.909Z"
   },
   {
    "duration": 90,
    "start_time": "2024-06-17T22:48:45.918Z"
   },
   {
    "duration": 100,
    "start_time": "2024-06-17T22:48:46.010Z"
   },
   {
    "duration": 114,
    "start_time": "2024-06-17T22:48:46.112Z"
   },
   {
    "duration": 5,
    "start_time": "2024-06-17T22:48:46.227Z"
   },
   {
    "duration": 59,
    "start_time": "2024-06-17T22:48:46.234Z"
   },
   {
    "duration": 10,
    "start_time": "2024-06-17T22:48:46.294Z"
   },
   {
    "duration": 9,
    "start_time": "2024-06-17T22:48:46.306Z"
   },
   {
    "duration": 8917,
    "start_time": "2024-06-17T22:48:46.317Z"
   },
   {
    "duration": 13,
    "start_time": "2024-06-17T22:48:55.236Z"
   },
   {
    "duration": 58,
    "start_time": "2024-06-17T22:48:55.250Z"
   },
   {
    "duration": 45,
    "start_time": "2024-06-17T22:48:55.310Z"
   },
   {
    "duration": 7,
    "start_time": "2024-06-17T22:48:55.357Z"
   },
   {
    "duration": 17,
    "start_time": "2024-06-17T22:48:55.365Z"
   },
   {
    "duration": 7,
    "start_time": "2024-06-17T22:48:55.385Z"
   },
   {
    "duration": 5,
    "start_time": "2024-06-17T22:48:55.393Z"
   },
   {
    "duration": 13,
    "start_time": "2024-06-17T22:48:55.399Z"
   },
   {
    "duration": 4,
    "start_time": "2024-06-17T22:48:55.413Z"
   },
   {
    "duration": 3,
    "start_time": "2024-06-17T22:48:55.419Z"
   },
   {
    "duration": 5,
    "start_time": "2024-06-17T22:48:55.424Z"
   },
   {
    "duration": 7,
    "start_time": "2024-06-17T22:48:55.430Z"
   },
   {
    "duration": 4,
    "start_time": "2024-06-17T22:48:55.439Z"
   },
   {
    "duration": 3,
    "start_time": "2024-06-17T22:48:55.445Z"
   },
   {
    "duration": 5134,
    "start_time": "2024-06-17T22:49:59.799Z"
   },
   {
    "duration": 1641,
    "start_time": "2024-06-17T22:50:04.936Z"
   },
   {
    "duration": 383,
    "start_time": "2024-06-17T22:50:06.579Z"
   },
   {
    "duration": 57,
    "start_time": "2024-06-17T22:50:06.965Z"
   },
   {
    "duration": 188,
    "start_time": "2024-06-17T22:50:07.024Z"
   },
   {
    "duration": 19,
    "start_time": "2024-06-17T22:50:07.214Z"
   },
   {
    "duration": 15,
    "start_time": "2024-06-17T22:50:07.234Z"
   },
   {
    "duration": 7,
    "start_time": "2024-06-17T22:50:07.251Z"
   },
   {
    "duration": 19,
    "start_time": "2024-06-17T22:50:07.281Z"
   },
   {
    "duration": 19,
    "start_time": "2024-06-17T22:50:07.302Z"
   },
   {
    "duration": 39,
    "start_time": "2024-06-17T22:50:07.323Z"
   },
   {
    "duration": 71,
    "start_time": "2024-06-17T22:50:07.364Z"
   },
   {
    "duration": 74,
    "start_time": "2024-06-17T22:50:07.436Z"
   },
   {
    "duration": 5,
    "start_time": "2024-06-17T22:50:07.512Z"
   },
   {
    "duration": 48,
    "start_time": "2024-06-17T22:50:07.519Z"
   },
   {
    "duration": 102,
    "start_time": "2024-06-17T22:50:07.569Z"
   },
   {
    "duration": 108,
    "start_time": "2024-06-17T22:50:07.681Z"
   },
   {
    "duration": 4,
    "start_time": "2024-06-17T22:50:07.791Z"
   },
   {
    "duration": 57,
    "start_time": "2024-06-17T22:50:07.797Z"
   },
   {
    "duration": 12,
    "start_time": "2024-06-17T22:50:07.856Z"
   },
   {
    "duration": 21,
    "start_time": "2024-06-17T22:50:07.870Z"
   },
   {
    "duration": 8570,
    "start_time": "2024-06-17T22:50:07.894Z"
   },
   {
    "duration": 20,
    "start_time": "2024-06-17T22:50:16.466Z"
   },
   {
    "duration": 45,
    "start_time": "2024-06-17T22:50:16.488Z"
   },
   {
    "duration": 55,
    "start_time": "2024-06-17T22:50:16.535Z"
   },
   {
    "duration": 7,
    "start_time": "2024-06-17T22:50:16.592Z"
   },
   {
    "duration": 20,
    "start_time": "2024-06-17T22:50:16.600Z"
   },
   {
    "duration": 5,
    "start_time": "2024-06-17T22:50:16.623Z"
   },
   {
    "duration": 23,
    "start_time": "2024-06-17T22:50:16.630Z"
   },
   {
    "duration": 28,
    "start_time": "2024-06-17T22:50:16.655Z"
   },
   {
    "duration": 18,
    "start_time": "2024-06-17T22:50:16.685Z"
   },
   {
    "duration": 24,
    "start_time": "2024-06-17T22:50:16.705Z"
   },
   {
    "duration": 10,
    "start_time": "2024-06-17T22:50:16.731Z"
   },
   {
    "duration": 51,
    "start_time": "2024-06-17T22:50:16.742Z"
   },
   {
    "duration": 27,
    "start_time": "2024-06-17T22:50:16.795Z"
   },
   {
    "duration": 19,
    "start_time": "2024-06-17T22:50:16.823Z"
   },
   {
    "duration": 236595,
    "start_time": "2024-06-17T22:50:16.843Z"
   },
   {
    "duration": 122,
    "start_time": "2024-06-17T22:54:13.440Z"
   },
   {
    "duration": 0,
    "start_time": "2024-06-17T22:54:13.564Z"
   },
   {
    "duration": 0,
    "start_time": "2024-06-17T22:54:13.566Z"
   },
   {
    "duration": 0,
    "start_time": "2024-06-17T22:54:13.567Z"
   },
   {
    "duration": 0,
    "start_time": "2024-06-17T22:54:13.582Z"
   },
   {
    "duration": 9253,
    "start_time": "2024-06-17T22:55:22.158Z"
   },
   {
    "duration": 6220,
    "start_time": "2024-06-17T22:55:41.989Z"
   },
   {
    "duration": 37,
    "start_time": "2024-06-17T22:56:12.724Z"
   },
   {
    "duration": 458,
    "start_time": "2024-06-17T22:58:32.274Z"
   },
   {
    "duration": 7452,
    "start_time": "2024-06-17T22:58:48.825Z"
   },
   {
    "duration": 1703,
    "start_time": "2024-06-17T22:58:56.280Z"
   },
   {
    "duration": 422,
    "start_time": "2024-06-17T22:58:57.984Z"
   },
   {
    "duration": 54,
    "start_time": "2024-06-17T22:58:58.408Z"
   },
   {
    "duration": 180,
    "start_time": "2024-06-17T22:58:58.464Z"
   },
   {
    "duration": 17,
    "start_time": "2024-06-17T22:58:58.646Z"
   },
   {
    "duration": 22,
    "start_time": "2024-06-17T22:58:58.665Z"
   },
   {
    "duration": 11,
    "start_time": "2024-06-17T22:58:58.689Z"
   },
   {
    "duration": 17,
    "start_time": "2024-06-17T22:58:58.701Z"
   },
   {
    "duration": 20,
    "start_time": "2024-06-17T22:58:58.721Z"
   },
   {
    "duration": 58,
    "start_time": "2024-06-17T22:58:58.742Z"
   },
   {
    "duration": 67,
    "start_time": "2024-06-17T22:58:58.802Z"
   },
   {
    "duration": 63,
    "start_time": "2024-06-17T22:58:58.871Z"
   },
   {
    "duration": 6,
    "start_time": "2024-06-17T22:58:58.936Z"
   },
   {
    "duration": 65,
    "start_time": "2024-06-17T22:58:58.943Z"
   },
   {
    "duration": 111,
    "start_time": "2024-06-17T22:58:59.009Z"
   },
   {
    "duration": 116,
    "start_time": "2024-06-17T22:58:59.122Z"
   },
   {
    "duration": 4,
    "start_time": "2024-06-17T22:58:59.240Z"
   },
   {
    "duration": 41,
    "start_time": "2024-06-17T22:58:59.246Z"
   },
   {
    "duration": 10,
    "start_time": "2024-06-17T22:58:59.289Z"
   },
   {
    "duration": 30,
    "start_time": "2024-06-17T22:58:59.300Z"
   },
   {
    "duration": 8707,
    "start_time": "2024-06-17T22:58:59.331Z"
   },
   {
    "duration": 12,
    "start_time": "2024-06-17T22:59:08.040Z"
   },
   {
    "duration": 53,
    "start_time": "2024-06-17T22:59:08.054Z"
   },
   {
    "duration": 40,
    "start_time": "2024-06-17T22:59:08.109Z"
   },
   {
    "duration": 7,
    "start_time": "2024-06-17T22:59:08.150Z"
   },
   {
    "duration": 5,
    "start_time": "2024-06-17T22:59:08.159Z"
   },
   {
    "duration": 4,
    "start_time": "2024-06-17T22:59:08.181Z"
   },
   {
    "duration": 33,
    "start_time": "2024-06-17T22:59:08.186Z"
   },
   {
    "duration": 12,
    "start_time": "2024-06-17T22:59:08.220Z"
   },
   {
    "duration": 5,
    "start_time": "2024-06-17T22:59:08.233Z"
   },
   {
    "duration": 14,
    "start_time": "2024-06-17T22:59:08.239Z"
   },
   {
    "duration": 14,
    "start_time": "2024-06-17T22:59:08.254Z"
   },
   {
    "duration": 14,
    "start_time": "2024-06-17T22:59:08.269Z"
   },
   {
    "duration": 7,
    "start_time": "2024-06-17T22:59:08.284Z"
   },
   {
    "duration": 5,
    "start_time": "2024-06-17T22:59:08.293Z"
   },
   {
    "duration": 101298,
    "start_time": "2024-06-17T22:59:08.300Z"
   },
   {
    "duration": 0,
    "start_time": "2024-06-17T23:00:49.600Z"
   },
   {
    "duration": 0,
    "start_time": "2024-06-17T23:00:49.601Z"
   },
   {
    "duration": 0,
    "start_time": "2024-06-17T23:00:49.602Z"
   },
   {
    "duration": 0,
    "start_time": "2024-06-17T23:00:49.603Z"
   },
   {
    "duration": 0,
    "start_time": "2024-06-17T23:00:49.604Z"
   },
   {
    "duration": 7489,
    "start_time": "2024-06-17T23:02:17.680Z"
   },
   {
    "duration": 2205,
    "start_time": "2024-06-17T23:02:25.172Z"
   },
   {
    "duration": 382,
    "start_time": "2024-06-17T23:02:27.379Z"
   },
   {
    "duration": 54,
    "start_time": "2024-06-17T23:02:27.763Z"
   },
   {
    "duration": 194,
    "start_time": "2024-06-17T23:02:27.819Z"
   },
   {
    "duration": 16,
    "start_time": "2024-06-17T23:02:28.015Z"
   },
   {
    "duration": 13,
    "start_time": "2024-06-17T23:02:28.033Z"
   },
   {
    "duration": 16,
    "start_time": "2024-06-17T23:02:28.048Z"
   },
   {
    "duration": 25,
    "start_time": "2024-06-17T23:02:28.065Z"
   },
   {
    "duration": 18,
    "start_time": "2024-06-17T23:02:28.092Z"
   },
   {
    "duration": 36,
    "start_time": "2024-06-17T23:02:28.111Z"
   },
   {
    "duration": 68,
    "start_time": "2024-06-17T23:02:28.148Z"
   },
   {
    "duration": 49,
    "start_time": "2024-06-17T23:02:28.218Z"
   },
   {
    "duration": 16,
    "start_time": "2024-06-17T23:02:28.269Z"
   },
   {
    "duration": 50,
    "start_time": "2024-06-17T23:02:28.286Z"
   },
   {
    "duration": 104,
    "start_time": "2024-06-17T23:02:28.337Z"
   },
   {
    "duration": 25,
    "start_time": "2024-06-17T23:02:28.442Z"
   },
   {
    "duration": 15,
    "start_time": "2024-06-17T23:02:28.469Z"
   },
   {
    "duration": 127,
    "start_time": "2024-06-17T23:02:28.485Z"
   },
   {
    "duration": 10,
    "start_time": "2024-06-17T23:02:28.613Z"
   },
   {
    "duration": 15,
    "start_time": "2024-06-17T23:02:28.625Z"
   },
   {
    "duration": 8919,
    "start_time": "2024-06-17T23:02:28.642Z"
   },
   {
    "duration": 20,
    "start_time": "2024-06-17T23:02:37.562Z"
   },
   {
    "duration": 50,
    "start_time": "2024-06-17T23:02:37.584Z"
   },
   {
    "duration": 47,
    "start_time": "2024-06-17T23:02:37.636Z"
   },
   {
    "duration": 7,
    "start_time": "2024-06-17T23:02:37.685Z"
   },
   {
    "duration": 5,
    "start_time": "2024-06-17T23:02:37.693Z"
   },
   {
    "duration": 9,
    "start_time": "2024-06-17T23:02:37.701Z"
   },
   {
    "duration": 16,
    "start_time": "2024-06-17T23:02:37.711Z"
   },
   {
    "duration": 9,
    "start_time": "2024-06-17T23:02:37.728Z"
   },
   {
    "duration": 8,
    "start_time": "2024-06-17T23:02:37.739Z"
   },
   {
    "duration": 10,
    "start_time": "2024-06-17T23:02:37.748Z"
   },
   {
    "duration": 17,
    "start_time": "2024-06-17T23:02:37.759Z"
   },
   {
    "duration": 20,
    "start_time": "2024-06-17T23:02:37.778Z"
   },
   {
    "duration": 10,
    "start_time": "2024-06-17T23:02:37.800Z"
   },
   {
    "duration": 8,
    "start_time": "2024-06-17T23:02:37.812Z"
   },
   {
    "duration": 242437,
    "start_time": "2024-06-17T23:02:37.822Z"
   },
   {
    "duration": 12806,
    "start_time": "2024-06-17T23:06:40.261Z"
   },
   {
    "duration": 0,
    "start_time": "2024-06-17T23:06:53.070Z"
   },
   {
    "duration": 0,
    "start_time": "2024-06-17T23:06:53.071Z"
   },
   {
    "duration": 0,
    "start_time": "2024-06-17T23:06:53.072Z"
   },
   {
    "duration": 10441,
    "start_time": "2024-06-17T23:09:04.928Z"
   },
   {
    "duration": 12806,
    "start_time": "2024-06-17T23:09:21.765Z"
   },
   {
    "duration": 10385,
    "start_time": "2024-06-17T23:10:55.576Z"
   },
   {
    "duration": 2122,
    "start_time": "2024-06-17T23:11:05.963Z"
   },
   {
    "duration": 438,
    "start_time": "2024-06-17T23:11:08.087Z"
   },
   {
    "duration": 62,
    "start_time": "2024-06-17T23:11:08.528Z"
   },
   {
    "duration": 176,
    "start_time": "2024-06-17T23:11:08.592Z"
   },
   {
    "duration": 25,
    "start_time": "2024-06-17T23:11:08.769Z"
   },
   {
    "duration": 13,
    "start_time": "2024-06-17T23:11:08.796Z"
   },
   {
    "duration": 9,
    "start_time": "2024-06-17T23:11:08.811Z"
   },
   {
    "duration": 57,
    "start_time": "2024-06-17T23:11:08.821Z"
   },
   {
    "duration": 19,
    "start_time": "2024-06-17T23:11:08.881Z"
   },
   {
    "duration": 36,
    "start_time": "2024-06-17T23:11:08.902Z"
   },
   {
    "duration": 72,
    "start_time": "2024-06-17T23:11:08.939Z"
   },
   {
    "duration": 50,
    "start_time": "2024-06-17T23:11:09.013Z"
   },
   {
    "duration": 18,
    "start_time": "2024-06-17T23:11:09.064Z"
   },
   {
    "duration": 48,
    "start_time": "2024-06-17T23:11:09.084Z"
   },
   {
    "duration": 100,
    "start_time": "2024-06-17T23:11:09.134Z"
   },
   {
    "duration": 25,
    "start_time": "2024-06-17T23:11:09.236Z"
   },
   {
    "duration": 4,
    "start_time": "2024-06-17T23:11:09.262Z"
   },
   {
    "duration": 124,
    "start_time": "2024-06-17T23:11:09.281Z"
   },
   {
    "duration": 10,
    "start_time": "2024-06-17T23:11:09.407Z"
   },
   {
    "duration": 9,
    "start_time": "2024-06-17T23:11:09.418Z"
   },
   {
    "duration": 9088,
    "start_time": "2024-06-17T23:11:09.429Z"
   },
   {
    "duration": 15,
    "start_time": "2024-06-17T23:11:18.520Z"
   },
   {
    "duration": 58,
    "start_time": "2024-06-17T23:11:18.537Z"
   },
   {
    "duration": 39,
    "start_time": "2024-06-17T23:11:18.597Z"
   },
   {
    "duration": 7,
    "start_time": "2024-06-17T23:11:18.637Z"
   },
   {
    "duration": 31,
    "start_time": "2024-06-17T23:11:18.645Z"
   },
   {
    "duration": 3,
    "start_time": "2024-06-17T23:11:18.679Z"
   },
   {
    "duration": 5,
    "start_time": "2024-06-17T23:11:18.683Z"
   },
   {
    "duration": 8,
    "start_time": "2024-06-17T23:11:18.689Z"
   },
   {
    "duration": 12,
    "start_time": "2024-06-17T23:11:18.699Z"
   },
   {
    "duration": 15,
    "start_time": "2024-06-17T23:11:18.713Z"
   },
   {
    "duration": 12,
    "start_time": "2024-06-17T23:11:18.729Z"
   },
   {
    "duration": 11,
    "start_time": "2024-06-17T23:11:18.743Z"
   },
   {
    "duration": 10,
    "start_time": "2024-06-17T23:11:18.756Z"
   },
   {
    "duration": 4,
    "start_time": "2024-06-17T23:11:18.767Z"
   },
   {
    "duration": 235683,
    "start_time": "2024-06-17T23:11:18.773Z"
   },
   {
    "duration": 12820,
    "start_time": "2024-06-17T23:15:14.458Z"
   },
   {
    "duration": 0,
    "start_time": "2024-06-17T23:15:27.279Z"
   },
   {
    "duration": 0,
    "start_time": "2024-06-17T23:15:27.282Z"
   },
   {
    "duration": 0,
    "start_time": "2024-06-17T23:15:27.283Z"
   },
   {
    "duration": 17652,
    "start_time": "2024-06-18T18:52:33.737Z"
   },
   {
    "duration": 2138,
    "start_time": "2024-06-18T18:52:51.391Z"
   },
   {
    "duration": 421,
    "start_time": "2024-06-18T18:52:53.530Z"
   },
   {
    "duration": 43,
    "start_time": "2024-06-18T18:52:53.952Z"
   },
   {
    "duration": 151,
    "start_time": "2024-06-18T18:52:53.997Z"
   },
   {
    "duration": 14,
    "start_time": "2024-06-18T18:52:54.150Z"
   },
   {
    "duration": 11,
    "start_time": "2024-06-18T18:52:54.166Z"
   },
   {
    "duration": 19,
    "start_time": "2024-06-18T18:52:54.178Z"
   },
   {
    "duration": 19,
    "start_time": "2024-06-18T18:52:54.199Z"
   },
   {
    "duration": 16,
    "start_time": "2024-06-18T18:52:54.220Z"
   },
   {
    "duration": 32,
    "start_time": "2024-06-18T18:52:54.238Z"
   },
   {
    "duration": 54,
    "start_time": "2024-06-18T18:52:54.271Z"
   },
   {
    "duration": 42,
    "start_time": "2024-06-18T18:52:54.327Z"
   },
   {
    "duration": 5,
    "start_time": "2024-06-18T18:52:54.370Z"
   },
   {
    "duration": 54,
    "start_time": "2024-06-18T18:52:54.376Z"
   },
   {
    "duration": 85,
    "start_time": "2024-06-18T18:52:54.432Z"
   },
   {
    "duration": 23,
    "start_time": "2024-06-18T18:52:54.519Z"
   },
   {
    "duration": 4,
    "start_time": "2024-06-18T18:52:54.543Z"
   },
   {
    "duration": 106,
    "start_time": "2024-06-18T18:52:54.549Z"
   },
   {
    "duration": 8,
    "start_time": "2024-06-18T18:52:54.657Z"
   },
   {
    "duration": 8,
    "start_time": "2024-06-18T18:52:54.666Z"
   },
   {
    "duration": 7678,
    "start_time": "2024-06-18T18:52:54.675Z"
   },
   {
    "duration": 11,
    "start_time": "2024-06-18T18:53:02.354Z"
   },
   {
    "duration": 288,
    "start_time": "2024-06-18T18:53:02.367Z"
   },
   {
    "duration": 31,
    "start_time": "2024-06-18T18:53:02.656Z"
   },
   {
    "duration": 7,
    "start_time": "2024-06-18T18:53:02.688Z"
   },
   {
    "duration": 9,
    "start_time": "2024-06-18T18:53:02.696Z"
   },
   {
    "duration": 23,
    "start_time": "2024-06-18T18:53:02.708Z"
   },
   {
    "duration": 20,
    "start_time": "2024-06-18T18:53:02.733Z"
   },
   {
    "duration": 10,
    "start_time": "2024-06-18T18:53:02.754Z"
   },
   {
    "duration": 11,
    "start_time": "2024-06-18T18:53:02.766Z"
   },
   {
    "duration": 5,
    "start_time": "2024-06-18T18:53:02.778Z"
   },
   {
    "duration": 7,
    "start_time": "2024-06-18T18:53:02.784Z"
   },
   {
    "duration": 35,
    "start_time": "2024-06-18T18:53:02.792Z"
   },
   {
    "duration": 4,
    "start_time": "2024-06-18T18:53:02.828Z"
   },
   {
    "duration": 4,
    "start_time": "2024-06-18T18:53:02.834Z"
   },
   {
    "duration": 223726,
    "start_time": "2024-06-18T18:53:02.839Z"
   },
   {
    "duration": 10345,
    "start_time": "2024-06-18T18:56:46.566Z"
   },
   {
    "duration": 0,
    "start_time": "2024-06-18T18:56:56.912Z"
   },
   {
    "duration": 0,
    "start_time": "2024-06-18T18:56:56.913Z"
   },
   {
    "duration": 0,
    "start_time": "2024-06-18T18:56:56.914Z"
   },
   {
    "duration": 10974,
    "start_time": "2024-06-18T20:44:53.862Z"
   },
   {
    "duration": 2848,
    "start_time": "2024-06-18T20:45:04.839Z"
   },
   {
    "duration": 470,
    "start_time": "2024-06-18T20:45:07.688Z"
   },
   {
    "duration": 42,
    "start_time": "2024-06-18T20:45:08.160Z"
   },
   {
    "duration": 150,
    "start_time": "2024-06-18T20:45:08.204Z"
   },
   {
    "duration": 15,
    "start_time": "2024-06-18T20:45:08.355Z"
   },
   {
    "duration": 10,
    "start_time": "2024-06-18T20:45:08.371Z"
   },
   {
    "duration": 6,
    "start_time": "2024-06-18T20:45:08.383Z"
   },
   {
    "duration": 32,
    "start_time": "2024-06-18T20:45:08.390Z"
   },
   {
    "duration": 47,
    "start_time": "2024-06-18T20:45:08.424Z"
   },
   {
    "duration": 41,
    "start_time": "2024-06-18T20:45:08.473Z"
   },
   {
    "duration": 44,
    "start_time": "2024-06-18T20:45:08.515Z"
   },
   {
    "duration": 57,
    "start_time": "2024-06-18T20:45:08.560Z"
   },
   {
    "duration": 4,
    "start_time": "2024-06-18T20:45:08.620Z"
   },
   {
    "duration": 65,
    "start_time": "2024-06-18T20:45:08.626Z"
   },
   {
    "duration": 85,
    "start_time": "2024-06-18T20:45:08.693Z"
   },
   {
    "duration": 21,
    "start_time": "2024-06-18T20:45:08.779Z"
   },
   {
    "duration": 21,
    "start_time": "2024-06-18T20:45:08.809Z"
   },
   {
    "duration": 186,
    "start_time": "2024-06-18T20:45:08.831Z"
   },
   {
    "duration": 9,
    "start_time": "2024-06-18T20:45:09.018Z"
   },
   {
    "duration": 8,
    "start_time": "2024-06-18T20:45:09.029Z"
   },
   {
    "duration": 8173,
    "start_time": "2024-06-18T20:45:09.038Z"
   },
   {
    "duration": 11,
    "start_time": "2024-06-18T20:45:17.212Z"
   },
   {
    "duration": 66,
    "start_time": "2024-06-18T20:45:17.225Z"
   },
   {
    "duration": 43,
    "start_time": "2024-06-18T20:45:17.292Z"
   },
   {
    "duration": 9,
    "start_time": "2024-06-18T20:45:17.336Z"
   },
   {
    "duration": 9,
    "start_time": "2024-06-18T20:45:17.346Z"
   },
   {
    "duration": 18,
    "start_time": "2024-06-18T20:45:17.356Z"
   },
   {
    "duration": 31,
    "start_time": "2024-06-18T20:45:17.376Z"
   },
   {
    "duration": 36,
    "start_time": "2024-06-18T20:45:17.409Z"
   },
   {
    "duration": 21,
    "start_time": "2024-06-18T20:45:17.447Z"
   },
   {
    "duration": 17,
    "start_time": "2024-06-18T20:45:17.470Z"
   },
   {
    "duration": 18,
    "start_time": "2024-06-18T20:45:17.489Z"
   },
   {
    "duration": 36,
    "start_time": "2024-06-18T20:45:17.508Z"
   },
   {
    "duration": 19,
    "start_time": "2024-06-18T20:45:17.546Z"
   },
   {
    "duration": 21,
    "start_time": "2024-06-18T20:45:17.566Z"
   },
   {
    "duration": 210656,
    "start_time": "2024-06-18T20:45:17.589Z"
   },
   {
    "duration": 3186,
    "start_time": "2024-06-18T20:48:48.247Z"
   },
   {
    "duration": 3,
    "start_time": "2024-06-18T20:48:51.434Z"
   },
   {
    "duration": 360,
    "start_time": "2024-06-18T20:48:51.438Z"
   },
   {
    "duration": 153,
    "start_time": "2024-06-18T20:48:51.801Z"
   },
   {
    "duration": 27,
    "start_time": "2024-06-18T21:13:57.400Z"
   },
   {
    "duration": 1699,
    "start_time": "2024-06-18T21:16:05.604Z"
   },
   {
    "duration": 0,
    "start_time": "2024-06-18T21:16:07.305Z"
   },
   {
    "duration": 16,
    "start_time": "2024-06-18T21:17:27.682Z"
   },
   {
    "duration": 61,
    "start_time": "2024-06-18T21:17:28.482Z"
   },
   {
    "duration": 27,
    "start_time": "2024-06-18T21:17:28.912Z"
   },
   {
    "duration": 383,
    "start_time": "2024-06-18T21:17:29.369Z"
   },
   {
    "duration": 3585,
    "start_time": "2024-06-18T21:18:53.199Z"
   },
   {
    "duration": 10741,
    "start_time": "2024-06-18T21:19:17.550Z"
   },
   {
    "duration": 2069,
    "start_time": "2024-06-18T21:19:28.293Z"
   },
   {
    "duration": 828,
    "start_time": "2024-06-18T21:19:30.363Z"
   },
   {
    "duration": 50,
    "start_time": "2024-06-18T21:19:31.193Z"
   },
   {
    "duration": 184,
    "start_time": "2024-06-18T21:19:31.245Z"
   },
   {
    "duration": 15,
    "start_time": "2024-06-18T21:19:31.431Z"
   },
   {
    "duration": 63,
    "start_time": "2024-06-18T21:19:31.447Z"
   },
   {
    "duration": 26,
    "start_time": "2024-06-18T21:19:31.511Z"
   },
   {
    "duration": 47,
    "start_time": "2024-06-18T21:19:31.539Z"
   },
   {
    "duration": 31,
    "start_time": "2024-06-18T21:19:31.588Z"
   },
   {
    "duration": 33,
    "start_time": "2024-06-18T21:19:31.620Z"
   },
   {
    "duration": 69,
    "start_time": "2024-06-18T21:19:31.654Z"
   },
   {
    "duration": 44,
    "start_time": "2024-06-18T21:19:31.724Z"
   },
   {
    "duration": 6,
    "start_time": "2024-06-18T21:19:31.769Z"
   },
   {
    "duration": 65,
    "start_time": "2024-06-18T21:19:31.776Z"
   },
   {
    "duration": 154,
    "start_time": "2024-06-18T21:19:31.842Z"
   },
   {
    "duration": 154,
    "start_time": "2024-06-18T21:19:31.997Z"
   },
   {
    "duration": 48,
    "start_time": "2024-06-18T21:19:32.152Z"
   },
   {
    "duration": 132,
    "start_time": "2024-06-18T21:19:32.201Z"
   },
   {
    "duration": 8,
    "start_time": "2024-06-18T21:19:32.335Z"
   },
   {
    "duration": 354,
    "start_time": "2024-06-18T21:19:32.344Z"
   },
   {
    "duration": 7716,
    "start_time": "2024-06-18T21:19:32.699Z"
   },
   {
    "duration": 11,
    "start_time": "2024-06-18T21:19:40.416Z"
   },
   {
    "duration": 39,
    "start_time": "2024-06-18T21:19:40.428Z"
   },
   {
    "duration": 35,
    "start_time": "2024-06-18T21:19:40.468Z"
   },
   {
    "duration": 6,
    "start_time": "2024-06-18T21:19:40.509Z"
   },
   {
    "duration": 7,
    "start_time": "2024-06-18T21:19:40.517Z"
   },
   {
    "duration": 22,
    "start_time": "2024-06-18T21:19:40.527Z"
   },
   {
    "duration": 17,
    "start_time": "2024-06-18T21:19:40.550Z"
   },
   {
    "duration": 8,
    "start_time": "2024-06-18T21:19:40.568Z"
   },
   {
    "duration": 4,
    "start_time": "2024-06-18T21:19:40.578Z"
   },
   {
    "duration": 4,
    "start_time": "2024-06-18T21:19:40.583Z"
   },
   {
    "duration": 6,
    "start_time": "2024-06-18T21:19:40.588Z"
   },
   {
    "duration": 5,
    "start_time": "2024-06-18T21:19:40.595Z"
   },
   {
    "duration": 37,
    "start_time": "2024-06-18T21:19:40.601Z"
   },
   {
    "duration": 19,
    "start_time": "2024-06-18T21:19:40.639Z"
   },
   {
    "duration": 217450,
    "start_time": "2024-06-18T21:19:40.659Z"
   },
   {
    "duration": 2951,
    "start_time": "2024-06-18T21:23:18.110Z"
   },
   {
    "duration": 3,
    "start_time": "2024-06-18T21:23:21.062Z"
   },
   {
    "duration": 326,
    "start_time": "2024-06-18T21:23:21.066Z"
   },
   {
    "duration": 16,
    "start_time": "2024-06-18T21:23:21.394Z"
   },
   {
    "duration": 92,
    "start_time": "2024-06-18T21:23:21.411Z"
   },
   {
    "duration": 30,
    "start_time": "2024-06-18T21:23:21.505Z"
   },
   {
    "duration": 276,
    "start_time": "2024-06-18T21:23:21.537Z"
   },
   {
    "duration": 10,
    "start_time": "2024-08-01T12:28:02.517Z"
   },
   {
    "duration": 4,
    "start_time": "2024-08-01T12:28:34.765Z"
   },
   {
    "duration": 50,
    "start_time": "2024-08-01T12:28:53.639Z"
   },
   {
    "duration": 401,
    "start_time": "2024-08-01T12:29:07.967Z"
   },
   {
    "duration": 4,
    "start_time": "2024-08-01T12:29:08.370Z"
   },
   {
    "duration": 5913,
    "start_time": "2024-08-01T12:29:08.640Z"
   },
   {
    "duration": 6239,
    "start_time": "2024-08-01T12:31:12.287Z"
   },
   {
    "duration": 397,
    "start_time": "2024-08-01T12:32:35.582Z"
   },
   {
    "duration": 4,
    "start_time": "2024-08-01T12:32:35.981Z"
   },
   {
    "duration": 6278,
    "start_time": "2024-08-01T12:32:35.987Z"
   },
   {
    "duration": 14,
    "start_time": "2024-08-01T12:32:42.267Z"
   },
   {
    "duration": 63,
    "start_time": "2024-08-01T12:33:04.501Z"
   },
   {
    "duration": 71,
    "start_time": "2024-08-01T12:40:08.698Z"
   },
   {
    "duration": 61,
    "start_time": "2024-08-01T12:41:36.275Z"
   },
   {
    "duration": 2,
    "start_time": "2024-08-01T12:46:13.462Z"
   },
   {
    "duration": 124,
    "start_time": "2024-08-01T12:48:32.013Z"
   },
   {
    "duration": 1501,
    "start_time": "2024-08-01T12:51:06.976Z"
   },
   {
    "duration": 425,
    "start_time": "2024-08-01T12:55:05.953Z"
   },
   {
    "duration": 4,
    "start_time": "2024-08-01T12:55:06.380Z"
   },
   {
    "duration": 7284,
    "start_time": "2024-08-01T12:55:06.386Z"
   },
   {
    "duration": 68,
    "start_time": "2024-08-01T12:55:13.672Z"
   },
   {
    "duration": 114,
    "start_time": "2024-08-01T12:55:13.742Z"
   },
   {
    "duration": 1480,
    "start_time": "2024-08-01T12:55:13.857Z"
   },
   {
    "duration": 70,
    "start_time": "2024-08-01T12:55:15.338Z"
   },
   {
    "duration": 449,
    "start_time": "2024-08-01T12:59:22.920Z"
   },
   {
    "duration": 5,
    "start_time": "2024-08-01T12:59:23.371Z"
   },
   {
    "duration": 6466,
    "start_time": "2024-08-01T12:59:23.377Z"
   },
   {
    "duration": 64,
    "start_time": "2024-08-01T12:59:29.845Z"
   },
   {
    "duration": 143,
    "start_time": "2024-08-01T12:59:29.911Z"
   },
   {
    "duration": 1569,
    "start_time": "2024-08-01T12:59:30.055Z"
   },
   {
    "duration": 203,
    "start_time": "2024-08-01T12:59:31.626Z"
   },
   {
    "duration": 52,
    "start_time": "2024-08-01T13:04:54.956Z"
   },
   {
    "duration": 1192,
    "start_time": "2024-08-01T13:05:41.682Z"
   },
   {
    "duration": 3,
    "start_time": "2024-08-01T13:05:42.876Z"
   },
   {
    "duration": 6478,
    "start_time": "2024-08-01T13:05:42.880Z"
   },
   {
    "duration": 64,
    "start_time": "2024-08-01T13:05:49.360Z"
   },
   {
    "duration": 137,
    "start_time": "2024-08-01T13:05:49.425Z"
   },
   {
    "duration": 1489,
    "start_time": "2024-08-01T13:05:49.564Z"
   },
   {
    "duration": 3,
    "start_time": "2024-08-01T13:05:51.054Z"
   },
   {
    "duration": 105,
    "start_time": "2024-08-01T13:05:51.058Z"
   },
   {
    "duration": 4323,
    "start_time": "2024-08-01T13:05:51.164Z"
   },
   {
    "duration": 260,
    "start_time": "2024-08-01T13:05:55.489Z"
   },
   {
    "duration": 1507,
    "start_time": "2024-08-01T13:11:09.438Z"
   },
   {
    "duration": 4,
    "start_time": "2024-08-01T13:11:10.946Z"
   },
   {
    "duration": 6454,
    "start_time": "2024-08-01T13:11:10.952Z"
   },
   {
    "duration": 64,
    "start_time": "2024-08-01T13:11:17.408Z"
   },
   {
    "duration": 124,
    "start_time": "2024-08-01T13:11:17.474Z"
   },
   {
    "duration": 1515,
    "start_time": "2024-08-01T13:11:17.599Z"
   },
   {
    "duration": 2,
    "start_time": "2024-08-01T13:11:19.116Z"
   },
   {
    "duration": 1585,
    "start_time": "2024-08-01T13:13:01.742Z"
   },
   {
    "duration": 0,
    "start_time": "2024-08-01T13:13:03.329Z"
   },
   {
    "duration": 0,
    "start_time": "2024-08-01T13:13:03.330Z"
   },
   {
    "duration": 0,
    "start_time": "2024-08-01T13:13:03.331Z"
   },
   {
    "duration": 0,
    "start_time": "2024-08-01T13:13:03.333Z"
   },
   {
    "duration": 0,
    "start_time": "2024-08-01T13:13:03.334Z"
   },
   {
    "duration": 0,
    "start_time": "2024-08-01T13:13:03.335Z"
   },
   {
    "duration": 0,
    "start_time": "2024-08-01T13:13:03.337Z"
   },
   {
    "duration": 4624,
    "start_time": "2024-08-01T13:13:33.130Z"
   },
   {
    "duration": 1565,
    "start_time": "2024-08-01T13:13:37.757Z"
   },
   {
    "duration": 4,
    "start_time": "2024-08-01T13:13:39.324Z"
   },
   {
    "duration": 6336,
    "start_time": "2024-08-01T13:13:39.329Z"
   },
   {
    "duration": 67,
    "start_time": "2024-08-01T13:13:45.667Z"
   },
   {
    "duration": 128,
    "start_time": "2024-08-01T13:13:45.736Z"
   },
   {
    "duration": 1475,
    "start_time": "2024-08-01T13:13:45.866Z"
   },
   {
    "duration": 3,
    "start_time": "2024-08-01T13:13:47.346Z"
   },
   {
    "duration": 43,
    "start_time": "2024-08-01T13:13:47.350Z"
   },
   {
    "duration": 3,
    "start_time": "2024-08-01T13:13:47.395Z"
   },
   {
    "duration": 2466,
    "start_time": "2024-08-01T13:13:54.801Z"
   },
   {
    "duration": 1487,
    "start_time": "2024-08-01T13:13:57.270Z"
   },
   {
    "duration": 3,
    "start_time": "2024-08-01T13:13:58.759Z"
   },
   {
    "duration": 5916,
    "start_time": "2024-08-01T13:13:58.764Z"
   },
   {
    "duration": 63,
    "start_time": "2024-08-01T13:14:04.683Z"
   },
   {
    "duration": 132,
    "start_time": "2024-08-01T13:14:04.748Z"
   },
   {
    "duration": 1484,
    "start_time": "2024-08-01T13:14:04.882Z"
   },
   {
    "duration": 3,
    "start_time": "2024-08-01T13:14:06.368Z"
   },
   {
    "duration": 31,
    "start_time": "2024-08-01T13:14:06.372Z"
   },
   {
    "duration": 24,
    "start_time": "2024-08-01T13:14:06.406Z"
   },
   {
    "duration": 2488,
    "start_time": "2024-08-01T13:14:26.698Z"
   },
   {
    "duration": 1480,
    "start_time": "2024-08-01T13:14:29.189Z"
   },
   {
    "duration": 4,
    "start_time": "2024-08-01T13:14:30.670Z"
   },
   {
    "duration": 6424,
    "start_time": "2024-08-01T13:14:30.676Z"
   },
   {
    "duration": 65,
    "start_time": "2024-08-01T13:14:37.101Z"
   },
   {
    "duration": 124,
    "start_time": "2024-08-01T13:14:37.168Z"
   },
   {
    "duration": 1482,
    "start_time": "2024-08-01T13:14:37.294Z"
   },
   {
    "duration": 2,
    "start_time": "2024-08-01T13:14:38.778Z"
   },
   {
    "duration": 42,
    "start_time": "2024-08-01T13:14:38.782Z"
   },
   {
    "duration": 3,
    "start_time": "2024-08-01T13:14:38.826Z"
   },
   {
    "duration": 191,
    "start_time": "2024-08-01T13:14:38.831Z"
   },
   {
    "duration": 0,
    "start_time": "2024-08-01T13:14:39.023Z"
   },
   {
    "duration": 0,
    "start_time": "2024-08-01T13:14:39.024Z"
   },
   {
    "duration": 2563,
    "start_time": "2024-08-01T13:15:15.632Z"
   },
   {
    "duration": 1419,
    "start_time": "2024-08-01T13:15:18.198Z"
   },
   {
    "duration": 4,
    "start_time": "2024-08-01T13:15:19.619Z"
   },
   {
    "duration": 5892,
    "start_time": "2024-08-01T13:15:19.624Z"
   },
   {
    "duration": 66,
    "start_time": "2024-08-01T13:15:25.518Z"
   },
   {
    "duration": 129,
    "start_time": "2024-08-01T13:15:25.586Z"
   },
   {
    "duration": 1518,
    "start_time": "2024-08-01T13:15:25.717Z"
   },
   {
    "duration": 3,
    "start_time": "2024-08-01T13:15:27.236Z"
   },
   {
    "duration": 43,
    "start_time": "2024-08-01T13:15:27.240Z"
   },
   {
    "duration": 3,
    "start_time": "2024-08-01T13:15:27.285Z"
   },
   {
    "duration": 208,
    "start_time": "2024-08-01T13:15:27.289Z"
   },
   {
    "duration": 0,
    "start_time": "2024-08-01T13:15:27.498Z"
   },
   {
    "duration": 0,
    "start_time": "2024-08-01T13:15:27.499Z"
   },
   {
    "duration": 0,
    "start_time": "2024-08-01T13:15:27.500Z"
   },
   {
    "duration": 0,
    "start_time": "2024-08-01T13:15:27.501Z"
   },
   {
    "duration": 2616,
    "start_time": "2024-08-01T13:26:47.263Z"
   },
   {
    "duration": 1430,
    "start_time": "2024-08-01T13:26:49.881Z"
   },
   {
    "duration": 4,
    "start_time": "2024-08-01T13:26:51.312Z"
   },
   {
    "duration": 6705,
    "start_time": "2024-08-01T13:26:51.318Z"
   },
   {
    "duration": 70,
    "start_time": "2024-08-01T13:26:58.025Z"
   },
   {
    "duration": 126,
    "start_time": "2024-08-01T13:26:58.098Z"
   },
   {
    "duration": 1531,
    "start_time": "2024-08-01T13:26:58.226Z"
   },
   {
    "duration": 3,
    "start_time": "2024-08-01T13:26:59.759Z"
   },
   {
    "duration": 16,
    "start_time": "2024-08-01T13:26:59.763Z"
   },
   {
    "duration": 16,
    "start_time": "2024-08-01T13:26:59.782Z"
   },
   {
    "duration": 3,
    "start_time": "2024-08-01T13:26:59.800Z"
   },
   {
    "duration": 190,
    "start_time": "2024-08-01T13:26:59.804Z"
   },
   {
    "duration": 0,
    "start_time": "2024-08-01T13:26:59.996Z"
   },
   {
    "duration": 0,
    "start_time": "2024-08-01T13:26:59.997Z"
   },
   {
    "duration": 0,
    "start_time": "2024-08-01T13:26:59.998Z"
   },
   {
    "duration": 0,
    "start_time": "2024-08-01T13:26:59.999Z"
   },
   {
    "duration": 2537,
    "start_time": "2024-08-01T13:28:24.727Z"
   },
   {
    "duration": 1518,
    "start_time": "2024-08-01T13:28:27.267Z"
   },
   {
    "duration": 4,
    "start_time": "2024-08-01T13:28:28.788Z"
   },
   {
    "duration": 5897,
    "start_time": "2024-08-01T13:28:28.794Z"
   },
   {
    "duration": 65,
    "start_time": "2024-08-01T13:28:34.692Z"
   },
   {
    "duration": 120,
    "start_time": "2024-08-01T13:28:34.759Z"
   },
   {
    "duration": 1466,
    "start_time": "2024-08-01T13:28:34.881Z"
   },
   {
    "duration": 3,
    "start_time": "2024-08-01T13:28:36.349Z"
   },
   {
    "duration": 18,
    "start_time": "2024-08-01T13:28:36.354Z"
   },
   {
    "duration": 18,
    "start_time": "2024-08-01T13:28:36.374Z"
   },
   {
    "duration": 5,
    "start_time": "2024-08-01T13:28:36.394Z"
   },
   {
    "duration": 292,
    "start_time": "2024-08-01T13:28:36.401Z"
   },
   {
    "duration": 0,
    "start_time": "2024-08-01T13:28:36.695Z"
   },
   {
    "duration": 0,
    "start_time": "2024-08-01T13:28:36.697Z"
   },
   {
    "duration": 0,
    "start_time": "2024-08-01T13:28:36.699Z"
   },
   {
    "duration": 0,
    "start_time": "2024-08-01T13:28:36.700Z"
   },
   {
    "duration": 2509,
    "start_time": "2024-08-01T13:33:04.616Z"
   },
   {
    "duration": 1504,
    "start_time": "2024-08-01T13:33:07.128Z"
   },
   {
    "duration": 4,
    "start_time": "2024-08-01T13:33:08.635Z"
   },
   {
    "duration": 6765,
    "start_time": "2024-08-01T13:33:08.646Z"
   },
   {
    "duration": 63,
    "start_time": "2024-08-01T13:33:15.412Z"
   },
   {
    "duration": 237,
    "start_time": "2024-08-01T13:33:15.476Z"
   },
   {
    "duration": 1463,
    "start_time": "2024-08-01T13:33:15.714Z"
   },
   {
    "duration": 3,
    "start_time": "2024-08-01T13:33:17.178Z"
   },
   {
    "duration": 23,
    "start_time": "2024-08-01T13:33:17.183Z"
   },
   {
    "duration": 37,
    "start_time": "2024-08-01T13:33:17.208Z"
   },
   {
    "duration": 63,
    "start_time": "2024-08-01T13:33:17.247Z"
   },
   {
    "duration": 334,
    "start_time": "2024-08-01T13:33:17.312Z"
   },
   {
    "duration": 131,
    "start_time": "2024-08-01T13:33:17.648Z"
   },
   {
    "duration": 0,
    "start_time": "2024-08-01T13:33:17.781Z"
   },
   {
    "duration": 0,
    "start_time": "2024-08-01T13:33:17.783Z"
   },
   {
    "duration": 0,
    "start_time": "2024-08-01T13:33:17.784Z"
   },
   {
    "duration": 2575,
    "start_time": "2024-08-01T13:37:05.193Z"
   },
   {
    "duration": 1719,
    "start_time": "2024-08-01T13:37:07.771Z"
   },
   {
    "duration": 4,
    "start_time": "2024-08-01T13:37:09.492Z"
   },
   {
    "duration": 6192,
    "start_time": "2024-08-01T13:37:09.497Z"
   },
   {
    "duration": 75,
    "start_time": "2024-08-01T13:37:15.692Z"
   },
   {
    "duration": 131,
    "start_time": "2024-08-01T13:37:15.769Z"
   },
   {
    "duration": 1505,
    "start_time": "2024-08-01T13:37:15.901Z"
   },
   {
    "duration": 3,
    "start_time": "2024-08-01T13:37:17.407Z"
   },
   {
    "duration": 25,
    "start_time": "2024-08-01T13:37:17.412Z"
   },
   {
    "duration": 46,
    "start_time": "2024-08-01T13:37:17.439Z"
   },
   {
    "duration": 43,
    "start_time": "2024-08-01T13:37:17.487Z"
   },
   {
    "duration": 332,
    "start_time": "2024-08-01T13:37:17.532Z"
   },
   {
    "duration": 11,
    "start_time": "2024-08-01T13:37:17.865Z"
   },
   {
    "duration": 41084,
    "start_time": "2024-08-01T13:37:17.879Z"
   },
   {
    "duration": 2333,
    "start_time": "2024-08-01T13:37:58.965Z"
   },
   {
    "duration": 1149,
    "start_time": "2024-08-01T13:38:01.300Z"
   },
   {
    "duration": 2518,
    "start_time": "2024-08-01T13:49:46.451Z"
   },
   {
    "duration": 1458,
    "start_time": "2024-08-01T13:49:48.971Z"
   },
   {
    "duration": 3,
    "start_time": "2024-08-01T13:49:50.431Z"
   },
   {
    "duration": 6418,
    "start_time": "2024-08-01T13:49:50.436Z"
   },
   {
    "duration": 63,
    "start_time": "2024-08-01T13:49:56.856Z"
   },
   {
    "duration": 150,
    "start_time": "2024-08-01T13:49:56.921Z"
   },
   {
    "duration": 1450,
    "start_time": "2024-08-01T13:49:57.073Z"
   },
   {
    "duration": 3,
    "start_time": "2024-08-01T13:49:58.524Z"
   },
   {
    "duration": 29,
    "start_time": "2024-08-01T13:49:58.529Z"
   },
   {
    "duration": 23,
    "start_time": "2024-08-01T13:49:58.561Z"
   },
   {
    "duration": 18,
    "start_time": "2024-08-01T13:49:58.586Z"
   },
   {
    "duration": 318,
    "start_time": "2024-08-01T13:49:58.606Z"
   },
   {
    "duration": 12,
    "start_time": "2024-08-01T13:49:58.946Z"
   },
   {
    "duration": 39993,
    "start_time": "2024-08-01T13:49:58.961Z"
   },
   {
    "duration": 2202,
    "start_time": "2024-08-01T13:50:38.956Z"
   },
   {
    "duration": 770,
    "start_time": "2024-08-01T13:50:41.160Z"
   },
   {
    "duration": 2493,
    "start_time": "2024-08-01T13:53:12.171Z"
   },
   {
    "duration": 1470,
    "start_time": "2024-08-01T13:53:14.667Z"
   },
   {
    "duration": 5,
    "start_time": "2024-08-01T13:53:16.139Z"
   },
   {
    "duration": 5942,
    "start_time": "2024-08-01T13:53:16.147Z"
   },
   {
    "duration": 68,
    "start_time": "2024-08-01T13:53:22.091Z"
   },
   {
    "duration": 125,
    "start_time": "2024-08-01T13:53:22.161Z"
   },
   {
    "duration": 1479,
    "start_time": "2024-08-01T13:53:22.287Z"
   },
   {
    "duration": 3,
    "start_time": "2024-08-01T13:53:23.767Z"
   },
   {
    "duration": 32,
    "start_time": "2024-08-01T13:53:23.771Z"
   },
   {
    "duration": 13,
    "start_time": "2024-08-01T13:53:23.805Z"
   },
   {
    "duration": 3,
    "start_time": "2024-08-01T13:53:23.820Z"
   },
   {
    "duration": 329,
    "start_time": "2024-08-01T13:53:23.825Z"
   },
   {
    "duration": 0,
    "start_time": "2024-08-01T13:53:24.155Z"
   },
   {
    "duration": 0,
    "start_time": "2024-08-01T13:53:24.156Z"
   },
   {
    "duration": 0,
    "start_time": "2024-08-01T13:53:24.157Z"
   },
   {
    "duration": 0,
    "start_time": "2024-08-01T13:53:24.158Z"
   },
   {
    "duration": 2520,
    "start_time": "2024-08-01T13:54:27.877Z"
   },
   {
    "duration": 1494,
    "start_time": "2024-08-01T13:54:30.399Z"
   },
   {
    "duration": 4,
    "start_time": "2024-08-01T13:54:31.895Z"
   },
   {
    "duration": 6178,
    "start_time": "2024-08-01T13:54:31.901Z"
   },
   {
    "duration": 64,
    "start_time": "2024-08-01T13:54:38.081Z"
   },
   {
    "duration": 125,
    "start_time": "2024-08-01T13:54:38.146Z"
   },
   {
    "duration": 1528,
    "start_time": "2024-08-01T13:54:38.272Z"
   },
   {
    "duration": 2,
    "start_time": "2024-08-01T13:54:39.801Z"
   },
   {
    "duration": 9,
    "start_time": "2024-08-01T13:54:39.805Z"
   },
   {
    "duration": 18,
    "start_time": "2024-08-01T13:54:39.816Z"
   },
   {
    "duration": 18,
    "start_time": "2024-08-01T13:54:39.835Z"
   },
   {
    "duration": 3597,
    "start_time": "2024-08-01T13:54:39.855Z"
   },
   {
    "duration": 10,
    "start_time": "2024-08-01T13:54:43.454Z"
   },
   {
    "duration": 1483,
    "start_time": "2024-08-01T13:54:43.467Z"
   },
   {
    "duration": 2156,
    "start_time": "2024-08-01T13:54:44.951Z"
   },
   {
    "duration": 741,
    "start_time": "2024-08-01T13:54:47.108Z"
   },
   {
    "duration": 2497,
    "start_time": "2024-08-01T13:55:57.312Z"
   },
   {
    "duration": 1439,
    "start_time": "2024-08-01T13:55:59.812Z"
   },
   {
    "duration": 4,
    "start_time": "2024-08-01T13:56:01.253Z"
   },
   {
    "duration": 6410,
    "start_time": "2024-08-01T13:56:01.259Z"
   },
   {
    "duration": 60,
    "start_time": "2024-08-01T13:56:07.671Z"
   },
   {
    "duration": 143,
    "start_time": "2024-08-01T13:56:07.733Z"
   },
   {
    "duration": 1463,
    "start_time": "2024-08-01T13:56:07.878Z"
   },
   {
    "duration": 3,
    "start_time": "2024-08-01T13:56:09.345Z"
   },
   {
    "duration": 35,
    "start_time": "2024-08-01T13:56:09.349Z"
   },
   {
    "duration": 43,
    "start_time": "2024-08-01T13:56:09.386Z"
   },
   {
    "duration": 19,
    "start_time": "2024-08-01T13:56:09.431Z"
   },
   {
    "duration": 3794,
    "start_time": "2024-08-01T13:56:09.452Z"
   },
   {
    "duration": 11,
    "start_time": "2024-08-01T13:56:13.248Z"
   },
   {
    "duration": 14396,
    "start_time": "2024-08-01T13:56:13.261Z"
   },
   {
    "duration": 2187,
    "start_time": "2024-08-01T13:56:27.659Z"
   },
   {
    "duration": 737,
    "start_time": "2024-08-01T13:56:29.847Z"
   },
   {
    "duration": 2715,
    "start_time": "2024-08-01T13:57:12.743Z"
   },
   {
    "duration": 1496,
    "start_time": "2024-08-01T13:57:15.460Z"
   },
   {
    "duration": 3,
    "start_time": "2024-08-01T13:57:16.958Z"
   },
   {
    "duration": 5826,
    "start_time": "2024-08-01T13:57:16.963Z"
   },
   {
    "duration": 63,
    "start_time": "2024-08-01T13:57:22.790Z"
   },
   {
    "duration": 121,
    "start_time": "2024-08-01T13:57:22.854Z"
   },
   {
    "duration": 1454,
    "start_time": "2024-08-01T13:57:22.977Z"
   },
   {
    "duration": 3,
    "start_time": "2024-08-01T13:57:24.432Z"
   },
   {
    "duration": 12,
    "start_time": "2024-08-01T13:57:24.437Z"
   },
   {
    "duration": 21,
    "start_time": "2024-08-01T13:57:24.451Z"
   },
   {
    "duration": 3,
    "start_time": "2024-08-01T13:57:24.474Z"
   },
   {
    "duration": 3667,
    "start_time": "2024-08-01T13:57:24.479Z"
   },
   {
    "duration": 12,
    "start_time": "2024-08-01T13:57:28.148Z"
   },
   {
    "duration": 134457,
    "start_time": "2024-08-01T13:57:28.161Z"
   },
   {
    "duration": 3204,
    "start_time": "2024-08-01T13:59:42.620Z"
   },
   {
    "duration": 802,
    "start_time": "2024-08-01T13:59:45.825Z"
   },
   {
    "duration": 2492,
    "start_time": "2024-08-01T14:01:10.440Z"
   },
   {
    "duration": 1480,
    "start_time": "2024-08-01T14:01:12.935Z"
   },
   {
    "duration": 4,
    "start_time": "2024-08-01T14:01:14.416Z"
   },
   {
    "duration": 5956,
    "start_time": "2024-08-01T14:01:14.421Z"
   },
   {
    "duration": 67,
    "start_time": "2024-08-01T14:01:20.381Z"
   },
   {
    "duration": 131,
    "start_time": "2024-08-01T14:01:20.449Z"
   },
   {
    "duration": 1468,
    "start_time": "2024-08-01T14:01:20.582Z"
   },
   {
    "duration": 2,
    "start_time": "2024-08-01T14:01:22.052Z"
   },
   {
    "duration": 11,
    "start_time": "2024-08-01T14:01:22.056Z"
   },
   {
    "duration": 23,
    "start_time": "2024-08-01T14:01:22.068Z"
   },
   {
    "duration": 4,
    "start_time": "2024-08-01T14:01:22.092Z"
   },
   {
    "duration": 29858,
    "start_time": "2024-08-01T14:01:22.097Z"
   },
   {
    "duration": 9,
    "start_time": "2024-08-01T14:01:51.957Z"
   },
   {
    "duration": 141230,
    "start_time": "2024-08-01T14:01:51.969Z"
   },
   {
    "duration": 2166,
    "start_time": "2024-08-01T14:04:13.201Z"
   },
   {
    "duration": 742,
    "start_time": "2024-08-01T14:04:15.368Z"
   },
   {
    "duration": 21239,
    "start_time": "2024-08-01T18:31:58.928Z"
   },
   {
    "duration": 2478,
    "start_time": "2024-08-01T18:32:20.169Z"
   },
   {
    "duration": 4,
    "start_time": "2024-08-01T18:32:22.649Z"
   },
   {
    "duration": 6819,
    "start_time": "2024-08-01T18:32:22.655Z"
   },
   {
    "duration": 63,
    "start_time": "2024-08-01T18:32:29.476Z"
   },
   {
    "duration": 127,
    "start_time": "2024-08-01T18:32:29.540Z"
   },
   {
    "duration": 1488,
    "start_time": "2024-08-01T18:32:29.669Z"
   },
   {
    "duration": 3,
    "start_time": "2024-08-01T18:32:31.159Z"
   },
   {
    "duration": 87,
    "start_time": "2024-08-01T18:32:31.164Z"
   },
   {
    "duration": 55,
    "start_time": "2024-08-01T18:32:31.255Z"
   },
   {
    "duration": 190,
    "start_time": "2024-08-01T18:32:31.312Z"
   },
   {
    "duration": 28948,
    "start_time": "2024-08-01T18:32:31.504Z"
   },
   {
    "duration": 10,
    "start_time": "2024-08-01T18:33:00.454Z"
   },
   {
    "duration": 138956,
    "start_time": "2024-08-01T18:33:00.466Z"
   },
   {
    "duration": 8476,
    "start_time": "2024-08-01T18:35:19.424Z"
   },
   {
    "duration": 1335,
    "start_time": "2024-08-01T18:35:27.902Z"
   },
   {
    "duration": 2615,
    "start_time": "2024-08-01T18:40:28.172Z"
   },
   {
    "duration": 1424,
    "start_time": "2024-08-01T18:40:30.790Z"
   },
   {
    "duration": 4,
    "start_time": "2024-08-01T18:40:32.215Z"
   },
   {
    "duration": 6391,
    "start_time": "2024-08-01T18:40:32.221Z"
   },
   {
    "duration": 70,
    "start_time": "2024-08-01T18:40:38.614Z"
   },
   {
    "duration": 129,
    "start_time": "2024-08-01T18:40:38.686Z"
   },
   {
    "duration": 1467,
    "start_time": "2024-08-01T18:40:38.817Z"
   },
   {
    "duration": 3,
    "start_time": "2024-08-01T18:40:40.285Z"
   },
   {
    "duration": 27,
    "start_time": "2024-08-01T18:40:40.289Z"
   },
   {
    "duration": 39,
    "start_time": "2024-08-01T18:40:40.318Z"
   },
   {
    "duration": 103,
    "start_time": "2024-08-01T18:40:40.359Z"
   },
   {
    "duration": 29583,
    "start_time": "2024-08-01T18:40:40.463Z"
   },
   {
    "duration": 9,
    "start_time": "2024-08-01T18:41:10.048Z"
   },
   {
    "duration": 155219,
    "start_time": "2024-08-01T18:41:10.059Z"
   },
   {
    "duration": 52238,
    "start_time": "2024-08-01T18:43:45.280Z"
   },
   {
    "duration": 5501,
    "start_time": "2024-08-01T18:44:37.520Z"
   },
   {
    "duration": 2451,
    "start_time": "2024-08-01T18:45:31.643Z"
   },
   {
    "duration": 1418,
    "start_time": "2024-08-01T18:45:34.096Z"
   },
   {
    "duration": 4,
    "start_time": "2024-08-01T18:45:35.515Z"
   },
   {
    "duration": 6174,
    "start_time": "2024-08-01T18:45:35.521Z"
   },
   {
    "duration": 66,
    "start_time": "2024-08-01T18:45:41.697Z"
   },
   {
    "duration": 135,
    "start_time": "2024-08-01T18:45:41.765Z"
   },
   {
    "duration": 1423,
    "start_time": "2024-08-01T18:45:41.901Z"
   },
   {
    "duration": 3,
    "start_time": "2024-08-01T18:45:43.325Z"
   },
   {
    "duration": 28,
    "start_time": "2024-08-01T18:45:43.329Z"
   },
   {
    "duration": 77,
    "start_time": "2024-08-01T18:45:43.360Z"
   },
   {
    "duration": 13,
    "start_time": "2024-08-01T18:45:43.438Z"
   },
   {
    "duration": 2490,
    "start_time": "2024-08-01T18:45:57.012Z"
   },
   {
    "duration": 1457,
    "start_time": "2024-08-01T18:45:59.504Z"
   },
   {
    "duration": 3,
    "start_time": "2024-08-01T18:46:00.963Z"
   },
   {
    "duration": 5933,
    "start_time": "2024-08-01T18:46:00.968Z"
   },
   {
    "duration": 64,
    "start_time": "2024-08-01T18:46:06.903Z"
   },
   {
    "duration": 117,
    "start_time": "2024-08-01T18:46:06.968Z"
   },
   {
    "duration": 1436,
    "start_time": "2024-08-01T18:46:07.086Z"
   },
   {
    "duration": 3,
    "start_time": "2024-08-01T18:46:08.523Z"
   },
   {
    "duration": 76,
    "start_time": "2024-08-01T18:46:08.528Z"
   },
   {
    "duration": 51,
    "start_time": "2024-08-01T18:46:08.606Z"
   },
   {
    "duration": 36,
    "start_time": "2024-08-01T18:46:08.658Z"
   },
   {
    "duration": 2479,
    "start_time": "2024-08-01T18:46:25.085Z"
   },
   {
    "duration": 1534,
    "start_time": "2024-08-01T18:46:27.567Z"
   },
   {
    "duration": 4,
    "start_time": "2024-08-01T18:46:29.103Z"
   },
   {
    "duration": 5848,
    "start_time": "2024-08-01T18:46:29.109Z"
   },
   {
    "duration": 114,
    "start_time": "2024-08-01T18:46:34.959Z"
   },
   {
    "duration": 144,
    "start_time": "2024-08-01T18:46:35.075Z"
   },
   {
    "duration": 1492,
    "start_time": "2024-08-01T18:46:35.220Z"
   },
   {
    "duration": 3,
    "start_time": "2024-08-01T18:46:36.714Z"
   },
   {
    "duration": 42,
    "start_time": "2024-08-01T18:46:36.718Z"
   },
   {
    "duration": 22,
    "start_time": "2024-08-01T18:46:36.762Z"
   },
   {
    "duration": 4,
    "start_time": "2024-08-01T18:46:36.785Z"
   },
   {
    "duration": 29170,
    "start_time": "2024-08-01T18:46:36.791Z"
   },
   {
    "duration": 84,
    "start_time": "2024-08-01T18:47:05.963Z"
   },
   {
    "duration": 4821,
    "start_time": "2024-08-01T18:50:41.086Z"
   },
   {
    "duration": 1654,
    "start_time": "2024-08-01T18:50:45.910Z"
   },
   {
    "duration": 4,
    "start_time": "2024-08-01T18:50:47.566Z"
   },
   {
    "duration": 5730,
    "start_time": "2024-08-01T18:50:47.572Z"
   },
   {
    "duration": 68,
    "start_time": "2024-08-01T18:50:53.304Z"
   },
   {
    "duration": 122,
    "start_time": "2024-08-01T18:50:53.374Z"
   },
   {
    "duration": 1468,
    "start_time": "2024-08-01T18:50:53.497Z"
   },
   {
    "duration": 3,
    "start_time": "2024-08-01T18:50:54.966Z"
   },
   {
    "duration": 45,
    "start_time": "2024-08-01T18:50:54.971Z"
   },
   {
    "duration": 15,
    "start_time": "2024-08-01T18:50:55.018Z"
   },
   {
    "duration": 3,
    "start_time": "2024-08-01T18:50:55.035Z"
   },
   {
    "duration": 30218,
    "start_time": "2024-08-01T18:50:55.040Z"
   },
   {
    "duration": 9,
    "start_time": "2024-08-01T18:51:25.260Z"
   },
   {
    "duration": 2578,
    "start_time": "2024-08-01T19:00:02.582Z"
   },
   {
    "duration": 1655,
    "start_time": "2024-08-01T19:00:05.163Z"
   },
   {
    "duration": 3,
    "start_time": "2024-08-01T19:00:06.820Z"
   },
   {
    "duration": 6816,
    "start_time": "2024-08-01T19:00:06.825Z"
   },
   {
    "duration": 64,
    "start_time": "2024-08-01T19:00:13.644Z"
   },
   {
    "duration": 153,
    "start_time": "2024-08-01T19:00:13.710Z"
   },
   {
    "duration": 1482,
    "start_time": "2024-08-01T19:00:13.865Z"
   },
   {
    "duration": 3,
    "start_time": "2024-08-01T19:00:15.349Z"
   },
   {
    "duration": 436,
    "start_time": "2024-08-01T19:00:15.354Z"
   },
   {
    "duration": 33,
    "start_time": "2024-08-01T19:00:15.792Z"
   },
   {
    "duration": 25,
    "start_time": "2024-08-01T19:00:15.827Z"
   },
   {
    "duration": 35004,
    "start_time": "2024-08-01T19:00:15.854Z"
   },
   {
    "duration": 9,
    "start_time": "2024-08-01T19:00:50.860Z"
   },
   {
    "duration": 2538,
    "start_time": "2024-08-01T19:08:34.330Z"
   },
   {
    "duration": 1607,
    "start_time": "2024-08-01T19:08:36.870Z"
   },
   {
    "duration": 4,
    "start_time": "2024-08-01T19:08:38.478Z"
   },
   {
    "duration": 6729,
    "start_time": "2024-08-01T19:08:38.484Z"
   },
   {
    "duration": 66,
    "start_time": "2024-08-01T19:08:45.216Z"
   },
   {
    "duration": 128,
    "start_time": "2024-08-01T19:08:45.284Z"
   },
   {
    "duration": 1502,
    "start_time": "2024-08-01T19:08:45.414Z"
   },
   {
    "duration": 2,
    "start_time": "2024-08-01T19:08:46.918Z"
   },
   {
    "duration": 10,
    "start_time": "2024-08-01T19:08:46.922Z"
   },
   {
    "duration": 18,
    "start_time": "2024-08-01T19:08:46.935Z"
   },
   {
    "duration": 12,
    "start_time": "2024-08-01T19:08:46.954Z"
   },
   {
    "duration": 29484,
    "start_time": "2024-08-01T19:08:46.967Z"
   },
   {
    "duration": 10,
    "start_time": "2024-08-01T19:09:16.452Z"
   },
   {
    "duration": 2448,
    "start_time": "2024-08-01T19:13:01.655Z"
   },
   {
    "duration": 1498,
    "start_time": "2024-08-01T19:13:04.105Z"
   },
   {
    "duration": 4,
    "start_time": "2024-08-01T19:13:05.605Z"
   },
   {
    "duration": 6780,
    "start_time": "2024-08-01T19:13:05.611Z"
   },
   {
    "duration": 62,
    "start_time": "2024-08-01T19:13:12.392Z"
   },
   {
    "duration": 130,
    "start_time": "2024-08-01T19:13:12.456Z"
   },
   {
    "duration": 1460,
    "start_time": "2024-08-01T19:13:12.588Z"
   },
   {
    "duration": 3,
    "start_time": "2024-08-01T19:13:14.050Z"
   },
   {
    "duration": 32,
    "start_time": "2024-08-01T19:13:14.054Z"
   },
   {
    "duration": 29,
    "start_time": "2024-08-01T19:13:14.088Z"
   },
   {
    "duration": 35,
    "start_time": "2024-08-01T19:13:14.119Z"
   },
   {
    "duration": 28993,
    "start_time": "2024-08-01T19:13:14.156Z"
   },
   {
    "duration": 11,
    "start_time": "2024-08-01T19:13:43.151Z"
   },
   {
    "duration": 160798,
    "start_time": "2024-08-01T19:13:43.163Z"
   },
   {
    "duration": 52613,
    "start_time": "2024-08-01T19:16:23.963Z"
   },
   {
    "duration": 5329,
    "start_time": "2024-08-01T19:17:16.578Z"
   },
   {
    "duration": 2431,
    "start_time": "2024-08-01T19:23:11.124Z"
   },
   {
    "duration": 1461,
    "start_time": "2024-08-01T19:23:13.558Z"
   },
   {
    "duration": 4,
    "start_time": "2024-08-01T19:23:15.020Z"
   },
   {
    "duration": 6418,
    "start_time": "2024-08-01T19:23:15.026Z"
   },
   {
    "duration": 62,
    "start_time": "2024-08-01T19:23:21.446Z"
   },
   {
    "duration": 140,
    "start_time": "2024-08-01T19:23:21.510Z"
   },
   {
    "duration": 1446,
    "start_time": "2024-08-01T19:23:21.652Z"
   },
   {
    "duration": 3,
    "start_time": "2024-08-01T19:23:23.099Z"
   },
   {
    "duration": 15,
    "start_time": "2024-08-01T19:23:23.103Z"
   },
   {
    "duration": 14,
    "start_time": "2024-08-01T19:23:23.120Z"
   },
   {
    "duration": 10,
    "start_time": "2024-08-01T19:23:23.136Z"
   },
   {
    "duration": 29898,
    "start_time": "2024-08-01T19:23:23.148Z"
   },
   {
    "duration": 9,
    "start_time": "2024-08-01T19:23:53.048Z"
   },
   {
    "duration": 176702,
    "start_time": "2024-08-01T19:23:53.059Z"
   },
   {
    "duration": 100150,
    "start_time": "2024-08-01T19:26:49.763Z"
   },
   {
    "duration": 9491,
    "start_time": "2024-08-01T19:28:29.915Z"
   },
   {
    "duration": 2463,
    "start_time": "2024-08-01T19:54:24.572Z"
   },
   {
    "duration": 1461,
    "start_time": "2024-08-01T19:54:27.038Z"
   },
   {
    "duration": 5,
    "start_time": "2024-08-01T19:54:28.501Z"
   },
   {
    "duration": 8562,
    "start_time": "2024-08-01T19:54:28.508Z"
   },
   {
    "duration": 62,
    "start_time": "2024-08-01T19:54:37.072Z"
   },
   {
    "duration": 130,
    "start_time": "2024-08-01T19:54:37.135Z"
   },
   {
    "duration": 1481,
    "start_time": "2024-08-01T19:54:37.266Z"
   },
   {
    "duration": 3,
    "start_time": "2024-08-01T19:54:38.748Z"
   },
   {
    "duration": 10,
    "start_time": "2024-08-01T19:54:38.753Z"
   },
   {
    "duration": 14,
    "start_time": "2024-08-01T19:54:38.765Z"
   },
   {
    "duration": 3,
    "start_time": "2024-08-01T19:54:38.781Z"
   },
   {
    "duration": 29269,
    "start_time": "2024-08-01T19:54:38.786Z"
   },
   {
    "duration": 9,
    "start_time": "2024-08-01T19:55:08.056Z"
   },
   {
    "duration": 212429,
    "start_time": "2024-08-01T19:55:08.067Z"
   },
   {
    "duration": 2571,
    "start_time": "2024-08-01T20:01:14.459Z"
   },
   {
    "duration": 1570,
    "start_time": "2024-08-01T20:01:17.032Z"
   },
   {
    "duration": 4,
    "start_time": "2024-08-01T20:01:18.604Z"
   },
   {
    "duration": 7017,
    "start_time": "2024-08-01T20:01:18.610Z"
   },
   {
    "duration": 67,
    "start_time": "2024-08-01T20:01:25.629Z"
   },
   {
    "duration": 129,
    "start_time": "2024-08-01T20:01:25.697Z"
   },
   {
    "duration": 1518,
    "start_time": "2024-08-01T20:01:25.828Z"
   },
   {
    "duration": 3,
    "start_time": "2024-08-01T20:01:27.348Z"
   },
   {
    "duration": 17,
    "start_time": "2024-08-01T20:01:27.352Z"
   },
   {
    "duration": 37,
    "start_time": "2024-08-01T20:01:27.370Z"
   },
   {
    "duration": 26,
    "start_time": "2024-08-01T20:01:27.409Z"
   },
   {
    "duration": 29010,
    "start_time": "2024-08-01T20:01:27.436Z"
   },
   {
    "duration": 8,
    "start_time": "2024-08-01T20:01:56.448Z"
   },
   {
    "duration": 193364,
    "start_time": "2024-08-01T20:01:56.459Z"
   },
   {
    "duration": 144823,
    "start_time": "2024-08-01T20:05:09.830Z"
   },
   {
    "duration": 12568,
    "start_time": "2024-08-01T20:07:34.654Z"
   },
   {
    "duration": 5240,
    "start_time": "2024-08-02T21:09:51.930Z"
   },
   {
    "duration": 1709,
    "start_time": "2024-08-02T21:09:57.172Z"
   },
   {
    "duration": 4,
    "start_time": "2024-08-02T21:09:58.883Z"
   },
   {
    "duration": 7155,
    "start_time": "2024-08-02T21:09:58.889Z"
   },
   {
    "duration": 67,
    "start_time": "2024-08-02T21:10:06.046Z"
   },
   {
    "duration": 124,
    "start_time": "2024-08-02T21:10:06.115Z"
   },
   {
    "duration": 1472,
    "start_time": "2024-08-02T21:10:06.240Z"
   },
   {
    "duration": 3,
    "start_time": "2024-08-02T21:10:07.713Z"
   },
   {
    "duration": 36,
    "start_time": "2024-08-02T21:10:07.718Z"
   },
   {
    "duration": 150,
    "start_time": "2024-08-02T21:10:07.756Z"
   },
   {
    "duration": 33,
    "start_time": "2024-08-02T21:10:07.908Z"
   },
   {
    "duration": 31347,
    "start_time": "2024-08-02T21:10:07.942Z"
   },
   {
    "duration": 7,
    "start_time": "2024-08-02T21:10:39.291Z"
   },
   {
    "duration": 207343,
    "start_time": "2024-08-02T21:10:39.299Z"
   },
   {
    "duration": 2679,
    "start_time": "2024-08-02T21:23:15.889Z"
   },
   {
    "duration": 1587,
    "start_time": "2024-08-02T21:23:18.570Z"
   },
   {
    "duration": 5,
    "start_time": "2024-08-02T21:23:20.160Z"
   },
   {
    "duration": 6508,
    "start_time": "2024-08-02T21:23:20.167Z"
   },
   {
    "duration": 65,
    "start_time": "2024-08-02T21:23:26.677Z"
   },
   {
    "duration": 156,
    "start_time": "2024-08-02T21:23:26.743Z"
   },
   {
    "duration": 1507,
    "start_time": "2024-08-02T21:23:26.901Z"
   },
   {
    "duration": 3,
    "start_time": "2024-08-02T21:23:28.410Z"
   },
   {
    "duration": 12,
    "start_time": "2024-08-02T21:23:28.415Z"
   },
   {
    "duration": 10,
    "start_time": "2024-08-02T21:23:28.430Z"
   },
   {
    "duration": 67,
    "start_time": "2024-08-02T21:23:28.441Z"
   },
   {
    "duration": 31599,
    "start_time": "2024-08-02T21:23:28.510Z"
   },
   {
    "duration": 74,
    "start_time": "2024-08-02T21:24:00.110Z"
   },
   {
    "duration": 193153,
    "start_time": "2024-08-02T21:24:00.186Z"
   },
   {
    "duration": 149040,
    "start_time": "2024-08-02T21:27:13.345Z"
   },
   {
    "duration": 12847,
    "start_time": "2024-08-02T21:29:42.386Z"
   },
   {
    "duration": 2560,
    "start_time": "2024-08-02T21:39:39.693Z"
   },
   {
    "duration": 1450,
    "start_time": "2024-08-02T21:39:42.255Z"
   },
   {
    "duration": 4,
    "start_time": "2024-08-02T21:39:43.707Z"
   },
   {
    "duration": 6293,
    "start_time": "2024-08-02T21:39:43.714Z"
   },
   {
    "duration": 66,
    "start_time": "2024-08-02T21:39:50.011Z"
   },
   {
    "duration": 132,
    "start_time": "2024-08-02T21:39:50.079Z"
   },
   {
    "duration": 1507,
    "start_time": "2024-08-02T21:39:50.213Z"
   },
   {
    "duration": 3,
    "start_time": "2024-08-02T21:39:51.722Z"
   },
   {
    "duration": 16,
    "start_time": "2024-08-02T21:39:51.727Z"
   },
   {
    "duration": 51,
    "start_time": "2024-08-02T21:39:51.745Z"
   },
   {
    "duration": 4,
    "start_time": "2024-08-02T21:39:51.798Z"
   },
   {
    "duration": 68880,
    "start_time": "2024-08-02T21:39:51.803Z"
   },
   {
    "duration": 10,
    "start_time": "2024-08-02T21:41:00.684Z"
   },
   {
    "duration": 60692,
    "start_time": "2024-08-02T21:41:00.695Z"
   },
   {
    "duration": 148618,
    "start_time": "2024-08-02T21:42:01.389Z"
   },
   {
    "duration": 12767,
    "start_time": "2024-08-02T21:44:30.009Z"
   },
   {
    "duration": 2634,
    "start_time": "2024-08-02T21:46:19.218Z"
   },
   {
    "duration": 1413,
    "start_time": "2024-08-02T21:46:21.855Z"
   },
   {
    "duration": 4,
    "start_time": "2024-08-02T21:46:23.270Z"
   },
   {
    "duration": 6086,
    "start_time": "2024-08-02T21:46:23.276Z"
   },
   {
    "duration": 67,
    "start_time": "2024-08-02T21:46:29.365Z"
   },
   {
    "duration": 130,
    "start_time": "2024-08-02T21:46:29.434Z"
   },
   {
    "duration": 1508,
    "start_time": "2024-08-02T21:46:29.581Z"
   },
   {
    "duration": 3,
    "start_time": "2024-08-02T21:46:31.091Z"
   },
   {
    "duration": 93,
    "start_time": "2024-08-02T21:46:31.095Z"
   },
   {
    "duration": 30,
    "start_time": "2024-08-02T21:46:31.190Z"
   },
   {
    "duration": 14,
    "start_time": "2024-08-02T21:46:31.222Z"
   },
   {
    "duration": 66746,
    "start_time": "2024-08-02T21:46:31.237Z"
   },
   {
    "duration": 11,
    "start_time": "2024-08-02T21:47:37.985Z"
   },
   {
    "duration": 71787,
    "start_time": "2024-08-02T21:47:37.999Z"
   },
   {
    "duration": 2556,
    "start_time": "2024-08-02T21:55:41.946Z"
   },
   {
    "duration": 1622,
    "start_time": "2024-08-02T21:55:44.505Z"
   },
   {
    "duration": 4,
    "start_time": "2024-08-02T21:55:46.131Z"
   },
   {
    "duration": 6495,
    "start_time": "2024-08-02T21:55:46.137Z"
   },
   {
    "duration": 63,
    "start_time": "2024-08-02T21:55:52.633Z"
   },
   {
    "duration": 131,
    "start_time": "2024-08-02T21:55:52.698Z"
   },
   {
    "duration": 1557,
    "start_time": "2024-08-02T21:55:52.831Z"
   },
   {
    "duration": 3,
    "start_time": "2024-08-02T21:55:54.389Z"
   },
   {
    "duration": 9,
    "start_time": "2024-08-02T21:55:54.394Z"
   },
   {
    "duration": 18,
    "start_time": "2024-08-02T21:55:54.405Z"
   },
   {
    "duration": 15,
    "start_time": "2024-08-02T21:55:54.424Z"
   },
   {
    "duration": 68258,
    "start_time": "2024-08-02T21:55:54.440Z"
   },
   {
    "duration": 88,
    "start_time": "2024-08-02T21:57:02.701Z"
   },
   {
    "duration": 130847,
    "start_time": "2024-08-02T21:57:02.791Z"
   },
   {
    "duration": 150259,
    "start_time": "2024-08-02T21:59:13.640Z"
   },
   {
    "duration": 12419,
    "start_time": "2024-08-02T22:01:43.904Z"
   }
  ],
  "kernelspec": {
   "display_name": "Python 3 (ipykernel)",
   "language": "python",
   "name": "python3"
  },
  "language_info": {
   "codemirror_mode": {
    "name": "ipython",
    "version": 3
   },
   "file_extension": ".py",
   "mimetype": "text/x-python",
   "name": "python",
   "nbconvert_exporter": "python",
   "pygments_lexer": "ipython3",
   "version": "3.9.5"
  },
  "toc": {
   "base_numbering": 1,
   "nav_menu": {},
   "number_sections": true,
   "sideBar": true,
   "skip_h1_title": true,
   "title_cell": "Table of Contents",
   "title_sidebar": "Contents",
   "toc_cell": false,
   "toc_position": {},
   "toc_section_display": true,
   "toc_window_display": false
  }
 },
 "nbformat": 4,
 "nbformat_minor": 5
}
